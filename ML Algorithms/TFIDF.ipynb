{
  "nbformat": 4,
  "nbformat_minor": 0,
  "metadata": {
    "colab": {
      "name": "TFIDF.ipynb",
      "provenance": [],
      "collapsed_sections": []
    },
    "kernelspec": {
      "display_name": "Python 3",
      "name": "python3"
    },
    "language_info": {
      "name": "python"
    }
  },
  "cells": [
    {
      "cell_type": "code",
      "metadata": {
        "id": "mHLzF5B0b8Sw"
      },
      "source": [
        "import pandas as pd\n",
        "import numpy as np\n",
        "from sklearn.model_selection import train_test_split\n",
        "from sklearn.feature_extraction.text import CountVectorizer\n",
        "from sklearn.feature_extraction.text import TfidfVectorizer"
      ],
      "execution_count": null,
      "outputs": []
    },
    {
      "cell_type": "code",
      "metadata": {
        "colab": {
          "base_uri": "https://localhost:8080/"
        },
        "id": "Ng1dTU1Oi38F",
        "outputId": "5f1368de-4c4f-46cb-b6ca-00841a99401a"
      },
      "source": [
        "url='https://drive.google.com/file/d/1F5KnTS79MODxHypKVMB6hz1ZqUZyn0Cy/view?usp=sharing'\n",
        "file_id=url.split('/')[-2]\n",
        "dwn_url='https://drive.google.com/uc?id=' + file_id\n",
        "df = pd.read_csv(dwn_url)\n",
        "print(df.head())"
      ],
      "execution_count": null,
      "outputs": [
        {
          "output_type": "stream",
          "name": "stdout",
          "text": [
            "   CommentId  ...                                 translated_value\n",
            "0     411618  ...                                     steevejoseph\n",
            "1     411619  ...                                       Aghnashini\n",
            "2     411620  ...  ayyo pavam kuchu enthelum patelum pattiyo entho\n",
            "3     411621  ...                                             Brag\n",
            "4     411622  ...                                         Reponguz\n",
            "\n",
            "[5 rows x 12 columns]\n"
          ]
        }
      ]
    },
    {
      "cell_type": "code",
      "metadata": {
        "id": "O0WBPm7Ncjet"
      },
      "source": [
        "df=df.drop(columns=['CommentId','commentText','language','user_index','post_index','report_count_comment', 'report_count_post', 'like_count_comment','like_count_post','commentCleaned'])"
      ],
      "execution_count": null,
      "outputs": []
    },
    {
      "cell_type": "code",
      "metadata": {
        "colab": {
          "base_uri": "https://localhost:8080/",
          "height": 206
        },
        "id": "vbpac5QMcuho",
        "outputId": "7e1a3509-304e-4791-86fd-270747c335d5"
      },
      "source": [
        "df.head()"
      ],
      "execution_count": null,
      "outputs": [
        {
          "output_type": "execute_result",
          "data": {
            "text/html": [
              "<div>\n",
              "<style scoped>\n",
              "    .dataframe tbody tr th:only-of-type {\n",
              "        vertical-align: middle;\n",
              "    }\n",
              "\n",
              "    .dataframe tbody tr th {\n",
              "        vertical-align: top;\n",
              "    }\n",
              "\n",
              "    .dataframe thead th {\n",
              "        text-align: right;\n",
              "    }\n",
              "</style>\n",
              "<table border=\"1\" class=\"dataframe\">\n",
              "  <thead>\n",
              "    <tr style=\"text-align: right;\">\n",
              "      <th></th>\n",
              "      <th>label</th>\n",
              "      <th>translated_value</th>\n",
              "    </tr>\n",
              "  </thead>\n",
              "  <tbody>\n",
              "    <tr>\n",
              "      <th>0</th>\n",
              "      <td>0.0</td>\n",
              "      <td>steevejoseph</td>\n",
              "    </tr>\n",
              "    <tr>\n",
              "      <th>1</th>\n",
              "      <td>0.0</td>\n",
              "      <td>Aghnashini</td>\n",
              "    </tr>\n",
              "    <tr>\n",
              "      <th>2</th>\n",
              "      <td>0.0</td>\n",
              "      <td>ayyo pavam kuchu enthelum patelum pattiyo entho</td>\n",
              "    </tr>\n",
              "    <tr>\n",
              "      <th>3</th>\n",
              "      <td>0.0</td>\n",
              "      <td>Brag</td>\n",
              "    </tr>\n",
              "    <tr>\n",
              "      <th>4</th>\n",
              "      <td>0.0</td>\n",
              "      <td>Reponguz</td>\n",
              "    </tr>\n",
              "  </tbody>\n",
              "</table>\n",
              "</div>"
            ],
            "text/plain": [
              "   label                                 translated_value\n",
              "0    0.0                                     steevejoseph\n",
              "1    0.0                                       Aghnashini\n",
              "2    0.0  ayyo pavam kuchu enthelum patelum pattiyo entho\n",
              "3    0.0                                             Brag\n",
              "4    0.0                                         Reponguz"
            ]
          },
          "metadata": {},
          "execution_count": 4
        }
      ]
    },
    {
      "cell_type": "markdown",
      "metadata": {
        "id": "JXjVwiGfAPiP"
      },
      "source": [
        "Spelling correction"
      ]
    },
    {
      "cell_type": "code",
      "metadata": {
        "id": "LfpYzPfu__rb"
      },
      "source": [
        "import textblob"
      ],
      "execution_count": null,
      "outputs": []
    },
    {
      "cell_type": "code",
      "metadata": {
        "id": "xr_I8EzyBoyN"
      },
      "source": [
        "def preprocess_data(df):\n",
        "   \n",
        "    \n",
        "    # Convert text to lowercase\n",
        "    df['lower'] = df['translated_value'].str.strip().str.lower()\n",
        "    return df"
      ],
      "execution_count": null,
      "outputs": []
    },
    {
      "cell_type": "code",
      "metadata": {
        "id": "VjBdmXk3B1xb"
      },
      "source": [
        "dff = preprocess_data(df)"
      ],
      "execution_count": null,
      "outputs": []
    },
    {
      "cell_type": "code",
      "metadata": {
        "id": "Mz8kSQH8Zv2i"
      },
      "source": [
        "dff['translated_value']=dff['lower']"
      ],
      "execution_count": null,
      "outputs": []
    },
    {
      "cell_type": "code",
      "metadata": {
        "colab": {
          "base_uri": "https://localhost:8080/",
          "height": 206
        },
        "id": "q0EpgBMKCb-R",
        "outputId": "15c67225-2630-4a72-e980-dc55d82e9fb7"
      },
      "source": [
        "dff.head()"
      ],
      "execution_count": null,
      "outputs": [
        {
          "output_type": "execute_result",
          "data": {
            "text/html": [
              "<div>\n",
              "<style scoped>\n",
              "    .dataframe tbody tr th:only-of-type {\n",
              "        vertical-align: middle;\n",
              "    }\n",
              "\n",
              "    .dataframe tbody tr th {\n",
              "        vertical-align: top;\n",
              "    }\n",
              "\n",
              "    .dataframe thead th {\n",
              "        text-align: right;\n",
              "    }\n",
              "</style>\n",
              "<table border=\"1\" class=\"dataframe\">\n",
              "  <thead>\n",
              "    <tr style=\"text-align: right;\">\n",
              "      <th></th>\n",
              "      <th>label</th>\n",
              "      <th>translated_value</th>\n",
              "      <th>lower</th>\n",
              "    </tr>\n",
              "  </thead>\n",
              "  <tbody>\n",
              "    <tr>\n",
              "      <th>0</th>\n",
              "      <td>0.0</td>\n",
              "      <td>steevejoseph</td>\n",
              "      <td>steevejoseph</td>\n",
              "    </tr>\n",
              "    <tr>\n",
              "      <th>1</th>\n",
              "      <td>0.0</td>\n",
              "      <td>aghnashini</td>\n",
              "      <td>aghnashini</td>\n",
              "    </tr>\n",
              "    <tr>\n",
              "      <th>2</th>\n",
              "      <td>0.0</td>\n",
              "      <td>ayyo pavam kuchu enthelum patelum pattiyo entho</td>\n",
              "      <td>ayyo pavam kuchu enthelum patelum pattiyo entho</td>\n",
              "    </tr>\n",
              "    <tr>\n",
              "      <th>3</th>\n",
              "      <td>0.0</td>\n",
              "      <td>brag</td>\n",
              "      <td>brag</td>\n",
              "    </tr>\n",
              "    <tr>\n",
              "      <th>4</th>\n",
              "      <td>0.0</td>\n",
              "      <td>reponguz</td>\n",
              "      <td>reponguz</td>\n",
              "    </tr>\n",
              "  </tbody>\n",
              "</table>\n",
              "</div>"
            ],
            "text/plain": [
              "   label  ...                                            lower\n",
              "0    0.0  ...                                     steevejoseph\n",
              "1    0.0  ...                                       aghnashini\n",
              "2    0.0  ...  ayyo pavam kuchu enthelum patelum pattiyo entho\n",
              "3    0.0  ...                                             brag\n",
              "4    0.0  ...                                         reponguz\n",
              "\n",
              "[5 rows x 3 columns]"
            ]
          },
          "metadata": {},
          "execution_count": 9
        }
      ]
    },
    {
      "cell_type": "code",
      "metadata": {
        "id": "e2GFdKwzZben"
      },
      "source": [
        "dff=dff.drop(columns=['lower'])"
      ],
      "execution_count": null,
      "outputs": []
    },
    {
      "cell_type": "code",
      "metadata": {
        "colab": {
          "base_uri": "https://localhost:8080/",
          "height": 206
        },
        "id": "72kZb7mwZpZ_",
        "outputId": "4300fa00-d77a-4037-cae7-ef8bf82ad66f"
      },
      "source": [
        "dff.head()"
      ],
      "execution_count": null,
      "outputs": [
        {
          "output_type": "execute_result",
          "data": {
            "text/html": [
              "<div>\n",
              "<style scoped>\n",
              "    .dataframe tbody tr th:only-of-type {\n",
              "        vertical-align: middle;\n",
              "    }\n",
              "\n",
              "    .dataframe tbody tr th {\n",
              "        vertical-align: top;\n",
              "    }\n",
              "\n",
              "    .dataframe thead th {\n",
              "        text-align: right;\n",
              "    }\n",
              "</style>\n",
              "<table border=\"1\" class=\"dataframe\">\n",
              "  <thead>\n",
              "    <tr style=\"text-align: right;\">\n",
              "      <th></th>\n",
              "      <th>label</th>\n",
              "      <th>translated_value</th>\n",
              "    </tr>\n",
              "  </thead>\n",
              "  <tbody>\n",
              "    <tr>\n",
              "      <th>0</th>\n",
              "      <td>0.0</td>\n",
              "      <td>steevejoseph</td>\n",
              "    </tr>\n",
              "    <tr>\n",
              "      <th>1</th>\n",
              "      <td>0.0</td>\n",
              "      <td>aghnashini</td>\n",
              "    </tr>\n",
              "    <tr>\n",
              "      <th>2</th>\n",
              "      <td>0.0</td>\n",
              "      <td>ayyo pavam kuchu enthelum patelum pattiyo entho</td>\n",
              "    </tr>\n",
              "    <tr>\n",
              "      <th>3</th>\n",
              "      <td>0.0</td>\n",
              "      <td>brag</td>\n",
              "    </tr>\n",
              "    <tr>\n",
              "      <th>4</th>\n",
              "      <td>0.0</td>\n",
              "      <td>reponguz</td>\n",
              "    </tr>\n",
              "  </tbody>\n",
              "</table>\n",
              "</div>"
            ],
            "text/plain": [
              "   label                                 translated_value\n",
              "0    0.0                                     steevejoseph\n",
              "1    0.0                                       aghnashini\n",
              "2    0.0  ayyo pavam kuchu enthelum patelum pattiyo entho\n",
              "3    0.0                                             brag\n",
              "4    0.0                                         reponguz"
            ]
          },
          "metadata": {},
          "execution_count": 11
        }
      ]
    },
    {
      "cell_type": "code",
      "metadata": {
        "id": "jg1aAM5WY3je"
      },
      "source": [
        "X_temp, X_test, y_temp, y_test = train_test_split(dff, list(dff.label), test_size=0.2, random_state=0)"
      ],
      "execution_count": null,
      "outputs": []
    },
    {
      "cell_type": "code",
      "metadata": {
        "colab": {
          "base_uri": "https://localhost:8080/"
        },
        "id": "MOhy4MZPZQet",
        "outputId": "fa249c89-ccde-4960-dd5a-e8f3447ac42a"
      },
      "source": [
        "X_test.shape, X_temp.shape, len(y_test), len(y_temp)"
      ],
      "execution_count": null,
      "outputs": [
        {
          "output_type": "execute_result",
          "data": {
            "text/plain": [
              "((26153, 2), (104612, 2), 26153, 104612)"
            ]
          },
          "metadata": {},
          "execution_count": 13
        }
      ]
    },
    {
      "cell_type": "code",
      "metadata": {
        "id": "Dx0x-76xZQo5"
      },
      "source": [
        "X_temp['label'] = y_temp"
      ],
      "execution_count": null,
      "outputs": []
    },
    {
      "cell_type": "code",
      "metadata": {
        "colab": {
          "base_uri": "https://localhost:8080/",
          "height": 206
        },
        "id": "JpS8I48iZ6qU",
        "outputId": "7edcd76a-6fcb-4a12-e348-098a84d482a0"
      },
      "source": [
        "X_temp.head()"
      ],
      "execution_count": null,
      "outputs": [
        {
          "output_type": "execute_result",
          "data": {
            "text/html": [
              "<div>\n",
              "<style scoped>\n",
              "    .dataframe tbody tr th:only-of-type {\n",
              "        vertical-align: middle;\n",
              "    }\n",
              "\n",
              "    .dataframe tbody tr th {\n",
              "        vertical-align: top;\n",
              "    }\n",
              "\n",
              "    .dataframe thead th {\n",
              "        text-align: right;\n",
              "    }\n",
              "</style>\n",
              "<table border=\"1\" class=\"dataframe\">\n",
              "  <thead>\n",
              "    <tr style=\"text-align: right;\">\n",
              "      <th></th>\n",
              "      <th>label</th>\n",
              "      <th>translated_value</th>\n",
              "    </tr>\n",
              "  </thead>\n",
              "  <tbody>\n",
              "    <tr>\n",
              "      <th>29677</th>\n",
              "      <td>0.0</td>\n",
              "      <td>sup you</td>\n",
              "    </tr>\n",
              "    <tr>\n",
              "      <th>29254</th>\n",
              "      <td>0.0</td>\n",
              "      <td>kou gharar from</td>\n",
              "    </tr>\n",
              "    <tr>\n",
              "      <th>27234</th>\n",
              "      <td>1.0</td>\n",
              "      <td>baihu temple is eating</td>\n",
              "    </tr>\n",
              "    <tr>\n",
              "      <th>5709</th>\n",
              "      <td>0.0</td>\n",
              "      <td>nice</td>\n",
              "    </tr>\n",
              "    <tr>\n",
              "      <th>51176</th>\n",
              "      <td>0.0</td>\n",
              "      <td>want beautiful tanutu hi</td>\n",
              "    </tr>\n",
              "  </tbody>\n",
              "</table>\n",
              "</div>"
            ],
            "text/plain": [
              "       label          translated_value\n",
              "29677    0.0                   sup you\n",
              "29254    0.0           kou gharar from\n",
              "27234    1.0    baihu temple is eating\n",
              "5709     0.0                      nice\n",
              "51176    0.0  want beautiful tanutu hi"
            ]
          },
          "metadata": {},
          "execution_count": 15
        }
      ]
    },
    {
      "cell_type": "code",
      "metadata": {
        "colab": {
          "base_uri": "https://localhost:8080/"
        },
        "id": "OhLvJSZQZ6tW",
        "outputId": "cf7cd00a-2385-489f-8d7b-a7735ac84c19"
      },
      "source": [
        "zero = X_temp[X_temp['label'] == 0]\n",
        "zero.shape[0]"
      ],
      "execution_count": null,
      "outputs": [
        {
          "output_type": "execute_result",
          "data": {
            "text/plain": [
              "72900"
            ]
          },
          "metadata": {},
          "execution_count": 16
        }
      ]
    },
    {
      "cell_type": "code",
      "metadata": {
        "colab": {
          "base_uri": "https://localhost:8080/"
        },
        "id": "B2nNRh8YZ6wM",
        "outputId": "c87f9759-c851-447a-d387-649e273f84c4"
      },
      "source": [
        "one = X_temp[X_temp['label'] == 1]\n",
        "one.shape[0]"
      ],
      "execution_count": null,
      "outputs": [
        {
          "output_type": "execute_result",
          "data": {
            "text/plain": [
              "31712"
            ]
          },
          "metadata": {},
          "execution_count": 17
        }
      ]
    },
    {
      "cell_type": "code",
      "metadata": {
        "colab": {
          "base_uri": "https://localhost:8080/",
          "height": 424
        },
        "id": "z47NdJrqZ6zL",
        "outputId": "73dbc288-93fe-4048-b9eb-8e7b6fd640e5"
      },
      "source": [
        "ds = pd.concat([zero,one], axis = 0)\n",
        "ds"
      ],
      "execution_count": null,
      "outputs": [
        {
          "output_type": "execute_result",
          "data": {
            "text/html": [
              "<div>\n",
              "<style scoped>\n",
              "    .dataframe tbody tr th:only-of-type {\n",
              "        vertical-align: middle;\n",
              "    }\n",
              "\n",
              "    .dataframe tbody tr th {\n",
              "        vertical-align: top;\n",
              "    }\n",
              "\n",
              "    .dataframe thead th {\n",
              "        text-align: right;\n",
              "    }\n",
              "</style>\n",
              "<table border=\"1\" class=\"dataframe\">\n",
              "  <thead>\n",
              "    <tr style=\"text-align: right;\">\n",
              "      <th></th>\n",
              "      <th>label</th>\n",
              "      <th>translated_value</th>\n",
              "    </tr>\n",
              "  </thead>\n",
              "  <tbody>\n",
              "    <tr>\n",
              "      <th>29677</th>\n",
              "      <td>0.0</td>\n",
              "      <td>sup you</td>\n",
              "    </tr>\n",
              "    <tr>\n",
              "      <th>29254</th>\n",
              "      <td>0.0</td>\n",
              "      <td>kou gharar from</td>\n",
              "    </tr>\n",
              "    <tr>\n",
              "      <th>5709</th>\n",
              "      <td>0.0</td>\n",
              "      <td>nice</td>\n",
              "    </tr>\n",
              "    <tr>\n",
              "      <th>51176</th>\n",
              "      <td>0.0</td>\n",
              "      <td>want beautiful tanutu hi</td>\n",
              "    </tr>\n",
              "    <tr>\n",
              "      <th>9961</th>\n",
              "      <td>0.0</td>\n",
              "      <td>nicesuper</td>\n",
              "    </tr>\n",
              "    <tr>\n",
              "      <th>...</th>\n",
              "      <td>...</td>\n",
              "      <td>...</td>\n",
              "    </tr>\n",
              "    <tr>\n",
              "      <th>21243</th>\n",
              "      <td>1.0</td>\n",
              "      <td>thu muduka thu</td>\n",
              "    </tr>\n",
              "    <tr>\n",
              "      <th>45891</th>\n",
              "      <td>1.0</td>\n",
              "      <td>gand digi rindi</td>\n",
              "    </tr>\n",
              "    <tr>\n",
              "      <th>42613</th>\n",
              "      <td>1.0</td>\n",
              "      <td>nhi sewa to puri karo galiya bhi khao bahu hu ...</td>\n",
              "    </tr>\n",
              "    <tr>\n",
              "      <th>43567</th>\n",
              "      <td>1.0</td>\n",
              "      <td>hey matherchod randi</td>\n",
              "    </tr>\n",
              "    <tr>\n",
              "      <th>68268</th>\n",
              "      <td>1.0</td>\n",
              "      <td>it's a gad leaving the mother</td>\n",
              "    </tr>\n",
              "  </tbody>\n",
              "</table>\n",
              "<p>104612 rows × 2 columns</p>\n",
              "</div>"
            ],
            "text/plain": [
              "       label                                   translated_value\n",
              "29677    0.0                                            sup you\n",
              "29254    0.0                                    kou gharar from\n",
              "5709     0.0                                               nice\n",
              "51176    0.0                           want beautiful tanutu hi\n",
              "9961     0.0                                          nicesuper\n",
              "...      ...                                                ...\n",
              "21243    1.0                                     thu muduka thu\n",
              "45891    1.0                                    gand digi rindi\n",
              "42613    1.0  nhi sewa to puri karo galiya bhi khao bahu hu ...\n",
              "43567    1.0                               hey matherchod randi\n",
              "68268    1.0                      it's a gad leaving the mother\n",
              "\n",
              "[104612 rows x 2 columns]"
            ]
          },
          "metadata": {},
          "execution_count": 18
        }
      ]
    },
    {
      "cell_type": "code",
      "metadata": {
        "colab": {
          "base_uri": "https://localhost:8080/"
        },
        "id": "nRkd2HLVZ61n",
        "outputId": "7b400dea-4558-49fd-c1d9-7f3381a57cb1"
      },
      "source": [
        "testdf = X_test\n",
        "testdf['label'] = y_test\n",
        "testdf.shape"
      ],
      "execution_count": null,
      "outputs": [
        {
          "output_type": "execute_result",
          "data": {
            "text/plain": [
              "(26153, 2)"
            ]
          },
          "metadata": {},
          "execution_count": 19
        }
      ]
    },
    {
      "cell_type": "code",
      "metadata": {
        "colab": {
          "base_uri": "https://localhost:8080/"
        },
        "id": "-D-kt6RgZ64e",
        "outputId": "b46ff6a7-274a-4729-be0b-a513333c0649"
      },
      "source": [
        "len(testdf[testdf['label']==0]),len(testdf[testdf['label']==1])"
      ],
      "execution_count": null,
      "outputs": [
        {
          "output_type": "execute_result",
          "data": {
            "text/plain": [
              "(18212, 7941)"
            ]
          },
          "metadata": {},
          "execution_count": 20
        }
      ]
    },
    {
      "cell_type": "code",
      "metadata": {
        "id": "l-PBc-g1Z67J"
      },
      "source": [
        "ds = pd.concat([ds, testdf], axis = 0)"
      ],
      "execution_count": null,
      "outputs": []
    },
    {
      "cell_type": "code",
      "metadata": {
        "colab": {
          "base_uri": "https://localhost:8080/"
        },
        "id": "lqbnEQt1Z6-P",
        "outputId": "efcb884f-3992-4b76-a697-11f78d973ddf"
      },
      "source": [
        "ds[ds['label']==0].shape, ds[ds['label']==1].shape"
      ],
      "execution_count": null,
      "outputs": [
        {
          "output_type": "execute_result",
          "data": {
            "text/plain": [
              "((91112, 2), (39653, 2))"
            ]
          },
          "metadata": {},
          "execution_count": 22
        }
      ]
    },
    {
      "cell_type": "code",
      "metadata": {
        "id": "9K2DyAX1aRQW"
      },
      "source": [
        "corpus = []\n",
        "for i in range(ds.shape[0]):\n",
        "    corpus.append(ds.iloc[i][0])"
      ],
      "execution_count": null,
      "outputs": []
    },
    {
      "cell_type": "markdown",
      "metadata": {
        "id": "d8ywXksIaWVN"
      },
      "source": [
        "# Creating TF-IDF"
      ]
    },
    {
      "cell_type": "code",
      "metadata": {
        "colab": {
          "base_uri": "https://localhost:8080/"
        },
        "id": "epoicJ-6aRTT",
        "outputId": "c206a15c-aae5-4408-a3ca-5e80ad531e82"
      },
      "source": [
        "vectorizer1 = TfidfVectorizer(max_features=1000)\n",
        "X1 = vectorizer1.fit_transform(ds['translated_value'])\n",
        "feature_names1 = vectorizer1.get_feature_names()\n",
        "denselist1 = X1.todense().tolist()\n",
        "df2_train = pd.DataFrame(denselist1, columns=feature_names1)"
      ],
      "execution_count": null,
      "outputs": [
        {
          "output_type": "stream",
          "name": "stderr",
          "text": [
            "/usr/local/lib/python3.7/dist-packages/sklearn/utils/deprecation.py:87: FutureWarning: Function get_feature_names is deprecated; get_feature_names is deprecated in 1.0 and will be removed in 1.2. Please use get_feature_names_out instead.\n",
            "  warnings.warn(msg, category=FutureWarning)\n"
          ]
        }
      ]
    },
    {
      "cell_type": "code",
      "metadata": {
        "id": "iQIiEAp7aRWa"
      },
      "source": [
        "tdf = df2_train\n",
        "tdf['labelxyz'] = list(ds.label)"
      ],
      "execution_count": null,
      "outputs": []
    },
    {
      "cell_type": "code",
      "metadata": {
        "colab": {
          "base_uri": "https://localhost:8080/"
        },
        "id": "PhL-TyEeaRaB",
        "outputId": "20c0d1e3-265f-4d3a-e22e-c09d67bbfb4c"
      },
      "source": [
        "tdf_zero = tdf[tdf.labelxyz == 0]\n",
        "tdf_zero.shape\n",
        "\n",
        "tdf_one = tdf[tdf.labelxyz == 1]\n",
        "tdf_one.shape"
      ],
      "execution_count": null,
      "outputs": [
        {
          "output_type": "execute_result",
          "data": {
            "text/plain": [
              "(39653, 1001)"
            ]
          },
          "metadata": {},
          "execution_count": 26
        }
      ]
    },
    {
      "cell_type": "code",
      "metadata": {
        "id": "HVZaTXzbaRca"
      },
      "source": [
        "X_train_zero = tdf_zero.sample(frac=0.9, random_state=0)\n",
        "X_test_zero = tdf_zero.drop(X_train_zero.index)"
      ],
      "execution_count": null,
      "outputs": []
    },
    {
      "cell_type": "code",
      "metadata": {
        "id": "AS99WKChaRfL"
      },
      "source": [
        "X_train_one = tdf_one.sample(frac=0.9, random_state=0)\n",
        "X_test_one = tdf_one.drop(X_train_one.index)"
      ],
      "execution_count": null,
      "outputs": []
    },
    {
      "cell_type": "code",
      "metadata": {
        "id": "RcK0cBYHaRiC"
      },
      "source": [
        "X_train_df = pd.concat([X_train_zero,X_train_one], axis = 0)\n",
        "tfdf_train = X_train_df.drop(['labelxyz'], axis = 1)\n",
        "y_train = list(X_train_df.labelxyz)\n",
        "X_test_df = pd.concat([X_test_zero,X_test_one], axis = 0)\n",
        "tfdf_test = X_test_df.drop(['labelxyz'], axis = 1)\n",
        "y_test = list(X_test_df.labelxyz)"
      ],
      "execution_count": null,
      "outputs": []
    },
    {
      "cell_type": "markdown",
      "metadata": {
        "id": "NxNsz8T2cr1G"
      },
      "source": [
        "# Building ML models"
      ]
    },
    {
      "cell_type": "code",
      "metadata": {
        "id": "lgkD5HeYaRtC"
      },
      "source": [
        "model = ['LR','DT','GB','RF','KN']\n",
        "accuracy = {'TF-IDF':[],'BOW':[]}"
      ],
      "execution_count": null,
      "outputs": []
    },
    {
      "cell_type": "code",
      "metadata": {
        "id": "O0ks59z-Mm8B"
      },
      "source": [
        "from sklearn.linear_model import LogisticRegression\n",
        "from sklearn.naive_bayes import GaussianNB\n",
        "from sklearn.ensemble import RandomForestClassifier\n",
        "from sklearn.tree import DecisionTreeClassifier\n",
        "from sklearn.neighbors import KNeighborsClassifier\n",
        "from sklearn.ensemble import GradientBoostingClassifier\n",
        "\n",
        "from sklearn import metrics\n",
        "import matplotlib.pyplot as plt\n",
        "%matplotlib inline\n",
        "from sklearn.metrics import plot_confusion_matrix\n",
        "from sklearn.metrics import precision_score, recall_score, f1_score\n",
        "import seaborn as sns"
      ],
      "execution_count": null,
      "outputs": []
    },
    {
      "cell_type": "markdown",
      "metadata": {
        "id": "_QImJ7zEc9p1"
      },
      "source": [
        "## Logistic Regression"
      ]
    },
    {
      "cell_type": "code",
      "metadata": {
        "colab": {
          "base_uri": "https://localhost:8080/"
        },
        "id": "SXw5Uy20c8r-",
        "outputId": "b8a366ed-f31b-4a9a-bfc6-c925b6bb6b48"
      },
      "source": [
        "#TF-IDF\n",
        "regressor_LR_tf = LogisticRegression(C= 1.0, penalty='l2', solver= 'liblinear')\n",
        "regressor_LR_tf.fit(tfdf_train,y_train)\n",
        "y_predict_LR_tf = regressor_LR_tf.predict(tfdf_test)\n",
        "a=(regressor_LR_tf.score(tfdf_test,y_test))\n",
        "accuracy['TF-IDF'].append(a)\n",
        "\n",
        "print(metrics.confusion_matrix(y_test, y_predict_LR_tf))\n",
        "print(metrics.classification_report(y_test, y_predict_LR_tf))\n",
        "print(metrics.accuracy_score(y_test, y_predict_LR_tf))"
      ],
      "execution_count": null,
      "outputs": [
        {
          "output_type": "stream",
          "name": "stdout",
          "text": [
            "[[8536  575]\n",
            " [1647 2318]]\n",
            "              precision    recall  f1-score   support\n",
            "\n",
            "         0.0       0.84      0.94      0.88      9111\n",
            "         1.0       0.80      0.58      0.68      3965\n",
            "\n",
            "    accuracy                           0.83     13076\n",
            "   macro avg       0.82      0.76      0.78     13076\n",
            "weighted avg       0.83      0.83      0.82     13076\n",
            "\n",
            "0.830070357907617\n"
          ]
        }
      ]
    },
    {
      "cell_type": "markdown",
      "metadata": {
        "id": "WH2bOMNidM1v"
      },
      "source": [
        "## Decision Tree"
      ]
    },
    {
      "cell_type": "code",
      "metadata": {
        "colab": {
          "base_uri": "https://localhost:8080/"
        },
        "id": "yt0cGDxtdMFH",
        "outputId": "6f3ec7b5-d125-4f84-cf36-b280e8b898dd"
      },
      "source": [
        "#TF-IDF\n",
        "model_DT_tf = DecisionTreeClassifier() \n",
        "model_DT_tf.fit(tfdf_train,y_train)\n",
        "y_predict_DT_tf = model_DT_tf.predict(tfdf_test)\n",
        "a=(model_DT_tf.score(tfdf_test,y_test))\n",
        "accuracy['TF-IDF'].append(a)\n",
        "\n",
        "print(metrics.confusion_matrix(y_test, y_predict_DT_tf))\n",
        "print(metrics.classification_report(y_test, y_predict_DT_tf))\n",
        "print(metrics.accuracy_score(y_test, y_predict_DT_tf))"
      ],
      "execution_count": null,
      "outputs": [
        {
          "output_type": "stream",
          "name": "stdout",
          "text": [
            "[[8196  915]\n",
            " [1756 2209]]\n",
            "              precision    recall  f1-score   support\n",
            "\n",
            "         0.0       0.82      0.90      0.86      9111\n",
            "         1.0       0.71      0.56      0.62      3965\n",
            "\n",
            "    accuracy                           0.80     13076\n",
            "   macro avg       0.77      0.73      0.74     13076\n",
            "weighted avg       0.79      0.80      0.79     13076\n",
            "\n",
            "0.7957326399510554\n"
          ]
        }
      ]
    },
    {
      "cell_type": "markdown",
      "metadata": {
        "id": "3poU0Baydcc8"
      },
      "source": [
        "## Gradient Boosting"
      ]
    },
    {
      "cell_type": "code",
      "metadata": {
        "colab": {
          "base_uri": "https://localhost:8080/"
        },
        "id": "NJ2XyUjWdY0u",
        "outputId": "ad801647-213a-4498-91bf-e139d4d4d14c"
      },
      "source": [
        "#TF-IDF\n",
        "model_GB_tf = GradientBoostingClassifier() \n",
        "model_GB_tf.fit(tfdf_train,y_train)\n",
        "y_predict_GB_tf = model_GB_tf.predict(tfdf_test)\n",
        "a=(model_GB_tf.score(tfdf_test,y_test))\n",
        "accuracy['TF-IDF'].append(a)\n",
        "print(metrics.confusion_matrix(y_test, y_predict_GB_tf))\n",
        "print(metrics.classification_report(y_test, y_predict_GB_tf))\n",
        "print(metrics.accuracy_score(y_test, y_predict_GB_tf))"
      ],
      "execution_count": null,
      "outputs": [
        {
          "output_type": "stream",
          "name": "stdout",
          "text": [
            "[[8948  163]\n",
            " [2873 1092]]\n",
            "              precision    recall  f1-score   support\n",
            "\n",
            "         0.0       0.76      0.98      0.85      9111\n",
            "         1.0       0.87      0.28      0.42      3965\n",
            "\n",
            "    accuracy                           0.77     13076\n",
            "   macro avg       0.81      0.63      0.64     13076\n",
            "weighted avg       0.79      0.77      0.72     13076\n",
            "\n",
            "0.7678189048638727\n"
          ]
        }
      ]
    },
    {
      "cell_type": "markdown",
      "metadata": {
        "id": "AreoGjw5dGJW"
      },
      "source": [
        "## Random Forest"
      ]
    },
    {
      "cell_type": "code",
      "metadata": {
        "id": "U7y6eTzJc-An",
        "colab": {
          "base_uri": "https://localhost:8080/"
        },
        "outputId": "2a709436-b9ce-4317-807b-9b01acde263f"
      },
      "source": [
        "#TF-IDF\n",
        "model_RF_tf = RandomForestClassifier(n_estimators= 10)\n",
        "model_RF_tf.fit(tfdf_train,y_train)\n",
        "y_predict_RF_tf = model_RF_tf.predict(tfdf_test)\n",
        "a=(model_RF_tf.score(tfdf_test,y_test))\n",
        "accuracy['TF-IDF'].append(a)\n",
        "\n",
        "print(metrics.confusion_matrix(y_test, y_predict_RF_tf))\n",
        "print(metrics.classification_report(y_test, y_predict_RF_tf))\n",
        "print(metrics.accuracy_score(y_test, y_predict_RF_tf))"
      ],
      "execution_count": null,
      "outputs": [
        {
          "output_type": "stream",
          "name": "stdout",
          "text": [
            "[[8402  709]\n",
            " [1761 2204]]\n",
            "              precision    recall  f1-score   support\n",
            "\n",
            "         0.0       0.83      0.92      0.87      9111\n",
            "         1.0       0.76      0.56      0.64      3965\n",
            "\n",
            "    accuracy                           0.81     13076\n",
            "   macro avg       0.79      0.74      0.76     13076\n",
            "weighted avg       0.81      0.81      0.80     13076\n",
            "\n",
            "0.8111043132456409\n"
          ]
        }
      ]
    },
    {
      "cell_type": "code",
      "metadata": {
        "colab": {
          "base_uri": "https://localhost:8080/"
        },
        "id": "z5S8Xcg4zg_2",
        "outputId": "48904318-319d-4fb1-efac-c4a25e5379ca"
      },
      "source": [
        "#TF-IDF\n",
        "model_RF_tf = RandomForestClassifier(n_estimators= 50)\n",
        "model_RF_tf.fit(tfdf_train,y_train)\n",
        "y_predict_RF_tf = model_RF_tf.predict(tfdf_test)\n",
        "a=(model_RF_tf.score(tfdf_test,y_test))\n",
        "accuracy['TF-IDF'].append(a)\n",
        "\n",
        "print(metrics.confusion_matrix(y_test, y_predict_RF_tf))\n",
        "print(metrics.classification_report(y_test, y_predict_RF_tf))\n",
        "print(metrics.accuracy_score(y_test, y_predict_RF_tf))"
      ],
      "execution_count": null,
      "outputs": [
        {
          "output_type": "stream",
          "name": "stdout",
          "text": [
            "[[8349  762]\n",
            " [1632 2333]]\n",
            "              precision    recall  f1-score   support\n",
            "\n",
            "         0.0       0.84      0.92      0.87      9111\n",
            "         1.0       0.75      0.59      0.66      3965\n",
            "\n",
            "    accuracy                           0.82     13076\n",
            "   macro avg       0.80      0.75      0.77     13076\n",
            "weighted avg       0.81      0.82      0.81     13076\n",
            "\n",
            "0.816916488222698\n"
          ]
        }
      ]
    },
    {
      "cell_type": "markdown",
      "metadata": {
        "id": "ZxT5mbD4dUvN"
      },
      "source": [
        "## K neighbors"
      ]
    },
    {
      "cell_type": "code",
      "metadata": {
        "id": "Gctza1l1dRqj"
      },
      "source": [
        "#TF-IDF\n",
        "model_KN_tf = KNeighborsClassifier(metric= 'euclidean', n_neighbors= 3, weights= 'distance') \n",
        "model_KN_tf.fit(tfdf_train,y_train)\n",
        "y_predict_KN_tf = model_KN_tf.predict(tfdf_test)\n",
        "a=(model_KN_tf.score(tfdf_test,y_test))\n",
        "accuracy['TF-IDF'].append(a)\n",
        "print(metrics.confusion_matrix(y_test, y_predict_KN_tf))\n",
        "print(metrics.classification_report(y_test, y_predict_KN_tf))\n",
        "print(metrics.accuracy_score(y_test, y_predict_KN_tf))"
      ],
      "execution_count": null,
      "outputs": []
    },
    {
      "cell_type": "code",
      "metadata": {
        "id": "YqQQTqjLdlu4"
      },
      "source": [
        ""
      ],
      "execution_count": null,
      "outputs": []
    }
  ]
}