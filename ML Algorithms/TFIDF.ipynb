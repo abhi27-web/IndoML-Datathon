{
 "cells": [
  {
   "cell_type": "code",
   "execution_count": 4,
   "metadata": {
    "id": "mHLzF5B0b8Sw"
   },
   "outputs": [],
   "source": [
    "import pandas as pd\n",
    "import numpy as np\n",
    "from sklearn.model_selection import train_test_split\n",
    "from sklearn.feature_extraction.text import CountVectorizer\n",
    "from sklearn.feature_extraction.text import TfidfVectorizer"
   ]
  },
  {
   "cell_type": "code",
   "execution_count": 5,
   "metadata": {
    "colab": {
     "base_uri": "https://localhost:8080/"
    },
    "id": "Ng1dTU1Oi38F",
    "outputId": "95ee16ed-637a-426a-95d5-db1b49b57858"
   },
   "outputs": [
    {
     "name": "stdout",
     "output_type": "stream",
     "text": [
      "   CommentId                              commentText   language  user_index  \\\n",
      "0     411618                        __steeve__joseph   Malayalam     26850.0   \n",
      "1     411619                            aghana_shini   Malayalam     17103.0   \n",
      "2     411620  ayyo pavam kuchu enthelum pattiyo entho  Malayalam     21720.0   \n",
      "3     411621                                 kalakki   Malayalam     18615.0   \n",
      "4     411622                             riya_ponnuz   Malayalam     24855.0   \n",
      "\n",
      "   post_index  report_count_comment  report_count_post  like_count_comment  \\\n",
      "0    534771.0                   0.0                0.0                 0.0   \n",
      "1    843407.0                   0.0                0.0                 0.0   \n",
      "2    101538.0                   0.0               31.0                 0.0   \n",
      "3    521985.0                   0.0                0.0                 0.0   \n",
      "4   1051383.0                   0.0                0.0                 1.0   \n",
      "\n",
      "   like_count_post  label                           commentCleaned  \\\n",
      "0             39.0    0.0                             steevejoseph   \n",
      "1            134.0    0.0                              aghanashini   \n",
      "2           2859.0    0.0  ayyo pavam kuchu enthelum pattiyo entho   \n",
      "3            185.0    0.0                                  kalakki   \n",
      "4            127.0    0.0                               riyaponnuz   \n",
      "\n",
      "                                  translated_value  \n",
      "0                                     steevejoseph  \n",
      "1                                       Aghnashini  \n",
      "2  ayyo pavam kuchu enthelum patelum pattiyo entho  \n",
      "3                                             Brag  \n",
      "4                                         Reponguz  \n"
     ]
    }
   ],
   "source": [
    "url='https://drive.google.com/file/d/1F5KnTS79MODxHypKVMB6hz1ZqUZyn0Cy/view?usp=sharing'\n",
    "file_id=url.split('/')[-2]\n",
    "dwn_url='https://drive.google.com/uc?id=' + file_id\n",
    "df = pd.read_csv(dwn_url)\n",
    "print(df.head())"
   ]
  },
  {
   "cell_type": "code",
   "execution_count": 6,
   "metadata": {
    "id": "O0WBPm7Ncjet"
   },
   "outputs": [],
   "source": [
    "df=df.drop(columns=['CommentId','commentText','language','user_index','post_index','report_count_comment', 'report_count_post', 'like_count_comment','like_count_post','commentCleaned'])"
   ]
  },
  {
   "cell_type": "code",
   "execution_count": 7,
   "metadata": {
    "colab": {
     "base_uri": "https://localhost:8080/",
     "height": 206
    },
    "id": "vbpac5QMcuho",
    "outputId": "48285979-26a2-4088-8cb9-86f13d736bad"
   },
   "outputs": [
    {
     "data": {
      "text/html": [
       "<div>\n",
       "<style scoped>\n",
       "    .dataframe tbody tr th:only-of-type {\n",
       "        vertical-align: middle;\n",
       "    }\n",
       "\n",
       "    .dataframe tbody tr th {\n",
       "        vertical-align: top;\n",
       "    }\n",
       "\n",
       "    .dataframe thead th {\n",
       "        text-align: right;\n",
       "    }\n",
       "</style>\n",
       "<table border=\"1\" class=\"dataframe\">\n",
       "  <thead>\n",
       "    <tr style=\"text-align: right;\">\n",
       "      <th></th>\n",
       "      <th>label</th>\n",
       "      <th>translated_value</th>\n",
       "    </tr>\n",
       "  </thead>\n",
       "  <tbody>\n",
       "    <tr>\n",
       "      <th>0</th>\n",
       "      <td>0.0</td>\n",
       "      <td>steevejoseph</td>\n",
       "    </tr>\n",
       "    <tr>\n",
       "      <th>1</th>\n",
       "      <td>0.0</td>\n",
       "      <td>Aghnashini</td>\n",
       "    </tr>\n",
       "    <tr>\n",
       "      <th>2</th>\n",
       "      <td>0.0</td>\n",
       "      <td>ayyo pavam kuchu enthelum patelum pattiyo entho</td>\n",
       "    </tr>\n",
       "    <tr>\n",
       "      <th>3</th>\n",
       "      <td>0.0</td>\n",
       "      <td>Brag</td>\n",
       "    </tr>\n",
       "    <tr>\n",
       "      <th>4</th>\n",
       "      <td>0.0</td>\n",
       "      <td>Reponguz</td>\n",
       "    </tr>\n",
       "  </tbody>\n",
       "</table>\n",
       "</div>"
      ],
      "text/plain": [
       "   label                                 translated_value\n",
       "0    0.0                                     steevejoseph\n",
       "1    0.0                                       Aghnashini\n",
       "2    0.0  ayyo pavam kuchu enthelum patelum pattiyo entho\n",
       "3    0.0                                             Brag\n",
       "4    0.0                                         Reponguz"
      ]
     },
     "execution_count": 7,
     "metadata": {},
     "output_type": "execute_result"
    }
   ],
   "source": [
    "df.head()"
   ]
  },
  {
   "cell_type": "markdown",
   "metadata": {
    "id": "JXjVwiGfAPiP"
   },
   "source": [
    "Spelling correction"
   ]
  },
  {
   "cell_type": "code",
   "execution_count": 8,
   "metadata": {
    "id": "LfpYzPfu__rb"
   },
   "outputs": [],
   "source": [
    "import textblob"
   ]
  },
  {
   "cell_type": "code",
   "execution_count": 9,
   "metadata": {
    "id": "xr_I8EzyBoyN"
   },
   "outputs": [],
   "source": [
    "def preprocess_data(df):\n",
    "   \n",
    "    \n",
    "    # Convert text to lowercase\n",
    "    df['lower'] = df['translated_value'].str.strip().str.lower()\n",
    "    return df"
   ]
  },
  {
   "cell_type": "code",
   "execution_count": 10,
   "metadata": {
    "id": "VjBdmXk3B1xb"
   },
   "outputs": [],
   "source": [
    "dff = preprocess_data(df)"
   ]
  },
  {
   "cell_type": "code",
   "execution_count": 11,
   "metadata": {
    "id": "Mz8kSQH8Zv2i"
   },
   "outputs": [],
   "source": [
    "dff['translated_value']=dff['lower']"
   ]
  },
  {
   "cell_type": "code",
   "execution_count": 12,
   "metadata": {
    "colab": {
     "base_uri": "https://localhost:8080/",
     "height": 206
    },
    "id": "q0EpgBMKCb-R",
    "outputId": "8205c74e-172d-4e9f-bdf6-378f5385d9d8"
   },
   "outputs": [
    {
     "data": {
      "text/html": [
       "<div>\n",
       "<style scoped>\n",
       "    .dataframe tbody tr th:only-of-type {\n",
       "        vertical-align: middle;\n",
       "    }\n",
       "\n",
       "    .dataframe tbody tr th {\n",
       "        vertical-align: top;\n",
       "    }\n",
       "\n",
       "    .dataframe thead th {\n",
       "        text-align: right;\n",
       "    }\n",
       "</style>\n",
       "<table border=\"1\" class=\"dataframe\">\n",
       "  <thead>\n",
       "    <tr style=\"text-align: right;\">\n",
       "      <th></th>\n",
       "      <th>label</th>\n",
       "      <th>translated_value</th>\n",
       "      <th>lower</th>\n",
       "    </tr>\n",
       "  </thead>\n",
       "  <tbody>\n",
       "    <tr>\n",
       "      <th>0</th>\n",
       "      <td>0.0</td>\n",
       "      <td>steevejoseph</td>\n",
       "      <td>steevejoseph</td>\n",
       "    </tr>\n",
       "    <tr>\n",
       "      <th>1</th>\n",
       "      <td>0.0</td>\n",
       "      <td>aghnashini</td>\n",
       "      <td>aghnashini</td>\n",
       "    </tr>\n",
       "    <tr>\n",
       "      <th>2</th>\n",
       "      <td>0.0</td>\n",
       "      <td>ayyo pavam kuchu enthelum patelum pattiyo entho</td>\n",
       "      <td>ayyo pavam kuchu enthelum patelum pattiyo entho</td>\n",
       "    </tr>\n",
       "    <tr>\n",
       "      <th>3</th>\n",
       "      <td>0.0</td>\n",
       "      <td>brag</td>\n",
       "      <td>brag</td>\n",
       "    </tr>\n",
       "    <tr>\n",
       "      <th>4</th>\n",
       "      <td>0.0</td>\n",
       "      <td>reponguz</td>\n",
       "      <td>reponguz</td>\n",
       "    </tr>\n",
       "  </tbody>\n",
       "</table>\n",
       "</div>"
      ],
      "text/plain": [
       "   label                                 translated_value  \\\n",
       "0    0.0                                     steevejoseph   \n",
       "1    0.0                                       aghnashini   \n",
       "2    0.0  ayyo pavam kuchu enthelum patelum pattiyo entho   \n",
       "3    0.0                                             brag   \n",
       "4    0.0                                         reponguz   \n",
       "\n",
       "                                             lower  \n",
       "0                                     steevejoseph  \n",
       "1                                       aghnashini  \n",
       "2  ayyo pavam kuchu enthelum patelum pattiyo entho  \n",
       "3                                             brag  \n",
       "4                                         reponguz  "
      ]
     },
     "execution_count": 12,
     "metadata": {},
     "output_type": "execute_result"
    }
   ],
   "source": [
    "dff.head()"
   ]
  },
  {
   "cell_type": "code",
   "execution_count": 13,
   "metadata": {
    "id": "e2GFdKwzZben"
   },
   "outputs": [],
   "source": [
    "dff=dff.drop(columns=['lower'])"
   ]
  },
  {
   "cell_type": "code",
   "execution_count": 14,
   "metadata": {
    "colab": {
     "base_uri": "https://localhost:8080/",
     "height": 206
    },
    "id": "72kZb7mwZpZ_",
    "outputId": "bec14468-b437-4f65-e5d2-a66ab8c6b922"
   },
   "outputs": [
    {
     "data": {
      "text/html": [
       "<div>\n",
       "<style scoped>\n",
       "    .dataframe tbody tr th:only-of-type {\n",
       "        vertical-align: middle;\n",
       "    }\n",
       "\n",
       "    .dataframe tbody tr th {\n",
       "        vertical-align: top;\n",
       "    }\n",
       "\n",
       "    .dataframe thead th {\n",
       "        text-align: right;\n",
       "    }\n",
       "</style>\n",
       "<table border=\"1\" class=\"dataframe\">\n",
       "  <thead>\n",
       "    <tr style=\"text-align: right;\">\n",
       "      <th></th>\n",
       "      <th>label</th>\n",
       "      <th>translated_value</th>\n",
       "    </tr>\n",
       "  </thead>\n",
       "  <tbody>\n",
       "    <tr>\n",
       "      <th>0</th>\n",
       "      <td>0.0</td>\n",
       "      <td>steevejoseph</td>\n",
       "    </tr>\n",
       "    <tr>\n",
       "      <th>1</th>\n",
       "      <td>0.0</td>\n",
       "      <td>aghnashini</td>\n",
       "    </tr>\n",
       "    <tr>\n",
       "      <th>2</th>\n",
       "      <td>0.0</td>\n",
       "      <td>ayyo pavam kuchu enthelum patelum pattiyo entho</td>\n",
       "    </tr>\n",
       "    <tr>\n",
       "      <th>3</th>\n",
       "      <td>0.0</td>\n",
       "      <td>brag</td>\n",
       "    </tr>\n",
       "    <tr>\n",
       "      <th>4</th>\n",
       "      <td>0.0</td>\n",
       "      <td>reponguz</td>\n",
       "    </tr>\n",
       "  </tbody>\n",
       "</table>\n",
       "</div>"
      ],
      "text/plain": [
       "   label                                 translated_value\n",
       "0    0.0                                     steevejoseph\n",
       "1    0.0                                       aghnashini\n",
       "2    0.0  ayyo pavam kuchu enthelum patelum pattiyo entho\n",
       "3    0.0                                             brag\n",
       "4    0.0                                         reponguz"
      ]
     },
     "execution_count": 14,
     "metadata": {},
     "output_type": "execute_result"
    }
   ],
   "source": [
    "dff.head()"
   ]
  },
  {
   "cell_type": "code",
   "execution_count": 15,
   "metadata": {
    "id": "jg1aAM5WY3je"
   },
   "outputs": [],
   "source": [
    "X_temp, X_test, y_temp, y_test = train_test_split(dff, list(dff.label), test_size=0.2, random_state=0)"
   ]
  },
  {
   "cell_type": "code",
   "execution_count": 16,
   "metadata": {
    "colab": {
     "base_uri": "https://localhost:8080/"
    },
    "id": "MOhy4MZPZQet",
    "outputId": "3be74b95-74ee-4439-9cea-94788f0e17b0"
   },
   "outputs": [
    {
     "data": {
      "text/plain": [
       "((26153, 2), (104612, 2), 26153, 104612)"
      ]
     },
     "execution_count": 16,
     "metadata": {},
     "output_type": "execute_result"
    }
   ],
   "source": [
    "X_test.shape, X_temp.shape, len(y_test), len(y_temp)"
   ]
  },
  {
   "cell_type": "code",
   "execution_count": 17,
   "metadata": {
    "id": "Dx0x-76xZQo5"
   },
   "outputs": [
    {
     "name": "stderr",
     "output_type": "stream",
     "text": [
      "<ipython-input-17-696ff4fc08a7>:1: SettingWithCopyWarning: \n",
      "A value is trying to be set on a copy of a slice from a DataFrame.\n",
      "Try using .loc[row_indexer,col_indexer] = value instead\n",
      "\n",
      "See the caveats in the documentation: https://pandas.pydata.org/pandas-docs/stable/user_guide/indexing.html#returning-a-view-versus-a-copy\n",
      "  X_temp['label'] = y_temp\n"
     ]
    }
   ],
   "source": [
    "X_temp['label'] = y_temp"
   ]
  },
  {
   "cell_type": "code",
   "execution_count": 18,
   "metadata": {
    "colab": {
     "base_uri": "https://localhost:8080/",
     "height": 206
    },
    "id": "JpS8I48iZ6qU",
    "outputId": "e0d81e86-dd0d-481d-e535-f2d699fa5b2e"
   },
   "outputs": [
    {
     "data": {
      "text/html": [
       "<div>\n",
       "<style scoped>\n",
       "    .dataframe tbody tr th:only-of-type {\n",
       "        vertical-align: middle;\n",
       "    }\n",
       "\n",
       "    .dataframe tbody tr th {\n",
       "        vertical-align: top;\n",
       "    }\n",
       "\n",
       "    .dataframe thead th {\n",
       "        text-align: right;\n",
       "    }\n",
       "</style>\n",
       "<table border=\"1\" class=\"dataframe\">\n",
       "  <thead>\n",
       "    <tr style=\"text-align: right;\">\n",
       "      <th></th>\n",
       "      <th>label</th>\n",
       "      <th>translated_value</th>\n",
       "    </tr>\n",
       "  </thead>\n",
       "  <tbody>\n",
       "    <tr>\n",
       "      <th>29677</th>\n",
       "      <td>0.0</td>\n",
       "      <td>sup you</td>\n",
       "    </tr>\n",
       "    <tr>\n",
       "      <th>29254</th>\n",
       "      <td>0.0</td>\n",
       "      <td>kou gharar from</td>\n",
       "    </tr>\n",
       "    <tr>\n",
       "      <th>27234</th>\n",
       "      <td>1.0</td>\n",
       "      <td>baihu temple is eating</td>\n",
       "    </tr>\n",
       "    <tr>\n",
       "      <th>5709</th>\n",
       "      <td>0.0</td>\n",
       "      <td>nice</td>\n",
       "    </tr>\n",
       "    <tr>\n",
       "      <th>51176</th>\n",
       "      <td>0.0</td>\n",
       "      <td>want beautiful tanutu hi</td>\n",
       "    </tr>\n",
       "  </tbody>\n",
       "</table>\n",
       "</div>"
      ],
      "text/plain": [
       "       label          translated_value\n",
       "29677    0.0                   sup you\n",
       "29254    0.0           kou gharar from\n",
       "27234    1.0    baihu temple is eating\n",
       "5709     0.0                      nice\n",
       "51176    0.0  want beautiful tanutu hi"
      ]
     },
     "execution_count": 18,
     "metadata": {},
     "output_type": "execute_result"
    }
   ],
   "source": [
    "X_temp.head()"
   ]
  },
  {
   "cell_type": "code",
   "execution_count": 19,
   "metadata": {
    "colab": {
     "base_uri": "https://localhost:8080/"
    },
    "id": "OhLvJSZQZ6tW",
    "outputId": "880f8a7d-8ac0-4c70-d47d-d720fd01e4b5"
   },
   "outputs": [
    {
     "data": {
      "text/plain": [
       "72900"
      ]
     },
     "execution_count": 19,
     "metadata": {},
     "output_type": "execute_result"
    }
   ],
   "source": [
    "zero = X_temp[X_temp['label'] == 0]\n",
    "zero.shape[0]"
   ]
  },
  {
   "cell_type": "code",
   "execution_count": 20,
   "metadata": {
    "colab": {
     "base_uri": "https://localhost:8080/"
    },
    "id": "B2nNRh8YZ6wM",
    "outputId": "0f7e01af-499e-43d1-c164-f20263a588dd"
   },
   "outputs": [
    {
     "data": {
      "text/plain": [
       "31712"
      ]
     },
     "execution_count": 20,
     "metadata": {},
     "output_type": "execute_result"
    }
   ],
   "source": [
    "one = X_temp[X_temp['label'] == 1]\n",
    "one.shape[0]"
   ]
  },
  {
   "cell_type": "code",
   "execution_count": 21,
   "metadata": {
    "colab": {
     "base_uri": "https://localhost:8080/",
     "height": 423
    },
    "id": "z47NdJrqZ6zL",
    "outputId": "176a9383-b787-4d1c-cc1b-88890d6f3776"
   },
   "outputs": [
    {
     "data": {
      "text/html": [
       "<div>\n",
       "<style scoped>\n",
       "    .dataframe tbody tr th:only-of-type {\n",
       "        vertical-align: middle;\n",
       "    }\n",
       "\n",
       "    .dataframe tbody tr th {\n",
       "        vertical-align: top;\n",
       "    }\n",
       "\n",
       "    .dataframe thead th {\n",
       "        text-align: right;\n",
       "    }\n",
       "</style>\n",
       "<table border=\"1\" class=\"dataframe\">\n",
       "  <thead>\n",
       "    <tr style=\"text-align: right;\">\n",
       "      <th></th>\n",
       "      <th>label</th>\n",
       "      <th>translated_value</th>\n",
       "    </tr>\n",
       "  </thead>\n",
       "  <tbody>\n",
       "    <tr>\n",
       "      <th>29677</th>\n",
       "      <td>0.0</td>\n",
       "      <td>sup you</td>\n",
       "    </tr>\n",
       "    <tr>\n",
       "      <th>29254</th>\n",
       "      <td>0.0</td>\n",
       "      <td>kou gharar from</td>\n",
       "    </tr>\n",
       "    <tr>\n",
       "      <th>5709</th>\n",
       "      <td>0.0</td>\n",
       "      <td>nice</td>\n",
       "    </tr>\n",
       "    <tr>\n",
       "      <th>51176</th>\n",
       "      <td>0.0</td>\n",
       "      <td>want beautiful tanutu hi</td>\n",
       "    </tr>\n",
       "    <tr>\n",
       "      <th>9961</th>\n",
       "      <td>0.0</td>\n",
       "      <td>nicesuper</td>\n",
       "    </tr>\n",
       "    <tr>\n",
       "      <th>...</th>\n",
       "      <td>...</td>\n",
       "      <td>...</td>\n",
       "    </tr>\n",
       "    <tr>\n",
       "      <th>21243</th>\n",
       "      <td>1.0</td>\n",
       "      <td>thu muduka thu</td>\n",
       "    </tr>\n",
       "    <tr>\n",
       "      <th>45891</th>\n",
       "      <td>1.0</td>\n",
       "      <td>gand digi rindi</td>\n",
       "    </tr>\n",
       "    <tr>\n",
       "      <th>42613</th>\n",
       "      <td>1.0</td>\n",
       "      <td>nhi sewa to puri karo galiya bhi khao bahu hu ...</td>\n",
       "    </tr>\n",
       "    <tr>\n",
       "      <th>43567</th>\n",
       "      <td>1.0</td>\n",
       "      <td>hey matherchod randi</td>\n",
       "    </tr>\n",
       "    <tr>\n",
       "      <th>68268</th>\n",
       "      <td>1.0</td>\n",
       "      <td>it's a gad leaving the mother</td>\n",
       "    </tr>\n",
       "  </tbody>\n",
       "</table>\n",
       "<p>104612 rows × 2 columns</p>\n",
       "</div>"
      ],
      "text/plain": [
       "       label                                   translated_value\n",
       "29677    0.0                                            sup you\n",
       "29254    0.0                                    kou gharar from\n",
       "5709     0.0                                               nice\n",
       "51176    0.0                           want beautiful tanutu hi\n",
       "9961     0.0                                          nicesuper\n",
       "...      ...                                                ...\n",
       "21243    1.0                                     thu muduka thu\n",
       "45891    1.0                                    gand digi rindi\n",
       "42613    1.0  nhi sewa to puri karo galiya bhi khao bahu hu ...\n",
       "43567    1.0                               hey matherchod randi\n",
       "68268    1.0                      it's a gad leaving the mother\n",
       "\n",
       "[104612 rows x 2 columns]"
      ]
     },
     "execution_count": 21,
     "metadata": {},
     "output_type": "execute_result"
    }
   ],
   "source": [
    "ds = pd.concat([zero,one], axis = 0)\n",
    "ds"
   ]
  },
  {
   "cell_type": "code",
   "execution_count": 22,
   "metadata": {
    "colab": {
     "base_uri": "https://localhost:8080/"
    },
    "id": "nRkd2HLVZ61n",
    "outputId": "7b7f7159-9b45-4ebb-dab6-2c17ca677401"
   },
   "outputs": [
    {
     "name": "stderr",
     "output_type": "stream",
     "text": [
      "<ipython-input-22-0eff1109cf1d>:2: SettingWithCopyWarning: \n",
      "A value is trying to be set on a copy of a slice from a DataFrame.\n",
      "Try using .loc[row_indexer,col_indexer] = value instead\n",
      "\n",
      "See the caveats in the documentation: https://pandas.pydata.org/pandas-docs/stable/user_guide/indexing.html#returning-a-view-versus-a-copy\n",
      "  testdf['label'] = y_test\n"
     ]
    },
    {
     "data": {
      "text/plain": [
       "(26153, 2)"
      ]
     },
     "execution_count": 22,
     "metadata": {},
     "output_type": "execute_result"
    }
   ],
   "source": [
    "testdf = X_test\n",
    "testdf['label'] = y_test\n",
    "testdf.shape"
   ]
  },
  {
   "cell_type": "code",
   "execution_count": 23,
   "metadata": {
    "colab": {
     "base_uri": "https://localhost:8080/"
    },
    "id": "-D-kt6RgZ64e",
    "outputId": "93bac242-ce8c-4406-a84e-b3c653ad3985"
   },
   "outputs": [
    {
     "data": {
      "text/plain": [
       "(18212, 7941)"
      ]
     },
     "execution_count": 23,
     "metadata": {},
     "output_type": "execute_result"
    }
   ],
   "source": [
    "len(testdf[testdf['label']==0]),len(testdf[testdf['label']==1])"
   ]
  },
  {
   "cell_type": "code",
   "execution_count": 24,
   "metadata": {
    "id": "l-PBc-g1Z67J"
   },
   "outputs": [],
   "source": [
    "ds = pd.concat([ds, testdf], axis = 0)"
   ]
  },
  {
   "cell_type": "code",
   "execution_count": 25,
   "metadata": {
    "colab": {
     "base_uri": "https://localhost:8080/"
    },
    "id": "lqbnEQt1Z6-P",
    "outputId": "689f0f2e-deaa-4dd6-9d69-3830a1faef2c"
   },
   "outputs": [
    {
     "data": {
      "text/plain": [
       "((91112, 2), (39653, 2))"
      ]
     },
     "execution_count": 25,
     "metadata": {},
     "output_type": "execute_result"
    }
   ],
   "source": [
    "ds[ds['label']==0].shape, ds[ds['label']==1].shape"
   ]
  },
  {
   "cell_type": "code",
   "execution_count": 26,
   "metadata": {
    "id": "9K2DyAX1aRQW"
   },
   "outputs": [],
   "source": [
    "corpus = []\n",
    "for i in range(ds.shape[0]):\n",
    "    corpus.append(ds.iloc[i][0])"
   ]
  },
  {
   "cell_type": "markdown",
   "metadata": {
    "id": "d8ywXksIaWVN"
   },
   "source": [
    "# Creating TF-IDF"
   ]
  },
  {
   "cell_type": "code",
   "execution_count": 27,
   "metadata": {
    "colab": {
     "base_uri": "https://localhost:8080/"
    },
    "id": "epoicJ-6aRTT",
    "outputId": "3e371301-8a4a-423b-b806-5b70fc7c0767"
   },
   "outputs": [],
   "source": [
    "vectorizer1 = TfidfVectorizer(max_features=1000)\n",
    "X1 = vectorizer1.fit_transform(ds['translated_value'])\n",
    "feature_names1 = vectorizer1.get_feature_names()\n",
    "denselist1 = X1.todense().tolist()\n",
    "df2_train = pd.DataFrame(denselist1, columns=feature_names1)"
   ]
  },
  {
   "cell_type": "code",
   "execution_count": 28,
   "metadata": {
    "id": "iQIiEAp7aRWa"
   },
   "outputs": [],
   "source": [
    "tdf = df2_train\n",
    "tdf['labelxyz'] = list(ds.label)"
   ]
  },
  {
   "cell_type": "code",
   "execution_count": 29,
   "metadata": {
    "colab": {
     "base_uri": "https://localhost:8080/"
    },
    "id": "PhL-TyEeaRaB",
    "outputId": "f200f755-2962-4c64-87ae-f6e94937fc7e"
   },
   "outputs": [
    {
     "data": {
      "text/plain": [
       "(39653, 1001)"
      ]
     },
     "execution_count": 29,
     "metadata": {},
     "output_type": "execute_result"
    }
   ],
   "source": [
    "tdf_zero = tdf[tdf.labelxyz == 0]\n",
    "tdf_zero.shape\n",
    "\n",
    "tdf_one = tdf[tdf.labelxyz == 1]\n",
    "tdf_one.shape"
   ]
  },
  {
   "cell_type": "code",
   "execution_count": 30,
   "metadata": {
    "id": "HVZaTXzbaRca"
   },
   "outputs": [],
   "source": [
    "X_train_zero = tdf_zero.sample(frac=0.9, random_state=0)\n",
    "X_test_zero = tdf_zero.drop(X_train_zero.index)"
   ]
  },
  {
   "cell_type": "code",
   "execution_count": 31,
   "metadata": {
    "id": "AS99WKChaRfL"
   },
   "outputs": [],
   "source": [
    "X_train_one = tdf_one.sample(frac=0.9, random_state=0)\n",
    "X_test_one = tdf_one.drop(X_train_one.index)"
   ]
  },
  {
   "cell_type": "code",
   "execution_count": 32,
   "metadata": {
    "id": "RcK0cBYHaRiC"
   },
   "outputs": [],
   "source": [
    "X_train_df = pd.concat([X_train_zero,X_train_one], axis = 0)\n",
    "tfdf_train = X_train_df.drop(['labelxyz'], axis = 1)\n",
    "y_train = list(X_train_df.labelxyz)\n",
    "X_test_df = pd.concat([X_test_zero,X_test_one], axis = 0)\n",
    "tfdf_test = X_test_df.drop(['labelxyz'], axis = 1)\n",
    "y_test = list(X_test_df.labelxyz)"
   ]
  },
  {
   "cell_type": "markdown",
   "metadata": {
    "id": "NxNsz8T2cr1G"
   },
   "source": [
    "# Building ML models"
   ]
  },
  {
   "cell_type": "code",
   "execution_count": 33,
   "metadata": {
    "id": "lgkD5HeYaRtC"
   },
   "outputs": [],
   "source": [
    "model = ['LR','DT','GB','RF','KN']\n",
    "accuracy = {'TF-IDF':[]}"
   ]
  },
  {
   "cell_type": "code",
   "execution_count": 37,
   "metadata": {
    "id": "O0ks59z-Mm8B"
   },
   "outputs": [],
   "source": [
    "from sklearn.linear_model import LogisticRegression\n",
    "from sklearn.naive_bayes import GaussianNB\n",
    "from sklearn.ensemble import RandomForestClassifier\n",
    "from sklearn.tree import DecisionTreeClassifier\n",
    "from sklearn.neighbors import KNeighborsClassifier\n",
    "from sklearn.ensemble import GradientBoostingClassifier\n",
    "from sklearn import metrics\n",
    "import matplotlib.pyplot as plt\n",
    "%matplotlib inline\n",
    "from sklearn.metrics import plot_confusion_matrix\n",
    "from sklearn.metrics import precision_score, recall_score, f1_score"
   ]
  },
  {
   "cell_type": "markdown",
   "metadata": {
    "id": "_QImJ7zEc9p1"
   },
   "source": [
    "## Logistic Regression"
   ]
  },
  {
   "cell_type": "code",
   "execution_count": null,
   "metadata": {
    "colab": {
     "base_uri": "https://localhost:8080/"
    },
    "id": "SXw5Uy20c8r-",
    "outputId": "9017c2d2-2843-4783-a8a1-08c41dd84141"
   },
   "outputs": [
    {
     "name": "stdout",
     "output_type": "stream",
     "text": [
      "[[8536  575]\n",
      " [1647 2318]]\n",
      "              precision    recall  f1-score   support\n",
      "\n",
      "         0.0       0.84      0.94      0.88      9111\n",
      "         1.0       0.80      0.58      0.68      3965\n",
      "\n",
      "    accuracy                           0.83     13076\n",
      "   macro avg       0.82      0.76      0.78     13076\n",
      "weighted avg       0.83      0.83      0.82     13076\n",
      "\n",
      "0.830070357907617\n"
     ]
    }
   ],
   "source": [
    "#TF-IDF\n",
    "regressor_LR_tf = LogisticRegression(C= 1.0, penalty='l2', solver= 'liblinear')\n",
    "regressor_LR_tf.fit(tfdf_train,y_train)\n",
    "y_predict_LR_tf = regressor_LR_tf.predict(tfdf_test)\n",
    "a=(regressor_LR_tf.score(tfdf_test,y_test))\n",
    "accuracy['TF-IDF'].append(a)\n",
    "\n",
    "print(metrics.confusion_matrix(y_test, y_predict_LR_tf))\n",
    "print(metrics.classification_report(y_test, y_predict_LR_tf))\n",
    "print(metrics.accuracy_score(y_test, y_predict_LR_tf))"
   ]
  },
  {
   "cell_type": "markdown",
   "metadata": {
    "id": "WH2bOMNidM1v"
   },
   "source": [
    "## Decision Tree"
   ]
  },
  {
   "cell_type": "code",
   "execution_count": null,
   "metadata": {
    "colab": {
     "base_uri": "https://localhost:8080/"
    },
    "id": "yt0cGDxtdMFH",
    "outputId": "965b384d-7a26-4752-8645-87e35c31849a"
   },
   "outputs": [
    {
     "name": "stdout",
     "output_type": "stream",
     "text": [
      "[[8204  907]\n",
      " [1745 2220]]\n",
      "              precision    recall  f1-score   support\n",
      "\n",
      "         0.0       0.82      0.90      0.86      9111\n",
      "         1.0       0.71      0.56      0.63      3965\n",
      "\n",
      "    accuracy                           0.80     13076\n",
      "   macro avg       0.77      0.73      0.74     13076\n",
      "weighted avg       0.79      0.80      0.79     13076\n",
      "\n",
      "0.7971856836953197\n"
     ]
    }
   ],
   "source": [
    "#TF-IDF\n",
    "model_DT_tf = DecisionTreeClassifier() \n",
    "model_DT_tf.fit(tfdf_train,y_train)\n",
    "y_predict_DT_tf = model_DT_tf.predict(tfdf_test)\n",
    "a=(model_DT_tf.score(tfdf_test,y_test))\n",
    "accuracy['TF-IDF'].append(a)\n",
    "\n",
    "print(metrics.confusion_matrix(y_test, y_predict_DT_tf))\n",
    "print(metrics.classification_report(y_test, y_predict_DT_tf))\n",
    "print(metrics.accuracy_score(y_test, y_predict_DT_tf))"
   ]
  },
  {
   "cell_type": "markdown",
   "metadata": {
    "id": "3poU0Baydcc8"
   },
   "source": [
    "## Gradient Boosting"
   ]
  },
  {
   "cell_type": "code",
   "execution_count": null,
   "metadata": {
    "colab": {
     "base_uri": "https://localhost:8080/"
    },
    "id": "NJ2XyUjWdY0u",
    "outputId": "a9563147-f21d-4127-b495-ff2f2d880387"
   },
   "outputs": [
    {
     "name": "stdout",
     "output_type": "stream",
     "text": [
      "[[8945  166]\n",
      " [2843 1122]]\n",
      "              precision    recall  f1-score   support\n",
      "\n",
      "         0.0       0.76      0.98      0.86      9111\n",
      "         1.0       0.87      0.28      0.43      3965\n",
      "\n",
      "    accuracy                           0.77     13076\n",
      "   macro avg       0.81      0.63      0.64     13076\n",
      "weighted avg       0.79      0.77      0.73     13076\n",
      "\n",
      "0.7698837565004588\n"
     ]
    }
   ],
   "source": [
    "#TF-IDF\n",
    "model_GB_tf = GradientBoostingClassifier() \n",
    "model_GB_tf.fit(tfdf_train,y_train)\n",
    "y_predict_GB_tf = model_GB_tf.predict(tfdf_test)\n",
    "a=(model_GB_tf.score(tfdf_test,y_test))\n",
    "accuracy['TF-IDF'].append(a)\n",
    "print(metrics.confusion_matrix(y_test, y_predict_GB_tf))\n",
    "print(metrics.classification_report(y_test, y_predict_GB_tf))\n",
    "print(metrics.accuracy_score(y_test, y_predict_GB_tf))"
   ]
  },
  {
   "cell_type": "markdown",
   "metadata": {
    "id": "AreoGjw5dGJW"
   },
   "source": [
    "## Random Forest"
   ]
  },
  {
   "cell_type": "code",
   "execution_count": 39,
   "metadata": {
    "id": "U7y6eTzJc-An"
   },
   "outputs": [
    {
     "name": "stdout",
     "output_type": "stream",
     "text": [
      "[[8360  751]\n",
      " [1624 2341]]\n",
      "              precision    recall  f1-score   support\n",
      "\n",
      "         0.0       0.84      0.92      0.88      9111\n",
      "         1.0       0.76      0.59      0.66      3965\n",
      "\n",
      "    accuracy                           0.82     13076\n",
      "   macro avg       0.80      0.75      0.77     13076\n",
      "weighted avg       0.81      0.82      0.81     13076\n",
      "\n",
      "0.8183695319669624\n"
     ]
    }
   ],
   "source": [
    "#TF-IDF\n",
    "model_RF_tf = RandomForestClassifier()\n",
    "model_RF_tf.fit(tfdf_train,y_train)\n",
    "y_predict_RF_tf = model_RF_tf.predict(tfdf_test)\n",
    "a=(model_RF_tf.score(tfdf_test,y_test))\n",
    "accuracy['TF-IDF'].append(a)\n",
    "\n",
    "print(metrics.confusion_matrix(y_test, y_predict_RF_tf))\n",
    "print(metrics.classification_report(y_test, y_predict_RF_tf))\n",
    "print(metrics.accuracy_score(y_test, y_predict_RF_tf))"
   ]
  },
  {
   "cell_type": "markdown",
   "metadata": {
    "id": "ZxT5mbD4dUvN"
   },
   "source": [
    "## K neighbors"
   ]
  },
  {
   "cell_type": "code",
   "execution_count": 38,
   "metadata": {
    "id": "Gctza1l1dRqj"
   },
   "outputs": [
    {
     "name": "stdout",
     "output_type": "stream",
     "text": [
      "[[8695  416]\n",
      " [2610 1355]]\n",
      "              precision    recall  f1-score   support\n",
      "\n",
      "         0.0       0.77      0.95      0.85      9111\n",
      "         1.0       0.77      0.34      0.47      3965\n",
      "\n",
      "    accuracy                           0.77     13076\n",
      "   macro avg       0.77      0.65      0.66     13076\n",
      "weighted avg       0.77      0.77      0.74     13076\n",
      "\n",
      "0.768583664729275\n"
     ]
    }
   ],
   "source": [
    "#TF-IDF\n",
    "model_KN_tf = KNeighborsClassifier() \n",
    "model_KN_tf.fit(tfdf_train,y_train)\n",
    "y_predict_KN_tf = model_KN_tf.predict(tfdf_test)\n",
    "a=(model_KN_tf.score(tfdf_test,y_test))\n",
    "accuracy['TF-IDF'].append(a)\n",
    "print(metrics.confusion_matrix(y_test, y_predict_KN_tf))\n",
    "print(metrics.classification_report(y_test, y_predict_KN_tf))\n",
    "print(metrics.accuracy_score(y_test, y_predict_KN_tf))"
   ]
  }
 ],
 "metadata": {
  "colab": {
   "collapsed_sections": [],
   "name": "Abhigya TFIDF.ipynb",
   "provenance": []
  },
  "kernelspec": {
   "display_name": "Python 3.6 (tensorflow)",
   "language": "python",
   "name": "tensorflow"
  },
  "language_info": {
   "codemirror_mode": {
    "name": "ipython",
    "version": 3
   },
   "file_extension": ".py",
   "mimetype": "text/x-python",
   "name": "python",
   "nbconvert_exporter": "python",
   "pygments_lexer": "ipython3",
   "version": "3.8.5"
  }
 },
 "nbformat": 4,
 "nbformat_minor": 1
}
