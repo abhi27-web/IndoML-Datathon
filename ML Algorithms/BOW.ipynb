{
  "nbformat": 4,
  "nbformat_minor": 0,
  "metadata": {
    "colab": {
      "name": "BOW.ipynb",
      "provenance": [],
      "collapsed_sections": []
    },
    "kernelspec": {
      "display_name": "Python 3",
      "name": "python3"
    },
    "language_info": {
      "name": "python"
    }
  },
  "cells": [
    {
      "cell_type": "code",
      "metadata": {
        "id": "mHLzF5B0b8Sw"
      },
      "source": [
        "import pandas as pd\n",
        "import numpy as np\n",
        "from sklearn.model_selection import train_test_split\n",
        "from sklearn.feature_extraction.text import CountVectorizer\n",
        "from sklearn.feature_extraction.text import TfidfVectorizer"
      ],
      "execution_count": null,
      "outputs": []
    },
    {
      "cell_type": "code",
      "metadata": {
        "colab": {
          "base_uri": "https://localhost:8080/"
        },
        "id": "Ng1dTU1Oi38F",
        "outputId": "d32cc816-1c0c-49b1-84ff-1aba3c56aa4a"
      },
      "source": [
        "url='https://drive.google.com/file/d/1F5KnTS79MODxHypKVMB6hz1ZqUZyn0Cy/view?usp=sharing'\n",
        "file_id=url.split('/')[-2]\n",
        "dwn_url='https://drive.google.com/uc?id=' + file_id\n",
        "df = pd.read_csv(dwn_url)\n",
        "print(df.head())"
      ],
      "execution_count": null,
      "outputs": [
        {
          "output_type": "stream",
          "name": "stdout",
          "text": [
            "   CommentId  ...                                 translated_value\n",
            "0     411618  ...                                     steevejoseph\n",
            "1     411619  ...                                       Aghnashini\n",
            "2     411620  ...  ayyo pavam kuchu enthelum patelum pattiyo entho\n",
            "3     411621  ...                                             Brag\n",
            "4     411622  ...                                         Reponguz\n",
            "\n",
            "[5 rows x 12 columns]\n"
          ]
        }
      ]
    },
    {
      "cell_type": "code",
      "metadata": {
        "id": "O0WBPm7Ncjet"
      },
      "source": [
        "df=df.drop(columns=['CommentId','commentText','language','user_index','post_index','report_count_comment', 'report_count_post', 'like_count_comment','like_count_post','commentCleaned'])"
      ],
      "execution_count": null,
      "outputs": []
    },
    {
      "cell_type": "code",
      "metadata": {
        "colab": {
          "base_uri": "https://localhost:8080/",
          "height": 206
        },
        "id": "vbpac5QMcuho",
        "outputId": "6a45fdd9-c399-421b-b440-c4bac311e62e"
      },
      "source": [
        "df.head()"
      ],
      "execution_count": null,
      "outputs": [
        {
          "output_type": "execute_result",
          "data": {
            "text/html": [
              "<div>\n",
              "<style scoped>\n",
              "    .dataframe tbody tr th:only-of-type {\n",
              "        vertical-align: middle;\n",
              "    }\n",
              "\n",
              "    .dataframe tbody tr th {\n",
              "        vertical-align: top;\n",
              "    }\n",
              "\n",
              "    .dataframe thead th {\n",
              "        text-align: right;\n",
              "    }\n",
              "</style>\n",
              "<table border=\"1\" class=\"dataframe\">\n",
              "  <thead>\n",
              "    <tr style=\"text-align: right;\">\n",
              "      <th></th>\n",
              "      <th>label</th>\n",
              "      <th>translated_value</th>\n",
              "    </tr>\n",
              "  </thead>\n",
              "  <tbody>\n",
              "    <tr>\n",
              "      <th>0</th>\n",
              "      <td>0.0</td>\n",
              "      <td>steevejoseph</td>\n",
              "    </tr>\n",
              "    <tr>\n",
              "      <th>1</th>\n",
              "      <td>0.0</td>\n",
              "      <td>Aghnashini</td>\n",
              "    </tr>\n",
              "    <tr>\n",
              "      <th>2</th>\n",
              "      <td>0.0</td>\n",
              "      <td>ayyo pavam kuchu enthelum patelum pattiyo entho</td>\n",
              "    </tr>\n",
              "    <tr>\n",
              "      <th>3</th>\n",
              "      <td>0.0</td>\n",
              "      <td>Brag</td>\n",
              "    </tr>\n",
              "    <tr>\n",
              "      <th>4</th>\n",
              "      <td>0.0</td>\n",
              "      <td>Reponguz</td>\n",
              "    </tr>\n",
              "  </tbody>\n",
              "</table>\n",
              "</div>"
            ],
            "text/plain": [
              "   label                                 translated_value\n",
              "0    0.0                                     steevejoseph\n",
              "1    0.0                                       Aghnashini\n",
              "2    0.0  ayyo pavam kuchu enthelum patelum pattiyo entho\n",
              "3    0.0                                             Brag\n",
              "4    0.0                                         Reponguz"
            ]
          },
          "metadata": {},
          "execution_count": 5
        }
      ]
    },
    {
      "cell_type": "markdown",
      "metadata": {
        "id": "JXjVwiGfAPiP"
      },
      "source": [
        "# Lower case data"
      ]
    },
    {
      "cell_type": "code",
      "metadata": {
        "id": "LfpYzPfu__rb"
      },
      "source": [
        "import textblob"
      ],
      "execution_count": null,
      "outputs": []
    },
    {
      "cell_type": "code",
      "metadata": {
        "id": "xr_I8EzyBoyN"
      },
      "source": [
        "def preprocess_data(df):\n",
        "   \n",
        "    \n",
        "    # Convert text to lowercase\n",
        "    df['lower'] = df['translated_value'].str.strip().str.lower()\n",
        "    return df"
      ],
      "execution_count": null,
      "outputs": []
    },
    {
      "cell_type": "code",
      "metadata": {
        "id": "VjBdmXk3B1xb"
      },
      "source": [
        "df = preprocess_data(df)"
      ],
      "execution_count": null,
      "outputs": []
    },
    {
      "cell_type": "code",
      "metadata": {
        "colab": {
          "base_uri": "https://localhost:8080/",
          "height": 206
        },
        "id": "q0EpgBMKCb-R",
        "outputId": "b13c97e9-29cc-4ba5-e030-5977d7690419"
      },
      "source": [
        "df.head()"
      ],
      "execution_count": null,
      "outputs": [
        {
          "output_type": "execute_result",
          "data": {
            "text/html": [
              "<div>\n",
              "<style scoped>\n",
              "    .dataframe tbody tr th:only-of-type {\n",
              "        vertical-align: middle;\n",
              "    }\n",
              "\n",
              "    .dataframe tbody tr th {\n",
              "        vertical-align: top;\n",
              "    }\n",
              "\n",
              "    .dataframe thead th {\n",
              "        text-align: right;\n",
              "    }\n",
              "</style>\n",
              "<table border=\"1\" class=\"dataframe\">\n",
              "  <thead>\n",
              "    <tr style=\"text-align: right;\">\n",
              "      <th></th>\n",
              "      <th>label</th>\n",
              "      <th>translated_value</th>\n",
              "      <th>lower</th>\n",
              "    </tr>\n",
              "  </thead>\n",
              "  <tbody>\n",
              "    <tr>\n",
              "      <th>0</th>\n",
              "      <td>0.0</td>\n",
              "      <td>steevejoseph</td>\n",
              "      <td>steevejoseph</td>\n",
              "    </tr>\n",
              "    <tr>\n",
              "      <th>1</th>\n",
              "      <td>0.0</td>\n",
              "      <td>Aghnashini</td>\n",
              "      <td>aghnashini</td>\n",
              "    </tr>\n",
              "    <tr>\n",
              "      <th>2</th>\n",
              "      <td>0.0</td>\n",
              "      <td>ayyo pavam kuchu enthelum patelum pattiyo entho</td>\n",
              "      <td>ayyo pavam kuchu enthelum patelum pattiyo entho</td>\n",
              "    </tr>\n",
              "    <tr>\n",
              "      <th>3</th>\n",
              "      <td>0.0</td>\n",
              "      <td>Brag</td>\n",
              "      <td>brag</td>\n",
              "    </tr>\n",
              "    <tr>\n",
              "      <th>4</th>\n",
              "      <td>0.0</td>\n",
              "      <td>Reponguz</td>\n",
              "      <td>reponguz</td>\n",
              "    </tr>\n",
              "  </tbody>\n",
              "</table>\n",
              "</div>"
            ],
            "text/plain": [
              "   label  ...                                            lower\n",
              "0    0.0  ...                                     steevejoseph\n",
              "1    0.0  ...                                       aghnashini\n",
              "2    0.0  ...  ayyo pavam kuchu enthelum patelum pattiyo entho\n",
              "3    0.0  ...                                             brag\n",
              "4    0.0  ...                                         reponguz\n",
              "\n",
              "[5 rows x 3 columns]"
            ]
          },
          "metadata": {},
          "execution_count": 9
        }
      ]
    },
    {
      "cell_type": "markdown",
      "metadata": {
        "id": "fS3UIX1un5qf"
      },
      "source": [
        "# Spell correction"
      ]
    },
    {
      "cell_type": "code",
      "metadata": {
        "id": "YZI_xuF8C4c9"
      },
      "source": [
        "from textblob import TextBlob\n",
        "def spell_correct(df):\n",
        "   \n",
        "    \n",
        "    # Convert text to lowercase\n",
        "    df['spell_corrected'] = TextBlob(df['translated_value'].to_string()).correct()\n",
        "    return df"
      ],
      "execution_count": null,
      "outputs": []
    },
    {
      "cell_type": "code",
      "metadata": {
        "id": "uN8J-s_LDdgA"
      },
      "source": [
        "df2 = spell_correct(df)"
      ],
      "execution_count": null,
      "outputs": []
    },
    {
      "cell_type": "code",
      "metadata": {
        "id": "Zdnj5IczBLAW"
      },
      "source": [
        "import preprocessor as p\n",
        "for i,v in enumerate(df['translated_value']):\n",
        "    tweets.loc[v,’text’] = p.clean(i)"
      ],
      "execution_count": null,
      "outputs": []
    },
    {
      "cell_type": "code",
      "metadata": {
        "id": "JudTtFZcAtSq"
      },
      "source": [
        "from textblob.en import Spelling        \n",
        "import re\n",
        "\n",
        "textToLower = \"\"\n",
        "\n",
        "with open(\"originOfSpecies.txt\",\"r\") as f1:           # Open our source file\n",
        "\ttext = f1.read()                                  # Read the file                 \n",
        "\ttextToLower = text.lower()                        # Lower all the capital letters\n",
        "\n",
        "words = re.findall(\"[a-z]+\", textToLower)             # Find all the words and place them into a list    \n",
        "oneString = \" \".join(words)                           # Join them into one string\n",
        "\n",
        "pathToFile = df['lower']                           # The path we want to store our stats file at\n",
        "spelling = Spelling(path = pathToFile)                # Connect the path to the Spelling object\n",
        "spelling.train(oneString, pathToFile)  "
      ],
      "execution_count": null,
      "outputs": []
    },
    {
      "cell_type": "markdown",
      "metadata": {
        "id": "AeB5H03CTjHI"
      },
      "source": [
        "# remove stop words"
      ]
    },
    {
      "cell_type": "code",
      "metadata": {
        "colab": {
          "base_uri": "https://localhost:8080/",
          "height": 237
        },
        "id": "wEYDLWFNTwBE",
        "outputId": "5c571ecf-1022-4099-b138-797a1e59db09"
      },
      "source": [
        "stop_words={‘ourselves’, ‘hers’, ‘between’, ‘yourself’, ‘but’, ‘again’, ‘there’, ‘about’, ‘once’, ‘during’, ‘out’, ‘very’, ‘having’, ‘with’, ‘they’, ‘own’, ‘an’, ‘be’, ‘some’, ‘for’, ‘do’, ‘its’, ‘yours’, ‘such’, ‘into’, ‘of’, ‘most’, ‘itself’, ‘other’, ‘off’, ‘is’, ‘am’, ‘or’, ‘who’, ‘as’, ‘from’, ‘him’, ‘each’, ‘the’, ‘themselves’, ‘until’, ‘below’, ‘are’, ‘we’, ‘these’, ‘your’, ‘his’, ‘through’, ‘don’, ‘me’, ‘were’, ‘her’, ‘more’, ‘himself’, ‘this’, ‘down’, ‘should’, ‘our’, ‘their’, ‘while’, ‘above’, ‘both’, ‘up’, ‘to’, ‘ours’, ‘had’, ‘she’, ‘all’, ‘when’, ‘at’, ‘any’, ‘before’, ‘them’, ‘same’, ‘and’, ‘been’, ‘have’, ‘in’, ‘will’, ‘on’, ‘does’, ‘yourselves’, ‘then’, ‘that’, ‘because’, ‘what’, ‘over’, ‘why’, ‘so’, ‘can’, ‘did’, ‘now’, ‘under’, ‘he’, ‘you’, ‘herself’, ‘has’, ‘just’, ‘where’, ‘too’, ‘only’, ‘myself’, ‘which’, ‘those’, ‘i’, ‘after’, ‘few’, ‘whom’, ‘t’ , ‘if’ ,‘theirs’, ‘my’, ‘against’, ‘a’, ‘by’, ‘doing’, ‘it’, ‘how’, ‘further’, ‘was’, ‘here’, ‘than’}"
      ],
      "execution_count": null,
      "outputs": [
        {
          "output_type": "error",
          "ename": "SyntaxError",
          "evalue": "ignored",
          "traceback": [
            "\u001b[0;36m  File \u001b[0;32m\"<ipython-input-17-166224916b2e>\"\u001b[0;36m, line \u001b[0;32m1\u001b[0m\n\u001b[0;31m    stop_words={‘ourselves’, ‘hers’, ‘between’, ‘yourself’, ‘but’, ‘again’, ‘there’, ‘about’, ‘once’, ‘during’, ‘out’, ‘very’, ‘having’, ‘with’, ‘they’, ‘own’, ‘an’, ‘be’, ‘some’, ‘for’, ‘do’, ‘its’, ‘yours’, ‘such’, ‘into’, ‘of’, ‘most’, ‘itself’, ‘other’, ‘off’, ‘is’, ‘am’, ‘or’, ‘who’, ‘as’, ‘from’, ‘him’, ‘each’, ‘the’, ‘themselves’, ‘until’, ‘below’, ‘are’, ‘we’, ‘these’, ‘your’, ‘his’, ‘through’, ‘don’, ‘me’, ‘were’, ‘her’, ‘more’, ‘himself’, ‘this’, ‘down’, ‘should’, ‘our’, ‘their’, ‘while’, ‘above’, ‘both’, ‘up’, ‘to’, ‘ours’, ‘had’, ‘she’, ‘all’, ‘when’, ‘at’, ‘any’, ‘before’, ‘them’, ‘same’, ‘and’, ‘been’, ‘have’, ‘in’, ‘will’, ‘on’, ‘does’, ‘yourselves’, ‘then’, ‘that’, ‘because’, ‘what’, ‘over’, ‘why’, ‘so’, ‘can’, ‘did’, ‘now’, ‘under’, ‘he’, ‘you’, ‘herself’, ‘has’, ‘just’, ‘where’, ‘too’, ‘only’, ‘myself’, ‘which’, ‘those’, ‘i’, ‘after’, ‘few’, ‘whom’, ‘t’ , ‘if’ ,‘theirs’, ‘my’, ‘against’, ‘a’, ‘by’, ‘doing’, ‘it’, ‘how’, ‘further’, ‘was’, ‘here’, ‘than’}\u001b[0m\n\u001b[0m                          ^\u001b[0m\n\u001b[0;31mSyntaxError\u001b[0m\u001b[0;31m:\u001b[0m invalid character in identifier\n"
          ]
        }
      ]
    },
    {
      "cell_type": "markdown",
      "metadata": {
        "id": "WfDYAPnZXHxf"
      },
      "source": [
        "# Model Application\n"
      ]
    },
    {
      "cell_type": "code",
      "metadata": {
        "id": "BtF2yUybdeXt"
      },
      "source": [
        "dff = df.drop(['label'], axis = 1)"
      ],
      "execution_count": null,
      "outputs": []
    },
    {
      "cell_type": "code",
      "metadata": {
        "id": "EKJdG_X2ebg6"
      },
      "source": [
        "X_temp, X_test, y_temp, y_test = train_test_split(dff, list(df.label), test_size=0.2)"
      ],
      "execution_count": null,
      "outputs": []
    },
    {
      "cell_type": "code",
      "metadata": {
        "colab": {
          "base_uri": "https://localhost:8080/"
        },
        "id": "wOLgoo9qeeD9",
        "outputId": "95a2523a-9501-4798-8422-e8fe34cff213"
      },
      "source": [
        "X_test.shape, X_temp.shape, len(y_test), len(y_temp)"
      ],
      "execution_count": null,
      "outputs": [
        {
          "output_type": "execute_result",
          "data": {
            "text/plain": [
              "((26153, 1), (104612, 1), 26153, 104612)"
            ]
          },
          "metadata": {},
          "execution_count": 20
        }
      ]
    },
    {
      "cell_type": "code",
      "metadata": {
        "id": "3lsh3tK8eh7B"
      },
      "source": [
        "X_temp['label'] = y_temp"
      ],
      "execution_count": null,
      "outputs": []
    },
    {
      "cell_type": "code",
      "metadata": {
        "colab": {
          "base_uri": "https://localhost:8080/",
          "height": 206
        },
        "id": "VBq_uIIHej4A",
        "outputId": "2567217d-34c0-40af-8d57-3354183511db"
      },
      "source": [
        "X_temp.head()"
      ],
      "execution_count": null,
      "outputs": [
        {
          "output_type": "execute_result",
          "data": {
            "text/html": [
              "<div>\n",
              "<style scoped>\n",
              "    .dataframe tbody tr th:only-of-type {\n",
              "        vertical-align: middle;\n",
              "    }\n",
              "\n",
              "    .dataframe tbody tr th {\n",
              "        vertical-align: top;\n",
              "    }\n",
              "\n",
              "    .dataframe thead th {\n",
              "        text-align: right;\n",
              "    }\n",
              "</style>\n",
              "<table border=\"1\" class=\"dataframe\">\n",
              "  <thead>\n",
              "    <tr style=\"text-align: right;\">\n",
              "      <th></th>\n",
              "      <th>translated_value</th>\n",
              "      <th>label</th>\n",
              "    </tr>\n",
              "  </thead>\n",
              "  <tbody>\n",
              "    <tr>\n",
              "      <th>86115</th>\n",
              "      <td>the end of raj up</td>\n",
              "      <td>0.0</td>\n",
              "    </tr>\n",
              "    <tr>\n",
              "      <th>84170</th>\n",
              "      <td>My illness is that in the morning, light looks...</td>\n",
              "      <td>0.0</td>\n",
              "    </tr>\n",
              "    <tr>\n",
              "      <th>12165</th>\n",
              "      <td>Muthai Chechi Poliyaanu Mutidippanu Chankidipa...</td>\n",
              "      <td>0.0</td>\n",
              "    </tr>\n",
              "    <tr>\n",
              "      <th>126822</th>\n",
              "      <td>i love you</td>\n",
              "      <td>0.0</td>\n",
              "    </tr>\n",
              "    <tr>\n",
              "      <th>130327</th>\n",
              "      <td>xxx video xxxx</td>\n",
              "      <td>1.0</td>\n",
              "    </tr>\n",
              "  </tbody>\n",
              "</table>\n",
              "</div>"
            ],
            "text/plain": [
              "                                         translated_value  label\n",
              "86115                                   the end of raj up    0.0\n",
              "84170   My illness is that in the morning, light looks...    0.0\n",
              "12165   Muthai Chechi Poliyaanu Mutidippanu Chankidipa...    0.0\n",
              "126822                                         i love you    0.0\n",
              "130327                                     xxx video xxxx    1.0"
            ]
          },
          "metadata": {},
          "execution_count": 23
        }
      ]
    },
    {
      "cell_type": "code",
      "metadata": {
        "colab": {
          "base_uri": "https://localhost:8080/"
        },
        "id": "udQ3f4kgelgi",
        "outputId": "6b3623fa-9355-4053-c06f-e8a8aedcfbfe"
      },
      "source": [
        "zero = X_temp[X_temp['label'] == 0]\n",
        "zero.shape[0]"
      ],
      "execution_count": null,
      "outputs": [
        {
          "output_type": "execute_result",
          "data": {
            "text/plain": [
              "72840"
            ]
          },
          "metadata": {},
          "execution_count": 24
        }
      ]
    },
    {
      "cell_type": "code",
      "metadata": {
        "colab": {
          "base_uri": "https://localhost:8080/"
        },
        "id": "emZSMpT2esKH",
        "outputId": "184db51d-7d86-41ae-b196-b31f40c05b5a"
      },
      "source": [
        "one = X_temp[X_temp['label'] == 1]\n",
        "one.shape[0]"
      ],
      "execution_count": null,
      "outputs": [
        {
          "output_type": "execute_result",
          "data": {
            "text/plain": [
              "31772"
            ]
          },
          "metadata": {},
          "execution_count": 25
        }
      ]
    },
    {
      "cell_type": "code",
      "metadata": {
        "id": "aSlVp87Le5NP"
      },
      "source": [
        "ds = pd.concat([zero,one], axis = 0)"
      ],
      "execution_count": null,
      "outputs": []
    },
    {
      "cell_type": "code",
      "metadata": {
        "colab": {
          "base_uri": "https://localhost:8080/",
          "height": 424
        },
        "id": "ImYcnYpJfBbE",
        "outputId": "5ee27e98-f3eb-454c-96e5-35f9cbb92c77"
      },
      "source": [
        "\n",
        "ds"
      ],
      "execution_count": null,
      "outputs": [
        {
          "output_type": "execute_result",
          "data": {
            "text/html": [
              "<div>\n",
              "<style scoped>\n",
              "    .dataframe tbody tr th:only-of-type {\n",
              "        vertical-align: middle;\n",
              "    }\n",
              "\n",
              "    .dataframe tbody tr th {\n",
              "        vertical-align: top;\n",
              "    }\n",
              "\n",
              "    .dataframe thead th {\n",
              "        text-align: right;\n",
              "    }\n",
              "</style>\n",
              "<table border=\"1\" class=\"dataframe\">\n",
              "  <thead>\n",
              "    <tr style=\"text-align: right;\">\n",
              "      <th></th>\n",
              "      <th>translated_value</th>\n",
              "      <th>label</th>\n",
              "    </tr>\n",
              "  </thead>\n",
              "  <tbody>\n",
              "    <tr>\n",
              "      <th>86115</th>\n",
              "      <td>the end of raj up</td>\n",
              "      <td>0.0</td>\n",
              "    </tr>\n",
              "    <tr>\n",
              "      <th>84170</th>\n",
              "      <td>My illness is that in the morning, light looks...</td>\n",
              "      <td>0.0</td>\n",
              "    </tr>\n",
              "    <tr>\n",
              "      <th>12165</th>\n",
              "      <td>Muthai Chechi Poliyaanu Mutidippanu Chankidipa...</td>\n",
              "      <td>0.0</td>\n",
              "    </tr>\n",
              "    <tr>\n",
              "      <th>126822</th>\n",
              "      <td>i love you</td>\n",
              "      <td>0.0</td>\n",
              "    </tr>\n",
              "    <tr>\n",
              "      <th>2713</th>\n",
              "      <td>vera onninnum alla</td>\n",
              "      <td>0.0</td>\n",
              "    </tr>\n",
              "    <tr>\n",
              "      <th>...</th>\n",
              "      <td>...</td>\n",
              "      <td>...</td>\n",
              "    </tr>\n",
              "    <tr>\n",
              "      <th>126918</th>\n",
              "      <td>Give it</td>\n",
              "      <td>1.0</td>\n",
              "    </tr>\n",
              "    <tr>\n",
              "      <th>62177</th>\n",
              "      <td>Take some sense</td>\n",
              "      <td>1.0</td>\n",
              "    </tr>\n",
              "    <tr>\n",
              "      <th>72763</th>\n",
              "      <td>Lund killed by body</td>\n",
              "      <td>1.0</td>\n",
              "    </tr>\n",
              "    <tr>\n",
              "      <th>56353</th>\n",
              "      <td>deepak joshi madchod</td>\n",
              "      <td>1.0</td>\n",
              "    </tr>\n",
              "    <tr>\n",
              "      <th>59389</th>\n",
              "      <td>Aara crazy tara buff is very much, you leave h...</td>\n",
              "      <td>1.0</td>\n",
              "    </tr>\n",
              "  </tbody>\n",
              "</table>\n",
              "<p>104612 rows × 2 columns</p>\n",
              "</div>"
            ],
            "text/plain": [
              "                                         translated_value  label\n",
              "86115                                   the end of raj up    0.0\n",
              "84170   My illness is that in the morning, light looks...    0.0\n",
              "12165   Muthai Chechi Poliyaanu Mutidippanu Chankidipa...    0.0\n",
              "126822                                         i love you    0.0\n",
              "2713                                   vera onninnum alla    0.0\n",
              "...                                                   ...    ...\n",
              "126918                                            Give it    1.0\n",
              "62177                                     Take some sense    1.0\n",
              "72763                                 Lund killed by body    1.0\n",
              "56353                                deepak joshi madchod    1.0\n",
              "59389   Aara crazy tara buff is very much, you leave h...    1.0\n",
              "\n",
              "[104612 rows x 2 columns]"
            ]
          },
          "metadata": {},
          "execution_count": 28
        }
      ]
    },
    {
      "cell_type": "code",
      "metadata": {
        "colab": {
          "base_uri": "https://localhost:8080/"
        },
        "id": "UNXLEkvUfDIn",
        "outputId": "fd5e2067-eed5-406e-fe92-9904b002e4cf"
      },
      "source": [
        "testdf = X_test\n",
        "testdf['label'] = y_test\n",
        "testdf.shape"
      ],
      "execution_count": null,
      "outputs": [
        {
          "output_type": "execute_result",
          "data": {
            "text/plain": [
              "(26153, 2)"
            ]
          },
          "metadata": {},
          "execution_count": 29
        }
      ]
    },
    {
      "cell_type": "code",
      "metadata": {
        "colab": {
          "base_uri": "https://localhost:8080/"
        },
        "id": "rqE9V4-yfGg6",
        "outputId": "c2b979b3-f9fe-4c57-fbf6-26bf5f70bb47"
      },
      "source": [
        "len(testdf[testdf['label']==0]),len(testdf[testdf['label']==1])"
      ],
      "execution_count": null,
      "outputs": [
        {
          "output_type": "execute_result",
          "data": {
            "text/plain": [
              "(18272, 7881)"
            ]
          },
          "metadata": {},
          "execution_count": 30
        }
      ]
    },
    {
      "cell_type": "code",
      "metadata": {
        "id": "AfS9rDO_fLQu"
      },
      "source": [
        "ds = pd.concat([ds, testdf], axis = 0)"
      ],
      "execution_count": null,
      "outputs": []
    },
    {
      "cell_type": "code",
      "metadata": {
        "colab": {
          "base_uri": "https://localhost:8080/"
        },
        "id": "cq_-CUcofM9f",
        "outputId": "2e2db30f-d71e-4111-a2db-0228e379d8f1"
      },
      "source": [
        "ds[ds['label']==0].shape, ds[ds['label']==1].shape"
      ],
      "execution_count": null,
      "outputs": [
        {
          "output_type": "execute_result",
          "data": {
            "text/plain": [
              "((91112, 2), (39653, 2))"
            ]
          },
          "metadata": {},
          "execution_count": 32
        }
      ]
    },
    {
      "cell_type": "code",
      "metadata": {
        "id": "jrVm8R3wfTlj"
      },
      "source": [
        "corpus = []\n",
        "for i in range(ds.shape[0]):\n",
        "    corpus.append(ds.iloc[i][0])"
      ],
      "execution_count": null,
      "outputs": []
    },
    {
      "cell_type": "markdown",
      "metadata": {
        "id": "LbT2bB8BhCzS"
      },
      "source": [
        "# Creating BOW"
      ]
    },
    {
      "cell_type": "code",
      "metadata": {
        "id": "d2fQ3UrPhFGv",
        "colab": {
          "base_uri": "https://localhost:8080/"
        },
        "outputId": "361c5a82-d4e7-4846-f449-f2c970d7d212"
      },
      "source": [
        "vectorizer_train = CountVectorizer(max_features=1000)\n",
        "vocabulary_train = vectorizer_train.fit_transform(corpus)\n",
        "bow = pd.DataFrame(vocabulary_train.toarray(), columns = vectorizer_train.get_feature_names())"
      ],
      "execution_count": null,
      "outputs": [
        {
          "output_type": "stream",
          "name": "stderr",
          "text": [
            "/usr/local/lib/python3.7/dist-packages/sklearn/utils/deprecation.py:87: FutureWarning: Function get_feature_names is deprecated; get_feature_names is deprecated in 1.0 and will be removed in 1.2. Please use get_feature_names_out instead.\n",
            "  warnings.warn(msg, category=FutureWarning)\n"
          ]
        }
      ]
    },
    {
      "cell_type": "code",
      "metadata": {
        "id": "GH9dgepthFJq"
      },
      "source": [
        "bow['labelxyz'] = list(ds.label)"
      ],
      "execution_count": null,
      "outputs": []
    },
    {
      "cell_type": "code",
      "metadata": {
        "id": "EAomfPhhhFMr"
      },
      "source": [
        "bow_zero = bow[bow.labelxyz == 0]\n",
        "bow_one = bow[bow.labelxyz == 1]\n",
        "\n",
        "X_train_zero = bow_zero.sample(frac=0.8, random_state=0)\n",
        "X_test_zero = bow_zero.drop(X_train_zero.index)\n",
        "X_train_one = bow_one.sample(frac=0.8, random_state=0)\n",
        "X_test_one = bow_one.drop(X_train_one.index)\n",
        "\n",
        "X_train_df = pd.concat([X_train_zero, X_train_one], axis = 0)\n",
        "bow_train = X_train_df.drop(['labelxyz'], axis = 1)\n",
        "y_train = list(X_train_df.labelxyz)\n",
        "X_test_df = pd.concat([X_test_zero, X_test_one], axis = 0)\n",
        "bow_test = X_test_df.drop(['labelxyz'], axis = 1)\n",
        "y_test = list(X_test_df.labelxyz)"
      ],
      "execution_count": null,
      "outputs": []
    },
    {
      "cell_type": "markdown",
      "metadata": {
        "id": "LFnbOU11gl09"
      },
      "source": [
        "# Building ML models"
      ]
    },
    {
      "cell_type": "code",
      "metadata": {
        "id": "d74V_hdOgirz"
      },
      "source": [
        "from sklearn.linear_model import LogisticRegression\n",
        "from sklearn.naive_bayes import GaussianNB\n",
        "from sklearn.ensemble import RandomForestClassifier\n",
        "from sklearn.tree import DecisionTreeClassifier\n",
        "from sklearn.neighbors import KNeighborsClassifier\n",
        "from sklearn.ensemble import GradientBoostingClassifier\n",
        "\n",
        "from sklearn import metrics\n",
        "import matplotlib.pyplot as plt\n",
        "%matplotlib inline\n",
        "from sklearn.metrics import plot_confusion_matrix\n",
        "from sklearn.metrics import precision_score, recall_score, f1_score\n",
        "import seaborn as sns"
      ],
      "execution_count": null,
      "outputs": []
    },
    {
      "cell_type": "code",
      "metadata": {
        "id": "Omu_roTWgouE"
      },
      "source": [
        "model = ['LR','RF','DT','KN','GB']\n",
        "accuracy = {'BOW':[]}"
      ],
      "execution_count": null,
      "outputs": []
    },
    {
      "cell_type": "code",
      "metadata": {
        "id": "SjjN-xJoyTjm"
      },
      "source": [
        "model2 = ['LR','RF','DT','KN','GB']\n",
        "accuracy = {'BOW':[0.8300]}"
      ],
      "execution_count": null,
      "outputs": []
    },
    {
      "cell_type": "markdown",
      "metadata": {
        "id": "YBPnt_ANguSS"
      },
      "source": [
        "## Logistic Regression"
      ]
    },
    {
      "cell_type": "code",
      "metadata": {
        "colab": {
          "base_uri": "https://localhost:8080/"
        },
        "id": "zoe1TvgciLUU",
        "outputId": "a95ab8fb-24a8-4f2f-d1a9-cebe2c2b24c8"
      },
      "source": [
        "#BOW\n",
        "regressor_LR_bow = LogisticRegression(C= 1.0, penalty='l2', solver= 'liblinear')\n",
        "regressor_LR_bow.fit(bow_train,y_train)\n",
        "y_predict_LR_bow = regressor_LR_bow.predict(bow_test)\n",
        "a=(regressor_LR_bow.score(bow_test,y_test))\n",
        "accuracy['BOW'].append(a)\n",
        "print(metrics.confusion_matrix(y_test, y_predict_LR_bow))\n",
        "print(metrics.classification_report(y_test, y_predict_LR_bow))\n",
        "print(metrics.accuracy_score(y_test, y_predict_LR_bow))"
      ],
      "execution_count": null,
      "outputs": [
        {
          "output_type": "stream",
          "name": "stdout",
          "text": [
            "[[17309   913]\n",
            " [ 3622  4309]]\n",
            "              precision    recall  f1-score   support\n",
            "\n",
            "         0.0       0.83      0.95      0.88     18222\n",
            "         1.0       0.83      0.54      0.66      7931\n",
            "\n",
            "    accuracy                           0.83     26153\n",
            "   macro avg       0.83      0.75      0.77     26153\n",
            "weighted avg       0.83      0.83      0.81     26153\n",
            "\n",
            "0.8265973310901235\n"
          ]
        }
      ]
    },
    {
      "cell_type": "markdown",
      "metadata": {
        "id": "x3RKUmJcGOOA"
      },
      "source": [
        "## Random Forest"
      ]
    },
    {
      "cell_type": "code",
      "metadata": {
        "colab": {
          "base_uri": "https://localhost:8080/"
        },
        "id": "lhXT_HTEGPwl",
        "outputId": "ec3f1ef2-3151-4bba-9e99-07f76e176a1d"
      },
      "source": [
        "#BOW\n",
        "model_RF_bow = RandomForestClassifier(max_features='sqrt', n_estimators= 100)\n",
        "model_RF_bow.fit(bow_train,y_train)\n",
        "y_predict_RF_bow = model_RF_bow.predict(bow_test)\n",
        "a=(model_RF_bow.score(bow_test,y_test))\n",
        "accuracy['BOW'].append(a)\n",
        "print(metrics.confusion_matrix(y_test, y_predict_RF_bow))\n",
        "print(metrics.classification_report(y_test, y_predict_RF_bow))\n",
        "print(metrics.accuracy_score(y_test, y_predict_RF_bow))"
      ],
      "execution_count": null,
      "outputs": [
        {
          "output_type": "stream",
          "name": "stdout",
          "text": [
            "[[16505  1717]\n",
            " [ 3081  4850]]\n",
            "              precision    recall  f1-score   support\n",
            "\n",
            "         0.0       0.84      0.91      0.87     18222\n",
            "         1.0       0.74      0.61      0.67      7931\n",
            "\n",
            "    accuracy                           0.82     26153\n",
            "   macro avg       0.79      0.76      0.77     26153\n",
            "weighted avg       0.81      0.82      0.81     26153\n",
            "\n",
            "0.8165411233892861\n"
          ]
        }
      ]
    },
    {
      "cell_type": "markdown",
      "metadata": {
        "id": "u4Uqs-pEG7sR"
      },
      "source": [
        "## Decision Tree"
      ]
    },
    {
      "cell_type": "code",
      "metadata": {
        "colab": {
          "base_uri": "https://localhost:8080/"
        },
        "id": "gyKNZSwaGsQ_",
        "outputId": "5795e152-0f22-481d-8651-084451b2f2f7"
      },
      "source": [
        "model_DT_bow = DecisionTreeClassifier(criterion= 'gini', max_depth= 2) \n",
        "model_DT_bow.fit(bow_train,y_train)\n",
        "y_predict_DT_bow = model_DT_bow.predict(bow_test)\n",
        "a=(model_DT_bow.score(bow_test,y_test))\n",
        "accuracy['BOW'].append(a)\n",
        "print(metrics.confusion_matrix(y_test, y_predict_DT_bow))\n",
        "print(metrics.classification_report(y_test, y_predict_DT_bow))\n",
        "print(metrics.accuracy_score(y_test, y_predict_DT_bow))"
      ],
      "execution_count": null,
      "outputs": [
        {
          "output_type": "stream",
          "name": "stdout",
          "text": [
            "[[17273   949]\n",
            " [ 6858  1073]]\n",
            "              precision    recall  f1-score   support\n",
            "\n",
            "         0.0       0.72      0.95      0.82     18222\n",
            "         1.0       0.53      0.14      0.22      7931\n",
            "\n",
            "    accuracy                           0.70     26153\n",
            "   macro avg       0.62      0.54      0.52     26153\n",
            "weighted avg       0.66      0.70      0.63     26153\n",
            "\n",
            "0.7014874010629756\n"
          ]
        }
      ]
    },
    {
      "cell_type": "markdown",
      "metadata": {
        "id": "fVhrmhG7Rrzg"
      },
      "source": [
        "## K neighbors"
      ]
    },
    {
      "cell_type": "code",
      "metadata": {
        "colab": {
          "base_uri": "https://localhost:8080/"
        },
        "id": "SFVULWyhHKl1",
        "outputId": "f1ecfa47-c7bb-4eef-e402-ca3a7cef3429"
      },
      "source": [
        "#BOW\n",
        "model_KN_bow = KNeighborsClassifier(metric= 'euclidean', n_neighbors= 19, weights= 'distance') \n",
        "model_KN_bow.fit(bow_train,y_train)\n",
        "y_predict_KN_bow = model_KN_bow.predict(bow_test)\n",
        "a=(model_KN_bow.score(bow_test,y_test))\n",
        "accuracy['BOW'].append(a)\n",
        "print(metrics.confusion_matrix(y_test, y_predict_KN_bow))\n",
        "print(metrics.classification_report(y_test, y_predict_KN_bow))\n",
        "print(metrics.accuracy_score(y_test, y_predict_KN_bow))"
      ],
      "execution_count": null,
      "outputs": [
        {
          "output_type": "stream",
          "name": "stdout",
          "text": [
            "[[17265   957]\n",
            " [ 4765  3166]]\n",
            "              precision    recall  f1-score   support\n",
            "\n",
            "         0.0       0.78      0.95      0.86     18222\n",
            "         1.0       0.77      0.40      0.53      7931\n",
            "\n",
            "    accuracy                           0.78     26153\n",
            "   macro avg       0.78      0.67      0.69     26153\n",
            "weighted avg       0.78      0.78      0.76     26153\n",
            "\n",
            "0.7812105685772187\n"
          ]
        }
      ]
    },
    {
      "cell_type": "markdown",
      "metadata": {
        "id": "xo0kZ0coSlT7"
      },
      "source": [
        "## Gradient Boosting"
      ]
    },
    {
      "cell_type": "code",
      "metadata": {
        "colab": {
          "base_uri": "https://localhost:8080/"
        },
        "id": "-zwSVaTASa0p",
        "outputId": "96e02103-bfe4-4ac1-d700-7decd1498c56"
      },
      "source": [
        "#BOW\n",
        "model_GB_bow = GradientBoostingClassifier(learning_rate= 0.1, max_depth= 3, n_estimators= 100, subsample= 1.0)\n",
        "model_GB_bow.fit(bow_train,y_train)\n",
        "y_predict_GB_bow = model_GB_bow.predict(bow_test)\n",
        "a=(model_GB_bow.score(bow_test,y_test))\n",
        "accuracy['BOW'].append(a)\n",
        "print(metrics.confusion_matrix(y_test, y_predict_GB_bow))\n",
        "print(metrics.classification_report(y_test, y_predict_GB_bow))\n",
        "print(metrics.accuracy_score(y_test, y_predict_GB_bow))"
      ],
      "execution_count": null,
      "outputs": [
        {
          "output_type": "stream",
          "name": "stdout",
          "text": [
            "[[17888   334]\n",
            " [ 5585  2346]]\n",
            "              precision    recall  f1-score   support\n",
            "\n",
            "         0.0       0.76      0.98      0.86     18222\n",
            "         1.0       0.88      0.30      0.44      7931\n",
            "\n",
            "    accuracy                           0.77     26153\n",
            "   macro avg       0.82      0.64      0.65     26153\n",
            "weighted avg       0.80      0.77      0.73     26153\n",
            "\n",
            "0.7736779719343861\n"
          ]
        }
      ]
    },
    {
      "cell_type": "markdown",
      "metadata": {
        "id": "KYGB_VRZTW3D"
      },
      "source": [
        "## Evaluation"
      ]
    },
    {
      "cell_type": "code",
      "metadata": {
        "colab": {
          "base_uri": "https://localhost:8080/",
          "height": 206
        },
        "id": "4B2drXiSSzc0",
        "outputId": "277379c5-272a-4e3a-a46f-f282537c8673"
      },
      "source": [
        "data_bow = {'model':('LR-BoW','accuracy':accuracy['BOW']}\n",
        "compare_models_bow = pd.DataFrame(data_bow)\n",
        "compare_models_bow"
      ],
      "execution_count": null,
      "outputs": [
        {
          "output_type": "execute_result",
          "data": {
            "text/html": [
              "<div>\n",
              "<style scoped>\n",
              "    .dataframe tbody tr th:only-of-type {\n",
              "        vertical-align: middle;\n",
              "    }\n",
              "\n",
              "    .dataframe tbody tr th {\n",
              "        vertical-align: top;\n",
              "    }\n",
              "\n",
              "    .dataframe thead th {\n",
              "        text-align: right;\n",
              "    }\n",
              "</style>\n",
              "<table border=\"1\" class=\"dataframe\">\n",
              "  <thead>\n",
              "    <tr style=\"text-align: right;\">\n",
              "      <th></th>\n",
              "      <th>model</th>\n",
              "      <th>accuracy</th>\n",
              "    </tr>\n",
              "  </thead>\n",
              "  <tbody>\n",
              "    <tr>\n",
              "      <th>0</th>\n",
              "      <td>LR</td>\n",
              "      <td>0.826597</td>\n",
              "    </tr>\n",
              "    <tr>\n",
              "      <th>1</th>\n",
              "      <td>RF</td>\n",
              "      <td>0.701487</td>\n",
              "    </tr>\n",
              "    <tr>\n",
              "      <th>2</th>\n",
              "      <td>DT</td>\n",
              "      <td>0.781211</td>\n",
              "    </tr>\n",
              "    <tr>\n",
              "      <th>3</th>\n",
              "      <td>KN</td>\n",
              "      <td>0.773678</td>\n",
              "    </tr>\n",
              "    <tr>\n",
              "      <th>4</th>\n",
              "      <td>GB</td>\n",
              "      <td>0.816541</td>\n",
              "    </tr>\n",
              "  </tbody>\n",
              "</table>\n",
              "</div>"
            ],
            "text/plain": [
              "  model  accuracy\n",
              "0    LR  0.826597\n",
              "1    RF  0.701487\n",
              "2    DT  0.781211\n",
              "3    KN  0.773678\n",
              "4    GB  0.816541"
            ]
          },
          "metadata": {},
          "execution_count": 47
        }
      ]
    }
  ]
}