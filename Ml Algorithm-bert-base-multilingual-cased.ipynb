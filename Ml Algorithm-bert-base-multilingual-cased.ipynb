{
  "nbformat": 4,
  "nbformat_minor": 0,
  "metadata": {
    "colab": {
      "name": "27.ipynb",
      "provenance": [],
      "collapsed_sections": []
    },
    "kernelspec": {
      "name": "python3",
      "display_name": "Python 3"
    },
    "language_info": {
      "name": "python"
    },
    "widgets": {
      "application/vnd.jupyter.widget-state+json": {
        "4989221729e14409b0defa3776543b4e": {
          "model_module": "@jupyter-widgets/controls",
          "model_name": "HBoxModel",
          "model_module_version": "1.5.0",
          "state": {
            "_view_name": "HBoxView",
            "_dom_classes": [],
            "_model_name": "HBoxModel",
            "_view_module": "@jupyter-widgets/controls",
            "_model_module_version": "1.5.0",
            "_view_count": null,
            "_view_module_version": "1.5.0",
            "box_style": "",
            "layout": "IPY_MODEL_4bb7a1975fc34bbe89f5260e34657225",
            "_model_module": "@jupyter-widgets/controls",
            "children": [
              "IPY_MODEL_e54cfaac5a6947cea1593048a494aa9c",
              "IPY_MODEL_5d880e740d7b438993ebc37e210a7b1c",
              "IPY_MODEL_6149b7d80fa942dbba4cae4bcfabd1fd"
            ]
          }
        },
        "4bb7a1975fc34bbe89f5260e34657225": {
          "model_module": "@jupyter-widgets/base",
          "model_name": "LayoutModel",
          "model_module_version": "1.2.0",
          "state": {
            "_view_name": "LayoutView",
            "grid_template_rows": null,
            "right": null,
            "justify_content": null,
            "_view_module": "@jupyter-widgets/base",
            "overflow": null,
            "_model_module_version": "1.2.0",
            "_view_count": null,
            "flex_flow": null,
            "width": null,
            "min_width": null,
            "border": null,
            "align_items": null,
            "bottom": null,
            "_model_module": "@jupyter-widgets/base",
            "top": null,
            "grid_column": null,
            "overflow_y": null,
            "overflow_x": null,
            "grid_auto_flow": null,
            "grid_area": null,
            "grid_template_columns": null,
            "flex": null,
            "_model_name": "LayoutModel",
            "justify_items": null,
            "grid_row": null,
            "max_height": null,
            "align_content": null,
            "visibility": null,
            "align_self": null,
            "height": null,
            "min_height": null,
            "padding": null,
            "grid_auto_rows": null,
            "grid_gap": null,
            "max_width": null,
            "order": null,
            "_view_module_version": "1.2.0",
            "grid_template_areas": null,
            "object_position": null,
            "object_fit": null,
            "grid_auto_columns": null,
            "margin": null,
            "display": null,
            "left": null
          }
        },
        "e54cfaac5a6947cea1593048a494aa9c": {
          "model_module": "@jupyter-widgets/controls",
          "model_name": "HTMLModel",
          "model_module_version": "1.5.0",
          "state": {
            "_view_name": "HTMLView",
            "style": "IPY_MODEL_3bf916c6620f4df680adef9869065d51",
            "_dom_classes": [],
            "description": "",
            "_model_name": "HTMLModel",
            "placeholder": "​",
            "_view_module": "@jupyter-widgets/controls",
            "_model_module_version": "1.5.0",
            "value": "Downloading: 100%",
            "_view_count": null,
            "_view_module_version": "1.5.0",
            "description_tooltip": null,
            "_model_module": "@jupyter-widgets/controls",
            "layout": "IPY_MODEL_78eec7645af34e8d8e75f6432a7018fe"
          }
        },
        "5d880e740d7b438993ebc37e210a7b1c": {
          "model_module": "@jupyter-widgets/controls",
          "model_name": "FloatProgressModel",
          "model_module_version": "1.5.0",
          "state": {
            "_view_name": "ProgressView",
            "style": "IPY_MODEL_8f8719eeabd641cf9ef50b0f1885b780",
            "_dom_classes": [],
            "description": "",
            "_model_name": "FloatProgressModel",
            "bar_style": "success",
            "max": 995526,
            "_view_module": "@jupyter-widgets/controls",
            "_model_module_version": "1.5.0",
            "value": 995526,
            "_view_count": null,
            "_view_module_version": "1.5.0",
            "orientation": "horizontal",
            "min": 0,
            "description_tooltip": null,
            "_model_module": "@jupyter-widgets/controls",
            "layout": "IPY_MODEL_c88eead01b94475ea689c2fa5e0da531"
          }
        },
        "6149b7d80fa942dbba4cae4bcfabd1fd": {
          "model_module": "@jupyter-widgets/controls",
          "model_name": "HTMLModel",
          "model_module_version": "1.5.0",
          "state": {
            "_view_name": "HTMLView",
            "style": "IPY_MODEL_7d8a22d786944069b8ade0d62ecdf205",
            "_dom_classes": [],
            "description": "",
            "_model_name": "HTMLModel",
            "placeholder": "​",
            "_view_module": "@jupyter-widgets/controls",
            "_model_module_version": "1.5.0",
            "value": " 972k/972k [00:00&lt;00:00, 2.69MB/s]",
            "_view_count": null,
            "_view_module_version": "1.5.0",
            "description_tooltip": null,
            "_model_module": "@jupyter-widgets/controls",
            "layout": "IPY_MODEL_839b61cb356847a6a511f1bf3c28da44"
          }
        },
        "3bf916c6620f4df680adef9869065d51": {
          "model_module": "@jupyter-widgets/controls",
          "model_name": "DescriptionStyleModel",
          "model_module_version": "1.5.0",
          "state": {
            "_view_name": "StyleView",
            "_model_name": "DescriptionStyleModel",
            "description_width": "",
            "_view_module": "@jupyter-widgets/base",
            "_model_module_version": "1.5.0",
            "_view_count": null,
            "_view_module_version": "1.2.0",
            "_model_module": "@jupyter-widgets/controls"
          }
        },
        "78eec7645af34e8d8e75f6432a7018fe": {
          "model_module": "@jupyter-widgets/base",
          "model_name": "LayoutModel",
          "model_module_version": "1.2.0",
          "state": {
            "_view_name": "LayoutView",
            "grid_template_rows": null,
            "right": null,
            "justify_content": null,
            "_view_module": "@jupyter-widgets/base",
            "overflow": null,
            "_model_module_version": "1.2.0",
            "_view_count": null,
            "flex_flow": null,
            "width": null,
            "min_width": null,
            "border": null,
            "align_items": null,
            "bottom": null,
            "_model_module": "@jupyter-widgets/base",
            "top": null,
            "grid_column": null,
            "overflow_y": null,
            "overflow_x": null,
            "grid_auto_flow": null,
            "grid_area": null,
            "grid_template_columns": null,
            "flex": null,
            "_model_name": "LayoutModel",
            "justify_items": null,
            "grid_row": null,
            "max_height": null,
            "align_content": null,
            "visibility": null,
            "align_self": null,
            "height": null,
            "min_height": null,
            "padding": null,
            "grid_auto_rows": null,
            "grid_gap": null,
            "max_width": null,
            "order": null,
            "_view_module_version": "1.2.0",
            "grid_template_areas": null,
            "object_position": null,
            "object_fit": null,
            "grid_auto_columns": null,
            "margin": null,
            "display": null,
            "left": null
          }
        },
        "8f8719eeabd641cf9ef50b0f1885b780": {
          "model_module": "@jupyter-widgets/controls",
          "model_name": "ProgressStyleModel",
          "model_module_version": "1.5.0",
          "state": {
            "_view_name": "StyleView",
            "_model_name": "ProgressStyleModel",
            "description_width": "",
            "_view_module": "@jupyter-widgets/base",
            "_model_module_version": "1.5.0",
            "_view_count": null,
            "_view_module_version": "1.2.0",
            "bar_color": null,
            "_model_module": "@jupyter-widgets/controls"
          }
        },
        "c88eead01b94475ea689c2fa5e0da531": {
          "model_module": "@jupyter-widgets/base",
          "model_name": "LayoutModel",
          "model_module_version": "1.2.0",
          "state": {
            "_view_name": "LayoutView",
            "grid_template_rows": null,
            "right": null,
            "justify_content": null,
            "_view_module": "@jupyter-widgets/base",
            "overflow": null,
            "_model_module_version": "1.2.0",
            "_view_count": null,
            "flex_flow": null,
            "width": null,
            "min_width": null,
            "border": null,
            "align_items": null,
            "bottom": null,
            "_model_module": "@jupyter-widgets/base",
            "top": null,
            "grid_column": null,
            "overflow_y": null,
            "overflow_x": null,
            "grid_auto_flow": null,
            "grid_area": null,
            "grid_template_columns": null,
            "flex": null,
            "_model_name": "LayoutModel",
            "justify_items": null,
            "grid_row": null,
            "max_height": null,
            "align_content": null,
            "visibility": null,
            "align_self": null,
            "height": null,
            "min_height": null,
            "padding": null,
            "grid_auto_rows": null,
            "grid_gap": null,
            "max_width": null,
            "order": null,
            "_view_module_version": "1.2.0",
            "grid_template_areas": null,
            "object_position": null,
            "object_fit": null,
            "grid_auto_columns": null,
            "margin": null,
            "display": null,
            "left": null
          }
        },
        "7d8a22d786944069b8ade0d62ecdf205": {
          "model_module": "@jupyter-widgets/controls",
          "model_name": "DescriptionStyleModel",
          "model_module_version": "1.5.0",
          "state": {
            "_view_name": "StyleView",
            "_model_name": "DescriptionStyleModel",
            "description_width": "",
            "_view_module": "@jupyter-widgets/base",
            "_model_module_version": "1.5.0",
            "_view_count": null,
            "_view_module_version": "1.2.0",
            "_model_module": "@jupyter-widgets/controls"
          }
        },
        "839b61cb356847a6a511f1bf3c28da44": {
          "model_module": "@jupyter-widgets/base",
          "model_name": "LayoutModel",
          "model_module_version": "1.2.0",
          "state": {
            "_view_name": "LayoutView",
            "grid_template_rows": null,
            "right": null,
            "justify_content": null,
            "_view_module": "@jupyter-widgets/base",
            "overflow": null,
            "_model_module_version": "1.2.0",
            "_view_count": null,
            "flex_flow": null,
            "width": null,
            "min_width": null,
            "border": null,
            "align_items": null,
            "bottom": null,
            "_model_module": "@jupyter-widgets/base",
            "top": null,
            "grid_column": null,
            "overflow_y": null,
            "overflow_x": null,
            "grid_auto_flow": null,
            "grid_area": null,
            "grid_template_columns": null,
            "flex": null,
            "_model_name": "LayoutModel",
            "justify_items": null,
            "grid_row": null,
            "max_height": null,
            "align_content": null,
            "visibility": null,
            "align_self": null,
            "height": null,
            "min_height": null,
            "padding": null,
            "grid_auto_rows": null,
            "grid_gap": null,
            "max_width": null,
            "order": null,
            "_view_module_version": "1.2.0",
            "grid_template_areas": null,
            "object_position": null,
            "object_fit": null,
            "grid_auto_columns": null,
            "margin": null,
            "display": null,
            "left": null
          }
        },
        "28af440f3c4647188d7b9a2b3c1cd15f": {
          "model_module": "@jupyter-widgets/controls",
          "model_name": "HBoxModel",
          "model_module_version": "1.5.0",
          "state": {
            "_view_name": "HBoxView",
            "_dom_classes": [],
            "_model_name": "HBoxModel",
            "_view_module": "@jupyter-widgets/controls",
            "_model_module_version": "1.5.0",
            "_view_count": null,
            "_view_module_version": "1.5.0",
            "box_style": "",
            "layout": "IPY_MODEL_a3da057712c9401fa159e3af59c3d14a",
            "_model_module": "@jupyter-widgets/controls",
            "children": [
              "IPY_MODEL_8ddedaf996f540628fdc7fea82aa0303",
              "IPY_MODEL_2a068bd0de894568b4dff935768d904f",
              "IPY_MODEL_4c762c06044c4d1f95e7a8926250379b"
            ]
          }
        },
        "a3da057712c9401fa159e3af59c3d14a": {
          "model_module": "@jupyter-widgets/base",
          "model_name": "LayoutModel",
          "model_module_version": "1.2.0",
          "state": {
            "_view_name": "LayoutView",
            "grid_template_rows": null,
            "right": null,
            "justify_content": null,
            "_view_module": "@jupyter-widgets/base",
            "overflow": null,
            "_model_module_version": "1.2.0",
            "_view_count": null,
            "flex_flow": null,
            "width": null,
            "min_width": null,
            "border": null,
            "align_items": null,
            "bottom": null,
            "_model_module": "@jupyter-widgets/base",
            "top": null,
            "grid_column": null,
            "overflow_y": null,
            "overflow_x": null,
            "grid_auto_flow": null,
            "grid_area": null,
            "grid_template_columns": null,
            "flex": null,
            "_model_name": "LayoutModel",
            "justify_items": null,
            "grid_row": null,
            "max_height": null,
            "align_content": null,
            "visibility": null,
            "align_self": null,
            "height": null,
            "min_height": null,
            "padding": null,
            "grid_auto_rows": null,
            "grid_gap": null,
            "max_width": null,
            "order": null,
            "_view_module_version": "1.2.0",
            "grid_template_areas": null,
            "object_position": null,
            "object_fit": null,
            "grid_auto_columns": null,
            "margin": null,
            "display": null,
            "left": null
          }
        },
        "8ddedaf996f540628fdc7fea82aa0303": {
          "model_module": "@jupyter-widgets/controls",
          "model_name": "HTMLModel",
          "model_module_version": "1.5.0",
          "state": {
            "_view_name": "HTMLView",
            "style": "IPY_MODEL_b9e4996a672e46ce84cb1cb6a281e7de",
            "_dom_classes": [],
            "description": "",
            "_model_name": "HTMLModel",
            "placeholder": "​",
            "_view_module": "@jupyter-widgets/controls",
            "_model_module_version": "1.5.0",
            "value": "Downloading: 100%",
            "_view_count": null,
            "_view_module_version": "1.5.0",
            "description_tooltip": null,
            "_model_module": "@jupyter-widgets/controls",
            "layout": "IPY_MODEL_7d5a3ca5e6174ffcbc4d2c06f0560c20"
          }
        },
        "2a068bd0de894568b4dff935768d904f": {
          "model_module": "@jupyter-widgets/controls",
          "model_name": "FloatProgressModel",
          "model_module_version": "1.5.0",
          "state": {
            "_view_name": "ProgressView",
            "style": "IPY_MODEL_6aa1d0a003b145878290e460e3bbe651",
            "_dom_classes": [],
            "description": "",
            "_model_name": "FloatProgressModel",
            "bar_style": "success",
            "max": 29,
            "_view_module": "@jupyter-widgets/controls",
            "_model_module_version": "1.5.0",
            "value": 29,
            "_view_count": null,
            "_view_module_version": "1.5.0",
            "orientation": "horizontal",
            "min": 0,
            "description_tooltip": null,
            "_model_module": "@jupyter-widgets/controls",
            "layout": "IPY_MODEL_f3e0380d57584d2fac71a8bacd21a821"
          }
        },
        "4c762c06044c4d1f95e7a8926250379b": {
          "model_module": "@jupyter-widgets/controls",
          "model_name": "HTMLModel",
          "model_module_version": "1.5.0",
          "state": {
            "_view_name": "HTMLView",
            "style": "IPY_MODEL_bdf6feb72c0f4d71b4054ef7a72ecfda",
            "_dom_classes": [],
            "description": "",
            "_model_name": "HTMLModel",
            "placeholder": "​",
            "_view_module": "@jupyter-widgets/controls",
            "_model_module_version": "1.5.0",
            "value": " 29.0/29.0 [00:00&lt;00:00, 719B/s]",
            "_view_count": null,
            "_view_module_version": "1.5.0",
            "description_tooltip": null,
            "_model_module": "@jupyter-widgets/controls",
            "layout": "IPY_MODEL_131f6351e5b24a9e815620bbd8da6cb5"
          }
        },
        "b9e4996a672e46ce84cb1cb6a281e7de": {
          "model_module": "@jupyter-widgets/controls",
          "model_name": "DescriptionStyleModel",
          "model_module_version": "1.5.0",
          "state": {
            "_view_name": "StyleView",
            "_model_name": "DescriptionStyleModel",
            "description_width": "",
            "_view_module": "@jupyter-widgets/base",
            "_model_module_version": "1.5.0",
            "_view_count": null,
            "_view_module_version": "1.2.0",
            "_model_module": "@jupyter-widgets/controls"
          }
        },
        "7d5a3ca5e6174ffcbc4d2c06f0560c20": {
          "model_module": "@jupyter-widgets/base",
          "model_name": "LayoutModel",
          "model_module_version": "1.2.0",
          "state": {
            "_view_name": "LayoutView",
            "grid_template_rows": null,
            "right": null,
            "justify_content": null,
            "_view_module": "@jupyter-widgets/base",
            "overflow": null,
            "_model_module_version": "1.2.0",
            "_view_count": null,
            "flex_flow": null,
            "width": null,
            "min_width": null,
            "border": null,
            "align_items": null,
            "bottom": null,
            "_model_module": "@jupyter-widgets/base",
            "top": null,
            "grid_column": null,
            "overflow_y": null,
            "overflow_x": null,
            "grid_auto_flow": null,
            "grid_area": null,
            "grid_template_columns": null,
            "flex": null,
            "_model_name": "LayoutModel",
            "justify_items": null,
            "grid_row": null,
            "max_height": null,
            "align_content": null,
            "visibility": null,
            "align_self": null,
            "height": null,
            "min_height": null,
            "padding": null,
            "grid_auto_rows": null,
            "grid_gap": null,
            "max_width": null,
            "order": null,
            "_view_module_version": "1.2.0",
            "grid_template_areas": null,
            "object_position": null,
            "object_fit": null,
            "grid_auto_columns": null,
            "margin": null,
            "display": null,
            "left": null
          }
        },
        "6aa1d0a003b145878290e460e3bbe651": {
          "model_module": "@jupyter-widgets/controls",
          "model_name": "ProgressStyleModel",
          "model_module_version": "1.5.0",
          "state": {
            "_view_name": "StyleView",
            "_model_name": "ProgressStyleModel",
            "description_width": "",
            "_view_module": "@jupyter-widgets/base",
            "_model_module_version": "1.5.0",
            "_view_count": null,
            "_view_module_version": "1.2.0",
            "bar_color": null,
            "_model_module": "@jupyter-widgets/controls"
          }
        },
        "f3e0380d57584d2fac71a8bacd21a821": {
          "model_module": "@jupyter-widgets/base",
          "model_name": "LayoutModel",
          "model_module_version": "1.2.0",
          "state": {
            "_view_name": "LayoutView",
            "grid_template_rows": null,
            "right": null,
            "justify_content": null,
            "_view_module": "@jupyter-widgets/base",
            "overflow": null,
            "_model_module_version": "1.2.0",
            "_view_count": null,
            "flex_flow": null,
            "width": null,
            "min_width": null,
            "border": null,
            "align_items": null,
            "bottom": null,
            "_model_module": "@jupyter-widgets/base",
            "top": null,
            "grid_column": null,
            "overflow_y": null,
            "overflow_x": null,
            "grid_auto_flow": null,
            "grid_area": null,
            "grid_template_columns": null,
            "flex": null,
            "_model_name": "LayoutModel",
            "justify_items": null,
            "grid_row": null,
            "max_height": null,
            "align_content": null,
            "visibility": null,
            "align_self": null,
            "height": null,
            "min_height": null,
            "padding": null,
            "grid_auto_rows": null,
            "grid_gap": null,
            "max_width": null,
            "order": null,
            "_view_module_version": "1.2.0",
            "grid_template_areas": null,
            "object_position": null,
            "object_fit": null,
            "grid_auto_columns": null,
            "margin": null,
            "display": null,
            "left": null
          }
        },
        "bdf6feb72c0f4d71b4054ef7a72ecfda": {
          "model_module": "@jupyter-widgets/controls",
          "model_name": "DescriptionStyleModel",
          "model_module_version": "1.5.0",
          "state": {
            "_view_name": "StyleView",
            "_model_name": "DescriptionStyleModel",
            "description_width": "",
            "_view_module": "@jupyter-widgets/base",
            "_model_module_version": "1.5.0",
            "_view_count": null,
            "_view_module_version": "1.2.0",
            "_model_module": "@jupyter-widgets/controls"
          }
        },
        "131f6351e5b24a9e815620bbd8da6cb5": {
          "model_module": "@jupyter-widgets/base",
          "model_name": "LayoutModel",
          "model_module_version": "1.2.0",
          "state": {
            "_view_name": "LayoutView",
            "grid_template_rows": null,
            "right": null,
            "justify_content": null,
            "_view_module": "@jupyter-widgets/base",
            "overflow": null,
            "_model_module_version": "1.2.0",
            "_view_count": null,
            "flex_flow": null,
            "width": null,
            "min_width": null,
            "border": null,
            "align_items": null,
            "bottom": null,
            "_model_module": "@jupyter-widgets/base",
            "top": null,
            "grid_column": null,
            "overflow_y": null,
            "overflow_x": null,
            "grid_auto_flow": null,
            "grid_area": null,
            "grid_template_columns": null,
            "flex": null,
            "_model_name": "LayoutModel",
            "justify_items": null,
            "grid_row": null,
            "max_height": null,
            "align_content": null,
            "visibility": null,
            "align_self": null,
            "height": null,
            "min_height": null,
            "padding": null,
            "grid_auto_rows": null,
            "grid_gap": null,
            "max_width": null,
            "order": null,
            "_view_module_version": "1.2.0",
            "grid_template_areas": null,
            "object_position": null,
            "object_fit": null,
            "grid_auto_columns": null,
            "margin": null,
            "display": null,
            "left": null
          }
        },
        "39aa2fce33ec49dea5d66f27db5fa4be": {
          "model_module": "@jupyter-widgets/controls",
          "model_name": "HBoxModel",
          "model_module_version": "1.5.0",
          "state": {
            "_view_name": "HBoxView",
            "_dom_classes": [],
            "_model_name": "HBoxModel",
            "_view_module": "@jupyter-widgets/controls",
            "_model_module_version": "1.5.0",
            "_view_count": null,
            "_view_module_version": "1.5.0",
            "box_style": "",
            "layout": "IPY_MODEL_1b5ae135e07a48c3b3caafba54338be7",
            "_model_module": "@jupyter-widgets/controls",
            "children": [
              "IPY_MODEL_88fa9e96e7e14467acf04ee55d9e5eeb",
              "IPY_MODEL_0000bcf3bcef4bc890d521fb2ea73523",
              "IPY_MODEL_06a45c79481749318306604ad7f085ab"
            ]
          }
        },
        "1b5ae135e07a48c3b3caafba54338be7": {
          "model_module": "@jupyter-widgets/base",
          "model_name": "LayoutModel",
          "model_module_version": "1.2.0",
          "state": {
            "_view_name": "LayoutView",
            "grid_template_rows": null,
            "right": null,
            "justify_content": null,
            "_view_module": "@jupyter-widgets/base",
            "overflow": null,
            "_model_module_version": "1.2.0",
            "_view_count": null,
            "flex_flow": null,
            "width": null,
            "min_width": null,
            "border": null,
            "align_items": null,
            "bottom": null,
            "_model_module": "@jupyter-widgets/base",
            "top": null,
            "grid_column": null,
            "overflow_y": null,
            "overflow_x": null,
            "grid_auto_flow": null,
            "grid_area": null,
            "grid_template_columns": null,
            "flex": null,
            "_model_name": "LayoutModel",
            "justify_items": null,
            "grid_row": null,
            "max_height": null,
            "align_content": null,
            "visibility": null,
            "align_self": null,
            "height": null,
            "min_height": null,
            "padding": null,
            "grid_auto_rows": null,
            "grid_gap": null,
            "max_width": null,
            "order": null,
            "_view_module_version": "1.2.0",
            "grid_template_areas": null,
            "object_position": null,
            "object_fit": null,
            "grid_auto_columns": null,
            "margin": null,
            "display": null,
            "left": null
          }
        },
        "88fa9e96e7e14467acf04ee55d9e5eeb": {
          "model_module": "@jupyter-widgets/controls",
          "model_name": "HTMLModel",
          "model_module_version": "1.5.0",
          "state": {
            "_view_name": "HTMLView",
            "style": "IPY_MODEL_f5c36ade54b44573b4b9e2f44e710cef",
            "_dom_classes": [],
            "description": "",
            "_model_name": "HTMLModel",
            "placeholder": "​",
            "_view_module": "@jupyter-widgets/controls",
            "_model_module_version": "1.5.0",
            "value": "Downloading: 100%",
            "_view_count": null,
            "_view_module_version": "1.5.0",
            "description_tooltip": null,
            "_model_module": "@jupyter-widgets/controls",
            "layout": "IPY_MODEL_4383f4b9682a44b1978ee1ddf2804d6c"
          }
        },
        "0000bcf3bcef4bc890d521fb2ea73523": {
          "model_module": "@jupyter-widgets/controls",
          "model_name": "FloatProgressModel",
          "model_module_version": "1.5.0",
          "state": {
            "_view_name": "ProgressView",
            "style": "IPY_MODEL_6a12c722f670467f9f519070c5863ab5",
            "_dom_classes": [],
            "description": "",
            "_model_name": "FloatProgressModel",
            "bar_style": "success",
            "max": 1961828,
            "_view_module": "@jupyter-widgets/controls",
            "_model_module_version": "1.5.0",
            "value": 1961828,
            "_view_count": null,
            "_view_module_version": "1.5.0",
            "orientation": "horizontal",
            "min": 0,
            "description_tooltip": null,
            "_model_module": "@jupyter-widgets/controls",
            "layout": "IPY_MODEL_639497e357ba4aef8fbd82eb62253a0d"
          }
        },
        "06a45c79481749318306604ad7f085ab": {
          "model_module": "@jupyter-widgets/controls",
          "model_name": "HTMLModel",
          "model_module_version": "1.5.0",
          "state": {
            "_view_name": "HTMLView",
            "style": "IPY_MODEL_4348967186224bbd874e7542aabd9782",
            "_dom_classes": [],
            "description": "",
            "_model_name": "HTMLModel",
            "placeholder": "​",
            "_view_module": "@jupyter-widgets/controls",
            "_model_module_version": "1.5.0",
            "value": " 1.87M/1.87M [00:00&lt;00:00, 2.84MB/s]",
            "_view_count": null,
            "_view_module_version": "1.5.0",
            "description_tooltip": null,
            "_model_module": "@jupyter-widgets/controls",
            "layout": "IPY_MODEL_6d9c634e37614350a609221b2129564f"
          }
        },
        "f5c36ade54b44573b4b9e2f44e710cef": {
          "model_module": "@jupyter-widgets/controls",
          "model_name": "DescriptionStyleModel",
          "model_module_version": "1.5.0",
          "state": {
            "_view_name": "StyleView",
            "_model_name": "DescriptionStyleModel",
            "description_width": "",
            "_view_module": "@jupyter-widgets/base",
            "_model_module_version": "1.5.0",
            "_view_count": null,
            "_view_module_version": "1.2.0",
            "_model_module": "@jupyter-widgets/controls"
          }
        },
        "4383f4b9682a44b1978ee1ddf2804d6c": {
          "model_module": "@jupyter-widgets/base",
          "model_name": "LayoutModel",
          "model_module_version": "1.2.0",
          "state": {
            "_view_name": "LayoutView",
            "grid_template_rows": null,
            "right": null,
            "justify_content": null,
            "_view_module": "@jupyter-widgets/base",
            "overflow": null,
            "_model_module_version": "1.2.0",
            "_view_count": null,
            "flex_flow": null,
            "width": null,
            "min_width": null,
            "border": null,
            "align_items": null,
            "bottom": null,
            "_model_module": "@jupyter-widgets/base",
            "top": null,
            "grid_column": null,
            "overflow_y": null,
            "overflow_x": null,
            "grid_auto_flow": null,
            "grid_area": null,
            "grid_template_columns": null,
            "flex": null,
            "_model_name": "LayoutModel",
            "justify_items": null,
            "grid_row": null,
            "max_height": null,
            "align_content": null,
            "visibility": null,
            "align_self": null,
            "height": null,
            "min_height": null,
            "padding": null,
            "grid_auto_rows": null,
            "grid_gap": null,
            "max_width": null,
            "order": null,
            "_view_module_version": "1.2.0",
            "grid_template_areas": null,
            "object_position": null,
            "object_fit": null,
            "grid_auto_columns": null,
            "margin": null,
            "display": null,
            "left": null
          }
        },
        "6a12c722f670467f9f519070c5863ab5": {
          "model_module": "@jupyter-widgets/controls",
          "model_name": "ProgressStyleModel",
          "model_module_version": "1.5.0",
          "state": {
            "_view_name": "StyleView",
            "_model_name": "ProgressStyleModel",
            "description_width": "",
            "_view_module": "@jupyter-widgets/base",
            "_model_module_version": "1.5.0",
            "_view_count": null,
            "_view_module_version": "1.2.0",
            "bar_color": null,
            "_model_module": "@jupyter-widgets/controls"
          }
        },
        "639497e357ba4aef8fbd82eb62253a0d": {
          "model_module": "@jupyter-widgets/base",
          "model_name": "LayoutModel",
          "model_module_version": "1.2.0",
          "state": {
            "_view_name": "LayoutView",
            "grid_template_rows": null,
            "right": null,
            "justify_content": null,
            "_view_module": "@jupyter-widgets/base",
            "overflow": null,
            "_model_module_version": "1.2.0",
            "_view_count": null,
            "flex_flow": null,
            "width": null,
            "min_width": null,
            "border": null,
            "align_items": null,
            "bottom": null,
            "_model_module": "@jupyter-widgets/base",
            "top": null,
            "grid_column": null,
            "overflow_y": null,
            "overflow_x": null,
            "grid_auto_flow": null,
            "grid_area": null,
            "grid_template_columns": null,
            "flex": null,
            "_model_name": "LayoutModel",
            "justify_items": null,
            "grid_row": null,
            "max_height": null,
            "align_content": null,
            "visibility": null,
            "align_self": null,
            "height": null,
            "min_height": null,
            "padding": null,
            "grid_auto_rows": null,
            "grid_gap": null,
            "max_width": null,
            "order": null,
            "_view_module_version": "1.2.0",
            "grid_template_areas": null,
            "object_position": null,
            "object_fit": null,
            "grid_auto_columns": null,
            "margin": null,
            "display": null,
            "left": null
          }
        },
        "4348967186224bbd874e7542aabd9782": {
          "model_module": "@jupyter-widgets/controls",
          "model_name": "DescriptionStyleModel",
          "model_module_version": "1.5.0",
          "state": {
            "_view_name": "StyleView",
            "_model_name": "DescriptionStyleModel",
            "description_width": "",
            "_view_module": "@jupyter-widgets/base",
            "_model_module_version": "1.5.0",
            "_view_count": null,
            "_view_module_version": "1.2.0",
            "_model_module": "@jupyter-widgets/controls"
          }
        },
        "6d9c634e37614350a609221b2129564f": {
          "model_module": "@jupyter-widgets/base",
          "model_name": "LayoutModel",
          "model_module_version": "1.2.0",
          "state": {
            "_view_name": "LayoutView",
            "grid_template_rows": null,
            "right": null,
            "justify_content": null,
            "_view_module": "@jupyter-widgets/base",
            "overflow": null,
            "_model_module_version": "1.2.0",
            "_view_count": null,
            "flex_flow": null,
            "width": null,
            "min_width": null,
            "border": null,
            "align_items": null,
            "bottom": null,
            "_model_module": "@jupyter-widgets/base",
            "top": null,
            "grid_column": null,
            "overflow_y": null,
            "overflow_x": null,
            "grid_auto_flow": null,
            "grid_area": null,
            "grid_template_columns": null,
            "flex": null,
            "_model_name": "LayoutModel",
            "justify_items": null,
            "grid_row": null,
            "max_height": null,
            "align_content": null,
            "visibility": null,
            "align_self": null,
            "height": null,
            "min_height": null,
            "padding": null,
            "grid_auto_rows": null,
            "grid_gap": null,
            "max_width": null,
            "order": null,
            "_view_module_version": "1.2.0",
            "grid_template_areas": null,
            "object_position": null,
            "object_fit": null,
            "grid_auto_columns": null,
            "margin": null,
            "display": null,
            "left": null
          }
        },
        "eb7f6e227f824e0095db3739443372f6": {
          "model_module": "@jupyter-widgets/controls",
          "model_name": "HBoxModel",
          "model_module_version": "1.5.0",
          "state": {
            "_view_name": "HBoxView",
            "_dom_classes": [],
            "_model_name": "HBoxModel",
            "_view_module": "@jupyter-widgets/controls",
            "_model_module_version": "1.5.0",
            "_view_count": null,
            "_view_module_version": "1.5.0",
            "box_style": "",
            "layout": "IPY_MODEL_928679bdf3154680a2a083ad10cea919",
            "_model_module": "@jupyter-widgets/controls",
            "children": [
              "IPY_MODEL_00d77cd848ce43918b278c8764b64d23",
              "IPY_MODEL_c91c32e6922b4435b0c928b7aee04ef8",
              "IPY_MODEL_849513d062294a11a1188bfac725df88"
            ]
          }
        },
        "928679bdf3154680a2a083ad10cea919": {
          "model_module": "@jupyter-widgets/base",
          "model_name": "LayoutModel",
          "model_module_version": "1.2.0",
          "state": {
            "_view_name": "LayoutView",
            "grid_template_rows": null,
            "right": null,
            "justify_content": null,
            "_view_module": "@jupyter-widgets/base",
            "overflow": null,
            "_model_module_version": "1.2.0",
            "_view_count": null,
            "flex_flow": null,
            "width": null,
            "min_width": null,
            "border": null,
            "align_items": null,
            "bottom": null,
            "_model_module": "@jupyter-widgets/base",
            "top": null,
            "grid_column": null,
            "overflow_y": null,
            "overflow_x": null,
            "grid_auto_flow": null,
            "grid_area": null,
            "grid_template_columns": null,
            "flex": null,
            "_model_name": "LayoutModel",
            "justify_items": null,
            "grid_row": null,
            "max_height": null,
            "align_content": null,
            "visibility": null,
            "align_self": null,
            "height": null,
            "min_height": null,
            "padding": null,
            "grid_auto_rows": null,
            "grid_gap": null,
            "max_width": null,
            "order": null,
            "_view_module_version": "1.2.0",
            "grid_template_areas": null,
            "object_position": null,
            "object_fit": null,
            "grid_auto_columns": null,
            "margin": null,
            "display": null,
            "left": null
          }
        },
        "00d77cd848ce43918b278c8764b64d23": {
          "model_module": "@jupyter-widgets/controls",
          "model_name": "HTMLModel",
          "model_module_version": "1.5.0",
          "state": {
            "_view_name": "HTMLView",
            "style": "IPY_MODEL_9358bdeea03f4331a8dd2c1b945be383",
            "_dom_classes": [],
            "description": "",
            "_model_name": "HTMLModel",
            "placeholder": "​",
            "_view_module": "@jupyter-widgets/controls",
            "_model_module_version": "1.5.0",
            "value": "Downloading: 100%",
            "_view_count": null,
            "_view_module_version": "1.5.0",
            "description_tooltip": null,
            "_model_module": "@jupyter-widgets/controls",
            "layout": "IPY_MODEL_c89c8a88bb3e4710a45dbcd0c1e37796"
          }
        },
        "c91c32e6922b4435b0c928b7aee04ef8": {
          "model_module": "@jupyter-widgets/controls",
          "model_name": "FloatProgressModel",
          "model_module_version": "1.5.0",
          "state": {
            "_view_name": "ProgressView",
            "style": "IPY_MODEL_dc93277f16d74e85854a0d55c3293339",
            "_dom_classes": [],
            "description": "",
            "_model_name": "FloatProgressModel",
            "bar_style": "success",
            "max": 625,
            "_view_module": "@jupyter-widgets/controls",
            "_model_module_version": "1.5.0",
            "value": 625,
            "_view_count": null,
            "_view_module_version": "1.5.0",
            "orientation": "horizontal",
            "min": 0,
            "description_tooltip": null,
            "_model_module": "@jupyter-widgets/controls",
            "layout": "IPY_MODEL_2fc1d77854d246c0a2a892e3e5c0899a"
          }
        },
        "849513d062294a11a1188bfac725df88": {
          "model_module": "@jupyter-widgets/controls",
          "model_name": "HTMLModel",
          "model_module_version": "1.5.0",
          "state": {
            "_view_name": "HTMLView",
            "style": "IPY_MODEL_ef2131f143984ccd9d2fd088b78a1a76",
            "_dom_classes": [],
            "description": "",
            "_model_name": "HTMLModel",
            "placeholder": "​",
            "_view_module": "@jupyter-widgets/controls",
            "_model_module_version": "1.5.0",
            "value": " 625/625 [00:00&lt;00:00, 18.8kB/s]",
            "_view_count": null,
            "_view_module_version": "1.5.0",
            "description_tooltip": null,
            "_model_module": "@jupyter-widgets/controls",
            "layout": "IPY_MODEL_45fbeda429df4ba09e9daa89b7754b77"
          }
        },
        "9358bdeea03f4331a8dd2c1b945be383": {
          "model_module": "@jupyter-widgets/controls",
          "model_name": "DescriptionStyleModel",
          "model_module_version": "1.5.0",
          "state": {
            "_view_name": "StyleView",
            "_model_name": "DescriptionStyleModel",
            "description_width": "",
            "_view_module": "@jupyter-widgets/base",
            "_model_module_version": "1.5.0",
            "_view_count": null,
            "_view_module_version": "1.2.0",
            "_model_module": "@jupyter-widgets/controls"
          }
        },
        "c89c8a88bb3e4710a45dbcd0c1e37796": {
          "model_module": "@jupyter-widgets/base",
          "model_name": "LayoutModel",
          "model_module_version": "1.2.0",
          "state": {
            "_view_name": "LayoutView",
            "grid_template_rows": null,
            "right": null,
            "justify_content": null,
            "_view_module": "@jupyter-widgets/base",
            "overflow": null,
            "_model_module_version": "1.2.0",
            "_view_count": null,
            "flex_flow": null,
            "width": null,
            "min_width": null,
            "border": null,
            "align_items": null,
            "bottom": null,
            "_model_module": "@jupyter-widgets/base",
            "top": null,
            "grid_column": null,
            "overflow_y": null,
            "overflow_x": null,
            "grid_auto_flow": null,
            "grid_area": null,
            "grid_template_columns": null,
            "flex": null,
            "_model_name": "LayoutModel",
            "justify_items": null,
            "grid_row": null,
            "max_height": null,
            "align_content": null,
            "visibility": null,
            "align_self": null,
            "height": null,
            "min_height": null,
            "padding": null,
            "grid_auto_rows": null,
            "grid_gap": null,
            "max_width": null,
            "order": null,
            "_view_module_version": "1.2.0",
            "grid_template_areas": null,
            "object_position": null,
            "object_fit": null,
            "grid_auto_columns": null,
            "margin": null,
            "display": null,
            "left": null
          }
        },
        "dc93277f16d74e85854a0d55c3293339": {
          "model_module": "@jupyter-widgets/controls",
          "model_name": "ProgressStyleModel",
          "model_module_version": "1.5.0",
          "state": {
            "_view_name": "StyleView",
            "_model_name": "ProgressStyleModel",
            "description_width": "",
            "_view_module": "@jupyter-widgets/base",
            "_model_module_version": "1.5.0",
            "_view_count": null,
            "_view_module_version": "1.2.0",
            "bar_color": null,
            "_model_module": "@jupyter-widgets/controls"
          }
        },
        "2fc1d77854d246c0a2a892e3e5c0899a": {
          "model_module": "@jupyter-widgets/base",
          "model_name": "LayoutModel",
          "model_module_version": "1.2.0",
          "state": {
            "_view_name": "LayoutView",
            "grid_template_rows": null,
            "right": null,
            "justify_content": null,
            "_view_module": "@jupyter-widgets/base",
            "overflow": null,
            "_model_module_version": "1.2.0",
            "_view_count": null,
            "flex_flow": null,
            "width": null,
            "min_width": null,
            "border": null,
            "align_items": null,
            "bottom": null,
            "_model_module": "@jupyter-widgets/base",
            "top": null,
            "grid_column": null,
            "overflow_y": null,
            "overflow_x": null,
            "grid_auto_flow": null,
            "grid_area": null,
            "grid_template_columns": null,
            "flex": null,
            "_model_name": "LayoutModel",
            "justify_items": null,
            "grid_row": null,
            "max_height": null,
            "align_content": null,
            "visibility": null,
            "align_self": null,
            "height": null,
            "min_height": null,
            "padding": null,
            "grid_auto_rows": null,
            "grid_gap": null,
            "max_width": null,
            "order": null,
            "_view_module_version": "1.2.0",
            "grid_template_areas": null,
            "object_position": null,
            "object_fit": null,
            "grid_auto_columns": null,
            "margin": null,
            "display": null,
            "left": null
          }
        },
        "ef2131f143984ccd9d2fd088b78a1a76": {
          "model_module": "@jupyter-widgets/controls",
          "model_name": "DescriptionStyleModel",
          "model_module_version": "1.5.0",
          "state": {
            "_view_name": "StyleView",
            "_model_name": "DescriptionStyleModel",
            "description_width": "",
            "_view_module": "@jupyter-widgets/base",
            "_model_module_version": "1.5.0",
            "_view_count": null,
            "_view_module_version": "1.2.0",
            "_model_module": "@jupyter-widgets/controls"
          }
        },
        "45fbeda429df4ba09e9daa89b7754b77": {
          "model_module": "@jupyter-widgets/base",
          "model_name": "LayoutModel",
          "model_module_version": "1.2.0",
          "state": {
            "_view_name": "LayoutView",
            "grid_template_rows": null,
            "right": null,
            "justify_content": null,
            "_view_module": "@jupyter-widgets/base",
            "overflow": null,
            "_model_module_version": "1.2.0",
            "_view_count": null,
            "flex_flow": null,
            "width": null,
            "min_width": null,
            "border": null,
            "align_items": null,
            "bottom": null,
            "_model_module": "@jupyter-widgets/base",
            "top": null,
            "grid_column": null,
            "overflow_y": null,
            "overflow_x": null,
            "grid_auto_flow": null,
            "grid_area": null,
            "grid_template_columns": null,
            "flex": null,
            "_model_name": "LayoutModel",
            "justify_items": null,
            "grid_row": null,
            "max_height": null,
            "align_content": null,
            "visibility": null,
            "align_self": null,
            "height": null,
            "min_height": null,
            "padding": null,
            "grid_auto_rows": null,
            "grid_gap": null,
            "max_width": null,
            "order": null,
            "_view_module_version": "1.2.0",
            "grid_template_areas": null,
            "object_position": null,
            "object_fit": null,
            "grid_auto_columns": null,
            "margin": null,
            "display": null,
            "left": null
          }
        },
        "7678af1b115a4b84b5fd9720eac01c0d": {
          "model_module": "@jupyter-widgets/controls",
          "model_name": "HBoxModel",
          "model_module_version": "1.5.0",
          "state": {
            "_view_name": "HBoxView",
            "_dom_classes": [],
            "_model_name": "HBoxModel",
            "_view_module": "@jupyter-widgets/controls",
            "_model_module_version": "1.5.0",
            "_view_count": null,
            "_view_module_version": "1.5.0",
            "box_style": "",
            "layout": "IPY_MODEL_80bf5c82388f4413ba68e3dc8f5448bc",
            "_model_module": "@jupyter-widgets/controls",
            "children": [
              "IPY_MODEL_2bc2c858e7314973ad2c567c2908081c",
              "IPY_MODEL_4243fc4725a146b9bb092296349f8987",
              "IPY_MODEL_6850df816618454a9a7b8e1f3003c616"
            ]
          }
        },
        "80bf5c82388f4413ba68e3dc8f5448bc": {
          "model_module": "@jupyter-widgets/base",
          "model_name": "LayoutModel",
          "model_module_version": "1.2.0",
          "state": {
            "_view_name": "LayoutView",
            "grid_template_rows": null,
            "right": null,
            "justify_content": null,
            "_view_module": "@jupyter-widgets/base",
            "overflow": null,
            "_model_module_version": "1.2.0",
            "_view_count": null,
            "flex_flow": null,
            "width": null,
            "min_width": null,
            "border": null,
            "align_items": null,
            "bottom": null,
            "_model_module": "@jupyter-widgets/base",
            "top": null,
            "grid_column": null,
            "overflow_y": null,
            "overflow_x": null,
            "grid_auto_flow": null,
            "grid_area": null,
            "grid_template_columns": null,
            "flex": null,
            "_model_name": "LayoutModel",
            "justify_items": null,
            "grid_row": null,
            "max_height": null,
            "align_content": null,
            "visibility": null,
            "align_self": null,
            "height": null,
            "min_height": null,
            "padding": null,
            "grid_auto_rows": null,
            "grid_gap": null,
            "max_width": null,
            "order": null,
            "_view_module_version": "1.2.0",
            "grid_template_areas": null,
            "object_position": null,
            "object_fit": null,
            "grid_auto_columns": null,
            "margin": null,
            "display": null,
            "left": null
          }
        },
        "2bc2c858e7314973ad2c567c2908081c": {
          "model_module": "@jupyter-widgets/controls",
          "model_name": "HTMLModel",
          "model_module_version": "1.5.0",
          "state": {
            "_view_name": "HTMLView",
            "style": "IPY_MODEL_da31cafea94648d997e0af1ca2a359e0",
            "_dom_classes": [],
            "description": "",
            "_model_name": "HTMLModel",
            "placeholder": "​",
            "_view_module": "@jupyter-widgets/controls",
            "_model_module_version": "1.5.0",
            "value": "Downloading: 100%",
            "_view_count": null,
            "_view_module_version": "1.5.0",
            "description_tooltip": null,
            "_model_module": "@jupyter-widgets/controls",
            "layout": "IPY_MODEL_83c6c97e779f43d696e2d69dc2c96d98"
          }
        },
        "4243fc4725a146b9bb092296349f8987": {
          "model_module": "@jupyter-widgets/controls",
          "model_name": "FloatProgressModel",
          "model_module_version": "1.5.0",
          "state": {
            "_view_name": "ProgressView",
            "style": "IPY_MODEL_8ad7bf1840c148b0a4ff26d25f7078a0",
            "_dom_classes": [],
            "description": "",
            "_model_name": "FloatProgressModel",
            "bar_style": "success",
            "max": 1083389348,
            "_view_module": "@jupyter-widgets/controls",
            "_model_module_version": "1.5.0",
            "value": 1083389348,
            "_view_count": null,
            "_view_module_version": "1.5.0",
            "orientation": "horizontal",
            "min": 0,
            "description_tooltip": null,
            "_model_module": "@jupyter-widgets/controls",
            "layout": "IPY_MODEL_a07c2fe22bc348b2b103bec1a21488aa"
          }
        },
        "6850df816618454a9a7b8e1f3003c616": {
          "model_module": "@jupyter-widgets/controls",
          "model_name": "HTMLModel",
          "model_module_version": "1.5.0",
          "state": {
            "_view_name": "HTMLView",
            "style": "IPY_MODEL_1ac726f7a98a4d24b23067ac92b76482",
            "_dom_classes": [],
            "description": "",
            "_model_name": "HTMLModel",
            "placeholder": "​",
            "_view_module": "@jupyter-widgets/controls",
            "_model_module_version": "1.5.0",
            "value": " 1.01G/1.01G [00:23&lt;00:00, 44.6MB/s]",
            "_view_count": null,
            "_view_module_version": "1.5.0",
            "description_tooltip": null,
            "_model_module": "@jupyter-widgets/controls",
            "layout": "IPY_MODEL_a229ea575def41b781e35457a2c9ed6c"
          }
        },
        "da31cafea94648d997e0af1ca2a359e0": {
          "model_module": "@jupyter-widgets/controls",
          "model_name": "DescriptionStyleModel",
          "model_module_version": "1.5.0",
          "state": {
            "_view_name": "StyleView",
            "_model_name": "DescriptionStyleModel",
            "description_width": "",
            "_view_module": "@jupyter-widgets/base",
            "_model_module_version": "1.5.0",
            "_view_count": null,
            "_view_module_version": "1.2.0",
            "_model_module": "@jupyter-widgets/controls"
          }
        },
        "83c6c97e779f43d696e2d69dc2c96d98": {
          "model_module": "@jupyter-widgets/base",
          "model_name": "LayoutModel",
          "model_module_version": "1.2.0",
          "state": {
            "_view_name": "LayoutView",
            "grid_template_rows": null,
            "right": null,
            "justify_content": null,
            "_view_module": "@jupyter-widgets/base",
            "overflow": null,
            "_model_module_version": "1.2.0",
            "_view_count": null,
            "flex_flow": null,
            "width": null,
            "min_width": null,
            "border": null,
            "align_items": null,
            "bottom": null,
            "_model_module": "@jupyter-widgets/base",
            "top": null,
            "grid_column": null,
            "overflow_y": null,
            "overflow_x": null,
            "grid_auto_flow": null,
            "grid_area": null,
            "grid_template_columns": null,
            "flex": null,
            "_model_name": "LayoutModel",
            "justify_items": null,
            "grid_row": null,
            "max_height": null,
            "align_content": null,
            "visibility": null,
            "align_self": null,
            "height": null,
            "min_height": null,
            "padding": null,
            "grid_auto_rows": null,
            "grid_gap": null,
            "max_width": null,
            "order": null,
            "_view_module_version": "1.2.0",
            "grid_template_areas": null,
            "object_position": null,
            "object_fit": null,
            "grid_auto_columns": null,
            "margin": null,
            "display": null,
            "left": null
          }
        },
        "8ad7bf1840c148b0a4ff26d25f7078a0": {
          "model_module": "@jupyter-widgets/controls",
          "model_name": "ProgressStyleModel",
          "model_module_version": "1.5.0",
          "state": {
            "_view_name": "StyleView",
            "_model_name": "ProgressStyleModel",
            "description_width": "",
            "_view_module": "@jupyter-widgets/base",
            "_model_module_version": "1.5.0",
            "_view_count": null,
            "_view_module_version": "1.2.0",
            "bar_color": null,
            "_model_module": "@jupyter-widgets/controls"
          }
        },
        "a07c2fe22bc348b2b103bec1a21488aa": {
          "model_module": "@jupyter-widgets/base",
          "model_name": "LayoutModel",
          "model_module_version": "1.2.0",
          "state": {
            "_view_name": "LayoutView",
            "grid_template_rows": null,
            "right": null,
            "justify_content": null,
            "_view_module": "@jupyter-widgets/base",
            "overflow": null,
            "_model_module_version": "1.2.0",
            "_view_count": null,
            "flex_flow": null,
            "width": null,
            "min_width": null,
            "border": null,
            "align_items": null,
            "bottom": null,
            "_model_module": "@jupyter-widgets/base",
            "top": null,
            "grid_column": null,
            "overflow_y": null,
            "overflow_x": null,
            "grid_auto_flow": null,
            "grid_area": null,
            "grid_template_columns": null,
            "flex": null,
            "_model_name": "LayoutModel",
            "justify_items": null,
            "grid_row": null,
            "max_height": null,
            "align_content": null,
            "visibility": null,
            "align_self": null,
            "height": null,
            "min_height": null,
            "padding": null,
            "grid_auto_rows": null,
            "grid_gap": null,
            "max_width": null,
            "order": null,
            "_view_module_version": "1.2.0",
            "grid_template_areas": null,
            "object_position": null,
            "object_fit": null,
            "grid_auto_columns": null,
            "margin": null,
            "display": null,
            "left": null
          }
        },
        "1ac726f7a98a4d24b23067ac92b76482": {
          "model_module": "@jupyter-widgets/controls",
          "model_name": "DescriptionStyleModel",
          "model_module_version": "1.5.0",
          "state": {
            "_view_name": "StyleView",
            "_model_name": "DescriptionStyleModel",
            "description_width": "",
            "_view_module": "@jupyter-widgets/base",
            "_model_module_version": "1.5.0",
            "_view_count": null,
            "_view_module_version": "1.2.0",
            "_model_module": "@jupyter-widgets/controls"
          }
        },
        "a229ea575def41b781e35457a2c9ed6c": {
          "model_module": "@jupyter-widgets/base",
          "model_name": "LayoutModel",
          "model_module_version": "1.2.0",
          "state": {
            "_view_name": "LayoutView",
            "grid_template_rows": null,
            "right": null,
            "justify_content": null,
            "_view_module": "@jupyter-widgets/base",
            "overflow": null,
            "_model_module_version": "1.2.0",
            "_view_count": null,
            "flex_flow": null,
            "width": null,
            "min_width": null,
            "border": null,
            "align_items": null,
            "bottom": null,
            "_model_module": "@jupyter-widgets/base",
            "top": null,
            "grid_column": null,
            "overflow_y": null,
            "overflow_x": null,
            "grid_auto_flow": null,
            "grid_area": null,
            "grid_template_columns": null,
            "flex": null,
            "_model_name": "LayoutModel",
            "justify_items": null,
            "grid_row": null,
            "max_height": null,
            "align_content": null,
            "visibility": null,
            "align_self": null,
            "height": null,
            "min_height": null,
            "padding": null,
            "grid_auto_rows": null,
            "grid_gap": null,
            "max_width": null,
            "order": null,
            "_view_module_version": "1.2.0",
            "grid_template_areas": null,
            "object_position": null,
            "object_fit": null,
            "grid_auto_columns": null,
            "margin": null,
            "display": null,
            "left": null
          }
        }
      }
    }
  },
  "cells": [
    {
      "cell_type": "markdown",
      "metadata": {
        "id": "PbBx09Ch4VZd"
      },
      "source": [
        "# **PROBLEM STATEMENT 3:**\n",
        "\n",
        "## Multilingual Abusive Comment Detection: Given a comment, detect whether it is abusive or not"
      ]
    },
    {
      "cell_type": "markdown",
      "metadata": {
        "id": "h9ALaBH2av81"
      },
      "source": [
        "## **Load Libraries**"
      ]
    },
    {
      "cell_type": "code",
      "metadata": {
        "id": "wdcLPyjzH8mS"
      },
      "source": [
        "import pandas as pd\n",
        "import numpy as np\n",
        "from sklearn.model_selection import train_test_split\n",
        "from sklearn.feature_extraction.text import CountVectorizer\n",
        "from sklearn.feature_extraction.text import TfidfVectorizer\n",
        "!pip install -U -q PyDrive\n",
        "from pydrive.auth import GoogleAuth\n",
        "from pydrive.drive import GoogleDrive\n",
        "from google.colab import auth\n",
        "from oauth2client.client import GoogleCredentials\n",
        "# Authenticate and create the PyDrive client.\n",
        "auth.authenticate_user()\n",
        "gauth = GoogleAuth()\n",
        "gauth.credentials = GoogleCredentials.get_application_default()\n",
        "drive = GoogleDrive(gauth)"
      ],
      "execution_count": null,
      "outputs": []
    },
    {
      "cell_type": "code",
      "metadata": {
        "id": "pLpBMvxi7RmZ"
      },
      "source": [
        "import re\n",
        "import matplotlib.pyplot as plt\n",
        "import seaborn as sns\n",
        "import nltk\n",
        "import time \n",
        "#for uploading data to csv\n",
        "import re \n",
        "import string\n",
        "import csv\n",
        "import pandas as pd\n",
        "import numpy as np\n",
        "import matplotlib.pyplot as plt\n",
        "import json\n",
        "import seaborn as sns\n",
        "import re\n",
        "import collections\n",
        "from wordcloud import WordCloud"
      ],
      "execution_count": null,
      "outputs": []
    },
    {
      "cell_type": "markdown",
      "metadata": {
        "id": "xFE8WIB54XQY"
      },
      "source": [
        "## **Load the Dataset**"
      ]
    },
    {
      "cell_type": "code",
      "metadata": {
        "id": "_7WFuLVKCo-_",
        "colab": {
          "base_uri": "https://localhost:8080/"
        },
        "outputId": "31731edf-151a-4a31-8894-5f6018be86b1"
      },
      "source": [
        "url='https://drive.google.com/file/d/1hKVwztucurF9Fw3UvzpWtU-13XoqSZlN/view?usp=sharing'\n",
        "file_id=url.split('/')[-2]\n",
        "dwn_url='https://drive.google.com/uc?id=' + file_id\n",
        "df = pd.read_csv(dwn_url, error_bad_lines=False)\n",
        "print(df.head())"
      ],
      "execution_count": null,
      "outputs": [
        {
          "output_type": "stream",
          "name": "stderr",
          "text": [
            "b'Skipping line 51: expected 9 fields, saw 14\\nSkipping line 254: expected 9 fields, saw 11\\nSkipping line 923: expected 9 fields, saw 10\\nSkipping line 1046: expected 9 fields, saw 11\\nSkipping line 1420: expected 9 fields, saw 13\\nSkipping line 1603: expected 9 fields, saw 10\\nSkipping line 1729: expected 9 fields, saw 10\\nSkipping line 1968: expected 9 fields, saw 10\\nSkipping line 2618: expected 9 fields, saw 10\\nSkipping line 2827: expected 9 fields, saw 10\\nSkipping line 3459: expected 9 fields, saw 10\\nSkipping line 3707: expected 9 fields, saw 10\\nSkipping line 3935: expected 9 fields, saw 13\\nSkipping line 4153: expected 9 fields, saw 13\\nSkipping line 4676: expected 9 fields, saw 10\\nSkipping line 4919: expected 9 fields, saw 10\\nSkipping line 5626: expected 9 fields, saw 10\\nSkipping line 6334: expected 9 fields, saw 15\\nSkipping line 7326: expected 9 fields, saw 11\\nSkipping line 7535: expected 9 fields, saw 15\\nSkipping line 7789: expected 9 fields, saw 10\\nSkipping line 7925: expected 9 fields, saw 10\\nSkipping line 7935: expected 9 fields, saw 27\\nSkipping line 8030: expected 9 fields, saw 13\\nSkipping line 8571: expected 9 fields, saw 15\\nSkipping line 8635: expected 9 fields, saw 22\\nSkipping line 8980: expected 9 fields, saw 10\\nSkipping line 9000: expected 9 fields, saw 12\\nSkipping line 9348: expected 9 fields, saw 10\\nSkipping line 9585: expected 9 fields, saw 10\\nSkipping line 9980: expected 9 fields, saw 10\\nSkipping line 10290: expected 9 fields, saw 11\\nSkipping line 10614: expected 9 fields, saw 10\\nSkipping line 11009: expected 9 fields, saw 12\\nSkipping line 11037: expected 9 fields, saw 10\\nSkipping line 11040: expected 9 fields, saw 12\\nSkipping line 11162: expected 9 fields, saw 10\\nSkipping line 11392: expected 9 fields, saw 10\\nSkipping line 11608: expected 9 fields, saw 11\\nSkipping line 11624: expected 9 fields, saw 10\\nSkipping line 11645: expected 9 fields, saw 12\\nSkipping line 11833: expected 9 fields, saw 10\\nSkipping line 11939: expected 9 fields, saw 17\\nSkipping line 12007: expected 9 fields, saw 13\\nSkipping line 12107: expected 9 fields, saw 17\\nSkipping line 12249: expected 9 fields, saw 11\\nSkipping line 12267: expected 9 fields, saw 10\\nSkipping line 12269: expected 9 fields, saw 11\\nSkipping line 13079: expected 9 fields, saw 12\\nSkipping line 13422: expected 9 fields, saw 13\\nSkipping line 13622: expected 9 fields, saw 12\\nSkipping line 13845: expected 9 fields, saw 10\\nSkipping line 14214: expected 9 fields, saw 10\\nSkipping line 14372: expected 9 fields, saw 11\\nSkipping line 14690: expected 9 fields, saw 15\\nSkipping line 14849: expected 9 fields, saw 12\\nSkipping line 15053: expected 9 fields, saw 16\\nSkipping line 15621: expected 9 fields, saw 10\\nSkipping line 15778: expected 9 fields, saw 10\\nSkipping line 15893: expected 9 fields, saw 11\\nSkipping line 15928: expected 9 fields, saw 10\\nSkipping line 15973: expected 9 fields, saw 10\\nSkipping line 16036: expected 9 fields, saw 10\\nSkipping line 16142: expected 9 fields, saw 10\\nSkipping line 16202: expected 9 fields, saw 10\\nSkipping line 16431: expected 9 fields, saw 10\\nSkipping line 17219: expected 9 fields, saw 10\\nSkipping line 17613: expected 9 fields, saw 10\\nSkipping line 17753: expected 9 fields, saw 14\\nSkipping line 18102: expected 9 fields, saw 15\\nSkipping line 18347: expected 9 fields, saw 12\\nSkipping line 18361: expected 9 fields, saw 73\\nSkipping line 18438: expected 9 fields, saw 16\\nSkipping line 19369: expected 9 fields, saw 10\\nSkipping line 19443: expected 9 fields, saw 11\\nSkipping line 19462: expected 9 fields, saw 16\\nSkipping line 19611: expected 9 fields, saw 10\\nSkipping line 19751: expected 9 fields, saw 12\\nSkipping line 19986: expected 9 fields, saw 10\\nSkipping line 20138: expected 9 fields, saw 11\\nSkipping line 20524: expected 9 fields, saw 12\\nSkipping line 20679: expected 9 fields, saw 10\\nSkipping line 20724: expected 9 fields, saw 10\\nSkipping line 20948: expected 9 fields, saw 10\\nSkipping line 21851: expected 9 fields, saw 10\\nSkipping line 21978: expected 9 fields, saw 10\\nSkipping line 22032: expected 9 fields, saw 10\\nSkipping line 22055: expected 9 fields, saw 10\\nSkipping line 22093: expected 9 fields, saw 10\\nSkipping line 22102: expected 9 fields, saw 13\\nSkipping line 22142: expected 9 fields, saw 12\\nSkipping line 22282: expected 9 fields, saw 12\\nSkipping line 22537: expected 9 fields, saw 12\\nSkipping line 22770: expected 9 fields, saw 10\\nSkipping line 23119: expected 9 fields, saw 10\\nSkipping line 23476: expected 9 fields, saw 19\\nSkipping line 23615: expected 9 fields, saw 15\\nSkipping line 23651: expected 9 fields, saw 10\\nSkipping line 23658: expected 9 fields, saw 10\\nSkipping line 23688: expected 9 fields, saw 15\\nSkipping line 23766: expected 9 fields, saw 15\\nSkipping line 23860: expected 9 fields, saw 15\\nSkipping line 23874: expected 9 fields, saw 13\\nSkipping line 23890: expected 9 fields, saw 12\\nSkipping line 24190: expected 9 fields, saw 10\\nSkipping line 24397: expected 9 fields, saw 23\\nSkipping line 24722: expected 9 fields, saw 11\\nSkipping line 24899: expected 9 fields, saw 10\\nSkipping line 24984: expected 9 fields, saw 10\\nSkipping line 25124: expected 9 fields, saw 11\\nSkipping line 25154: expected 9 fields, saw 49\\nSkipping line 25323: expected 9 fields, saw 11\\nSkipping line 25666: expected 9 fields, saw 14\\nSkipping line 25774: expected 9 fields, saw 11\\nSkipping line 26162: expected 9 fields, saw 13\\nSkipping line 26530: expected 9 fields, saw 10\\nSkipping line 26594: expected 9 fields, saw 31\\nSkipping line 27201: expected 9 fields, saw 16\\nSkipping line 27461: expected 9 fields, saw 12\\nSkipping line 27601: expected 9 fields, saw 10\\nSkipping line 28058: expected 9 fields, saw 16\\nSkipping line 28115: expected 9 fields, saw 10\\nSkipping line 28228: expected 9 fields, saw 10\\nSkipping line 28448: expected 9 fields, saw 10\\nSkipping line 28452: expected 9 fields, saw 12\\nSkipping line 28462: expected 9 fields, saw 12\\nSkipping line 28784: expected 9 fields, saw 10\\nSkipping line 28936: expected 9 fields, saw 10\\nSkipping line 29283: expected 9 fields, saw 10\\nSkipping line 29346: expected 9 fields, saw 17\\nSkipping line 29412: expected 9 fields, saw 10\\nSkipping line 29485: expected 9 fields, saw 71\\nSkipping line 29570: expected 9 fields, saw 11\\nSkipping line 29633: expected 9 fields, saw 10\\nSkipping line 30206: expected 9 fields, saw 11\\nSkipping line 30274: expected 9 fields, saw 12\\nSkipping line 30353: expected 9 fields, saw 10\\nSkipping line 30418: expected 9 fields, saw 11\\nSkipping line 30421: expected 9 fields, saw 11\\nSkipping line 30452: expected 9 fields, saw 12\\nSkipping line 30474: expected 9 fields, saw 10\\nSkipping line 30488: expected 9 fields, saw 13\\nSkipping line 30688: expected 9 fields, saw 10\\nSkipping line 30771: expected 9 fields, saw 11\\nSkipping line 30798: expected 9 fields, saw 12\\nSkipping line 30893: expected 9 fields, saw 11\\nSkipping line 30944: expected 9 fields, saw 12\\nSkipping line 31008: expected 9 fields, saw 19\\nSkipping line 31219: expected 9 fields, saw 11\\nSkipping line 31731: expected 9 fields, saw 10\\nSkipping line 31785: expected 9 fields, saw 10\\nSkipping line 31985: expected 9 fields, saw 11\\nSkipping line 31992: expected 9 fields, saw 14\\nSkipping line 32043: expected 9 fields, saw 11\\nSkipping line 32078: expected 9 fields, saw 10\\nSkipping line 32286: expected 9 fields, saw 12\\nSkipping line 32368: expected 9 fields, saw 16\\nSkipping line 32516: expected 9 fields, saw 16\\nSkipping line 32792: expected 9 fields, saw 11\\nSkipping line 32826: expected 9 fields, saw 11\\nSkipping line 32987: expected 9 fields, saw 13\\nSkipping line 33140: expected 9 fields, saw 10\\nSkipping line 33248: expected 9 fields, saw 10\\nSkipping line 33415: expected 9 fields, saw 11\\nSkipping line 33652: expected 9 fields, saw 10\\nSkipping line 33730: expected 9 fields, saw 10\\nSkipping line 33860: expected 9 fields, saw 10\\nSkipping line 34165: expected 9 fields, saw 10\\nSkipping line 35304: expected 9 fields, saw 12\\nSkipping line 35434: expected 9 fields, saw 11\\nSkipping line 35473: expected 9 fields, saw 10\\nSkipping line 35474: expected 9 fields, saw 10\\nSkipping line 35649: expected 9 fields, saw 14\\nSkipping line 35794: expected 9 fields, saw 13\\nSkipping line 36023: expected 9 fields, saw 19\\nSkipping line 36370: expected 9 fields, saw 10\\nSkipping line 36557: expected 9 fields, saw 15\\nSkipping line 36654: expected 9 fields, saw 10\\nSkipping line 36724: expected 9 fields, saw 11\\nSkipping line 37068: expected 9 fields, saw 12\\nSkipping line 37261: expected 9 fields, saw 15\\nSkipping line 37386: expected 9 fields, saw 10\\nSkipping line 37444: expected 9 fields, saw 11\\nSkipping line 37820: expected 9 fields, saw 12\\nSkipping line 38135: expected 9 fields, saw 14\\nSkipping line 38219: expected 9 fields, saw 11\\nSkipping line 38823: expected 9 fields, saw 10\\nSkipping line 39032: expected 9 fields, saw 13\\nSkipping line 39040: expected 9 fields, saw 14\\nSkipping line 39054: expected 9 fields, saw 11\\nSkipping line 39212: expected 9 fields, saw 10\\nSkipping line 39508: expected 9 fields, saw 11\\nSkipping line 39680: expected 9 fields, saw 12\\nSkipping line 39768: expected 9 fields, saw 11\\nSkipping line 39895: expected 9 fields, saw 13\\nSkipping line 40547: expected 9 fields, saw 12\\nSkipping line 40872: expected 9 fields, saw 10\\nSkipping line 40921: expected 9 fields, saw 10\\nSkipping line 40930: expected 9 fields, saw 24\\nSkipping line 40950: expected 9 fields, saw 12\\nSkipping line 40951: expected 9 fields, saw 12\\nSkipping line 41026: expected 9 fields, saw 22\\nSkipping line 41213: expected 9 fields, saw 10\\nSkipping line 41295: expected 9 fields, saw 11\\nSkipping line 41572: expected 9 fields, saw 10\\nSkipping line 41596: expected 9 fields, saw 10\\nSkipping line 41920: expected 9 fields, saw 10\\nSkipping line 42121: expected 9 fields, saw 10\\nSkipping line 42165: expected 9 fields, saw 13\\nSkipping line 42299: expected 9 fields, saw 10\\nSkipping line 42363: expected 9 fields, saw 11\\nSkipping line 42445: expected 9 fields, saw 10\\nSkipping line 42746: expected 9 fields, saw 10\\nSkipping line 43437: expected 9 fields, saw 10\\nSkipping line 43789: expected 9 fields, saw 12\\nSkipping line 43860: expected 9 fields, saw 11\\nSkipping line 44190: expected 9 fields, saw 11\\nSkipping line 44225: expected 9 fields, saw 11\\nSkipping line 44264: expected 9 fields, saw 12\\nSkipping line 44346: expected 9 fields, saw 12\\nSkipping line 44425: expected 9 fields, saw 10\\nSkipping line 44808: expected 9 fields, saw 15\\nSkipping line 45328: expected 9 fields, saw 13\\nSkipping line 45562: expected 9 fields, saw 10\\nSkipping line 45688: expected 9 fields, saw 13\\nSkipping line 45901: expected 9 fields, saw 13\\nSkipping line 46093: expected 9 fields, saw 12\\nSkipping line 46327: expected 9 fields, saw 10\\nSkipping line 46434: expected 9 fields, saw 10\\nSkipping line 46641: expected 9 fields, saw 10\\nSkipping line 46787: expected 9 fields, saw 18\\nSkipping line 46905: expected 9 fields, saw 11\\nSkipping line 47084: expected 9 fields, saw 10\\nSkipping line 47163: expected 9 fields, saw 10\\nSkipping line 47392: expected 9 fields, saw 11\\nSkipping line 47421: expected 9 fields, saw 14\\nSkipping line 47552: expected 9 fields, saw 10\\nSkipping line 47565: expected 9 fields, saw 10\\nSkipping line 47776: expected 9 fields, saw 10\\nSkipping line 47870: expected 9 fields, saw 12\\nSkipping line 47970: expected 9 fields, saw 10\\nSkipping line 47979: expected 9 fields, saw 12\\nSkipping line 48083: expected 9 fields, saw 11\\nSkipping line 48448: expected 9 fields, saw 10\\nSkipping line 48696: expected 9 fields, saw 10\\nSkipping line 48810: expected 9 fields, saw 10\\nSkipping line 48837: expected 9 fields, saw 19\\nSkipping line 48853: expected 9 fields, saw 18\\nSkipping line 48870: expected 9 fields, saw 13\\nSkipping line 48871: expected 9 fields, saw 10\\nSkipping line 48918: expected 9 fields, saw 23\\nSkipping line 49208: expected 9 fields, saw 10\\nSkipping line 49525: expected 9 fields, saw 13\\nSkipping line 49576: expected 9 fields, saw 11\\nSkipping line 49613: expected 9 fields, saw 10\\nSkipping line 49808: expected 9 fields, saw 13\\nSkipping line 49953: expected 9 fields, saw 10\\nSkipping line 50002: expected 9 fields, saw 10\\nSkipping line 50124: expected 9 fields, saw 10\\nSkipping line 50470: expected 9 fields, saw 10\\nSkipping line 50528: expected 9 fields, saw 12\\nSkipping line 50778: expected 9 fields, saw 13\\nSkipping line 50970: expected 9 fields, saw 14\\nSkipping line 50996: expected 9 fields, saw 15\\nSkipping line 51117: expected 9 fields, saw 16\\nSkipping line 51493: expected 9 fields, saw 13\\nSkipping line 51666: expected 9 fields, saw 15\\nSkipping line 51714: expected 9 fields, saw 13\\nSkipping line 51877: expected 9 fields, saw 10\\nSkipping line 52107: expected 9 fields, saw 10\\nSkipping line 52222: expected 9 fields, saw 29\\nSkipping line 52294: expected 9 fields, saw 11\\nSkipping line 52857: expected 9 fields, saw 13\\nSkipping line 52858: expected 9 fields, saw 11\\nSkipping line 53642: expected 9 fields, saw 12\\nSkipping line 53760: expected 9 fields, saw 10\\nSkipping line 53822: expected 9 fields, saw 10\\nSkipping line 53863: expected 9 fields, saw 11\\nSkipping line 54398: expected 9 fields, saw 11\\nSkipping line 54758: expected 9 fields, saw 10\\nSkipping line 54796: expected 9 fields, saw 12\\nSkipping line 54802: expected 9 fields, saw 10\\nSkipping line 54827: expected 9 fields, saw 11\\nSkipping line 54898: expected 9 fields, saw 10\\nSkipping line 55020: expected 9 fields, saw 10\\nSkipping line 55097: expected 9 fields, saw 13\\nSkipping line 55373: expected 9 fields, saw 12\\nSkipping line 55450: expected 9 fields, saw 10\\nSkipping line 55503: expected 9 fields, saw 10\\nSkipping line 55809: expected 9 fields, saw 12\\nSkipping line 55915: expected 9 fields, saw 13\\nSkipping line 56301: expected 9 fields, saw 13\\nSkipping line 56689: expected 9 fields, saw 10\\nSkipping line 56765: expected 9 fields, saw 14\\nSkipping line 56795: expected 9 fields, saw 10\\nSkipping line 56944: expected 9 fields, saw 11\\nSkipping line 56959: expected 9 fields, saw 10\\nSkipping line 57129: expected 9 fields, saw 11\\nSkipping line 57305: expected 9 fields, saw 16\\nSkipping line 57613: expected 9 fields, saw 10\\nSkipping line 57699: expected 9 fields, saw 10\\nSkipping line 57782: expected 9 fields, saw 10\\nSkipping line 57954: expected 9 fields, saw 14\\nSkipping line 58020: expected 9 fields, saw 18\\nSkipping line 58100: expected 9 fields, saw 10\\nSkipping line 58448: expected 9 fields, saw 11\\nSkipping line 58753: expected 9 fields, saw 10\\nSkipping line 58936: expected 9 fields, saw 10\\nSkipping line 60096: expected 9 fields, saw 14\\nSkipping line 60493: expected 9 fields, saw 10\\nSkipping line 60524: expected 9 fields, saw 10\\nSkipping line 61021: expected 9 fields, saw 10\\nSkipping line 61077: expected 9 fields, saw 10\\nSkipping line 61139: expected 9 fields, saw 11\\nSkipping line 61295: expected 9 fields, saw 10\\nSkipping line 61328: expected 9 fields, saw 12\\nSkipping line 61394: expected 9 fields, saw 12\\nSkipping line 61444: expected 9 fields, saw 10\\nSkipping line 61775: expected 9 fields, saw 11\\nSkipping line 62085: expected 9 fields, saw 10\\nSkipping line 62091: expected 9 fields, saw 12\\nSkipping line 62237: expected 9 fields, saw 19\\nSkipping line 62602: expected 9 fields, saw 10\\nSkipping line 63015: expected 9 fields, saw 12\\nSkipping line 63378: expected 9 fields, saw 11\\nSkipping line 63859: expected 9 fields, saw 13\\nSkipping line 63863: expected 9 fields, saw 13\\nSkipping line 64020: expected 9 fields, saw 10\\nSkipping line 64248: expected 9 fields, saw 10\\nSkipping line 64822: expected 9 fields, saw 12\\nSkipping line 64931: expected 9 fields, saw 10\\nSkipping line 64998: expected 9 fields, saw 10\\nSkipping line 65283: expected 9 fields, saw 14\\nSkipping line 65390: expected 9 fields, saw 10\\nSkipping line 65621: expected 9 fields, saw 10\\nSkipping line 65735: expected 9 fields, saw 10\\n'\n",
            "b'Skipping line 66230: expected 9 fields, saw 16\\nSkipping line 66363: expected 9 fields, saw 10\\nSkipping line 66754: expected 9 fields, saw 10\\nSkipping line 67047: expected 9 fields, saw 10\\nSkipping line 67541: expected 9 fields, saw 10\\nSkipping line 67722: expected 9 fields, saw 11\\nSkipping line 68066: expected 9 fields, saw 15\\nSkipping line 68506: expected 9 fields, saw 10\\nSkipping line 68664: expected 9 fields, saw 10\\nSkipping line 68712: expected 9 fields, saw 11\\nSkipping line 68751: expected 9 fields, saw 38\\nSkipping line 68851: expected 9 fields, saw 10\\nSkipping line 69123: expected 9 fields, saw 10\\nSkipping line 69270: expected 9 fields, saw 10\\nSkipping line 69461: expected 9 fields, saw 11\\nSkipping line 69782: expected 9 fields, saw 10\\nSkipping line 70380: expected 9 fields, saw 12\\nSkipping line 70738: expected 9 fields, saw 10\\nSkipping line 70770: expected 9 fields, saw 10\\nSkipping line 70813: expected 9 fields, saw 10\\nSkipping line 71061: expected 9 fields, saw 11\\nSkipping line 71320: expected 9 fields, saw 13\\nSkipping line 71396: expected 9 fields, saw 16\\nSkipping line 71460: expected 9 fields, saw 10\\nSkipping line 71545: expected 9 fields, saw 11\\nSkipping line 71808: expected 9 fields, saw 10\\nSkipping line 71895: expected 9 fields, saw 10\\nSkipping line 72141: expected 9 fields, saw 10\\nSkipping line 72478: expected 9 fields, saw 30\\nSkipping line 72684: expected 9 fields, saw 11\\nSkipping line 72718: expected 9 fields, saw 10\\nSkipping line 72784: expected 9 fields, saw 12\\nSkipping line 72895: expected 9 fields, saw 10\\nSkipping line 72910: expected 9 fields, saw 12\\nSkipping line 73056: expected 9 fields, saw 10\\nSkipping line 73078: expected 9 fields, saw 13\\nSkipping line 73233: expected 9 fields, saw 10\\nSkipping line 73318: expected 9 fields, saw 10\\nSkipping line 74261: expected 9 fields, saw 10\\nSkipping line 74284: expected 9 fields, saw 11\\nSkipping line 75693: expected 9 fields, saw 13\\nSkipping line 75809: expected 9 fields, saw 10\\nSkipping line 76191: expected 9 fields, saw 11\\nSkipping line 76376: expected 9 fields, saw 10\\nSkipping line 77340: expected 9 fields, saw 10\\nSkipping line 77620: expected 9 fields, saw 12\\nSkipping line 77746: expected 9 fields, saw 17\\nSkipping line 78437: expected 9 fields, saw 11\\nSkipping line 78850: expected 9 fields, saw 13\\nSkipping line 78883: expected 9 fields, saw 16\\nSkipping line 79452: expected 9 fields, saw 10\\nSkipping line 79543: expected 9 fields, saw 10\\nSkipping line 79631: expected 9 fields, saw 11\\nSkipping line 79815: expected 9 fields, saw 10\\nSkipping line 80538: expected 9 fields, saw 10\\nSkipping line 80752: expected 9 fields, saw 12\\nSkipping line 80941: expected 9 fields, saw 10\\nSkipping line 81028: expected 9 fields, saw 10\\nSkipping line 81181: expected 9 fields, saw 15\\nSkipping line 82267: expected 9 fields, saw 12\\nSkipping line 82274: expected 9 fields, saw 12\\nSkipping line 82540: expected 9 fields, saw 13\\nSkipping line 82604: expected 9 fields, saw 10\\nSkipping line 83509: expected 9 fields, saw 10\\nSkipping line 83732: expected 9 fields, saw 10\\nSkipping line 83830: expected 9 fields, saw 10\\nSkipping line 83836: expected 9 fields, saw 13\\nSkipping line 84029: expected 9 fields, saw 13\\nSkipping line 84392: expected 9 fields, saw 10\\nSkipping line 84413: expected 9 fields, saw 12\\nSkipping line 84636: expected 9 fields, saw 10\\nSkipping line 84712: expected 9 fields, saw 10\\nSkipping line 85046: expected 9 fields, saw 10\\nSkipping line 85086: expected 9 fields, saw 11\\nSkipping line 85642: expected 9 fields, saw 10\\nSkipping line 86703: expected 9 fields, saw 11\\nSkipping line 86761: expected 9 fields, saw 10\\nSkipping line 86770: expected 9 fields, saw 10\\nSkipping line 87411: expected 9 fields, saw 11\\nSkipping line 87592: expected 9 fields, saw 18\\nSkipping line 88643: expected 9 fields, saw 12\\nSkipping line 88683: expected 9 fields, saw 10\\nSkipping line 88867: expected 9 fields, saw 10\\nSkipping line 89525: expected 9 fields, saw 10\\nSkipping line 89995: expected 9 fields, saw 10\\nSkipping line 90179: expected 9 fields, saw 10\\nSkipping line 90622: expected 9 fields, saw 10\\nSkipping line 91077: expected 9 fields, saw 10\\nSkipping line 91104: expected 9 fields, saw 10\\nSkipping line 92088: expected 9 fields, saw 12\\nSkipping line 92150: expected 9 fields, saw 10\\nSkipping line 93389: expected 9 fields, saw 10\\nSkipping line 94082: expected 9 fields, saw 11\\nSkipping line 94507: expected 9 fields, saw 10\\nSkipping line 94767: expected 9 fields, saw 14\\nSkipping line 94932: expected 9 fields, saw 15\\nSkipping line 95167: expected 9 fields, saw 10\\nSkipping line 95218: expected 9 fields, saw 30\\nSkipping line 95467: expected 9 fields, saw 10\\nSkipping line 96431: expected 9 fields, saw 10\\nSkipping line 96737: expected 9 fields, saw 10\\nSkipping line 98039: expected 9 fields, saw 11\\nSkipping line 98750: expected 9 fields, saw 10\\nSkipping line 98827: expected 9 fields, saw 10\\nSkipping line 98963: expected 9 fields, saw 13\\nSkipping line 99015: expected 9 fields, saw 10\\nSkipping line 99225: expected 9 fields, saw 11\\nSkipping line 100419: expected 9 fields, saw 11\\nSkipping line 100432: expected 9 fields, saw 27\\nSkipping line 100558: expected 9 fields, saw 11\\nSkipping line 101760: expected 9 fields, saw 12\\nSkipping line 101859: expected 9 fields, saw 10\\nSkipping line 102169: expected 9 fields, saw 11\\nSkipping line 102893: expected 9 fields, saw 10\\nSkipping line 103598: expected 9 fields, saw 10\\nSkipping line 103776: expected 9 fields, saw 14\\nSkipping line 103949: expected 9 fields, saw 11\\nSkipping line 104037: expected 9 fields, saw 10\\nSkipping line 104624: expected 9 fields, saw 10\\nSkipping line 104876: expected 9 fields, saw 11\\nSkipping line 104911: expected 9 fields, saw 11\\nSkipping line 105164: expected 9 fields, saw 12\\nSkipping line 105897: expected 9 fields, saw 12\\nSkipping line 106306: expected 9 fields, saw 10\\nSkipping line 106850: expected 9 fields, saw 12\\nSkipping line 108500: expected 9 fields, saw 10\\nSkipping line 109103: expected 9 fields, saw 11\\nSkipping line 109322: expected 9 fields, saw 10\\nSkipping line 109572: expected 9 fields, saw 31\\nSkipping line 110549: expected 9 fields, saw 10\\nSkipping line 111412: expected 9 fields, saw 11\\nSkipping line 113123: expected 9 fields, saw 12\\nSkipping line 113247: expected 9 fields, saw 12\\nSkipping line 113303: expected 9 fields, saw 10\\nSkipping line 113714: expected 9 fields, saw 10\\nSkipping line 113950: expected 9 fields, saw 10\\nSkipping line 114032: expected 9 fields, saw 10\\nSkipping line 114364: expected 9 fields, saw 11\\nSkipping line 114929: expected 9 fields, saw 11\\nSkipping line 115122: expected 9 fields, saw 11\\nSkipping line 115440: expected 9 fields, saw 11\\nSkipping line 115955: expected 9 fields, saw 12\\nSkipping line 116000: expected 9 fields, saw 11\\nSkipping line 116235: expected 9 fields, saw 10\\nSkipping line 116578: expected 9 fields, saw 10\\nSkipping line 116711: expected 9 fields, saw 11\\nSkipping line 117203: expected 9 fields, saw 10\\nSkipping line 117654: expected 9 fields, saw 11\\nSkipping line 117946: expected 9 fields, saw 11\\nSkipping line 118405: expected 9 fields, saw 12\\nSkipping line 118732: expected 9 fields, saw 10\\nSkipping line 119484: expected 9 fields, saw 11\\nSkipping line 119816: expected 9 fields, saw 10\\nSkipping line 120190: expected 9 fields, saw 10\\nSkipping line 121781: expected 9 fields, saw 11\\nSkipping line 122351: expected 9 fields, saw 10\\nSkipping line 122650: expected 9 fields, saw 16\\nSkipping line 122736: expected 9 fields, saw 11\\nSkipping line 123134: expected 9 fields, saw 12\\nSkipping line 123446: expected 9 fields, saw 10\\nSkipping line 123498: expected 9 fields, saw 13\\nSkipping line 123507: expected 9 fields, saw 10\\nSkipping line 123915: expected 9 fields, saw 12\\nSkipping line 124857: expected 9 fields, saw 13\\nSkipping line 124947: expected 9 fields, saw 10\\nSkipping line 125000: expected 9 fields, saw 10\\nSkipping line 125185: expected 9 fields, saw 24\\nSkipping line 125520: expected 9 fields, saw 12\\nSkipping line 125621: expected 9 fields, saw 11\\nSkipping line 126278: expected 9 fields, saw 10\\n'\n"
          ]
        },
        {
          "output_type": "stream",
          "name": "stdout",
          "text": [
            "   CommentId                 commentText  ... like_count_comment  like_count_post\n",
            "0          0                     🤬🤬🤬🤬🤬🤬🤬  ...                0.0             40.0\n",
            "1          1            चुड़ैल भूत प्रेत  ...                0.0            190.0\n",
            "2          2      74537627501 randi kala  ...                0.0             99.0\n",
            "3          3  சரி வர்சா ஐபீவா பேசனு உன்ட  ...                0.0             45.0\n",
            "4          4        \"gulabchandnainaihi\"  ...                0.0            122.0\n",
            "\n",
            "[5 rows x 9 columns]\n"
          ]
        }
      ]
    },
    {
      "cell_type": "code",
      "metadata": {
        "id": "2UMtyEg-4qqd",
        "colab": {
          "base_uri": "https://localhost:8080/",
          "height": 423
        },
        "outputId": "4b19bc65-ceb6-44f2-a3c8-f36263a8f783"
      },
      "source": [
        "df"
      ],
      "execution_count": null,
      "outputs": [
        {
          "output_type": "execute_result",
          "data": {
            "text/html": [
              "<div>\n",
              "<style scoped>\n",
              "    .dataframe tbody tr th:only-of-type {\n",
              "        vertical-align: middle;\n",
              "    }\n",
              "\n",
              "    .dataframe tbody tr th {\n",
              "        vertical-align: top;\n",
              "    }\n",
              "\n",
              "    .dataframe thead th {\n",
              "        text-align: right;\n",
              "    }\n",
              "</style>\n",
              "<table border=\"1\" class=\"dataframe\">\n",
              "  <thead>\n",
              "    <tr style=\"text-align: right;\">\n",
              "      <th></th>\n",
              "      <th>CommentId</th>\n",
              "      <th>commentText</th>\n",
              "      <th>language</th>\n",
              "      <th>user_index</th>\n",
              "      <th>post_index</th>\n",
              "      <th>report_count_comment</th>\n",
              "      <th>report_count_post</th>\n",
              "      <th>like_count_comment</th>\n",
              "      <th>like_count_post</th>\n",
              "    </tr>\n",
              "  </thead>\n",
              "  <tbody>\n",
              "    <tr>\n",
              "      <th>0</th>\n",
              "      <td>0</td>\n",
              "      <td>🤬🤬🤬🤬🤬🤬🤬</td>\n",
              "      <td>Assamese</td>\n",
              "      <td>154.0</td>\n",
              "      <td>113314.0</td>\n",
              "      <td>0.0</td>\n",
              "      <td>0.0</td>\n",
              "      <td>0.0</td>\n",
              "      <td>40.0</td>\n",
              "    </tr>\n",
              "    <tr>\n",
              "      <th>1</th>\n",
              "      <td>1</td>\n",
              "      <td>चुड़ैल भूत प्रेत</td>\n",
              "      <td>Rajasthani</td>\n",
              "      <td>3836.0</td>\n",
              "      <td>235816.0</td>\n",
              "      <td>0.0</td>\n",
              "      <td>1.0</td>\n",
              "      <td>0.0</td>\n",
              "      <td>190.0</td>\n",
              "    </tr>\n",
              "    <tr>\n",
              "      <th>2</th>\n",
              "      <td>2</td>\n",
              "      <td>74537627501 randi kala</td>\n",
              "      <td>Assamese</td>\n",
              "      <td>366.0</td>\n",
              "      <td>351524.0</td>\n",
              "      <td>0.0</td>\n",
              "      <td>0.0</td>\n",
              "      <td>0.0</td>\n",
              "      <td>99.0</td>\n",
              "    </tr>\n",
              "    <tr>\n",
              "      <th>3</th>\n",
              "      <td>3</td>\n",
              "      <td>சரி வர்சா ஐபீவா பேசனு உன்ட</td>\n",
              "      <td>Assamese</td>\n",
              "      <td>3046.0</td>\n",
              "      <td>789690.0</td>\n",
              "      <td>0.0</td>\n",
              "      <td>0.0</td>\n",
              "      <td>0.0</td>\n",
              "      <td>45.0</td>\n",
              "    </tr>\n",
              "    <tr>\n",
              "      <th>4</th>\n",
              "      <td>4</td>\n",
              "      <td>\"gulabchandnainaihi\"</td>\n",
              "      <td>Rajasthani</td>\n",
              "      <td>4282.0</td>\n",
              "      <td>925495.0</td>\n",
              "      <td>0.0</td>\n",
              "      <td>0.0</td>\n",
              "      <td>0.0</td>\n",
              "      <td>122.0</td>\n",
              "    </tr>\n",
              "    <tr>\n",
              "      <th>...</th>\n",
              "      <td>...</td>\n",
              "      <td>...</td>\n",
              "      <td>...</td>\n",
              "      <td>...</td>\n",
              "      <td>...</td>\n",
              "      <td>...</td>\n",
              "      <td>...</td>\n",
              "      <td>...</td>\n",
              "      <td>...</td>\n",
              "    </tr>\n",
              "    <tr>\n",
              "      <th>126208</th>\n",
              "      <td>128333</td>\n",
              "      <td>4614608105 akshara</td>\n",
              "      <td>Kannada</td>\n",
              "      <td>69389.0</td>\n",
              "      <td>75803.0</td>\n",
              "      <td>0.0</td>\n",
              "      <td>3.0</td>\n",
              "      <td>2.0</td>\n",
              "      <td>312.0</td>\n",
              "    </tr>\n",
              "    <tr>\n",
              "      <th>126209</th>\n",
              "      <td>128334</td>\n",
              "      <td>💖💞🧡🥰</td>\n",
              "      <td>Kannada</td>\n",
              "      <td>52410.0</td>\n",
              "      <td>488044.0</td>\n",
              "      <td>0.0</td>\n",
              "      <td>1.0</td>\n",
              "      <td>0.0</td>\n",
              "      <td>325.0</td>\n",
              "    </tr>\n",
              "    <tr>\n",
              "      <th>126210</th>\n",
              "      <td>128335</td>\n",
              "      <td>party akka is my favorite 👑👑👑👑👑👑👑👑👑👑💍💍💍💍💍🥰😍🥰😘😘😘😘😘</td>\n",
              "      <td>Kannada</td>\n",
              "      <td>10426.0</td>\n",
              "      <td>629616.0</td>\n",
              "      <td>0.0</td>\n",
              "      <td>0.0</td>\n",
              "      <td>0.0</td>\n",
              "      <td>190.0</td>\n",
              "    </tr>\n",
              "    <tr>\n",
              "      <th>126211</th>\n",
              "      <td>128336</td>\n",
              "      <td>super. akk</td>\n",
              "      <td>Kannada</td>\n",
              "      <td>44019.0</td>\n",
              "      <td>964579.0</td>\n",
              "      <td>0.0</td>\n",
              "      <td>1.0</td>\n",
              "      <td>1.0</td>\n",
              "      <td>214.0</td>\n",
              "    </tr>\n",
              "    <tr>\n",
              "      <th>126212</th>\n",
              "      <td>128337</td>\n",
              "      <td>\"nodi manushya adak jeevana paryanta himsisid...</td>\n",
              "      <td>Kannada</td>\n",
              "      <td>45039.0</td>\n",
              "      <td>358598.0</td>\n",
              "      <td>0.0</td>\n",
              "      <td>0.0</td>\n",
              "      <td>23.0</td>\n",
              "      <td>107.0</td>\n",
              "    </tr>\n",
              "  </tbody>\n",
              "</table>\n",
              "<p>126213 rows × 9 columns</p>\n",
              "</div>"
            ],
            "text/plain": [
              "        CommentId  ... like_count_post\n",
              "0               0  ...            40.0\n",
              "1               1  ...           190.0\n",
              "2               2  ...            99.0\n",
              "3               3  ...            45.0\n",
              "4               4  ...           122.0\n",
              "...           ...  ...             ...\n",
              "126208     128333  ...           312.0\n",
              "126209     128334  ...           325.0\n",
              "126210     128335  ...           190.0\n",
              "126211     128336  ...           214.0\n",
              "126212     128337  ...           107.0\n",
              "\n",
              "[126213 rows x 9 columns]"
            ]
          },
          "metadata": {},
          "execution_count": 5
        }
      ]
    },
    {
      "cell_type": "code",
      "metadata": {
        "id": "XtylW5vrEO-_"
      },
      "source": [
        "test=df"
      ],
      "execution_count": null,
      "outputs": []
    },
    {
      "cell_type": "code",
      "metadata": {
        "id": "nGK6HwxB4__o",
        "colab": {
          "base_uri": "https://localhost:8080/"
        },
        "outputId": "d70367bc-4255-4dd2-af78-332b5b92b0d4"
      },
      "source": [
        "link = 'https://drive.google.com/file/d/1qrABwBtS-OeQz-RzWejYe18uUyG9Y1_7/view?usp=sharing' # The shareable link\n",
        "id='1qrABwBtS-OeQz-RzWejYe18uUyG9Y1_7'\n",
        "print (id) # Verify that you have everything after '='"
      ],
      "execution_count": null,
      "outputs": [
        {
          "output_type": "stream",
          "name": "stdout",
          "text": [
            "1qrABwBtS-OeQz-RzWejYe18uUyG9Y1_7\n"
          ]
        }
      ]
    },
    {
      "cell_type": "code",
      "metadata": {
        "id": "0gv-KlH7Fl5z",
        "colab": {
          "base_uri": "https://localhost:8080/"
        },
        "outputId": "fc8935b6-f6c6-46f7-af18-718ab9501507"
      },
      "source": [
        "downloaded = drive.CreateFile({'id':id}) \n",
        "downloaded.GetContentFile('ShareChat-IndoML-Datathon-NSFW-CommentChallenge_Train.csv')  \n",
        "df3 = pd.read_csv('ShareChat-IndoML-Datathon-NSFW-CommentChallenge_Train.csv',error_bad_lines=False)\n",
        "# Dataset is now stored in a Pandas Dataframe"
      ],
      "execution_count": null,
      "outputs": [
        {
          "output_type": "stream",
          "name": "stderr",
          "text": [
            "b'Skipping line 446: expected 10 fields, saw 13\\nSkipping line 614: expected 10 fields, saw 11\\nSkipping line 2576: expected 10 fields, saw 13\\nSkipping line 2762: expected 10 fields, saw 18\\nSkipping line 3384: expected 10 fields, saw 11\\nSkipping line 3831: expected 10 fields, saw 11\\nSkipping line 3892: expected 10 fields, saw 12\\nSkipping line 4037: expected 10 fields, saw 11\\nSkipping line 4042: expected 10 fields, saw 12\\nSkipping line 4739: expected 10 fields, saw 16\\nSkipping line 4846: expected 10 fields, saw 11\\nSkipping line 5306: expected 10 fields, saw 11\\nSkipping line 6271: expected 10 fields, saw 16\\nSkipping line 7853: expected 10 fields, saw 11\\nSkipping line 8970: expected 10 fields, saw 11\\nSkipping line 9937: expected 10 fields, saw 16\\nSkipping line 10511: expected 10 fields, saw 13\\nSkipping line 11199: expected 10 fields, saw 11\\nSkipping line 11455: expected 10 fields, saw 11\\nSkipping line 11711: expected 10 fields, saw 11\\nSkipping line 11785: expected 10 fields, saw 11\\nSkipping line 12339: expected 10 fields, saw 11\\nSkipping line 13147: expected 10 fields, saw 12\\nSkipping line 14088: expected 10 fields, saw 14\\nSkipping line 14283: expected 10 fields, saw 12\\nSkipping line 14811: expected 10 fields, saw 13\\nSkipping line 15687: expected 10 fields, saw 11\\nSkipping line 16873: expected 10 fields, saw 12\\nSkipping line 17659: expected 10 fields, saw 51\\nSkipping line 18220: expected 10 fields, saw 11\\nSkipping line 18324: expected 10 fields, saw 12\\nSkipping line 18432: expected 10 fields, saw 12\\nSkipping line 18642: expected 10 fields, saw 13\\nSkipping line 18935: expected 10 fields, saw 11\\nSkipping line 18956: expected 10 fields, saw 11\\nSkipping line 19309: expected 10 fields, saw 11\\nSkipping line 19329: expected 10 fields, saw 11\\nSkipping line 19555: expected 10 fields, saw 13\\nSkipping line 19842: expected 10 fields, saw 12\\nSkipping line 19890: expected 10 fields, saw 11\\nSkipping line 19918: expected 10 fields, saw 17\\nSkipping line 20003: expected 10 fields, saw 13\\nSkipping line 20387: expected 10 fields, saw 13\\nSkipping line 20644: expected 10 fields, saw 11\\nSkipping line 20687: expected 10 fields, saw 12\\nSkipping line 20697: expected 10 fields, saw 34\\nSkipping line 21769: expected 10 fields, saw 20\\nSkipping line 22260: expected 10 fields, saw 11\\nSkipping line 22947: expected 10 fields, saw 12\\nSkipping line 23486: expected 10 fields, saw 11\\nSkipping line 23640: expected 10 fields, saw 33\\nSkipping line 23669: expected 10 fields, saw 17\\nSkipping line 23805: expected 10 fields, saw 12\\nSkipping line 23841: expected 10 fields, saw 11\\nSkipping line 23855: expected 10 fields, saw 11\\nSkipping line 23863: expected 10 fields, saw 12\\nSkipping line 23868: expected 10 fields, saw 11\\nSkipping line 23934: expected 10 fields, saw 11\\nSkipping line 23936: expected 10 fields, saw 12\\nSkipping line 24261: expected 10 fields, saw 12\\nSkipping line 25012: expected 10 fields, saw 11\\nSkipping line 25310: expected 10 fields, saw 11\\nSkipping line 25337: expected 10 fields, saw 11\\nSkipping line 25606: expected 10 fields, saw 11\\nSkipping line 25823: expected 10 fields, saw 11\\nSkipping line 26078: expected 10 fields, saw 12\\nSkipping line 26112: expected 10 fields, saw 12\\nSkipping line 26853: expected 10 fields, saw 14\\nSkipping line 26897: expected 10 fields, saw 12\\nSkipping line 26954: expected 10 fields, saw 20\\nSkipping line 26980: expected 10 fields, saw 11\\nSkipping line 27202: expected 10 fields, saw 12\\nSkipping line 27262: expected 10 fields, saw 12\\nSkipping line 27694: expected 10 fields, saw 11\\nSkipping line 27758: expected 10 fields, saw 12\\nSkipping line 28165: expected 10 fields, saw 12\\nSkipping line 28572: expected 10 fields, saw 11\\nSkipping line 28653: expected 10 fields, saw 16\\nSkipping line 29105: expected 10 fields, saw 11\\nSkipping line 29226: expected 10 fields, saw 11\\nSkipping line 29767: expected 10 fields, saw 12\\nSkipping line 29836: expected 10 fields, saw 11\\nSkipping line 30020: expected 10 fields, saw 11\\nSkipping line 30136: expected 10 fields, saw 13\\nSkipping line 30183: expected 10 fields, saw 11\\nSkipping line 30289: expected 10 fields, saw 11\\nSkipping line 30700: expected 10 fields, saw 11\\nSkipping line 31205: expected 10 fields, saw 11\\nSkipping line 31392: expected 10 fields, saw 12\\nSkipping line 31913: expected 10 fields, saw 13\\nSkipping line 31994: expected 10 fields, saw 17\\nSkipping line 32185: expected 10 fields, saw 12\\nSkipping line 32323: expected 10 fields, saw 17\\nSkipping line 32524: expected 10 fields, saw 12\\nSkipping line 32664: expected 10 fields, saw 14\\nSkipping line 32749: expected 10 fields, saw 13\\nSkipping line 32759: expected 10 fields, saw 12\\nSkipping line 32837: expected 10 fields, saw 11\\nSkipping line 33146: expected 10 fields, saw 14\\nSkipping line 33175: expected 10 fields, saw 11\\nSkipping line 33275: expected 10 fields, saw 11\\nSkipping line 33426: expected 10 fields, saw 13\\nSkipping line 33433: expected 10 fields, saw 11\\nSkipping line 33563: expected 10 fields, saw 13\\nSkipping line 33817: expected 10 fields, saw 17\\nSkipping line 33835: expected 10 fields, saw 13\\nSkipping line 34013: expected 10 fields, saw 11\\nSkipping line 34015: expected 10 fields, saw 12\\nSkipping line 34320: expected 10 fields, saw 11\\nSkipping line 34382: expected 10 fields, saw 16\\nSkipping line 34594: expected 10 fields, saw 13\\nSkipping line 34757: expected 10 fields, saw 18\\nSkipping line 34969: expected 10 fields, saw 12\\nSkipping line 35068: expected 10 fields, saw 12\\nSkipping line 35139: expected 10 fields, saw 13\\nSkipping line 35159: expected 10 fields, saw 13\\nSkipping line 35202: expected 10 fields, saw 13\\nSkipping line 35437: expected 10 fields, saw 11\\nSkipping line 35718: expected 10 fields, saw 16\\nSkipping line 35750: expected 10 fields, saw 14\\nSkipping line 35811: expected 10 fields, saw 18\\nSkipping line 36240: expected 10 fields, saw 12\\nSkipping line 36436: expected 10 fields, saw 11\\nSkipping line 36740: expected 10 fields, saw 12\\nSkipping line 36845: expected 10 fields, saw 11\\nSkipping line 36938: expected 10 fields, saw 11\\nSkipping line 37368: expected 10 fields, saw 11\\nSkipping line 37735: expected 10 fields, saw 11\\nSkipping line 37947: expected 10 fields, saw 17\\nSkipping line 38164: expected 10 fields, saw 14\\nSkipping line 38263: expected 10 fields, saw 55\\nSkipping line 38319: expected 10 fields, saw 13\\nSkipping line 38597: expected 10 fields, saw 14\\nSkipping line 38616: expected 10 fields, saw 15\\nSkipping line 38618: expected 10 fields, saw 11\\nSkipping line 38699: expected 10 fields, saw 12\\nSkipping line 39004: expected 10 fields, saw 15\\nSkipping line 39010: expected 10 fields, saw 18\\nSkipping line 39116: expected 10 fields, saw 12\\nSkipping line 39227: expected 10 fields, saw 11\\nSkipping line 39405: expected 10 fields, saw 13\\nSkipping line 39466: expected 10 fields, saw 11\\nSkipping line 39499: expected 10 fields, saw 11\\nSkipping line 39954: expected 10 fields, saw 11\\nSkipping line 39992: expected 10 fields, saw 14\\nSkipping line 40262: expected 10 fields, saw 16\\nSkipping line 40479: expected 10 fields, saw 12\\nSkipping line 41365: expected 10 fields, saw 12\\nSkipping line 41436: expected 10 fields, saw 11\\nSkipping line 41480: expected 10 fields, saw 16\\nSkipping line 41618: expected 10 fields, saw 13\\nSkipping line 41865: expected 10 fields, saw 11\\nSkipping line 42283: expected 10 fields, saw 22\\nSkipping line 42420: expected 10 fields, saw 12\\nSkipping line 42467: expected 10 fields, saw 14\\nSkipping line 43192: expected 10 fields, saw 18\\nSkipping line 43242: expected 10 fields, saw 11\\nSkipping line 43323: expected 10 fields, saw 11\\nSkipping line 43354: expected 10 fields, saw 14\\nSkipping line 43863: expected 10 fields, saw 11\\nSkipping line 43870: expected 10 fields, saw 13\\nSkipping line 44227: expected 10 fields, saw 11\\nSkipping line 44398: expected 10 fields, saw 12\\nSkipping line 44635: expected 10 fields, saw 11\\nSkipping line 44679: expected 10 fields, saw 11\\nSkipping line 44860: expected 10 fields, saw 17\\nSkipping line 45082: expected 10 fields, saw 11\\nSkipping line 45170: expected 10 fields, saw 11\\nSkipping line 45391: expected 10 fields, saw 12\\nSkipping line 45500: expected 10 fields, saw 14\\nSkipping line 45530: expected 10 fields, saw 14\\nSkipping line 45651: expected 10 fields, saw 12\\nSkipping line 45829: expected 10 fields, saw 17\\nSkipping line 45939: expected 10 fields, saw 11\\nSkipping line 46100: expected 10 fields, saw 12\\nSkipping line 46382: expected 10 fields, saw 12\\nSkipping line 46549: expected 10 fields, saw 11\\nSkipping line 46737: expected 10 fields, saw 11\\nSkipping line 47089: expected 10 fields, saw 12\\nSkipping line 47109: expected 10 fields, saw 11\\nSkipping line 47113: expected 10 fields, saw 11\\nSkipping line 47381: expected 10 fields, saw 13\\nSkipping line 47421: expected 10 fields, saw 11\\nSkipping line 47453: expected 10 fields, saw 12\\nSkipping line 47930: expected 10 fields, saw 16\\nSkipping line 47988: expected 10 fields, saw 13\\nSkipping line 48188: expected 10 fields, saw 11\\nSkipping line 48540: expected 10 fields, saw 13\\nSkipping line 49092: expected 10 fields, saw 19\\nSkipping line 49237: expected 10 fields, saw 15\\nSkipping line 49347: expected 10 fields, saw 19\\nSkipping line 49837: expected 10 fields, saw 15\\nSkipping line 49893: expected 10 fields, saw 15\\nSkipping line 50175: expected 10 fields, saw 12\\nSkipping line 50407: expected 10 fields, saw 15\\nSkipping line 50483: expected 10 fields, saw 11\\nSkipping line 50505: expected 10 fields, saw 13\\nSkipping line 50564: expected 10 fields, saw 11\\nSkipping line 50605: expected 10 fields, saw 12\\nSkipping line 50631: expected 10 fields, saw 12\\nSkipping line 50931: expected 10 fields, saw 11\\nSkipping line 50958: expected 10 fields, saw 12\\nSkipping line 51100: expected 10 fields, saw 12\\nSkipping line 51134: expected 10 fields, saw 13\\nSkipping line 51181: expected 10 fields, saw 11\\nSkipping line 51311: expected 10 fields, saw 11\\nSkipping line 51384: expected 10 fields, saw 12\\nSkipping line 51404: expected 10 fields, saw 14\\nSkipping line 51441: expected 10 fields, saw 13\\nSkipping line 51599: expected 10 fields, saw 13\\nSkipping line 52687: expected 10 fields, saw 17\\nSkipping line 52703: expected 10 fields, saw 14\\nSkipping line 52796: expected 10 fields, saw 11\\nSkipping line 53037: expected 10 fields, saw 11\\nSkipping line 53141: expected 10 fields, saw 11\\nSkipping line 54339: expected 10 fields, saw 11\\nSkipping line 54612: expected 10 fields, saw 12\\nSkipping line 54717: expected 10 fields, saw 11\\nSkipping line 54735: expected 10 fields, saw 11\\nSkipping line 54815: expected 10 fields, saw 11\\nSkipping line 54905: expected 10 fields, saw 11\\nSkipping line 55090: expected 10 fields, saw 11\\nSkipping line 55104: expected 10 fields, saw 11\\nSkipping line 55123: expected 10 fields, saw 11\\nSkipping line 55166: expected 10 fields, saw 16\\nSkipping line 55954: expected 10 fields, saw 14\\nSkipping line 56037: expected 10 fields, saw 13\\nSkipping line 56414: expected 10 fields, saw 11\\nSkipping line 56448: expected 10 fields, saw 20\\nSkipping line 56646: expected 10 fields, saw 12\\nSkipping line 57265: expected 10 fields, saw 20\\nSkipping line 57375: expected 10 fields, saw 12\\nSkipping line 57582: expected 10 fields, saw 16\\nSkipping line 57997: expected 10 fields, saw 11\\nSkipping line 58252: expected 10 fields, saw 11\\nSkipping line 58280: expected 10 fields, saw 16\\nSkipping line 58282: expected 10 fields, saw 13\\nSkipping line 58683: expected 10 fields, saw 12\\nSkipping line 58936: expected 10 fields, saw 17\\nSkipping line 59025: expected 10 fields, saw 11\\nSkipping line 59950: expected 10 fields, saw 12\\nSkipping line 60196: expected 10 fields, saw 11\\nSkipping line 60252: expected 10 fields, saw 11\\nSkipping line 60701: expected 10 fields, saw 11\\nSkipping line 60873: expected 10 fields, saw 20\\nSkipping line 60996: expected 10 fields, saw 13\\nSkipping line 61141: expected 10 fields, saw 12\\nSkipping line 61314: expected 10 fields, saw 11\\nSkipping line 61459: expected 10 fields, saw 12\\nSkipping line 61547: expected 10 fields, saw 29\\nSkipping line 61609: expected 10 fields, saw 11\\nSkipping line 61808: expected 10 fields, saw 11\\nSkipping line 61810: expected 10 fields, saw 13\\nSkipping line 61827: expected 10 fields, saw 11\\nSkipping line 61947: expected 10 fields, saw 11\\nSkipping line 61949: expected 10 fields, saw 15\\nSkipping line 62105: expected 10 fields, saw 11\\nSkipping line 62149: expected 10 fields, saw 12\\nSkipping line 62453: expected 10 fields, saw 18\\nSkipping line 62511: expected 10 fields, saw 13\\nSkipping line 62595: expected 10 fields, saw 12\\nSkipping line 62959: expected 10 fields, saw 11\\nSkipping line 63066: expected 10 fields, saw 11\\nSkipping line 63224: expected 10 fields, saw 14\\nSkipping line 63347: expected 10 fields, saw 13\\nSkipping line 63462: expected 10 fields, saw 11\\nSkipping line 63647: expected 10 fields, saw 17\\nSkipping line 64105: expected 10 fields, saw 12\\nSkipping line 64320: expected 10 fields, saw 11\\nSkipping line 64492: expected 10 fields, saw 11\\nSkipping line 64525: expected 10 fields, saw 12\\nSkipping line 64625: expected 10 fields, saw 26\\nSkipping line 64742: expected 10 fields, saw 11\\nSkipping line 65135: expected 10 fields, saw 12\\nSkipping line 65225: expected 10 fields, saw 11\\n'\n",
            "b'Skipping line 65893: expected 10 fields, saw 11\\nSkipping line 66416: expected 10 fields, saw 12\\nSkipping line 66712: expected 10 fields, saw 12\\nSkipping line 66924: expected 10 fields, saw 12\\nSkipping line 67022: expected 10 fields, saw 12\\nSkipping line 67093: expected 10 fields, saw 12\\nSkipping line 67177: expected 10 fields, saw 11\\nSkipping line 67266: expected 10 fields, saw 14\\nSkipping line 67399: expected 10 fields, saw 16\\nSkipping line 67874: expected 10 fields, saw 13\\nSkipping line 67991: expected 10 fields, saw 11\\nSkipping line 68079: expected 10 fields, saw 13\\nSkipping line 68283: expected 10 fields, saw 11\\nSkipping line 68372: expected 10 fields, saw 12\\nSkipping line 68428: expected 10 fields, saw 11\\nSkipping line 68728: expected 10 fields, saw 11\\nSkipping line 69195: expected 10 fields, saw 15\\nSkipping line 69218: expected 10 fields, saw 17\\nSkipping line 69639: expected 10 fields, saw 11\\nSkipping line 69677: expected 10 fields, saw 12\\nSkipping line 69751: expected 10 fields, saw 17\\nSkipping line 70274: expected 10 fields, saw 17\\nSkipping line 70305: expected 10 fields, saw 11\\nSkipping line 70391: expected 10 fields, saw 11\\nSkipping line 70445: expected 10 fields, saw 12\\nSkipping line 70489: expected 10 fields, saw 14\\nSkipping line 70814: expected 10 fields, saw 12\\nSkipping line 70992: expected 10 fields, saw 11\\nSkipping line 71033: expected 10 fields, saw 11\\nSkipping line 71276: expected 10 fields, saw 11\\nSkipping line 71465: expected 10 fields, saw 11\\nSkipping line 71510: expected 10 fields, saw 11\\nSkipping line 71569: expected 10 fields, saw 13\\nSkipping line 71970: expected 10 fields, saw 14\\nSkipping line 72202: expected 10 fields, saw 11\\nSkipping line 72203: expected 10 fields, saw 29\\nSkipping line 72205: expected 10 fields, saw 14\\nSkipping line 72217: expected 10 fields, saw 11\\nSkipping line 72323: expected 10 fields, saw 11\\nSkipping line 72552: expected 10 fields, saw 14\\nSkipping line 72697: expected 10 fields, saw 12\\nSkipping line 72904: expected 10 fields, saw 28\\nSkipping line 73209: expected 10 fields, saw 11\\nSkipping line 73343: expected 10 fields, saw 11\\nSkipping line 73555: expected 10 fields, saw 49\\nSkipping line 73587: expected 10 fields, saw 19\\nSkipping line 73726: expected 10 fields, saw 23\\nSkipping line 73895: expected 10 fields, saw 12\\nSkipping line 73949: expected 10 fields, saw 11\\nSkipping line 73952: expected 10 fields, saw 12\\nSkipping line 73973: expected 10 fields, saw 20\\nSkipping line 74234: expected 10 fields, saw 11\\nSkipping line 74417: expected 10 fields, saw 11\\nSkipping line 74484: expected 10 fields, saw 11\\nSkipping line 74491: expected 10 fields, saw 11\\nSkipping line 74545: expected 10 fields, saw 13\\nSkipping line 74624: expected 10 fields, saw 21\\nSkipping line 74675: expected 10 fields, saw 11\\nSkipping line 74891: expected 10 fields, saw 15\\nSkipping line 74954: expected 10 fields, saw 11\\nSkipping line 75111: expected 10 fields, saw 11\\nSkipping line 75116: expected 10 fields, saw 12\\nSkipping line 75266: expected 10 fields, saw 11\\nSkipping line 75583: expected 10 fields, saw 20\\nSkipping line 75800: expected 10 fields, saw 11\\nSkipping line 75914: expected 10 fields, saw 13\\nSkipping line 76004: expected 10 fields, saw 11\\nSkipping line 76052: expected 10 fields, saw 20\\nSkipping line 76061: expected 10 fields, saw 11\\nSkipping line 76119: expected 10 fields, saw 11\\nSkipping line 76197: expected 10 fields, saw 12\\nSkipping line 76307: expected 10 fields, saw 13\\nSkipping line 76393: expected 10 fields, saw 12\\nSkipping line 76596: expected 10 fields, saw 11\\nSkipping line 76651: expected 10 fields, saw 11\\nSkipping line 77474: expected 10 fields, saw 13\\nSkipping line 77617: expected 10 fields, saw 13\\nSkipping line 77667: expected 10 fields, saw 12\\nSkipping line 77706: expected 10 fields, saw 17\\nSkipping line 77840: expected 10 fields, saw 12\\nSkipping line 77991: expected 10 fields, saw 11\\nSkipping line 78349: expected 10 fields, saw 15\\nSkipping line 78394: expected 10 fields, saw 12\\nSkipping line 78499: expected 10 fields, saw 12\\nSkipping line 78790: expected 10 fields, saw 11\\nSkipping line 79028: expected 10 fields, saw 12\\nSkipping line 79328: expected 10 fields, saw 11\\nSkipping line 79335: expected 10 fields, saw 17\\nSkipping line 79678: expected 10 fields, saw 12\\nSkipping line 79728: expected 10 fields, saw 11\\nSkipping line 79854: expected 10 fields, saw 11\\nSkipping line 80166: expected 10 fields, saw 11\\nSkipping line 80256: expected 10 fields, saw 11\\nSkipping line 80259: expected 10 fields, saw 15\\nSkipping line 80282: expected 10 fields, saw 11\\nSkipping line 80424: expected 10 fields, saw 11\\nSkipping line 80761: expected 10 fields, saw 19\\nSkipping line 81117: expected 10 fields, saw 11\\nSkipping line 81125: expected 10 fields, saw 11\\nSkipping line 81523: expected 10 fields, saw 11\\nSkipping line 81547: expected 10 fields, saw 13\\nSkipping line 81564: expected 10 fields, saw 12\\nSkipping line 81825: expected 10 fields, saw 13\\nSkipping line 82242: expected 10 fields, saw 12\\nSkipping line 82262: expected 10 fields, saw 14\\nSkipping line 82452: expected 10 fields, saw 11\\nSkipping line 82583: expected 10 fields, saw 11\\nSkipping line 82860: expected 10 fields, saw 17\\nSkipping line 82890: expected 10 fields, saw 18\\nSkipping line 83407: expected 10 fields, saw 11\\nSkipping line 83855: expected 10 fields, saw 11\\nSkipping line 84759: expected 10 fields, saw 11\\nSkipping line 84816: expected 10 fields, saw 12\\nSkipping line 85154: expected 10 fields, saw 14\\nSkipping line 85471: expected 10 fields, saw 12\\nSkipping line 85518: expected 10 fields, saw 11\\nSkipping line 85723: expected 10 fields, saw 12\\nSkipping line 85757: expected 10 fields, saw 24\\nSkipping line 85829: expected 10 fields, saw 13\\nSkipping line 85830: expected 10 fields, saw 13\\nSkipping line 86148: expected 10 fields, saw 24\\nSkipping line 87047: expected 10 fields, saw 14\\nSkipping line 87077: expected 10 fields, saw 13\\nSkipping line 87473: expected 10 fields, saw 11\\nSkipping line 87645: expected 10 fields, saw 12\\nSkipping line 88114: expected 10 fields, saw 14\\nSkipping line 88351: expected 10 fields, saw 13\\nSkipping line 88445: expected 10 fields, saw 11\\nSkipping line 88644: expected 10 fields, saw 13\\nSkipping line 88814: expected 10 fields, saw 12\\nSkipping line 88876: expected 10 fields, saw 13\\nSkipping line 88920: expected 10 fields, saw 13\\nSkipping line 89129: expected 10 fields, saw 11\\nSkipping line 89154: expected 10 fields, saw 21\\nSkipping line 89403: expected 10 fields, saw 11\\nSkipping line 89445: expected 10 fields, saw 13\\nSkipping line 89479: expected 10 fields, saw 11\\nSkipping line 90004: expected 10 fields, saw 12\\nSkipping line 90773: expected 10 fields, saw 13\\nSkipping line 90799: expected 10 fields, saw 11\\nSkipping line 90965: expected 10 fields, saw 11\\nSkipping line 90984: expected 10 fields, saw 11\\nSkipping line 91000: expected 10 fields, saw 18\\nSkipping line 91212: expected 10 fields, saw 13\\nSkipping line 91399: expected 10 fields, saw 11\\nSkipping line 91553: expected 10 fields, saw 12\\nSkipping line 91623: expected 10 fields, saw 12\\nSkipping line 91750: expected 10 fields, saw 12\\nSkipping line 91831: expected 10 fields, saw 11\\nSkipping line 91914: expected 10 fields, saw 11\\nSkipping line 92407: expected 10 fields, saw 27\\nSkipping line 92586: expected 10 fields, saw 12\\nSkipping line 92588: expected 10 fields, saw 12\\nSkipping line 92879: expected 10 fields, saw 12\\nSkipping line 92900: expected 10 fields, saw 15\\nSkipping line 92919: expected 10 fields, saw 11\\nSkipping line 93093: expected 10 fields, saw 11\\nSkipping line 93173: expected 10 fields, saw 11\\nSkipping line 93650: expected 10 fields, saw 12\\nSkipping line 93682: expected 10 fields, saw 11\\nSkipping line 93752: expected 10 fields, saw 13\\nSkipping line 93802: expected 10 fields, saw 12\\nSkipping line 93849: expected 10 fields, saw 13\\nSkipping line 93981: expected 10 fields, saw 17\\nSkipping line 94112: expected 10 fields, saw 14\\nSkipping line 94219: expected 10 fields, saw 11\\nSkipping line 94285: expected 10 fields, saw 11\\nSkipping line 94339: expected 10 fields, saw 12\\nSkipping line 94561: expected 10 fields, saw 13\\nSkipping line 95043: expected 10 fields, saw 11\\nSkipping line 95425: expected 10 fields, saw 30\\nSkipping line 95721: expected 10 fields, saw 11\\nSkipping line 95736: expected 10 fields, saw 11\\nSkipping line 95840: expected 10 fields, saw 11\\nSkipping line 95866: expected 10 fields, saw 13\\nSkipping line 95912: expected 10 fields, saw 11\\nSkipping line 95975: expected 10 fields, saw 11\\nSkipping line 96191: expected 10 fields, saw 12\\nSkipping line 96369: expected 10 fields, saw 12\\nSkipping line 96496: expected 10 fields, saw 14\\nSkipping line 96714: expected 10 fields, saw 11\\nSkipping line 96789: expected 10 fields, saw 17\\nSkipping line 96905: expected 10 fields, saw 11\\nSkipping line 96917: expected 10 fields, saw 11\\nSkipping line 96923: expected 10 fields, saw 13\\nSkipping line 97047: expected 10 fields, saw 11\\nSkipping line 97109: expected 10 fields, saw 11\\nSkipping line 97200: expected 10 fields, saw 13\\nSkipping line 97259: expected 10 fields, saw 11\\nSkipping line 97690: expected 10 fields, saw 14\\nSkipping line 97913: expected 10 fields, saw 12\\nSkipping line 98021: expected 10 fields, saw 15\\nSkipping line 98227: expected 10 fields, saw 12\\nSkipping line 98526: expected 10 fields, saw 18\\nSkipping line 98527: expected 10 fields, saw 11\\nSkipping line 98676: expected 10 fields, saw 11\\nSkipping line 98710: expected 10 fields, saw 14\\nSkipping line 99271: expected 10 fields, saw 12\\nSkipping line 99272: expected 10 fields, saw 15\\nSkipping line 99441: expected 10 fields, saw 12\\nSkipping line 99508: expected 10 fields, saw 13\\nSkipping line 100419: expected 10 fields, saw 12\\nSkipping line 100470: expected 10 fields, saw 11\\nSkipping line 100591: expected 10 fields, saw 22\\nSkipping line 100896: expected 10 fields, saw 13\\nSkipping line 101049: expected 10 fields, saw 11\\nSkipping line 101258: expected 10 fields, saw 13\\nSkipping line 101297: expected 10 fields, saw 15\\nSkipping line 101460: expected 10 fields, saw 12\\nSkipping line 101625: expected 10 fields, saw 11\\nSkipping line 102152: expected 10 fields, saw 11\\nSkipping line 102193: expected 10 fields, saw 14\\nSkipping line 102505: expected 10 fields, saw 15\\nSkipping line 102560: expected 10 fields, saw 11\\nSkipping line 102665: expected 10 fields, saw 11\\nSkipping line 103111: expected 10 fields, saw 12\\nSkipping line 103258: expected 10 fields, saw 11\\nSkipping line 103458: expected 10 fields, saw 12\\nSkipping line 103484: expected 10 fields, saw 11\\nSkipping line 104434: expected 10 fields, saw 13\\nSkipping line 104464: expected 10 fields, saw 21\\nSkipping line 104769: expected 10 fields, saw 14\\nSkipping line 104902: expected 10 fields, saw 12\\nSkipping line 105061: expected 10 fields, saw 22\\nSkipping line 105835: expected 10 fields, saw 14\\nSkipping line 105885: expected 10 fields, saw 63\\nSkipping line 106127: expected 10 fields, saw 11\\nSkipping line 106148: expected 10 fields, saw 30\\nSkipping line 106186: expected 10 fields, saw 11\\nSkipping line 106258: expected 10 fields, saw 11\\nSkipping line 106275: expected 10 fields, saw 11\\nSkipping line 106382: expected 10 fields, saw 14\\nSkipping line 106961: expected 10 fields, saw 17\\nSkipping line 107110: expected 10 fields, saw 11\\nSkipping line 107411: expected 10 fields, saw 11\\nSkipping line 107731: expected 10 fields, saw 12\\nSkipping line 107884: expected 10 fields, saw 14\\nSkipping line 107932: expected 10 fields, saw 11\\nSkipping line 108342: expected 10 fields, saw 12\\nSkipping line 108763: expected 10 fields, saw 16\\nSkipping line 108817: expected 10 fields, saw 18\\nSkipping line 108845: expected 10 fields, saw 14\\nSkipping line 108910: expected 10 fields, saw 11\\nSkipping line 109143: expected 10 fields, saw 13\\nSkipping line 109640: expected 10 fields, saw 11\\nSkipping line 109684: expected 10 fields, saw 11\\nSkipping line 109852: expected 10 fields, saw 14\\nSkipping line 110124: expected 10 fields, saw 11\\nSkipping line 110281: expected 10 fields, saw 11\\nSkipping line 110397: expected 10 fields, saw 14\\nSkipping line 110560: expected 10 fields, saw 13\\nSkipping line 110618: expected 10 fields, saw 13\\nSkipping line 110831: expected 10 fields, saw 11\\nSkipping line 110852: expected 10 fields, saw 14\\nSkipping line 111306: expected 10 fields, saw 12\\nSkipping line 111553: expected 10 fields, saw 11\\nSkipping line 112033: expected 10 fields, saw 13\\nSkipping line 112130: expected 10 fields, saw 15\\nSkipping line 112136: expected 10 fields, saw 14\\nSkipping line 112293: expected 10 fields, saw 19\\nSkipping line 112348: expected 10 fields, saw 11\\nSkipping line 112916: expected 10 fields, saw 12\\nSkipping line 113051: expected 10 fields, saw 12\\nSkipping line 113155: expected 10 fields, saw 11\\nSkipping line 113494: expected 10 fields, saw 11\\nSkipping line 113632: expected 10 fields, saw 11\\nSkipping line 113635: expected 10 fields, saw 11\\nSkipping line 114125: expected 10 fields, saw 12\\nSkipping line 114442: expected 10 fields, saw 11\\nSkipping line 114786: expected 10 fields, saw 14\\nSkipping line 114807: expected 10 fields, saw 12\\nSkipping line 114826: expected 10 fields, saw 11\\nSkipping line 115260: expected 10 fields, saw 12\\nSkipping line 115332: expected 10 fields, saw 11\\nSkipping line 115409: expected 10 fields, saw 12\\nSkipping line 115482: expected 10 fields, saw 11\\nSkipping line 115559: expected 10 fields, saw 13\\nSkipping line 115620: expected 10 fields, saw 11\\nSkipping line 116177: expected 10 fields, saw 22\\nSkipping line 116261: expected 10 fields, saw 11\\nSkipping line 116280: expected 10 fields, saw 11\\nSkipping line 116359: expected 10 fields, saw 11\\nSkipping line 116407: expected 10 fields, saw 21\\nSkipping line 116646: expected 10 fields, saw 12\\nSkipping line 116711: expected 10 fields, saw 12\\nSkipping line 116847: expected 10 fields, saw 11\\nSkipping line 116883: expected 10 fields, saw 11\\nSkipping line 116907: expected 10 fields, saw 13\\nSkipping line 117180: expected 10 fields, saw 11\\nSkipping line 117506: expected 10 fields, saw 13\\nSkipping line 117534: expected 10 fields, saw 11\\nSkipping line 117921: expected 10 fields, saw 11\\nSkipping line 117990: expected 10 fields, saw 14\\nSkipping line 119082: expected 10 fields, saw 16\\nSkipping line 119334: expected 10 fields, saw 12\\nSkipping line 119457: expected 10 fields, saw 11\\nSkipping line 119548: expected 10 fields, saw 12\\nSkipping line 120091: expected 10 fields, saw 11\\nSkipping line 120381: expected 10 fields, saw 11\\nSkipping line 120583: expected 10 fields, saw 11\\nSkipping line 120675: expected 10 fields, saw 14\\nSkipping line 121249: expected 10 fields, saw 12\\nSkipping line 121250: expected 10 fields, saw 12\\nSkipping line 121478: expected 10 fields, saw 13\\nSkipping line 121900: expected 10 fields, saw 12\\nSkipping line 122044: expected 10 fields, saw 11\\nSkipping line 122165: expected 10 fields, saw 15\\nSkipping line 122209: expected 10 fields, saw 37\\nSkipping line 122234: expected 10 fields, saw 11\\nSkipping line 122307: expected 10 fields, saw 11\\nSkipping line 122379: expected 10 fields, saw 11\\nSkipping line 123081: expected 10 fields, saw 12\\nSkipping line 123278: expected 10 fields, saw 13\\nSkipping line 123437: expected 10 fields, saw 15\\nSkipping line 123529: expected 10 fields, saw 18\\nSkipping line 123649: expected 10 fields, saw 11\\nSkipping line 123687: expected 10 fields, saw 12\\nSkipping line 123724: expected 10 fields, saw 11\\nSkipping line 123876: expected 10 fields, saw 11\\nSkipping line 123986: expected 10 fields, saw 13\\nSkipping line 124644: expected 10 fields, saw 11\\nSkipping line 124707: expected 10 fields, saw 11\\nSkipping line 124822: expected 10 fields, saw 17\\nSkipping line 125281: expected 10 fields, saw 18\\nSkipping line 125644: expected 10 fields, saw 13\\nSkipping line 125696: expected 10 fields, saw 14\\nSkipping line 125802: expected 10 fields, saw 11\\nSkipping line 126330: expected 10 fields, saw 11\\nSkipping line 126676: expected 10 fields, saw 13\\nSkipping line 126781: expected 10 fields, saw 15\\nSkipping line 127073: expected 10 fields, saw 11\\nSkipping line 127101: expected 10 fields, saw 13\\nSkipping line 127118: expected 10 fields, saw 11\\nSkipping line 127567: expected 10 fields, saw 16\\nSkipping line 127770: expected 10 fields, saw 11\\nSkipping line 127917: expected 10 fields, saw 12\\nSkipping line 128348: expected 10 fields, saw 12\\nSkipping line 128407: expected 10 fields, saw 13\\nSkipping line 128507: expected 10 fields, saw 17\\nSkipping line 128751: expected 10 fields, saw 11\\nSkipping line 128825: expected 10 fields, saw 12\\nSkipping line 128962: expected 10 fields, saw 11\\nSkipping line 128966: expected 10 fields, saw 11\\nSkipping line 129257: expected 10 fields, saw 21\\nSkipping line 129366: expected 10 fields, saw 13\\nSkipping line 129449: expected 10 fields, saw 14\\nSkipping line 129461: expected 10 fields, saw 11\\nSkipping line 129562: expected 10 fields, saw 49\\nSkipping line 129642: expected 10 fields, saw 11\\nSkipping line 129834: expected 10 fields, saw 35\\nSkipping line 130150: expected 10 fields, saw 13\\nSkipping line 130181: expected 10 fields, saw 11\\nSkipping line 130296: expected 10 fields, saw 11\\nSkipping line 130661: expected 10 fields, saw 16\\nSkipping line 130701: expected 10 fields, saw 12\\nSkipping line 130846: expected 10 fields, saw 11\\nSkipping line 130975: expected 10 fields, saw 11\\nSkipping line 131298: expected 10 fields, saw 11\\n'\n",
            "b'Skipping line 131780: expected 10 fields, saw 11\\nSkipping line 131864: expected 10 fields, saw 13\\nSkipping line 131956: expected 10 fields, saw 26\\nSkipping line 132051: expected 10 fields, saw 11\\nSkipping line 132060: expected 10 fields, saw 12\\nSkipping line 132230: expected 10 fields, saw 11\\nSkipping line 132302: expected 10 fields, saw 11\\nSkipping line 132457: expected 10 fields, saw 11\\nSkipping line 132662: expected 10 fields, saw 11\\nSkipping line 132788: expected 10 fields, saw 13\\nSkipping line 133035: expected 10 fields, saw 13\\nSkipping line 133088: expected 10 fields, saw 11\\nSkipping line 133157: expected 10 fields, saw 13\\nSkipping line 133310: expected 10 fields, saw 11\\nSkipping line 133561: expected 10 fields, saw 18\\nSkipping line 133859: expected 10 fields, saw 15\\nSkipping line 134086: expected 10 fields, saw 18\\nSkipping line 134324: expected 10 fields, saw 11\\nSkipping line 134469: expected 10 fields, saw 11\\nSkipping line 134584: expected 10 fields, saw 12\\nSkipping line 134751: expected 10 fields, saw 11\\nSkipping line 134776: expected 10 fields, saw 14\\nSkipping line 135122: expected 10 fields, saw 12\\nSkipping line 135148: expected 10 fields, saw 13\\nSkipping line 135297: expected 10 fields, saw 11\\nSkipping line 135447: expected 10 fields, saw 13\\nSkipping line 135875: expected 10 fields, saw 12\\nSkipping line 135883: expected 10 fields, saw 11\\nSkipping line 135906: expected 10 fields, saw 13\\nSkipping line 136026: expected 10 fields, saw 11\\nSkipping line 136027: expected 10 fields, saw 15\\nSkipping line 136051: expected 10 fields, saw 11\\nSkipping line 136123: expected 10 fields, saw 18\\nSkipping line 136255: expected 10 fields, saw 13\\nSkipping line 136364: expected 10 fields, saw 11\\nSkipping line 136401: expected 10 fields, saw 11\\nSkipping line 137268: expected 10 fields, saw 11\\nSkipping line 137509: expected 10 fields, saw 11\\nSkipping line 137549: expected 10 fields, saw 17\\nSkipping line 137905: expected 10 fields, saw 11\\nSkipping line 137915: expected 10 fields, saw 11\\nSkipping line 137926: expected 10 fields, saw 12\\nSkipping line 138171: expected 10 fields, saw 11\\nSkipping line 138508: expected 10 fields, saw 11\\nSkipping line 139050: expected 10 fields, saw 11\\nSkipping line 139523: expected 10 fields, saw 11\\nSkipping line 140499: expected 10 fields, saw 13\\nSkipping line 140702: expected 10 fields, saw 11\\nSkipping line 140711: expected 10 fields, saw 11\\nSkipping line 140796: expected 10 fields, saw 13\\nSkipping line 140818: expected 10 fields, saw 12\\nSkipping line 140927: expected 10 fields, saw 21\\nSkipping line 140930: expected 10 fields, saw 11\\nSkipping line 141135: expected 10 fields, saw 13\\nSkipping line 141329: expected 10 fields, saw 13\\nSkipping line 141378: expected 10 fields, saw 15\\nSkipping line 141397: expected 10 fields, saw 11\\nSkipping line 141553: expected 10 fields, saw 11\\nSkipping line 141602: expected 10 fields, saw 13\\nSkipping line 141732: expected 10 fields, saw 13\\nSkipping line 141936: expected 10 fields, saw 13\\nSkipping line 142125: expected 10 fields, saw 12\\nSkipping line 142152: expected 10 fields, saw 12\\nSkipping line 142301: expected 10 fields, saw 11\\nSkipping line 142364: expected 10 fields, saw 11\\nSkipping line 142393: expected 10 fields, saw 12\\nSkipping line 142578: expected 10 fields, saw 12\\nSkipping line 142709: expected 10 fields, saw 12\\nSkipping line 143167: expected 10 fields, saw 29\\nSkipping line 143220: expected 10 fields, saw 11\\nSkipping line 143602: expected 10 fields, saw 12\\nSkipping line 143611: expected 10 fields, saw 11\\nSkipping line 143811: expected 10 fields, saw 14\\nSkipping line 143833: expected 10 fields, saw 15\\nSkipping line 143989: expected 10 fields, saw 11\\nSkipping line 144248: expected 10 fields, saw 12\\nSkipping line 144345: expected 10 fields, saw 11\\nSkipping line 144480: expected 10 fields, saw 11\\nSkipping line 144533: expected 10 fields, saw 13\\nSkipping line 144739: expected 10 fields, saw 13\\nSkipping line 144855: expected 10 fields, saw 15\\nSkipping line 144970: expected 10 fields, saw 11\\nSkipping line 145051: expected 10 fields, saw 12\\nSkipping line 145152: expected 10 fields, saw 14\\nSkipping line 145171: expected 10 fields, saw 11\\nSkipping line 145289: expected 10 fields, saw 11\\nSkipping line 145410: expected 10 fields, saw 12\\nSkipping line 145467: expected 10 fields, saw 11\\nSkipping line 145640: expected 10 fields, saw 11\\nSkipping line 146051: expected 10 fields, saw 13\\nSkipping line 146292: expected 10 fields, saw 14\\nSkipping line 146448: expected 10 fields, saw 13\\nSkipping line 146544: expected 10 fields, saw 33\\nSkipping line 146664: expected 10 fields, saw 11\\nSkipping line 146756: expected 10 fields, saw 11\\nSkipping line 147509: expected 10 fields, saw 12\\nSkipping line 148316: expected 10 fields, saw 11\\nSkipping line 148424: expected 10 fields, saw 16\\nSkipping line 148492: expected 10 fields, saw 11\\nSkipping line 148551: expected 10 fields, saw 11\\nSkipping line 148976: expected 10 fields, saw 11\\nSkipping line 149094: expected 10 fields, saw 11\\nSkipping line 149137: expected 10 fields, saw 14\\nSkipping line 149186: expected 10 fields, saw 12\\nSkipping line 149238: expected 10 fields, saw 12\\nSkipping line 149337: expected 10 fields, saw 21\\nSkipping line 149852: expected 10 fields, saw 17\\nSkipping line 149874: expected 10 fields, saw 13\\nSkipping line 150014: expected 10 fields, saw 13\\nSkipping line 150108: expected 10 fields, saw 13\\nSkipping line 150222: expected 10 fields, saw 17\\nSkipping line 150876: expected 10 fields, saw 11\\nSkipping line 151044: expected 10 fields, saw 20\\nSkipping line 151100: expected 10 fields, saw 11\\nSkipping line 151188: expected 10 fields, saw 14\\nSkipping line 151286: expected 10 fields, saw 11\\nSkipping line 151326: expected 10 fields, saw 13\\nSkipping line 151437: expected 10 fields, saw 12\\nSkipping line 151562: expected 10 fields, saw 15\\nSkipping line 151800: expected 10 fields, saw 11\\nSkipping line 152246: expected 10 fields, saw 16\\nSkipping line 152340: expected 10 fields, saw 14\\nSkipping line 152389: expected 10 fields, saw 11\\nSkipping line 152954: expected 10 fields, saw 11\\nSkipping line 152956: expected 10 fields, saw 14\\nSkipping line 153503: expected 10 fields, saw 11\\nSkipping line 153567: expected 10 fields, saw 12\\nSkipping line 153750: expected 10 fields, saw 11\\nSkipping line 153871: expected 10 fields, saw 11\\nSkipping line 154028: expected 10 fields, saw 11\\nSkipping line 154066: expected 10 fields, saw 14\\nSkipping line 154095: expected 10 fields, saw 11\\nSkipping line 154097: expected 10 fields, saw 14\\nSkipping line 154473: expected 10 fields, saw 16\\nSkipping line 154511: expected 10 fields, saw 16\\nSkipping line 154522: expected 10 fields, saw 16\\nSkipping line 154750: expected 10 fields, saw 12\\nSkipping line 154851: expected 10 fields, saw 13\\nSkipping line 154929: expected 10 fields, saw 12\\nSkipping line 154963: expected 10 fields, saw 17\\nSkipping line 155015: expected 10 fields, saw 12\\nSkipping line 155357: expected 10 fields, saw 11\\nSkipping line 155399: expected 10 fields, saw 20\\nSkipping line 155585: expected 10 fields, saw 12\\nSkipping line 155588: expected 10 fields, saw 12\\nSkipping line 156002: expected 10 fields, saw 18\\nSkipping line 156064: expected 10 fields, saw 12\\nSkipping line 156502: expected 10 fields, saw 11\\nSkipping line 156513: expected 10 fields, saw 21\\nSkipping line 156515: expected 10 fields, saw 13\\nSkipping line 156625: expected 10 fields, saw 11\\nSkipping line 156801: expected 10 fields, saw 13\\nSkipping line 156942: expected 10 fields, saw 11\\nSkipping line 157017: expected 10 fields, saw 13\\nSkipping line 157069: expected 10 fields, saw 14\\nSkipping line 157208: expected 10 fields, saw 13\\nSkipping line 157364: expected 10 fields, saw 13\\nSkipping line 157516: expected 10 fields, saw 11\\nSkipping line 157551: expected 10 fields, saw 12\\nSkipping line 157804: expected 10 fields, saw 22\\nSkipping line 158257: expected 10 fields, saw 11\\nSkipping line 158563: expected 10 fields, saw 11\\nSkipping line 158653: expected 10 fields, saw 51\\nSkipping line 158731: expected 10 fields, saw 12\\nSkipping line 158838: expected 10 fields, saw 11\\nSkipping line 158876: expected 10 fields, saw 12\\nSkipping line 158926: expected 10 fields, saw 29\\nSkipping line 159180: expected 10 fields, saw 16\\nSkipping line 159252: expected 10 fields, saw 11\\nSkipping line 159520: expected 10 fields, saw 11\\nSkipping line 159991: expected 10 fields, saw 11\\nSkipping line 160015: expected 10 fields, saw 13\\nSkipping line 160021: expected 10 fields, saw 11\\nSkipping line 160043: expected 10 fields, saw 13\\nSkipping line 160328: expected 10 fields, saw 12\\nSkipping line 160393: expected 10 fields, saw 11\\nSkipping line 160419: expected 10 fields, saw 13\\nSkipping line 160689: expected 10 fields, saw 22\\nSkipping line 160897: expected 10 fields, saw 12\\nSkipping line 160972: expected 10 fields, saw 11\\nSkipping line 161144: expected 10 fields, saw 11\\nSkipping line 161252: expected 10 fields, saw 11\\nSkipping line 161513: expected 10 fields, saw 11\\nSkipping line 161597: expected 10 fields, saw 12\\nSkipping line 161713: expected 10 fields, saw 11\\nSkipping line 161784: expected 10 fields, saw 13\\nSkipping line 161898: expected 10 fields, saw 13\\nSkipping line 161926: expected 10 fields, saw 11\\nSkipping line 162017: expected 10 fields, saw 23\\nSkipping line 162062: expected 10 fields, saw 11\\nSkipping line 162093: expected 10 fields, saw 13\\nSkipping line 162367: expected 10 fields, saw 12\\nSkipping line 162399: expected 10 fields, saw 13\\nSkipping line 162438: expected 10 fields, saw 13\\nSkipping line 162953: expected 10 fields, saw 11\\nSkipping line 163423: expected 10 fields, saw 12\\nSkipping line 163442: expected 10 fields, saw 16\\nSkipping line 163450: expected 10 fields, saw 11\\nSkipping line 164099: expected 10 fields, saw 12\\nSkipping line 164615: expected 10 fields, saw 11\\nSkipping line 164885: expected 10 fields, saw 11\\nSkipping line 165004: expected 10 fields, saw 11\\nSkipping line 165301: expected 10 fields, saw 21\\nSkipping line 165304: expected 10 fields, saw 12\\nSkipping line 165696: expected 10 fields, saw 11\\nSkipping line 165782: expected 10 fields, saw 12\\nSkipping line 165947: expected 10 fields, saw 12\\nSkipping line 166138: expected 10 fields, saw 11\\nSkipping line 166397: expected 10 fields, saw 11\\nSkipping line 166621: expected 10 fields, saw 11\\nSkipping line 166693: expected 10 fields, saw 12\\nSkipping line 166810: expected 10 fields, saw 11\\nSkipping line 166839: expected 10 fields, saw 12\\nSkipping line 167173: expected 10 fields, saw 11\\nSkipping line 167324: expected 10 fields, saw 12\\nSkipping line 167630: expected 10 fields, saw 11\\nSkipping line 167652: expected 10 fields, saw 11\\nSkipping line 167688: expected 10 fields, saw 17\\nSkipping line 167799: expected 10 fields, saw 13\\nSkipping line 168011: expected 10 fields, saw 11\\nSkipping line 168012: expected 10 fields, saw 11\\nSkipping line 168144: expected 10 fields, saw 25\\nSkipping line 168277: expected 10 fields, saw 15\\nSkipping line 168397: expected 10 fields, saw 18\\nSkipping line 168428: expected 10 fields, saw 12\\nSkipping line 168794: expected 10 fields, saw 11\\nSkipping line 169039: expected 10 fields, saw 11\\nSkipping line 169319: expected 10 fields, saw 11\\nSkipping line 169820: expected 10 fields, saw 11\\nSkipping line 169849: expected 10 fields, saw 13\\nSkipping line 169873: expected 10 fields, saw 11\\nSkipping line 169903: expected 10 fields, saw 11\\nSkipping line 170242: expected 10 fields, saw 11\\nSkipping line 170449: expected 10 fields, saw 11\\nSkipping line 170475: expected 10 fields, saw 14\\nSkipping line 170479: expected 10 fields, saw 13\\nSkipping line 170665: expected 10 fields, saw 17\\nSkipping line 170702: expected 10 fields, saw 14\\nSkipping line 170971: expected 10 fields, saw 11\\nSkipping line 171183: expected 10 fields, saw 29\\nSkipping line 171368: expected 10 fields, saw 20\\nSkipping line 171813: expected 10 fields, saw 12\\nSkipping line 172029: expected 10 fields, saw 11\\nSkipping line 172264: expected 10 fields, saw 18\\nSkipping line 172409: expected 10 fields, saw 20\\nSkipping line 172688: expected 10 fields, saw 11\\nSkipping line 172763: expected 10 fields, saw 12\\nSkipping line 173025: expected 10 fields, saw 12\\nSkipping line 173048: expected 10 fields, saw 11\\nSkipping line 173544: expected 10 fields, saw 26\\nSkipping line 175269: expected 10 fields, saw 11\\nSkipping line 175698: expected 10 fields, saw 19\\nSkipping line 175725: expected 10 fields, saw 11\\nSkipping line 176073: expected 10 fields, saw 12\\nSkipping line 176128: expected 10 fields, saw 25\\nSkipping line 176231: expected 10 fields, saw 12\\nSkipping line 176359: expected 10 fields, saw 17\\nSkipping line 176881: expected 10 fields, saw 11\\nSkipping line 177127: expected 10 fields, saw 14\\nSkipping line 177188: expected 10 fields, saw 26\\nSkipping line 178102: expected 10 fields, saw 12\\nSkipping line 178849: expected 10 fields, saw 11\\nSkipping line 179281: expected 10 fields, saw 11\\nSkipping line 180491: expected 10 fields, saw 12\\nSkipping line 180612: expected 10 fields, saw 13\\nSkipping line 181537: expected 10 fields, saw 12\\nSkipping line 182018: expected 10 fields, saw 12\\nSkipping line 182723: expected 10 fields, saw 12\\nSkipping line 182934: expected 10 fields, saw 26\\nSkipping line 183009: expected 10 fields, saw 11\\nSkipping line 183061: expected 10 fields, saw 11\\nSkipping line 183780: expected 10 fields, saw 12\\nSkipping line 183809: expected 10 fields, saw 11\\nSkipping line 183815: expected 10 fields, saw 19\\nSkipping line 184201: expected 10 fields, saw 11\\nSkipping line 184700: expected 10 fields, saw 29\\nSkipping line 184717: expected 10 fields, saw 11\\nSkipping line 184882: expected 10 fields, saw 11\\nSkipping line 185122: expected 10 fields, saw 23\\nSkipping line 185572: expected 10 fields, saw 14\\nSkipping line 185852: expected 10 fields, saw 14\\nSkipping line 185873: expected 10 fields, saw 11\\nSkipping line 186048: expected 10 fields, saw 11\\nSkipping line 186423: expected 10 fields, saw 11\\nSkipping line 186470: expected 10 fields, saw 11\\nSkipping line 186648: expected 10 fields, saw 12\\nSkipping line 187302: expected 10 fields, saw 11\\nSkipping line 188130: expected 10 fields, saw 11\\nSkipping line 189026: expected 10 fields, saw 11\\nSkipping line 189074: expected 10 fields, saw 13\\nSkipping line 189350: expected 10 fields, saw 15\\nSkipping line 189558: expected 10 fields, saw 11\\nSkipping line 190973: expected 10 fields, saw 11\\nSkipping line 191044: expected 10 fields, saw 11\\nSkipping line 191773: expected 10 fields, saw 16\\nSkipping line 192153: expected 10 fields, saw 11\\nSkipping line 192269: expected 10 fields, saw 12\\nSkipping line 192626: expected 10 fields, saw 11\\nSkipping line 192662: expected 10 fields, saw 11\\nSkipping line 193796: expected 10 fields, saw 11\\nSkipping line 193821: expected 10 fields, saw 11\\nSkipping line 194439: expected 10 fields, saw 16\\nSkipping line 195501: expected 10 fields, saw 11\\nSkipping line 195732: expected 10 fields, saw 13\\nSkipping line 195838: expected 10 fields, saw 15\\nSkipping line 195906: expected 10 fields, saw 11\\nSkipping line 196192: expected 10 fields, saw 11\\nSkipping line 197117: expected 10 fields, saw 11\\n'\n",
            "b'Skipping line 197681: expected 10 fields, saw 11\\nSkipping line 198137: expected 10 fields, saw 11\\nSkipping line 198611: expected 10 fields, saw 11\\nSkipping line 199307: expected 10 fields, saw 11\\nSkipping line 199419: expected 10 fields, saw 11\\nSkipping line 200019: expected 10 fields, saw 14\\nSkipping line 200302: expected 10 fields, saw 11\\nSkipping line 200346: expected 10 fields, saw 13\\nSkipping line 201084: expected 10 fields, saw 17\\nSkipping line 201100: expected 10 fields, saw 11\\nSkipping line 203105: expected 10 fields, saw 12\\nSkipping line 203437: expected 10 fields, saw 12\\nSkipping line 203781: expected 10 fields, saw 11\\nSkipping line 204285: expected 10 fields, saw 11\\nSkipping line 205480: expected 10 fields, saw 12\\nSkipping line 206102: expected 10 fields, saw 11\\nSkipping line 207487: expected 10 fields, saw 11\\nSkipping line 208034: expected 10 fields, saw 11\\nSkipping line 208666: expected 10 fields, saw 11\\nSkipping line 209301: expected 10 fields, saw 12\\nSkipping line 209325: expected 10 fields, saw 11\\nSkipping line 209946: expected 10 fields, saw 13\\nSkipping line 210513: expected 10 fields, saw 11\\nSkipping line 211707: expected 10 fields, saw 23\\nSkipping line 212136: expected 10 fields, saw 13\\nSkipping line 212457: expected 10 fields, saw 11\\nSkipping line 212764: expected 10 fields, saw 11\\nSkipping line 213930: expected 10 fields, saw 12\\nSkipping line 214706: expected 10 fields, saw 13\\nSkipping line 215704: expected 10 fields, saw 12\\nSkipping line 216111: expected 10 fields, saw 12\\nSkipping line 216467: expected 10 fields, saw 11\\nSkipping line 216650: expected 10 fields, saw 11\\nSkipping line 216795: expected 10 fields, saw 14\\nSkipping line 216917: expected 10 fields, saw 13\\nSkipping line 217205: expected 10 fields, saw 11\\nSkipping line 218174: expected 10 fields, saw 13\\nSkipping line 219545: expected 10 fields, saw 12\\nSkipping line 220315: expected 10 fields, saw 11\\nSkipping line 220757: expected 10 fields, saw 11\\nSkipping line 220921: expected 10 fields, saw 11\\nSkipping line 221681: expected 10 fields, saw 11\\nSkipping line 222176: expected 10 fields, saw 11\\nSkipping line 222765: expected 10 fields, saw 15\\nSkipping line 222891: expected 10 fields, saw 27\\nSkipping line 223676: expected 10 fields, saw 11\\nSkipping line 224892: expected 10 fields, saw 12\\nSkipping line 225425: expected 10 fields, saw 12\\nSkipping line 225553: expected 10 fields, saw 11\\nSkipping line 225593: expected 10 fields, saw 12\\nSkipping line 227644: expected 10 fields, saw 12\\nSkipping line 227695: expected 10 fields, saw 13\\nSkipping line 228036: expected 10 fields, saw 11\\nSkipping line 228472: expected 10 fields, saw 12\\nSkipping line 229868: expected 10 fields, saw 19\\nSkipping line 230250: expected 10 fields, saw 17\\nSkipping line 230588: expected 10 fields, saw 12\\nSkipping line 230947: expected 10 fields, saw 12\\nSkipping line 231645: expected 10 fields, saw 11\\nSkipping line 233223: expected 10 fields, saw 12\\nSkipping line 233554: expected 10 fields, saw 12\\nSkipping line 233889: expected 10 fields, saw 13\\nSkipping line 234520: expected 10 fields, saw 13\\nSkipping line 235487: expected 10 fields, saw 14\\nSkipping line 237201: expected 10 fields, saw 11\\nSkipping line 237560: expected 10 fields, saw 15\\nSkipping line 237692: expected 10 fields, saw 24\\nSkipping line 237726: expected 10 fields, saw 11\\nSkipping line 238156: expected 10 fields, saw 15\\nSkipping line 238188: expected 10 fields, saw 13\\nSkipping line 238227: expected 10 fields, saw 14\\nSkipping line 238468: expected 10 fields, saw 11\\nSkipping line 239711: expected 10 fields, saw 14\\nSkipping line 239815: expected 10 fields, saw 14\\nSkipping line 240507: expected 10 fields, saw 11\\nSkipping line 240890: expected 10 fields, saw 11\\nSkipping line 242393: expected 10 fields, saw 11\\nSkipping line 242460: expected 10 fields, saw 11\\nSkipping line 242602: expected 10 fields, saw 12\\nSkipping line 242829: expected 10 fields, saw 13\\nSkipping line 243751: expected 10 fields, saw 11\\nSkipping line 243822: expected 10 fields, saw 11\\nSkipping line 244259: expected 10 fields, saw 12\\nSkipping line 244317: expected 10 fields, saw 11\\nSkipping line 245499: expected 10 fields, saw 16\\nSkipping line 246794: expected 10 fields, saw 12\\nSkipping line 248651: expected 10 fields, saw 11\\nSkipping line 249143: expected 10 fields, saw 12\\nSkipping line 249730: expected 10 fields, saw 12\\nSkipping line 250391: expected 10 fields, saw 12\\nSkipping line 250615: expected 10 fields, saw 11\\nSkipping line 250717: expected 10 fields, saw 16\\nSkipping line 252152: expected 10 fields, saw 11\\nSkipping line 253629: expected 10 fields, saw 13\\nSkipping line 254696: expected 10 fields, saw 14\\nSkipping line 255710: expected 10 fields, saw 12\\nSkipping line 256756: expected 10 fields, saw 14\\nSkipping line 257465: expected 10 fields, saw 13\\nSkipping line 257521: expected 10 fields, saw 11\\nSkipping line 257940: expected 10 fields, saw 11\\nSkipping line 258445: expected 10 fields, saw 11\\nSkipping line 259512: expected 10 fields, saw 13\\nSkipping line 260367: expected 10 fields, saw 13\\nSkipping line 260768: expected 10 fields, saw 12\\nSkipping line 261033: expected 10 fields, saw 11\\nSkipping line 262292: expected 10 fields, saw 12\\nSkipping line 262916: expected 10 fields, saw 11\\n'\n",
            "b'Skipping line 263419: expected 10 fields, saw 11\\nSkipping line 265279: expected 10 fields, saw 11\\nSkipping line 265530: expected 10 fields, saw 14\\nSkipping line 266857: expected 10 fields, saw 13\\nSkipping line 267562: expected 10 fields, saw 11\\nSkipping line 267721: expected 10 fields, saw 11\\nSkipping line 268946: expected 10 fields, saw 11\\nSkipping line 271895: expected 10 fields, saw 11\\nSkipping line 272150: expected 10 fields, saw 11\\nSkipping line 272399: expected 10 fields, saw 30\\nSkipping line 273476: expected 10 fields, saw 11\\nSkipping line 275378: expected 10 fields, saw 11\\nSkipping line 275932: expected 10 fields, saw 15\\nSkipping line 278400: expected 10 fields, saw 12\\nSkipping line 278857: expected 10 fields, saw 11\\nSkipping line 279423: expected 10 fields, saw 11\\nSkipping line 279581: expected 10 fields, saw 11\\nSkipping line 279617: expected 10 fields, saw 13\\nSkipping line 280638: expected 10 fields, saw 11\\nSkipping line 281185: expected 10 fields, saw 11\\nSkipping line 282036: expected 10 fields, saw 11\\nSkipping line 282330: expected 10 fields, saw 11\\nSkipping line 282417: expected 10 fields, saw 12\\nSkipping line 283103: expected 10 fields, saw 12\\nSkipping line 283295: expected 10 fields, saw 11\\nSkipping line 284271: expected 10 fields, saw 14\\nSkipping line 284296: expected 10 fields, saw 11\\nSkipping line 284766: expected 10 fields, saw 13\\nSkipping line 285294: expected 10 fields, saw 12\\nSkipping line 285933: expected 10 fields, saw 11\\nSkipping line 286096: expected 10 fields, saw 11\\nSkipping line 286617: expected 10 fields, saw 16\\nSkipping line 287578: expected 10 fields, saw 14\\nSkipping line 287614: expected 10 fields, saw 15\\nSkipping line 287789: expected 10 fields, saw 11\\nSkipping line 288390: expected 10 fields, saw 11\\nSkipping line 288509: expected 10 fields, saw 14\\nSkipping line 288646: expected 10 fields, saw 11\\nSkipping line 289164: expected 10 fields, saw 14\\nSkipping line 291366: expected 10 fields, saw 26\\nSkipping line 291787: expected 10 fields, saw 11\\nSkipping line 292596: expected 10 fields, saw 11\\nSkipping line 293178: expected 10 fields, saw 11\\nSkipping line 294403: expected 10 fields, saw 12\\nSkipping line 295441: expected 10 fields, saw 12\\nSkipping line 295902: expected 10 fields, saw 13\\nSkipping line 297146: expected 10 fields, saw 13\\nSkipping line 297259: expected 10 fields, saw 11\\nSkipping line 297486: expected 10 fields, saw 14\\nSkipping line 297490: expected 10 fields, saw 11\\nSkipping line 298504: expected 10 fields, saw 11\\nSkipping line 298860: expected 10 fields, saw 14\\nSkipping line 299045: expected 10 fields, saw 14\\nSkipping line 300015: expected 10 fields, saw 11\\nSkipping line 300496: expected 10 fields, saw 15\\nSkipping line 302069: expected 10 fields, saw 13\\nSkipping line 302101: expected 10 fields, saw 11\\nSkipping line 302329: expected 10 fields, saw 11\\nSkipping line 302485: expected 10 fields, saw 25\\nSkipping line 302691: expected 10 fields, saw 11\\nSkipping line 302786: expected 10 fields, saw 11\\nSkipping line 303612: expected 10 fields, saw 15\\nSkipping line 303844: expected 10 fields, saw 14\\nSkipping line 304297: expected 10 fields, saw 13\\nSkipping line 304368: expected 10 fields, saw 11\\nSkipping line 305045: expected 10 fields, saw 13\\nSkipping line 306622: expected 10 fields, saw 18\\nSkipping line 306858: expected 10 fields, saw 12\\nSkipping line 307019: expected 10 fields, saw 11\\nSkipping line 307699: expected 10 fields, saw 12\\nSkipping line 308214: expected 10 fields, saw 11\\nSkipping line 310387: expected 10 fields, saw 11\\nSkipping line 311108: expected 10 fields, saw 13\\nSkipping line 311435: expected 10 fields, saw 11\\nSkipping line 311914: expected 10 fields, saw 15\\nSkipping line 313264: expected 10 fields, saw 23\\nSkipping line 313757: expected 10 fields, saw 11\\nSkipping line 313826: expected 10 fields, saw 12\\nSkipping line 314012: expected 10 fields, saw 12\\nSkipping line 314083: expected 10 fields, saw 15\\nSkipping line 314668: expected 10 fields, saw 12\\nSkipping line 314753: expected 10 fields, saw 11\\nSkipping line 314757: expected 10 fields, saw 11\\nSkipping line 314886: expected 10 fields, saw 15\\nSkipping line 315257: expected 10 fields, saw 14\\nSkipping line 315601: expected 10 fields, saw 17\\nSkipping line 316178: expected 10 fields, saw 14\\nSkipping line 316372: expected 10 fields, saw 15\\nSkipping line 316391: expected 10 fields, saw 11\\nSkipping line 316837: expected 10 fields, saw 13\\nSkipping line 317001: expected 10 fields, saw 11\\nSkipping line 317106: expected 10 fields, saw 12\\nSkipping line 317639: expected 10 fields, saw 14\\nSkipping line 317691: expected 10 fields, saw 13\\nSkipping line 317922: expected 10 fields, saw 14\\nSkipping line 318062: expected 10 fields, saw 12\\nSkipping line 318665: expected 10 fields, saw 11\\nSkipping line 318729: expected 10 fields, saw 11\\nSkipping line 318884: expected 10 fields, saw 11\\nSkipping line 318985: expected 10 fields, saw 26\\nSkipping line 319189: expected 10 fields, saw 12\\nSkipping line 319490: expected 10 fields, saw 12\\nSkipping line 319668: expected 10 fields, saw 17\\nSkipping line 319785: expected 10 fields, saw 11\\nSkipping line 319878: expected 10 fields, saw 11\\nSkipping line 319938: expected 10 fields, saw 11\\nSkipping line 320109: expected 10 fields, saw 12\\nSkipping line 320294: expected 10 fields, saw 11\\nSkipping line 320305: expected 10 fields, saw 12\\nSkipping line 320744: expected 10 fields, saw 11\\nSkipping line 320767: expected 10 fields, saw 11\\nSkipping line 320774: expected 10 fields, saw 11\\nSkipping line 320781: expected 10 fields, saw 11\\nSkipping line 321486: expected 10 fields, saw 11\\nSkipping line 321663: expected 10 fields, saw 12\\nSkipping line 321704: expected 10 fields, saw 20\\nSkipping line 321710: expected 10 fields, saw 11\\nSkipping line 322093: expected 10 fields, saw 11\\nSkipping line 322119: expected 10 fields, saw 14\\nSkipping line 322358: expected 10 fields, saw 11\\nSkipping line 322470: expected 10 fields, saw 11\\nSkipping line 322722: expected 10 fields, saw 17\\nSkipping line 323093: expected 10 fields, saw 18\\nSkipping line 323132: expected 10 fields, saw 12\\nSkipping line 323263: expected 10 fields, saw 11\\nSkipping line 323796: expected 10 fields, saw 11\\nSkipping line 324277: expected 10 fields, saw 11\\nSkipping line 324319: expected 10 fields, saw 11\\nSkipping line 324362: expected 10 fields, saw 11\\nSkipping line 324574: expected 10 fields, saw 12\\nSkipping line 324699: expected 10 fields, saw 17\\nSkipping line 324738: expected 10 fields, saw 12\\nSkipping line 324890: expected 10 fields, saw 12\\nSkipping line 325182: expected 10 fields, saw 15\\nSkipping line 325191: expected 10 fields, saw 12\\nSkipping line 325277: expected 10 fields, saw 16\\nSkipping line 325404: expected 10 fields, saw 18\\nSkipping line 325786: expected 10 fields, saw 12\\nSkipping line 325787: expected 10 fields, saw 13\\nSkipping line 326030: expected 10 fields, saw 16\\nSkipping line 326095: expected 10 fields, saw 13\\nSkipping line 326231: expected 10 fields, saw 12\\nSkipping line 326620: expected 10 fields, saw 11\\nSkipping line 326766: expected 10 fields, saw 11\\nSkipping line 326787: expected 10 fields, saw 11\\nSkipping line 327274: expected 10 fields, saw 13\\nSkipping line 327344: expected 10 fields, saw 12\\nSkipping line 327498: expected 10 fields, saw 11\\nSkipping line 327749: expected 10 fields, saw 11\\nSkipping line 328404: expected 10 fields, saw 13\\nSkipping line 328508: expected 10 fields, saw 12\\n'\n",
            "b'Skipping line 329515: expected 10 fields, saw 14\\nSkipping line 329547: expected 10 fields, saw 13\\nSkipping line 329563: expected 10 fields, saw 12\\nSkipping line 329734: expected 10 fields, saw 14\\nSkipping line 329802: expected 10 fields, saw 11\\nSkipping line 330247: expected 10 fields, saw 11\\nSkipping line 330468: expected 10 fields, saw 11\\nSkipping line 330530: expected 10 fields, saw 12\\nSkipping line 330535: expected 10 fields, saw 20\\nSkipping line 330628: expected 10 fields, saw 12\\nSkipping line 331102: expected 10 fields, saw 12\\nSkipping line 332048: expected 10 fields, saw 11\\nSkipping line 333188: expected 10 fields, saw 11\\nSkipping line 334342: expected 10 fields, saw 17\\nSkipping line 334716: expected 10 fields, saw 13\\nSkipping line 334750: expected 10 fields, saw 11\\nSkipping line 334985: expected 10 fields, saw 11\\nSkipping line 335392: expected 10 fields, saw 12\\nSkipping line 335414: expected 10 fields, saw 11\\nSkipping line 335426: expected 10 fields, saw 14\\nSkipping line 335450: expected 10 fields, saw 12\\nSkipping line 335916: expected 10 fields, saw 12\\nSkipping line 336808: expected 10 fields, saw 12\\nSkipping line 337268: expected 10 fields, saw 11\\nSkipping line 337324: expected 10 fields, saw 15\\nSkipping line 337516: expected 10 fields, saw 16\\nSkipping line 337893: expected 10 fields, saw 12\\nSkipping line 338055: expected 10 fields, saw 11\\nSkipping line 338401: expected 10 fields, saw 12\\nSkipping line 338982: expected 10 fields, saw 11\\nSkipping line 339624: expected 10 fields, saw 12\\nSkipping line 339762: expected 10 fields, saw 12\\nSkipping line 339795: expected 10 fields, saw 11\\nSkipping line 339884: expected 10 fields, saw 13\\nSkipping line 340048: expected 10 fields, saw 12\\nSkipping line 340230: expected 10 fields, saw 11\\nSkipping line 340313: expected 10 fields, saw 13\\nSkipping line 340349: expected 10 fields, saw 11\\nSkipping line 340422: expected 10 fields, saw 16\\nSkipping line 340828: expected 10 fields, saw 12\\nSkipping line 340983: expected 10 fields, saw 11\\nSkipping line 341636: expected 10 fields, saw 13\\nSkipping line 342321: expected 10 fields, saw 11\\nSkipping line 342331: expected 10 fields, saw 13\\nSkipping line 342352: expected 10 fields, saw 12\\nSkipping line 342545: expected 10 fields, saw 11\\nSkipping line 342982: expected 10 fields, saw 11\\nSkipping line 344133: expected 10 fields, saw 11\\nSkipping line 344967: expected 10 fields, saw 12\\nSkipping line 346021: expected 10 fields, saw 14\\nSkipping line 346026: expected 10 fields, saw 13\\nSkipping line 346389: expected 10 fields, saw 18\\nSkipping line 347088: expected 10 fields, saw 14\\nSkipping line 347206: expected 10 fields, saw 11\\nSkipping line 347363: expected 10 fields, saw 11\\nSkipping line 347753: expected 10 fields, saw 20\\nSkipping line 347934: expected 10 fields, saw 14\\nSkipping line 347983: expected 10 fields, saw 11\\nSkipping line 349333: expected 10 fields, saw 12\\nSkipping line 349394: expected 10 fields, saw 38\\nSkipping line 349539: expected 10 fields, saw 14\\nSkipping line 349588: expected 10 fields, saw 12\\nSkipping line 349805: expected 10 fields, saw 19\\nSkipping line 350802: expected 10 fields, saw 11\\nSkipping line 350812: expected 10 fields, saw 11\\nSkipping line 351154: expected 10 fields, saw 14\\nSkipping line 351766: expected 10 fields, saw 14\\nSkipping line 352635: expected 10 fields, saw 12\\nSkipping line 352813: expected 10 fields, saw 12\\nSkipping line 353231: expected 10 fields, saw 11\\nSkipping line 353326: expected 10 fields, saw 11\\nSkipping line 353590: expected 10 fields, saw 11\\nSkipping line 353601: expected 10 fields, saw 11\\nSkipping line 353667: expected 10 fields, saw 13\\nSkipping line 353694: expected 10 fields, saw 12\\nSkipping line 354209: expected 10 fields, saw 12\\nSkipping line 354341: expected 10 fields, saw 11\\nSkipping line 354755: expected 10 fields, saw 11\\nSkipping line 355040: expected 10 fields, saw 11\\nSkipping line 355749: expected 10 fields, saw 17\\nSkipping line 355937: expected 10 fields, saw 11\\nSkipping line 356214: expected 10 fields, saw 12\\nSkipping line 357368: expected 10 fields, saw 13\\nSkipping line 357682: expected 10 fields, saw 12\\nSkipping line 358521: expected 10 fields, saw 11\\nSkipping line 359290: expected 10 fields, saw 11\\nSkipping line 360367: expected 10 fields, saw 12\\nSkipping line 360415: expected 10 fields, saw 25\\nSkipping line 360509: expected 10 fields, saw 21\\nSkipping line 360731: expected 10 fields, saw 12\\nSkipping line 361033: expected 10 fields, saw 12\\nSkipping line 361209: expected 10 fields, saw 11\\nSkipping line 362246: expected 10 fields, saw 11\\nSkipping line 362617: expected 10 fields, saw 12\\nSkipping line 362647: expected 10 fields, saw 14\\nSkipping line 362683: expected 10 fields, saw 11\\nSkipping line 363017: expected 10 fields, saw 12\\nSkipping line 363778: expected 10 fields, saw 13\\nSkipping line 363837: expected 10 fields, saw 11\\nSkipping line 363976: expected 10 fields, saw 14\\nSkipping line 364051: expected 10 fields, saw 13\\nSkipping line 364278: expected 10 fields, saw 11\\nSkipping line 364525: expected 10 fields, saw 14\\nSkipping line 364765: expected 10 fields, saw 12\\nSkipping line 365627: expected 10 fields, saw 11\\nSkipping line 366280: expected 10 fields, saw 14\\nSkipping line 366493: expected 10 fields, saw 12\\nSkipping line 367309: expected 10 fields, saw 12\\nSkipping line 368346: expected 10 fields, saw 16\\nSkipping line 368687: expected 10 fields, saw 11\\nSkipping line 368725: expected 10 fields, saw 15\\nSkipping line 368824: expected 10 fields, saw 12\\nSkipping line 369049: expected 10 fields, saw 12\\nSkipping line 369360: expected 10 fields, saw 13\\nSkipping line 369516: expected 10 fields, saw 11\\nSkipping line 370118: expected 10 fields, saw 18\\nSkipping line 370646: expected 10 fields, saw 11\\nSkipping line 370848: expected 10 fields, saw 20\\nSkipping line 371602: expected 10 fields, saw 12\\nSkipping line 371642: expected 10 fields, saw 11\\nSkipping line 371996: expected 10 fields, saw 15\\nSkipping line 372093: expected 10 fields, saw 11\\nSkipping line 373901: expected 10 fields, saw 11\\nSkipping line 374031: expected 10 fields, saw 12\\nSkipping line 375803: expected 10 fields, saw 16\\nSkipping line 376032: expected 10 fields, saw 13\\nSkipping line 376483: expected 10 fields, saw 60\\nSkipping line 376962: expected 10 fields, saw 12\\nSkipping line 377030: expected 10 fields, saw 23\\nSkipping line 377236: expected 10 fields, saw 14\\nSkipping line 377415: expected 10 fields, saw 20\\nSkipping line 377443: expected 10 fields, saw 13\\nSkipping line 377483: expected 10 fields, saw 12\\nSkipping line 377845: expected 10 fields, saw 24\\nSkipping line 378218: expected 10 fields, saw 11\\nSkipping line 378985: expected 10 fields, saw 12\\nSkipping line 380014: expected 10 fields, saw 13\\nSkipping line 384229: expected 10 fields, saw 11\\nSkipping line 384326: expected 10 fields, saw 13\\nSkipping line 384740: expected 10 fields, saw 11\\nSkipping line 384959: expected 10 fields, saw 24\\nSkipping line 385676: expected 10 fields, saw 23\\nSkipping line 385969: expected 10 fields, saw 11\\nSkipping line 387470: expected 10 fields, saw 13\\nSkipping line 388200: expected 10 fields, saw 13\\nSkipping line 389149: expected 10 fields, saw 11\\nSkipping line 389160: expected 10 fields, saw 11\\nSkipping line 389705: expected 10 fields, saw 11\\nSkipping line 391816: expected 10 fields, saw 12\\nSkipping line 392670: expected 10 fields, saw 11\\nSkipping line 393083: expected 10 fields, saw 13\\nSkipping line 393775: expected 10 fields, saw 17\\n'\n",
            "b'Skipping line 394663: expected 10 fields, saw 11\\nSkipping line 395008: expected 10 fields, saw 11\\nSkipping line 395459: expected 10 fields, saw 13\\nSkipping line 395557: expected 10 fields, saw 11\\nSkipping line 395575: expected 10 fields, saw 13\\nSkipping line 396051: expected 10 fields, saw 14\\nSkipping line 396243: expected 10 fields, saw 11\\nSkipping line 396269: expected 10 fields, saw 28\\nSkipping line 396982: expected 10 fields, saw 12\\nSkipping line 397364: expected 10 fields, saw 12\\nSkipping line 397550: expected 10 fields, saw 12\\nSkipping line 397642: expected 10 fields, saw 13\\nSkipping line 398279: expected 10 fields, saw 12\\nSkipping line 398837: expected 10 fields, saw 11\\nSkipping line 399231: expected 10 fields, saw 19\\nSkipping line 399385: expected 10 fields, saw 11\\nSkipping line 399392: expected 10 fields, saw 11\\nSkipping line 399796: expected 10 fields, saw 11\\nSkipping line 400046: expected 10 fields, saw 16\\nSkipping line 400121: expected 10 fields, saw 15\\nSkipping line 400421: expected 10 fields, saw 14\\nSkipping line 400525: expected 10 fields, saw 21\\nSkipping line 401445: expected 10 fields, saw 11\\nSkipping line 401804: expected 10 fields, saw 11\\nSkipping line 403159: expected 10 fields, saw 11\\nSkipping line 404339: expected 10 fields, saw 12\\nSkipping line 404683: expected 10 fields, saw 13\\nSkipping line 404735: expected 10 fields, saw 11\\nSkipping line 405526: expected 10 fields, saw 11\\nSkipping line 405779: expected 10 fields, saw 11\\nSkipping line 406011: expected 10 fields, saw 11\\nSkipping line 408317: expected 10 fields, saw 11\\nSkipping line 408906: expected 10 fields, saw 12\\nSkipping line 410167: expected 10 fields, saw 13\\nSkipping line 411866: expected 10 fields, saw 11\\nSkipping line 413327: expected 10 fields, saw 11\\nSkipping line 413740: expected 10 fields, saw 19\\nSkipping line 413976: expected 10 fields, saw 11\\nSkipping line 415193: expected 10 fields, saw 11\\nSkipping line 418048: expected 10 fields, saw 12\\nSkipping line 418264: expected 10 fields, saw 15\\nSkipping line 418728: expected 10 fields, saw 14\\nSkipping line 423046: expected 10 fields, saw 11\\nSkipping line 423060: expected 10 fields, saw 12\\nSkipping line 423300: expected 10 fields, saw 11\\nSkipping line 424118: expected 10 fields, saw 14\\nSkipping line 424397: expected 10 fields, saw 12\\nSkipping line 424782: expected 10 fields, saw 18\\nSkipping line 425723: expected 10 fields, saw 11\\nSkipping line 426473: expected 10 fields, saw 11\\nSkipping line 427357: expected 10 fields, saw 12\\nSkipping line 427612: expected 10 fields, saw 15\\nSkipping line 428012: expected 10 fields, saw 20\\nSkipping line 428234: expected 10 fields, saw 12\\nSkipping line 429261: expected 10 fields, saw 14\\nSkipping line 431364: expected 10 fields, saw 11\\nSkipping line 433422: expected 10 fields, saw 11\\nSkipping line 434531: expected 10 fields, saw 11\\nSkipping line 434796: expected 10 fields, saw 11\\nSkipping line 436430: expected 10 fields, saw 11\\nSkipping line 437113: expected 10 fields, saw 11\\nSkipping line 437193: expected 10 fields, saw 13\\nSkipping line 437394: expected 10 fields, saw 11\\nSkipping line 437645: expected 10 fields, saw 11\\nSkipping line 438142: expected 10 fields, saw 11\\nSkipping line 438728: expected 10 fields, saw 11\\nSkipping line 439013: expected 10 fields, saw 11\\nSkipping line 439256: expected 10 fields, saw 11\\nSkipping line 439816: expected 10 fields, saw 11\\nSkipping line 439991: expected 10 fields, saw 11\\nSkipping line 440258: expected 10 fields, saw 11\\nSkipping line 440885: expected 10 fields, saw 12\\nSkipping line 441224: expected 10 fields, saw 13\\nSkipping line 443443: expected 10 fields, saw 11\\nSkipping line 443727: expected 10 fields, saw 12\\nSkipping line 446031: expected 10 fields, saw 11\\nSkipping line 446135: expected 10 fields, saw 25\\nSkipping line 446187: expected 10 fields, saw 11\\nSkipping line 446202: expected 10 fields, saw 11\\nSkipping line 446473: expected 10 fields, saw 11\\nSkipping line 450537: expected 10 fields, saw 11\\nSkipping line 451969: expected 10 fields, saw 11\\nSkipping line 452003: expected 10 fields, saw 11\\nSkipping line 452120: expected 10 fields, saw 12\\nSkipping line 453167: expected 10 fields, saw 12\\nSkipping line 453591: expected 10 fields, saw 11\\nSkipping line 455604: expected 10 fields, saw 12\\nSkipping line 457023: expected 10 fields, saw 12\\nSkipping line 457106: expected 10 fields, saw 13\\nSkipping line 457984: expected 10 fields, saw 11\\nSkipping line 459389: expected 10 fields, saw 18\\nSkipping line 459980: expected 10 fields, saw 11\\n'\n",
            "b'Skipping line 461791: expected 10 fields, saw 14\\nSkipping line 462092: expected 10 fields, saw 11\\nSkipping line 464850: expected 10 fields, saw 11\\nSkipping line 465078: expected 10 fields, saw 13\\nSkipping line 465387: expected 10 fields, saw 11\\nSkipping line 465874: expected 10 fields, saw 11\\nSkipping line 466163: expected 10 fields, saw 12\\nSkipping line 467213: expected 10 fields, saw 11\\nSkipping line 467263: expected 10 fields, saw 11\\nSkipping line 467445: expected 10 fields, saw 11\\nSkipping line 467495: expected 10 fields, saw 11\\nSkipping line 467848: expected 10 fields, saw 13\\nSkipping line 468313: expected 10 fields, saw 11\\nSkipping line 468842: expected 10 fields, saw 12\\nSkipping line 469584: expected 10 fields, saw 11\\nSkipping line 470497: expected 10 fields, saw 13\\nSkipping line 471913: expected 10 fields, saw 37\\nSkipping line 473175: expected 10 fields, saw 15\\nSkipping line 473328: expected 10 fields, saw 11\\nSkipping line 473417: expected 10 fields, saw 12\\nSkipping line 473777: expected 10 fields, saw 11\\nSkipping line 473788: expected 10 fields, saw 11\\nSkipping line 474229: expected 10 fields, saw 12\\nSkipping line 474883: expected 10 fields, saw 11\\nSkipping line 475478: expected 10 fields, saw 12\\nSkipping line 475808: expected 10 fields, saw 11\\nSkipping line 476708: expected 10 fields, saw 11\\nSkipping line 477774: expected 10 fields, saw 11\\nSkipping line 477855: expected 10 fields, saw 11\\nSkipping line 478014: expected 10 fields, saw 11\\nSkipping line 478188: expected 10 fields, saw 11\\nSkipping line 479996: expected 10 fields, saw 11\\nSkipping line 480213: expected 10 fields, saw 11\\nSkipping line 480677: expected 10 fields, saw 13\\nSkipping line 480849: expected 10 fields, saw 11\\nSkipping line 480980: expected 10 fields, saw 12\\nSkipping line 481724: expected 10 fields, saw 17\\nSkipping line 482767: expected 10 fields, saw 11\\nSkipping line 483700: expected 10 fields, saw 11\\nSkipping line 484349: expected 10 fields, saw 11\\nSkipping line 485910: expected 10 fields, saw 13\\nSkipping line 486479: expected 10 fields, saw 17\\nSkipping line 487925: expected 10 fields, saw 11\\nSkipping line 488810: expected 10 fields, saw 14\\nSkipping line 489505: expected 10 fields, saw 15\\nSkipping line 489846: expected 10 fields, saw 13\\nSkipping line 489887: expected 10 fields, saw 42\\nSkipping line 490475: expected 10 fields, saw 12\\nSkipping line 490789: expected 10 fields, saw 11\\nSkipping line 491623: expected 10 fields, saw 13\\nSkipping line 491645: expected 10 fields, saw 11\\nSkipping line 491746: expected 10 fields, saw 12\\nSkipping line 491888: expected 10 fields, saw 11\\nSkipping line 493508: expected 10 fields, saw 11\\nSkipping line 494010: expected 10 fields, saw 11\\nSkipping line 494440: expected 10 fields, saw 11\\nSkipping line 496053: expected 10 fields, saw 16\\nSkipping line 496260: expected 10 fields, saw 12\\nSkipping line 496304: expected 10 fields, saw 12\\nSkipping line 497021: expected 10 fields, saw 11\\nSkipping line 497798: expected 10 fields, saw 11\\nSkipping line 497885: expected 10 fields, saw 11\\nSkipping line 498949: expected 10 fields, saw 13\\nSkipping line 499648: expected 10 fields, saw 13\\nSkipping line 499954: expected 10 fields, saw 12\\nSkipping line 500233: expected 10 fields, saw 11\\nSkipping line 500916: expected 10 fields, saw 14\\nSkipping line 501883: expected 10 fields, saw 11\\nSkipping line 501924: expected 10 fields, saw 11\\nSkipping line 501952: expected 10 fields, saw 11\\nSkipping line 502114: expected 10 fields, saw 11\\nSkipping line 502146: expected 10 fields, saw 12\\nSkipping line 502253: expected 10 fields, saw 11\\nSkipping line 502429: expected 10 fields, saw 13\\nSkipping line 502465: expected 10 fields, saw 12\\nSkipping line 502557: expected 10 fields, saw 16\\nSkipping line 503232: expected 10 fields, saw 12\\nSkipping line 503426: expected 10 fields, saw 13\\nSkipping line 503465: expected 10 fields, saw 11\\nSkipping line 503762: expected 10 fields, saw 16\\nSkipping line 504616: expected 10 fields, saw 11\\nSkipping line 504706: expected 10 fields, saw 11\\nSkipping line 504967: expected 10 fields, saw 11\\nSkipping line 505003: expected 10 fields, saw 11\\nSkipping line 505338: expected 10 fields, saw 13\\nSkipping line 505518: expected 10 fields, saw 11\\nSkipping line 506382: expected 10 fields, saw 11\\nSkipping line 506549: expected 10 fields, saw 11\\nSkipping line 507254: expected 10 fields, saw 13\\nSkipping line 507259: expected 10 fields, saw 11\\nSkipping line 507864: expected 10 fields, saw 13\\nSkipping line 507882: expected 10 fields, saw 11\\nSkipping line 508102: expected 10 fields, saw 11\\nSkipping line 508203: expected 10 fields, saw 11\\nSkipping line 508406: expected 10 fields, saw 11\\nSkipping line 508561: expected 10 fields, saw 11\\nSkipping line 509325: expected 10 fields, saw 11\\nSkipping line 509570: expected 10 fields, saw 12\\nSkipping line 509916: expected 10 fields, saw 11\\nSkipping line 510735: expected 10 fields, saw 13\\nSkipping line 510803: expected 10 fields, saw 11\\nSkipping line 511056: expected 10 fields, saw 11\\nSkipping line 511139: expected 10 fields, saw 13\\nSkipping line 511425: expected 10 fields, saw 17\\nSkipping line 511614: expected 10 fields, saw 11\\nSkipping line 512513: expected 10 fields, saw 17\\nSkipping line 512950: expected 10 fields, saw 11\\nSkipping line 513384: expected 10 fields, saw 11\\nSkipping line 513519: expected 10 fields, saw 13\\nSkipping line 513747: expected 10 fields, saw 11\\nSkipping line 513811: expected 10 fields, saw 11\\nSkipping line 514109: expected 10 fields, saw 11\\nSkipping line 514586: expected 10 fields, saw 15\\nSkipping line 514840: expected 10 fields, saw 11\\nSkipping line 514850: expected 10 fields, saw 13\\nSkipping line 515029: expected 10 fields, saw 13\\nSkipping line 515227: expected 10 fields, saw 13\\nSkipping line 515415: expected 10 fields, saw 20\\nSkipping line 515541: expected 10 fields, saw 15\\nSkipping line 515559: expected 10 fields, saw 11\\nSkipping line 515935: expected 10 fields, saw 13\\nSkipping line 516039: expected 10 fields, saw 11\\nSkipping line 516684: expected 10 fields, saw 11\\nSkipping line 517422: expected 10 fields, saw 14\\nSkipping line 517658: expected 10 fields, saw 15\\nSkipping line 517870: expected 10 fields, saw 11\\nSkipping line 518182: expected 10 fields, saw 11\\nSkipping line 518392: expected 10 fields, saw 27\\nSkipping line 519085: expected 10 fields, saw 11\\nSkipping line 519739: expected 10 fields, saw 11\\nSkipping line 520317: expected 10 fields, saw 11\\nSkipping line 520349: expected 10 fields, saw 19\\nSkipping line 520370: expected 10 fields, saw 11\\nSkipping line 520629: expected 10 fields, saw 13\\nSkipping line 520768: expected 10 fields, saw 13\\nSkipping line 521441: expected 10 fields, saw 13\\nSkipping line 521646: expected 10 fields, saw 13\\nSkipping line 521870: expected 10 fields, saw 12\\nSkipping line 522191: expected 10 fields, saw 34\\nSkipping line 522714: expected 10 fields, saw 11\\nSkipping line 522725: expected 10 fields, saw 17\\nSkipping line 522752: expected 10 fields, saw 11\\nSkipping line 523152: expected 10 fields, saw 11\\nSkipping line 524404: expected 10 fields, saw 14\\nSkipping line 525828: expected 10 fields, saw 11\\n'\n",
            "b'Skipping line 525916: expected 10 fields, saw 13\\nSkipping line 527011: expected 10 fields, saw 21\\nSkipping line 528671: expected 10 fields, saw 13\\nSkipping line 529281: expected 10 fields, saw 11\\nSkipping line 529522: expected 10 fields, saw 11\\nSkipping line 530041: expected 10 fields, saw 12\\nSkipping line 530213: expected 10 fields, saw 11\\nSkipping line 530327: expected 10 fields, saw 11\\nSkipping line 530780: expected 10 fields, saw 12\\nSkipping line 530847: expected 10 fields, saw 18\\nSkipping line 530998: expected 10 fields, saw 11\\nSkipping line 531030: expected 10 fields, saw 11\\nSkipping line 531115: expected 10 fields, saw 11\\nSkipping line 531351: expected 10 fields, saw 11\\nSkipping line 531606: expected 10 fields, saw 13\\nSkipping line 531932: expected 10 fields, saw 16\\nSkipping line 532045: expected 10 fields, saw 13\\nSkipping line 532154: expected 10 fields, saw 12\\nSkipping line 532268: expected 10 fields, saw 11\\nSkipping line 532279: expected 10 fields, saw 12\\nSkipping line 532283: expected 10 fields, saw 17\\nSkipping line 532476: expected 10 fields, saw 11\\nSkipping line 533075: expected 10 fields, saw 11\\nSkipping line 533322: expected 10 fields, saw 11\\nSkipping line 533429: expected 10 fields, saw 13\\nSkipping line 533964: expected 10 fields, saw 16\\nSkipping line 534669: expected 10 fields, saw 14\\nSkipping line 535687: expected 10 fields, saw 12\\nSkipping line 535863: expected 10 fields, saw 11\\nSkipping line 535994: expected 10 fields, saw 11\\nSkipping line 536238: expected 10 fields, saw 11\\nSkipping line 536632: expected 10 fields, saw 11\\nSkipping line 536691: expected 10 fields, saw 14\\nSkipping line 536923: expected 10 fields, saw 11\\nSkipping line 537367: expected 10 fields, saw 11\\nSkipping line 537436: expected 10 fields, saw 12\\nSkipping line 537741: expected 10 fields, saw 13\\nSkipping line 538588: expected 10 fields, saw 11\\nSkipping line 539703: expected 10 fields, saw 15\\nSkipping line 539742: expected 10 fields, saw 13\\nSkipping line 539987: expected 10 fields, saw 11\\nSkipping line 540411: expected 10 fields, saw 12\\nSkipping line 540479: expected 10 fields, saw 21\\nSkipping line 540507: expected 10 fields, saw 14\\nSkipping line 540572: expected 10 fields, saw 11\\nSkipping line 541568: expected 10 fields, saw 11\\nSkipping line 541808: expected 10 fields, saw 12\\nSkipping line 542209: expected 10 fields, saw 30\\nSkipping line 542438: expected 10 fields, saw 11\\nSkipping line 543208: expected 10 fields, saw 11\\nSkipping line 543843: expected 10 fields, saw 13\\nSkipping line 544668: expected 10 fields, saw 11\\nSkipping line 545226: expected 10 fields, saw 11\\nSkipping line 545483: expected 10 fields, saw 12\\nSkipping line 546063: expected 10 fields, saw 11\\nSkipping line 546180: expected 10 fields, saw 24\\nSkipping line 546307: expected 10 fields, saw 12\\nSkipping line 546563: expected 10 fields, saw 14\\nSkipping line 546639: expected 10 fields, saw 11\\nSkipping line 546751: expected 10 fields, saw 11\\nSkipping line 546948: expected 10 fields, saw 11\\nSkipping line 546976: expected 10 fields, saw 12\\nSkipping line 547016: expected 10 fields, saw 14\\nSkipping line 547192: expected 10 fields, saw 13\\nSkipping line 547310: expected 10 fields, saw 11\\nSkipping line 547403: expected 10 fields, saw 11\\nSkipping line 547458: expected 10 fields, saw 12\\nSkipping line 548127: expected 10 fields, saw 11\\nSkipping line 548406: expected 10 fields, saw 14\\nSkipping line 548683: expected 10 fields, saw 11\\nSkipping line 548980: expected 10 fields, saw 13\\nSkipping line 549093: expected 10 fields, saw 11\\nSkipping line 549274: expected 10 fields, saw 11\\nSkipping line 549962: expected 10 fields, saw 12\\nSkipping line 549985: expected 10 fields, saw 14\\nSkipping line 550055: expected 10 fields, saw 17\\nSkipping line 550205: expected 10 fields, saw 11\\nSkipping line 550329: expected 10 fields, saw 11\\nSkipping line 550404: expected 10 fields, saw 11\\nSkipping line 550405: expected 10 fields, saw 23\\nSkipping line 550487: expected 10 fields, saw 11\\nSkipping line 550547: expected 10 fields, saw 11\\nSkipping line 550563: expected 10 fields, saw 11\\nSkipping line 550713: expected 10 fields, saw 12\\nSkipping line 550859: expected 10 fields, saw 11\\nSkipping line 550922: expected 10 fields, saw 12\\nSkipping line 551031: expected 10 fields, saw 16\\nSkipping line 551273: expected 10 fields, saw 11\\nSkipping line 551323: expected 10 fields, saw 11\\nSkipping line 551870: expected 10 fields, saw 12\\nSkipping line 552164: expected 10 fields, saw 14\\nSkipping line 552242: expected 10 fields, saw 12\\nSkipping line 552450: expected 10 fields, saw 12\\nSkipping line 553008: expected 10 fields, saw 11\\nSkipping line 553226: expected 10 fields, saw 18\\nSkipping line 553817: expected 10 fields, saw 18\\nSkipping line 554247: expected 10 fields, saw 14\\nSkipping line 554459: expected 10 fields, saw 11\\nSkipping line 554741: expected 10 fields, saw 11\\nSkipping line 555149: expected 10 fields, saw 19\\nSkipping line 555227: expected 10 fields, saw 11\\nSkipping line 555494: expected 10 fields, saw 14\\nSkipping line 555733: expected 10 fields, saw 11\\nSkipping line 555913: expected 10 fields, saw 11\\nSkipping line 556009: expected 10 fields, saw 11\\nSkipping line 556375: expected 10 fields, saw 13\\nSkipping line 556405: expected 10 fields, saw 14\\nSkipping line 556485: expected 10 fields, saw 24\\nSkipping line 556722: expected 10 fields, saw 12\\nSkipping line 556803: expected 10 fields, saw 11\\nSkipping line 557089: expected 10 fields, saw 12\\nSkipping line 557317: expected 10 fields, saw 11\\nSkipping line 557409: expected 10 fields, saw 13\\nSkipping line 557426: expected 10 fields, saw 15\\nSkipping line 557658: expected 10 fields, saw 11\\nSkipping line 557756: expected 10 fields, saw 11\\nSkipping line 558138: expected 10 fields, saw 16\\nSkipping line 558164: expected 10 fields, saw 11\\nSkipping line 558198: expected 10 fields, saw 12\\nSkipping line 558314: expected 10 fields, saw 15\\nSkipping line 558459: expected 10 fields, saw 14\\nSkipping line 558747: expected 10 fields, saw 12\\nSkipping line 558846: expected 10 fields, saw 37\\nSkipping line 558849: expected 10 fields, saw 11\\nSkipping line 558926: expected 10 fields, saw 11\\nSkipping line 559000: expected 10 fields, saw 12\\nSkipping line 559004: expected 10 fields, saw 13\\nSkipping line 559031: expected 10 fields, saw 15\\nSkipping line 559181: expected 10 fields, saw 11\\nSkipping line 559279: expected 10 fields, saw 13\\nSkipping line 559620: expected 10 fields, saw 11\\nSkipping line 559641: expected 10 fields, saw 32\\nSkipping line 559693: expected 10 fields, saw 11\\nSkipping line 559734: expected 10 fields, saw 11\\nSkipping line 559746: expected 10 fields, saw 12\\nSkipping line 559769: expected 10 fields, saw 11\\nSkipping line 560100: expected 10 fields, saw 12\\nSkipping line 560210: expected 10 fields, saw 11\\nSkipping line 560792: expected 10 fields, saw 17\\nSkipping line 560929: expected 10 fields, saw 11\\nSkipping line 560946: expected 10 fields, saw 12\\nSkipping line 561165: expected 10 fields, saw 16\\nSkipping line 561180: expected 10 fields, saw 11\\nSkipping line 561341: expected 10 fields, saw 15\\nSkipping line 561518: expected 10 fields, saw 11\\nSkipping line 561564: expected 10 fields, saw 14\\nSkipping line 561575: expected 10 fields, saw 11\\nSkipping line 561589: expected 10 fields, saw 12\\nSkipping line 561618: expected 10 fields, saw 18\\nSkipping line 561646: expected 10 fields, saw 17\\nSkipping line 561716: expected 10 fields, saw 11\\nSkipping line 562002: expected 10 fields, saw 13\\nSkipping line 562134: expected 10 fields, saw 11\\nSkipping line 562185: expected 10 fields, saw 11\\nSkipping line 562550: expected 10 fields, saw 16\\nSkipping line 562571: expected 10 fields, saw 11\\nSkipping line 562751: expected 10 fields, saw 17\\nSkipping line 563004: expected 10 fields, saw 11\\nSkipping line 563341: expected 10 fields, saw 12\\nSkipping line 563724: expected 10 fields, saw 11\\nSkipping line 564033: expected 10 fields, saw 14\\nSkipping line 564167: expected 10 fields, saw 11\\nSkipping line 564500: expected 10 fields, saw 15\\nSkipping line 564694: expected 10 fields, saw 17\\nSkipping line 564741: expected 10 fields, saw 13\\nSkipping line 564947: expected 10 fields, saw 11\\nSkipping line 565008: expected 10 fields, saw 11\\nSkipping line 565146: expected 10 fields, saw 11\\nSkipping line 565264: expected 10 fields, saw 12\\nSkipping line 565387: expected 10 fields, saw 13\\nSkipping line 565425: expected 10 fields, saw 11\\nSkipping line 565665: expected 10 fields, saw 21\\nSkipping line 565745: expected 10 fields, saw 11\\nSkipping line 565759: expected 10 fields, saw 12\\nSkipping line 565772: expected 10 fields, saw 17\\nSkipping line 565924: expected 10 fields, saw 18\\nSkipping line 566353: expected 10 fields, saw 11\\nSkipping line 566396: expected 10 fields, saw 13\\nSkipping line 566437: expected 10 fields, saw 15\\nSkipping line 567012: expected 10 fields, saw 21\\nSkipping line 567275: expected 10 fields, saw 12\\nSkipping line 567399: expected 10 fields, saw 11\\nSkipping line 567412: expected 10 fields, saw 14\\nSkipping line 567420: expected 10 fields, saw 14\\nSkipping line 567552: expected 10 fields, saw 12\\nSkipping line 567555: expected 10 fields, saw 11\\nSkipping line 567770: expected 10 fields, saw 11\\nSkipping line 567794: expected 10 fields, saw 12\\nSkipping line 567847: expected 10 fields, saw 14\\nSkipping line 567932: expected 10 fields, saw 11\\nSkipping line 567978: expected 10 fields, saw 15\\nSkipping line 568213: expected 10 fields, saw 13\\nSkipping line 568557: expected 10 fields, saw 11\\nSkipping line 568688: expected 10 fields, saw 12\\nSkipping line 568841: expected 10 fields, saw 13\\nSkipping line 569282: expected 10 fields, saw 11\\nSkipping line 569329: expected 10 fields, saw 12\\nSkipping line 569413: expected 10 fields, saw 11\\nSkipping line 569461: expected 10 fields, saw 23\\nSkipping line 569492: expected 10 fields, saw 11\\nSkipping line 569811: expected 10 fields, saw 11\\nSkipping line 570364: expected 10 fields, saw 17\\nSkipping line 570412: expected 10 fields, saw 11\\nSkipping line 570426: expected 10 fields, saw 20\\nSkipping line 570521: expected 10 fields, saw 11\\nSkipping line 570662: expected 10 fields, saw 13\\nSkipping line 570798: expected 10 fields, saw 11\\nSkipping line 570819: expected 10 fields, saw 12\\nSkipping line 570829: expected 10 fields, saw 11\\nSkipping line 570891: expected 10 fields, saw 11\\nSkipping line 570985: expected 10 fields, saw 11\\nSkipping line 571149: expected 10 fields, saw 11\\nSkipping line 571207: expected 10 fields, saw 20\\nSkipping line 571585: expected 10 fields, saw 11\\nSkipping line 571626: expected 10 fields, saw 14\\nSkipping line 572212: expected 10 fields, saw 13\\nSkipping line 572397: expected 10 fields, saw 12\\nSkipping line 572452: expected 10 fields, saw 11\\nSkipping line 572704: expected 10 fields, saw 12\\nSkipping line 572923: expected 10 fields, saw 14\\nSkipping line 573003: expected 10 fields, saw 11\\nSkipping line 573363: expected 10 fields, saw 11\\nSkipping line 573462: expected 10 fields, saw 19\\nSkipping line 573851: expected 10 fields, saw 11\\nSkipping line 573978: expected 10 fields, saw 21\\nSkipping line 574119: expected 10 fields, saw 13\\nSkipping line 574156: expected 10 fields, saw 12\\nSkipping line 574291: expected 10 fields, saw 19\\nSkipping line 574369: expected 10 fields, saw 14\\nSkipping line 574472: expected 10 fields, saw 11\\nSkipping line 574622: expected 10 fields, saw 13\\nSkipping line 574872: expected 10 fields, saw 14\\nSkipping line 575358: expected 10 fields, saw 12\\nSkipping line 575408: expected 10 fields, saw 12\\nSkipping line 575490: expected 10 fields, saw 12\\nSkipping line 575494: expected 10 fields, saw 11\\nSkipping line 575718: expected 10 fields, saw 11\\nSkipping line 575760: expected 10 fields, saw 12\\nSkipping line 575956: expected 10 fields, saw 13\\nSkipping line 576647: expected 10 fields, saw 11\\nSkipping line 576735: expected 10 fields, saw 12\\nSkipping line 577035: expected 10 fields, saw 11\\nSkipping line 577357: expected 10 fields, saw 13\\nSkipping line 577451: expected 10 fields, saw 28\\nSkipping line 577482: expected 10 fields, saw 14\\nSkipping line 577703: expected 10 fields, saw 11\\nSkipping line 577890: expected 10 fields, saw 13\\nSkipping line 577969: expected 10 fields, saw 13\\nSkipping line 578031: expected 10 fields, saw 12\\nSkipping line 578131: expected 10 fields, saw 11\\nSkipping line 578679: expected 10 fields, saw 13\\nSkipping line 578705: expected 10 fields, saw 13\\nSkipping line 578765: expected 10 fields, saw 12\\nSkipping line 578849: expected 10 fields, saw 11\\nSkipping line 579035: expected 10 fields, saw 11\\nSkipping line 579404: expected 10 fields, saw 19\\nSkipping line 579406: expected 10 fields, saw 11\\nSkipping line 579899: expected 10 fields, saw 11\\nSkipping line 579937: expected 10 fields, saw 12\\nSkipping line 580005: expected 10 fields, saw 16\\nSkipping line 580151: expected 10 fields, saw 11\\nSkipping line 580272: expected 10 fields, saw 13\\nSkipping line 580603: expected 10 fields, saw 13\\nSkipping line 580733: expected 10 fields, saw 13\\nSkipping line 580772: expected 10 fields, saw 11\\nSkipping line 580835: expected 10 fields, saw 11\\nSkipping line 580927: expected 10 fields, saw 11\\nSkipping line 580945: expected 10 fields, saw 13\\nSkipping line 581009: expected 10 fields, saw 11\\nSkipping line 581215: expected 10 fields, saw 11\\nSkipping line 581600: expected 10 fields, saw 12\\nSkipping line 581810: expected 10 fields, saw 12\\nSkipping line 581884: expected 10 fields, saw 12\\nSkipping line 582178: expected 10 fields, saw 12\\nSkipping line 582202: expected 10 fields, saw 11\\nSkipping line 582291: expected 10 fields, saw 11\\nSkipping line 582594: expected 10 fields, saw 12\\nSkipping line 582649: expected 10 fields, saw 11\\nSkipping line 582955: expected 10 fields, saw 13\\nSkipping line 583030: expected 10 fields, saw 11\\nSkipping line 583190: expected 10 fields, saw 11\\nSkipping line 583531: expected 10 fields, saw 11\\nSkipping line 584092: expected 10 fields, saw 14\\nSkipping line 584138: expected 10 fields, saw 14\\nSkipping line 584287: expected 10 fields, saw 11\\nSkipping line 584652: expected 10 fields, saw 11\\nSkipping line 584774: expected 10 fields, saw 15\\nSkipping line 584885: expected 10 fields, saw 12\\nSkipping line 585004: expected 10 fields, saw 14\\nSkipping line 585373: expected 10 fields, saw 11\\nSkipping line 585528: expected 10 fields, saw 13\\nSkipping line 585997: expected 10 fields, saw 15\\nSkipping line 586236: expected 10 fields, saw 12\\nSkipping line 586374: expected 10 fields, saw 11\\nSkipping line 586511: expected 10 fields, saw 13\\nSkipping line 586792: expected 10 fields, saw 11\\nSkipping line 586933: expected 10 fields, saw 13\\nSkipping line 587498: expected 10 fields, saw 13\\nSkipping line 587712: expected 10 fields, saw 12\\nSkipping line 587888: expected 10 fields, saw 11\\nSkipping line 587909: expected 10 fields, saw 11\\nSkipping line 587918: expected 10 fields, saw 12\\nSkipping line 587983: expected 10 fields, saw 11\\nSkipping line 587984: expected 10 fields, saw 12\\nSkipping line 588180: expected 10 fields, saw 11\\nSkipping line 588310: expected 10 fields, saw 13\\nSkipping line 588496: expected 10 fields, saw 12\\nSkipping line 588739: expected 10 fields, saw 13\\nSkipping line 588896: expected 10 fields, saw 11\\nSkipping line 589318: expected 10 fields, saw 12\\nSkipping line 589583: expected 10 fields, saw 16\\nSkipping line 589914: expected 10 fields, saw 11\\nSkipping line 590419: expected 10 fields, saw 13\\nSkipping line 590478: expected 10 fields, saw 11\\nSkipping line 590644: expected 10 fields, saw 11\\nSkipping line 590719: expected 10 fields, saw 11\\nSkipping line 590816: expected 10 fields, saw 11\\nSkipping line 590821: expected 10 fields, saw 11\\nSkipping line 591020: expected 10 fields, saw 11\\nSkipping line 591061: expected 10 fields, saw 17\\nSkipping line 591493: expected 10 fields, saw 13\\n'\n",
            "b'Skipping line 591736: expected 10 fields, saw 18\\nSkipping line 591961: expected 10 fields, saw 11\\nSkipping line 592035: expected 10 fields, saw 12\\nSkipping line 592522: expected 10 fields, saw 11\\nSkipping line 592614: expected 10 fields, saw 12\\nSkipping line 592703: expected 10 fields, saw 15\\nSkipping line 592746: expected 10 fields, saw 15\\nSkipping line 592903: expected 10 fields, saw 11\\nSkipping line 592938: expected 10 fields, saw 12\\nSkipping line 593073: expected 10 fields, saw 13\\nSkipping line 593155: expected 10 fields, saw 11\\nSkipping line 593202: expected 10 fields, saw 11\\nSkipping line 593234: expected 10 fields, saw 11\\nSkipping line 593323: expected 10 fields, saw 11\\nSkipping line 593558: expected 10 fields, saw 14\\nSkipping line 593863: expected 10 fields, saw 11\\nSkipping line 593948: expected 10 fields, saw 12\\nSkipping line 594002: expected 10 fields, saw 13\\nSkipping line 594095: expected 10 fields, saw 12\\nSkipping line 594123: expected 10 fields, saw 11\\nSkipping line 594154: expected 10 fields, saw 12\\nSkipping line 594164: expected 10 fields, saw 13\\nSkipping line 594183: expected 10 fields, saw 11\\nSkipping line 595127: expected 10 fields, saw 12\\nSkipping line 595186: expected 10 fields, saw 11\\nSkipping line 595339: expected 10 fields, saw 24\\nSkipping line 595531: expected 10 fields, saw 12\\nSkipping line 595696: expected 10 fields, saw 16\\nSkipping line 595834: expected 10 fields, saw 11\\nSkipping line 596271: expected 10 fields, saw 12\\nSkipping line 596357: expected 10 fields, saw 12\\nSkipping line 596975: expected 10 fields, saw 15\\nSkipping line 597078: expected 10 fields, saw 11\\nSkipping line 597958: expected 10 fields, saw 11\\nSkipping line 597973: expected 10 fields, saw 11\\nSkipping line 598411: expected 10 fields, saw 13\\nSkipping line 598525: expected 10 fields, saw 12\\nSkipping line 598892: expected 10 fields, saw 11\\nSkipping line 599152: expected 10 fields, saw 14\\nSkipping line 599288: expected 10 fields, saw 13\\nSkipping line 599491: expected 10 fields, saw 11\\nSkipping line 599617: expected 10 fields, saw 11\\nSkipping line 600178: expected 10 fields, saw 15\\nSkipping line 600236: expected 10 fields, saw 12\\nSkipping line 600298: expected 10 fields, saw 11\\nSkipping line 600359: expected 10 fields, saw 12\\nSkipping line 600409: expected 10 fields, saw 11\\nSkipping line 600652: expected 10 fields, saw 14\\nSkipping line 600822: expected 10 fields, saw 12\\nSkipping line 601155: expected 10 fields, saw 12\\nSkipping line 601413: expected 10 fields, saw 11\\nSkipping line 601466: expected 10 fields, saw 19\\nSkipping line 601893: expected 10 fields, saw 11\\nSkipping line 601950: expected 10 fields, saw 12\\nSkipping line 602228: expected 10 fields, saw 14\\nSkipping line 602607: expected 10 fields, saw 11\\nSkipping line 602802: expected 10 fields, saw 13\\nSkipping line 602948: expected 10 fields, saw 20\\nSkipping line 603566: expected 10 fields, saw 11\\nSkipping line 604162: expected 10 fields, saw 11\\nSkipping line 604206: expected 10 fields, saw 11\\nSkipping line 604524: expected 10 fields, saw 12\\nSkipping line 604720: expected 10 fields, saw 11\\nSkipping line 605244: expected 10 fields, saw 11\\nSkipping line 605355: expected 10 fields, saw 12\\nSkipping line 605366: expected 10 fields, saw 14\\nSkipping line 605808: expected 10 fields, saw 15\\nSkipping line 605912: expected 10 fields, saw 11\\nSkipping line 606184: expected 10 fields, saw 15\\nSkipping line 606643: expected 10 fields, saw 12\\nSkipping line 606669: expected 10 fields, saw 13\\nSkipping line 606765: expected 10 fields, saw 15\\nSkipping line 607153: expected 10 fields, saw 12\\nSkipping line 607477: expected 10 fields, saw 16\\nSkipping line 607569: expected 10 fields, saw 11\\nSkipping line 607742: expected 10 fields, saw 11\\nSkipping line 608205: expected 10 fields, saw 14\\nSkipping line 608306: expected 10 fields, saw 11\\nSkipping line 608347: expected 10 fields, saw 13\\nSkipping line 608638: expected 10 fields, saw 35\\nSkipping line 608730: expected 10 fields, saw 16\\nSkipping line 608957: expected 10 fields, saw 15\\nSkipping line 609099: expected 10 fields, saw 15\\nSkipping line 609164: expected 10 fields, saw 11\\nSkipping line 609165: expected 10 fields, saw 13\\nSkipping line 609222: expected 10 fields, saw 12\\nSkipping line 609403: expected 10 fields, saw 11\\nSkipping line 609408: expected 10 fields, saw 15\\nSkipping line 609521: expected 10 fields, saw 12\\nSkipping line 609845: expected 10 fields, saw 11\\nSkipping line 609911: expected 10 fields, saw 11\\nSkipping line 609923: expected 10 fields, saw 11\\nSkipping line 609949: expected 10 fields, saw 16\\nSkipping line 610194: expected 10 fields, saw 14\\nSkipping line 610228: expected 10 fields, saw 12\\nSkipping line 610362: expected 10 fields, saw 12\\nSkipping line 610439: expected 10 fields, saw 13\\nSkipping line 610853: expected 10 fields, saw 11\\nSkipping line 610932: expected 10 fields, saw 11\\nSkipping line 610970: expected 10 fields, saw 12\\nSkipping line 611222: expected 10 fields, saw 12\\nSkipping line 611414: expected 10 fields, saw 11\\nSkipping line 611592: expected 10 fields, saw 13\\nSkipping line 611688: expected 10 fields, saw 11\\nSkipping line 611893: expected 10 fields, saw 11\\nSkipping line 611915: expected 10 fields, saw 11\\nSkipping line 612057: expected 10 fields, saw 13\\nSkipping line 612633: expected 10 fields, saw 12\\nSkipping line 613500: expected 10 fields, saw 13\\nSkipping line 613663: expected 10 fields, saw 17\\nSkipping line 613762: expected 10 fields, saw 15\\nSkipping line 613964: expected 10 fields, saw 11\\nSkipping line 613966: expected 10 fields, saw 11\\nSkipping line 614122: expected 10 fields, saw 13\\nSkipping line 614161: expected 10 fields, saw 11\\nSkipping line 614699: expected 10 fields, saw 11\\nSkipping line 614885: expected 10 fields, saw 19\\nSkipping line 615120: expected 10 fields, saw 11\\nSkipping line 615217: expected 10 fields, saw 11\\nSkipping line 615608: expected 10 fields, saw 11\\nSkipping line 615639: expected 10 fields, saw 14\\nSkipping line 615728: expected 10 fields, saw 11\\nSkipping line 615741: expected 10 fields, saw 13\\nSkipping line 615886: expected 10 fields, saw 11\\nSkipping line 615924: expected 10 fields, saw 16\\nSkipping line 615940: expected 10 fields, saw 16\\nSkipping line 616053: expected 10 fields, saw 11\\nSkipping line 616109: expected 10 fields, saw 11\\nSkipping line 616346: expected 10 fields, saw 11\\nSkipping line 616365: expected 10 fields, saw 11\\nSkipping line 616505: expected 10 fields, saw 17\\nSkipping line 616979: expected 10 fields, saw 13\\nSkipping line 617060: expected 10 fields, saw 11\\nSkipping line 617274: expected 10 fields, saw 13\\nSkipping line 617343: expected 10 fields, saw 12\\nSkipping line 617506: expected 10 fields, saw 19\\nSkipping line 617568: expected 10 fields, saw 13\\nSkipping line 617755: expected 10 fields, saw 11\\nSkipping line 617756: expected 10 fields, saw 13\\nSkipping line 617781: expected 10 fields, saw 11\\nSkipping line 617854: expected 10 fields, saw 11\\nSkipping line 618166: expected 10 fields, saw 13\\nSkipping line 618373: expected 10 fields, saw 12\\nSkipping line 618702: expected 10 fields, saw 11\\nSkipping line 618808: expected 10 fields, saw 11\\nSkipping line 618845: expected 10 fields, saw 11\\nSkipping line 619018: expected 10 fields, saw 11\\nSkipping line 619112: expected 10 fields, saw 11\\nSkipping line 619313: expected 10 fields, saw 13\\nSkipping line 619323: expected 10 fields, saw 19\\nSkipping line 619728: expected 10 fields, saw 14\\nSkipping line 620245: expected 10 fields, saw 14\\nSkipping line 620347: expected 10 fields, saw 11\\nSkipping line 620390: expected 10 fields, saw 16\\nSkipping line 620474: expected 10 fields, saw 11\\nSkipping line 620553: expected 10 fields, saw 12\\nSkipping line 620733: expected 10 fields, saw 12\\nSkipping line 620949: expected 10 fields, saw 11\\nSkipping line 621082: expected 10 fields, saw 15\\nSkipping line 621196: expected 10 fields, saw 11\\nSkipping line 621355: expected 10 fields, saw 17\\nSkipping line 621406: expected 10 fields, saw 11\\nSkipping line 621533: expected 10 fields, saw 15\\nSkipping line 622198: expected 10 fields, saw 21\\nSkipping line 622817: expected 10 fields, saw 11\\nSkipping line 622872: expected 10 fields, saw 12\\nSkipping line 622996: expected 10 fields, saw 28\\nSkipping line 623136: expected 10 fields, saw 14\\nSkipping line 623737: expected 10 fields, saw 11\\nSkipping line 623749: expected 10 fields, saw 11\\nSkipping line 624553: expected 10 fields, saw 13\\nSkipping line 624741: expected 10 fields, saw 11\\nSkipping line 624929: expected 10 fields, saw 11\\nSkipping line 624978: expected 10 fields, saw 13\\nSkipping line 625334: expected 10 fields, saw 11\\nSkipping line 625494: expected 10 fields, saw 12\\nSkipping line 625683: expected 10 fields, saw 16\\nSkipping line 625854: expected 10 fields, saw 13\\nSkipping line 626022: expected 10 fields, saw 11\\nSkipping line 626508: expected 10 fields, saw 11\\nSkipping line 626663: expected 10 fields, saw 11\\nSkipping line 626734: expected 10 fields, saw 11\\nSkipping line 626891: expected 10 fields, saw 12\\nSkipping line 627333: expected 10 fields, saw 11\\nSkipping line 627485: expected 10 fields, saw 11\\nSkipping line 627688: expected 10 fields, saw 13\\nSkipping line 627782: expected 10 fields, saw 12\\nSkipping line 628075: expected 10 fields, saw 11\\nSkipping line 628133: expected 10 fields, saw 17\\nSkipping line 628160: expected 10 fields, saw 13\\nSkipping line 628163: expected 10 fields, saw 12\\nSkipping line 628191: expected 10 fields, saw 11\\nSkipping line 628232: expected 10 fields, saw 25\\nSkipping line 628290: expected 10 fields, saw 30\\nSkipping line 628467: expected 10 fields, saw 13\\nSkipping line 628874: expected 10 fields, saw 11\\nSkipping line 629020: expected 10 fields, saw 12\\nSkipping line 629350: expected 10 fields, saw 13\\nSkipping line 629517: expected 10 fields, saw 13\\nSkipping line 629523: expected 10 fields, saw 11\\nSkipping line 629669: expected 10 fields, saw 19\\nSkipping line 630127: expected 10 fields, saw 17\\nSkipping line 630224: expected 10 fields, saw 11\\nSkipping line 630495: expected 10 fields, saw 12\\nSkipping line 630920: expected 10 fields, saw 11\\nSkipping line 631183: expected 10 fields, saw 11\\nSkipping line 631573: expected 10 fields, saw 11\\nSkipping line 631618: expected 10 fields, saw 13\\nSkipping line 631736: expected 10 fields, saw 12\\nSkipping line 632132: expected 10 fields, saw 14\\nSkipping line 632211: expected 10 fields, saw 12\\nSkipping line 632593: expected 10 fields, saw 12\\nSkipping line 632788: expected 10 fields, saw 11\\nSkipping line 633285: expected 10 fields, saw 24\\nSkipping line 633337: expected 10 fields, saw 22\\nSkipping line 633727: expected 10 fields, saw 11\\nSkipping line 633764: expected 10 fields, saw 12\\nSkipping line 633772: expected 10 fields, saw 11\\nSkipping line 633876: expected 10 fields, saw 11\\nSkipping line 633908: expected 10 fields, saw 14\\nSkipping line 634107: expected 10 fields, saw 11\\nSkipping line 634421: expected 10 fields, saw 15\\nSkipping line 634646: expected 10 fields, saw 11\\nSkipping line 635019: expected 10 fields, saw 13\\nSkipping line 635174: expected 10 fields, saw 11\\nSkipping line 635427: expected 10 fields, saw 36\\nSkipping line 635560: expected 10 fields, saw 13\\nSkipping line 635637: expected 10 fields, saw 12\\nSkipping line 635842: expected 10 fields, saw 11\\nSkipping line 636262: expected 10 fields, saw 11\\nSkipping line 636333: expected 10 fields, saw 11\\nSkipping line 636608: expected 10 fields, saw 11\\nSkipping line 636681: expected 10 fields, saw 13\\nSkipping line 636715: expected 10 fields, saw 11\\nSkipping line 636815: expected 10 fields, saw 11\\nSkipping line 637023: expected 10 fields, saw 11\\nSkipping line 637455: expected 10 fields, saw 11\\nSkipping line 637680: expected 10 fields, saw 11\\nSkipping line 637751: expected 10 fields, saw 16\\nSkipping line 637875: expected 10 fields, saw 11\\nSkipping line 638153: expected 10 fields, saw 11\\nSkipping line 638294: expected 10 fields, saw 11\\nSkipping line 638616: expected 10 fields, saw 17\\nSkipping line 638756: expected 10 fields, saw 11\\nSkipping line 638906: expected 10 fields, saw 11\\nSkipping line 639084: expected 10 fields, saw 11\\nSkipping line 639225: expected 10 fields, saw 11\\nSkipping line 639494: expected 10 fields, saw 11\\nSkipping line 640354: expected 10 fields, saw 13\\nSkipping line 640548: expected 10 fields, saw 11\\nSkipping line 640601: expected 10 fields, saw 13\\nSkipping line 640675: expected 10 fields, saw 13\\nSkipping line 640748: expected 10 fields, saw 17\\nSkipping line 640947: expected 10 fields, saw 11\\nSkipping line 640961: expected 10 fields, saw 13\\nSkipping line 641756: expected 10 fields, saw 11\\nSkipping line 641912: expected 10 fields, saw 11\\nSkipping line 641933: expected 10 fields, saw 14\\nSkipping line 642036: expected 10 fields, saw 12\\nSkipping line 642171: expected 10 fields, saw 12\\nSkipping line 642283: expected 10 fields, saw 11\\nSkipping line 642499: expected 10 fields, saw 11\\nSkipping line 642505: expected 10 fields, saw 13\\nSkipping line 642808: expected 10 fields, saw 12\\nSkipping line 642987: expected 10 fields, saw 12\\nSkipping line 643018: expected 10 fields, saw 14\\nSkipping line 643055: expected 10 fields, saw 15\\nSkipping line 643378: expected 10 fields, saw 11\\nSkipping line 643412: expected 10 fields, saw 11\\nSkipping line 643482: expected 10 fields, saw 11\\nSkipping line 643806: expected 10 fields, saw 11\\nSkipping line 643866: expected 10 fields, saw 11\\nSkipping line 644098: expected 10 fields, saw 11\\nSkipping line 644382: expected 10 fields, saw 12\\nSkipping line 644733: expected 10 fields, saw 12\\nSkipping line 644903: expected 10 fields, saw 11\\nSkipping line 645131: expected 10 fields, saw 14\\nSkipping line 645321: expected 10 fields, saw 11\\nSkipping line 645448: expected 10 fields, saw 11\\nSkipping line 645769: expected 10 fields, saw 13\\nSkipping line 646068: expected 10 fields, saw 11\\nSkipping line 646182: expected 10 fields, saw 11\\nSkipping line 646489: expected 10 fields, saw 11\\nSkipping line 646541: expected 10 fields, saw 17\\nSkipping line 646562: expected 10 fields, saw 11\\nSkipping line 646784: expected 10 fields, saw 12\\nSkipping line 646929: expected 10 fields, saw 12\\nSkipping line 647089: expected 10 fields, saw 11\\nSkipping line 647117: expected 10 fields, saw 13\\nSkipping line 647446: expected 10 fields, saw 13\\nSkipping line 647754: expected 10 fields, saw 12\\nSkipping line 647918: expected 10 fields, saw 11\\nSkipping line 648042: expected 10 fields, saw 12\\nSkipping line 648404: expected 10 fields, saw 13\\nSkipping line 648697: expected 10 fields, saw 15\\nSkipping line 648764: expected 10 fields, saw 11\\nSkipping line 648935: expected 10 fields, saw 11\\nSkipping line 649105: expected 10 fields, saw 11\\nSkipping line 649120: expected 10 fields, saw 14\\nSkipping line 649191: expected 10 fields, saw 12\\nSkipping line 649224: expected 10 fields, saw 19\\nSkipping line 649256: expected 10 fields, saw 13\\nSkipping line 649343: expected 10 fields, saw 20\\nSkipping line 649530: expected 10 fields, saw 11\\nSkipping line 649741: expected 10 fields, saw 11\\nSkipping line 649908: expected 10 fields, saw 14\\nSkipping line 650029: expected 10 fields, saw 11\\nSkipping line 650143: expected 10 fields, saw 13\\nSkipping line 650168: expected 10 fields, saw 16\\nSkipping line 650198: expected 10 fields, saw 12\\nSkipping line 650214: expected 10 fields, saw 14\\nSkipping line 650290: expected 10 fields, saw 12\\nSkipping line 650586: expected 10 fields, saw 12\\nSkipping line 650606: expected 10 fields, saw 11\\nSkipping line 650966: expected 10 fields, saw 12\\nSkipping line 651085: expected 10 fields, saw 15\\nSkipping line 651140: expected 10 fields, saw 19\\nSkipping line 651215: expected 10 fields, saw 12\\nSkipping line 651268: expected 10 fields, saw 12\\nSkipping line 651362: expected 10 fields, saw 11\\nSkipping line 651405: expected 10 fields, saw 11\\nSkipping line 651410: expected 10 fields, saw 12\\nSkipping line 651528: expected 10 fields, saw 19\\nSkipping line 651586: expected 10 fields, saw 12\\nSkipping line 651692: expected 10 fields, saw 12\\nSkipping line 651761: expected 10 fields, saw 22\\nSkipping line 651802: expected 10 fields, saw 11\\nSkipping line 651944: expected 10 fields, saw 12\\nSkipping line 651950: expected 10 fields, saw 12\\nSkipping line 652029: expected 10 fields, saw 56\\nSkipping line 652184: expected 10 fields, saw 14\\nSkipping line 652253: expected 10 fields, saw 11\\nSkipping line 652357: expected 10 fields, saw 15\\nSkipping line 652382: expected 10 fields, saw 27\\nSkipping line 652395: expected 10 fields, saw 16\\nSkipping line 652418: expected 10 fields, saw 15\\nSkipping line 652429: expected 10 fields, saw 14\\nSkipping line 652572: expected 10 fields, saw 16\\nSkipping line 652663: expected 10 fields, saw 14\\nSkipping line 652897: expected 10 fields, saw 11\\nSkipping line 652903: expected 10 fields, saw 13\\nSkipping line 652909: expected 10 fields, saw 23\\nSkipping line 652928: expected 10 fields, saw 19\\nSkipping line 652987: expected 10 fields, saw 12\\nSkipping line 653033: expected 10 fields, saw 11\\nSkipping line 653188: expected 10 fields, saw 43\\nSkipping line 653217: expected 10 fields, saw 11\\nSkipping line 653276: expected 10 fields, saw 15\\nSkipping line 653426: expected 10 fields, saw 12\\nSkipping line 653631: expected 10 fields, saw 15\\nSkipping line 653698: expected 10 fields, saw 19\\nSkipping line 653820: expected 10 fields, saw 15\\nSkipping line 653842: expected 10 fields, saw 12\\nSkipping line 653856: expected 10 fields, saw 13\\nSkipping line 653873: expected 10 fields, saw 13\\nSkipping line 654252: expected 10 fields, saw 11\\nSkipping line 654273: expected 10 fields, saw 38\\nSkipping line 654299: expected 10 fields, saw 16\\nSkipping line 654496: expected 10 fields, saw 11\\nSkipping line 654785: expected 10 fields, saw 12\\nSkipping line 655069: expected 10 fields, saw 11\\nSkipping line 655196: expected 10 fields, saw 11\\nSkipping line 655295: expected 10 fields, saw 12\\nSkipping line 655437: expected 10 fields, saw 20\\nSkipping line 655456: expected 10 fields, saw 13\\nSkipping line 655595: expected 10 fields, saw 12\\nSkipping line 655662: expected 10 fields, saw 12\\nSkipping line 655669: expected 10 fields, saw 11\\nSkipping line 655827: expected 10 fields, saw 13\\nSkipping line 655889: expected 10 fields, saw 15\\nSkipping line 655898: expected 10 fields, saw 12\\nSkipping line 656151: expected 10 fields, saw 19\\nSkipping line 656248: expected 10 fields, saw 19\\nSkipping line 656298: expected 10 fields, saw 18\\nSkipping line 656703: expected 10 fields, saw 11\\nSkipping line 656753: expected 10 fields, saw 11\\nSkipping line 656868: expected 10 fields, saw 14\\nSkipping line 656907: expected 10 fields, saw 13\\nSkipping line 657085: expected 10 fields, saw 11\\nSkipping line 657186: expected 10 fields, saw 16\\nSkipping line 657187: expected 10 fields, saw 16\\nSkipping line 657216: expected 10 fields, saw 12\\nSkipping line 657226: expected 10 fields, saw 11\\nSkipping line 657399: expected 10 fields, saw 11\\nSkipping line 657474: expected 10 fields, saw 16\\nSkipping line 657554: expected 10 fields, saw 11\\nSkipping line 657568: expected 10 fields, saw 11\\nSkipping line 657591: expected 10 fields, saw 15\\nSkipping line 657619: expected 10 fields, saw 11\\n'\n",
            "b'Skipping line 657751: expected 10 fields, saw 12\\nSkipping line 657961: expected 10 fields, saw 12\\nSkipping line 658015: expected 10 fields, saw 24\\nSkipping line 658133: expected 10 fields, saw 11\\nSkipping line 658157: expected 10 fields, saw 11\\nSkipping line 658416: expected 10 fields, saw 11\\nSkipping line 658643: expected 10 fields, saw 12\\nSkipping line 658712: expected 10 fields, saw 15\\nSkipping line 659017: expected 10 fields, saw 15\\nSkipping line 659083: expected 10 fields, saw 19\\nSkipping line 659252: expected 10 fields, saw 11\\nSkipping line 659283: expected 10 fields, saw 14\\nSkipping line 659622: expected 10 fields, saw 11\\nSkipping line 659686: expected 10 fields, saw 12\\nSkipping line 659947: expected 10 fields, saw 11\\nSkipping line 660169: expected 10 fields, saw 13\\nSkipping line 660281: expected 10 fields, saw 11\\nSkipping line 660311: expected 10 fields, saw 12\\nSkipping line 660422: expected 10 fields, saw 11\\nSkipping line 660425: expected 10 fields, saw 11\\nSkipping line 660438: expected 10 fields, saw 11\\nSkipping line 660503: expected 10 fields, saw 11\\nSkipping line 660597: expected 10 fields, saw 13\\nSkipping line 660694: expected 10 fields, saw 12\\nSkipping line 660770: expected 10 fields, saw 12\\nSkipping line 660779: expected 10 fields, saw 11\\nSkipping line 660844: expected 10 fields, saw 11\\nSkipping line 661112: expected 10 fields, saw 14\\nSkipping line 661149: expected 10 fields, saw 11\\nSkipping line 661255: expected 10 fields, saw 83\\nSkipping line 661499: expected 10 fields, saw 15\\nSkipping line 661539: expected 10 fields, saw 12\\nSkipping line 661541: expected 10 fields, saw 13\\nSkipping line 661544: expected 10 fields, saw 17\\nSkipping line 661558: expected 10 fields, saw 12\\nSkipping line 661614: expected 10 fields, saw 14\\nSkipping line 661653: expected 10 fields, saw 13\\nSkipping line 661675: expected 10 fields, saw 11\\nSkipping line 661715: expected 10 fields, saw 12\\nSkipping line 661903: expected 10 fields, saw 22\\nSkipping line 661960: expected 10 fields, saw 14\\nSkipping line 662009: expected 10 fields, saw 11\\nSkipping line 662162: expected 10 fields, saw 12\\nSkipping line 662282: expected 10 fields, saw 16\\nSkipping line 662306: expected 10 fields, saw 12\\nSkipping line 662323: expected 10 fields, saw 17\\nSkipping line 662379: expected 10 fields, saw 11\\nSkipping line 662416: expected 10 fields, saw 43\\nSkipping line 662526: expected 10 fields, saw 20\\nSkipping line 662536: expected 10 fields, saw 11\\nSkipping line 662789: expected 10 fields, saw 25\\nSkipping line 662827: expected 10 fields, saw 12\\nSkipping line 662882: expected 10 fields, saw 12\\nSkipping line 662979: expected 10 fields, saw 12\\nSkipping line 663089: expected 10 fields, saw 11\\nSkipping line 663232: expected 10 fields, saw 12\\nSkipping line 663368: expected 10 fields, saw 11\\nSkipping line 663533: expected 10 fields, saw 24\\nSkipping line 663730: expected 10 fields, saw 18\\nSkipping line 663780: expected 10 fields, saw 11\\nSkipping line 663807: expected 10 fields, saw 12\\nSkipping line 664114: expected 10 fields, saw 11\\nSkipping line 664135: expected 10 fields, saw 11\\nSkipping line 664175: expected 10 fields, saw 11\\nSkipping line 664204: expected 10 fields, saw 12\\nSkipping line 664238: expected 10 fields, saw 12\\nSkipping line 664295: expected 10 fields, saw 12\\nSkipping line 664507: expected 10 fields, saw 13\\nSkipping line 664612: expected 10 fields, saw 13\\nSkipping line 664627: expected 10 fields, saw 18\\nSkipping line 664661: expected 10 fields, saw 12\\nSkipping line 664665: expected 10 fields, saw 11\\nSkipping line 664673: expected 10 fields, saw 12\\nSkipping line 664710: expected 10 fields, saw 11\\nSkipping line 664955: expected 10 fields, saw 11\\nSkipping line 664989: expected 10 fields, saw 18\\nSkipping line 665080: expected 10 fields, saw 11\\nSkipping line 665148: expected 10 fields, saw 12\\nSkipping line 665201: expected 10 fields, saw 22\\nSkipping line 665209: expected 10 fields, saw 11\\nSkipping line 665215: expected 10 fields, saw 32\\nSkipping line 665240: expected 10 fields, saw 15\\nSkipping line 665400: expected 10 fields, saw 11\\nSkipping line 665401: expected 10 fields, saw 18\\nSkipping line 665519: expected 10 fields, saw 19\\nSkipping line 665531: expected 10 fields, saw 12\\nSkipping line 665763: expected 10 fields, saw 12\\nSkipping line 665791: expected 10 fields, saw 13\\nSkipping line 666178: expected 10 fields, saw 13\\nSkipping line 666198: expected 10 fields, saw 11\\nSkipping line 666311: expected 10 fields, saw 11\\nSkipping line 666361: expected 10 fields, saw 12\\nSkipping line 666414: expected 10 fields, saw 11\\nSkipping line 666454: expected 10 fields, saw 11\\nSkipping line 666523: expected 10 fields, saw 12\\nSkipping line 666578: expected 10 fields, saw 14\\nSkipping line 666746: expected 10 fields, saw 11\\nSkipping line 666899: expected 10 fields, saw 24\\nSkipping line 666901: expected 10 fields, saw 12\\nSkipping line 666940: expected 10 fields, saw 11\\nSkipping line 667011: expected 10 fields, saw 23\\nSkipping line 667131: expected 10 fields, saw 11\\nSkipping line 667252: expected 10 fields, saw 11\\nSkipping line 667453: expected 10 fields, saw 11\\nSkipping line 667466: expected 10 fields, saw 12\\nSkipping line 667474: expected 10 fields, saw 11\\nSkipping line 667497: expected 10 fields, saw 12\\nSkipping line 667503: expected 10 fields, saw 15\\nSkipping line 667607: expected 10 fields, saw 15\\nSkipping line 667765: expected 10 fields, saw 11\\nSkipping line 667808: expected 10 fields, saw 12\\nSkipping line 667837: expected 10 fields, saw 12\\nSkipping line 667839: expected 10 fields, saw 105\\nSkipping line 667885: expected 10 fields, saw 11\\nSkipping line 668003: expected 10 fields, saw 13\\nSkipping line 668012: expected 10 fields, saw 14\\nSkipping line 668087: expected 10 fields, saw 17\\nSkipping line 668133: expected 10 fields, saw 15\\nSkipping line 668201: expected 10 fields, saw 15\\nSkipping line 668212: expected 10 fields, saw 12\\nSkipping line 668318: expected 10 fields, saw 14\\nSkipping line 668339: expected 10 fields, saw 16\\nSkipping line 668399: expected 10 fields, saw 11\\nSkipping line 668407: expected 10 fields, saw 11\\nSkipping line 668502: expected 10 fields, saw 15\\nSkipping line 668663: expected 10 fields, saw 12\\nSkipping line 668706: expected 10 fields, saw 11\\nSkipping line 668752: expected 10 fields, saw 16\\nSkipping line 668947: expected 10 fields, saw 13\\nSkipping line 668959: expected 10 fields, saw 12\\nSkipping line 668977: expected 10 fields, saw 16\\nSkipping line 668980: expected 10 fields, saw 19\\nSkipping line 669443: expected 10 fields, saw 11\\nSkipping line 669614: expected 10 fields, saw 12\\nSkipping line 669733: expected 10 fields, saw 12\\nSkipping line 669736: expected 10 fields, saw 11\\nSkipping line 669752: expected 10 fields, saw 13\\nSkipping line 669770: expected 10 fields, saw 11\\nSkipping line 669990: expected 10 fields, saw 15\\nSkipping line 670030: expected 10 fields, saw 13\\nSkipping line 670041: expected 10 fields, saw 11\\nSkipping line 670058: expected 10 fields, saw 11\\nSkipping line 670091: expected 10 fields, saw 13\\nSkipping line 670208: expected 10 fields, saw 12\\nSkipping line 670264: expected 10 fields, saw 14\\nSkipping line 670282: expected 10 fields, saw 15\\nSkipping line 670371: expected 10 fields, saw 13\\nSkipping line 670425: expected 10 fields, saw 19\\nSkipping line 670482: expected 10 fields, saw 13\\nSkipping line 670485: expected 10 fields, saw 25\\nSkipping line 670563: expected 10 fields, saw 17\\nSkipping line 670654: expected 10 fields, saw 11\\nSkipping line 670691: expected 10 fields, saw 19\\nSkipping line 670735: expected 10 fields, saw 13\\nSkipping line 670807: expected 10 fields, saw 14\\nSkipping line 671104: expected 10 fields, saw 11\\nSkipping line 671109: expected 10 fields, saw 11\\nSkipping line 671140: expected 10 fields, saw 12\\nSkipping line 671249: expected 10 fields, saw 11\\nSkipping line 671300: expected 10 fields, saw 25\\nSkipping line 671475: expected 10 fields, saw 11\\nSkipping line 671563: expected 10 fields, saw 11\\nSkipping line 671599: expected 10 fields, saw 13\\nSkipping line 671734: expected 10 fields, saw 16\\nSkipping line 672300: expected 10 fields, saw 12\\nSkipping line 672312: expected 10 fields, saw 11\\nSkipping line 672343: expected 10 fields, saw 11\\nSkipping line 672513: expected 10 fields, saw 12\\nSkipping line 672778: expected 10 fields, saw 11\\nSkipping line 672983: expected 10 fields, saw 23\\nSkipping line 673093: expected 10 fields, saw 11\\nSkipping line 673195: expected 10 fields, saw 14\\nSkipping line 673229: expected 10 fields, saw 16\\nSkipping line 673331: expected 10 fields, saw 13\\nSkipping line 673574: expected 10 fields, saw 12\\nSkipping line 673623: expected 10 fields, saw 17\\nSkipping line 673661: expected 10 fields, saw 15\\nSkipping line 673665: expected 10 fields, saw 12\\nSkipping line 673688: expected 10 fields, saw 11\\nSkipping line 673750: expected 10 fields, saw 31\\nSkipping line 673789: expected 10 fields, saw 14\\nSkipping line 673790: expected 10 fields, saw 14\\nSkipping line 673913: expected 10 fields, saw 12\\nSkipping line 674013: expected 10 fields, saw 12\\nSkipping line 674067: expected 10 fields, saw 11\\nSkipping line 674248: expected 10 fields, saw 28\\nSkipping line 674367: expected 10 fields, saw 24\\nSkipping line 674530: expected 10 fields, saw 20\\nSkipping line 674573: expected 10 fields, saw 39\\nSkipping line 674598: expected 10 fields, saw 12\\nSkipping line 674642: expected 10 fields, saw 11\\nSkipping line 674782: expected 10 fields, saw 11\\nSkipping line 674813: expected 10 fields, saw 15\\nSkipping line 674818: expected 10 fields, saw 17\\nSkipping line 674901: expected 10 fields, saw 11\\nSkipping line 675139: expected 10 fields, saw 11\\nSkipping line 675156: expected 10 fields, saw 13\\nSkipping line 675191: expected 10 fields, saw 15\\nSkipping line 675316: expected 10 fields, saw 12\\nSkipping line 675419: expected 10 fields, saw 20\\nSkipping line 675542: expected 10 fields, saw 19\\nSkipping line 675646: expected 10 fields, saw 11\\nSkipping line 675718: expected 10 fields, saw 11\\nSkipping line 675740: expected 10 fields, saw 13\\nSkipping line 675972: expected 10 fields, saw 23\\nSkipping line 675977: expected 10 fields, saw 13\\nSkipping line 676176: expected 10 fields, saw 11\\nSkipping line 676178: expected 10 fields, saw 16\\nSkipping line 676195: expected 10 fields, saw 15\\nSkipping line 676398: expected 10 fields, saw 11\\nSkipping line 676538: expected 10 fields, saw 11\\nSkipping line 676604: expected 10 fields, saw 16\\nSkipping line 676836: expected 10 fields, saw 11\\nSkipping line 676900: expected 10 fields, saw 12\\nSkipping line 676945: expected 10 fields, saw 11\\nSkipping line 677065: expected 10 fields, saw 15\\nSkipping line 677136: expected 10 fields, saw 12\\nSkipping line 677181: expected 10 fields, saw 14\\nSkipping line 677295: expected 10 fields, saw 12\\nSkipping line 677322: expected 10 fields, saw 11\\nSkipping line 677529: expected 10 fields, saw 17\\nSkipping line 677563: expected 10 fields, saw 17\\nSkipping line 677655: expected 10 fields, saw 13\\nSkipping line 678003: expected 10 fields, saw 18\\nSkipping line 678019: expected 10 fields, saw 14\\nSkipping line 678094: expected 10 fields, saw 12\\nSkipping line 678114: expected 10 fields, saw 11\\nSkipping line 678148: expected 10 fields, saw 19\\nSkipping line 678330: expected 10 fields, saw 18\\nSkipping line 678444: expected 10 fields, saw 13\\nSkipping line 678453: expected 10 fields, saw 11\\nSkipping line 678594: expected 10 fields, saw 11\\nSkipping line 679169: expected 10 fields, saw 12\\nSkipping line 679186: expected 10 fields, saw 13\\nSkipping line 679260: expected 10 fields, saw 13\\nSkipping line 679322: expected 10 fields, saw 11\\nSkipping line 679325: expected 10 fields, saw 12\\nSkipping line 679363: expected 10 fields, saw 11\\nSkipping line 679561: expected 10 fields, saw 12\\nSkipping line 679619: expected 10 fields, saw 12\\nSkipping line 679741: expected 10 fields, saw 13\\nSkipping line 679853: expected 10 fields, saw 11\\nSkipping line 680051: expected 10 fields, saw 16\\nSkipping line 680137: expected 10 fields, saw 26\\nSkipping line 680399: expected 10 fields, saw 13\\nSkipping line 680407: expected 10 fields, saw 17\\nSkipping line 680691: expected 10 fields, saw 47\\nSkipping line 680693: expected 10 fields, saw 25\\nSkipping line 681306: expected 10 fields, saw 18\\nSkipping line 681328: expected 10 fields, saw 14\\nSkipping line 681367: expected 10 fields, saw 14\\nSkipping line 681535: expected 10 fields, saw 11\\nSkipping line 681650: expected 10 fields, saw 11\\nSkipping line 681693: expected 10 fields, saw 12\\nSkipping line 681760: expected 10 fields, saw 22\\nSkipping line 681812: expected 10 fields, saw 11\\nSkipping line 681821: expected 10 fields, saw 11\\nSkipping line 681901: expected 10 fields, saw 14\\nSkipping line 682034: expected 10 fields, saw 11\\nSkipping line 682104: expected 10 fields, saw 23\\nSkipping line 682251: expected 10 fields, saw 16\\nSkipping line 682705: expected 10 fields, saw 17\\nSkipping line 682719: expected 10 fields, saw 12\\nSkipping line 682897: expected 10 fields, saw 30\\nSkipping line 682928: expected 10 fields, saw 11\\nSkipping line 682939: expected 10 fields, saw 13\\nSkipping line 683097: expected 10 fields, saw 33\\nSkipping line 683178: expected 10 fields, saw 12\\nSkipping line 683185: expected 10 fields, saw 14\\nSkipping line 683306: expected 10 fields, saw 11\\nSkipping line 683309: expected 10 fields, saw 11\\nSkipping line 683332: expected 10 fields, saw 11\\nSkipping line 683595: expected 10 fields, saw 13\\nSkipping line 683814: expected 10 fields, saw 15\\nSkipping line 683903: expected 10 fields, saw 20\\nSkipping line 683942: expected 10 fields, saw 11\\nSkipping line 684085: expected 10 fields, saw 11\\nSkipping line 684276: expected 10 fields, saw 15\\nSkipping line 684364: expected 10 fields, saw 12\\nSkipping line 684389: expected 10 fields, saw 15\\nSkipping line 684976: expected 10 fields, saw 15\\nSkipping line 685043: expected 10 fields, saw 13\\nSkipping line 685086: expected 10 fields, saw 15\\nSkipping line 685409: expected 10 fields, saw 13\\nSkipping line 685470: expected 10 fields, saw 11\\nSkipping line 685554: expected 10 fields, saw 11\\nSkipping line 685817: expected 10 fields, saw 12\\nSkipping line 685897: expected 10 fields, saw 12\\nSkipping line 686835: expected 10 fields, saw 20\\nSkipping line 686925: expected 10 fields, saw 15\\nSkipping line 686970: expected 10 fields, saw 13\\nSkipping line 687001: expected 10 fields, saw 12\\nSkipping line 687033: expected 10 fields, saw 13\\nSkipping line 687061: expected 10 fields, saw 22\\nSkipping line 687286: expected 10 fields, saw 11\\nSkipping line 687337: expected 10 fields, saw 20\\nSkipping line 687465: expected 10 fields, saw 11\\nSkipping line 687515: expected 10 fields, saw 12\\nSkipping line 687638: expected 10 fields, saw 11\\nSkipping line 687857: expected 10 fields, saw 13\\nSkipping line 687912: expected 10 fields, saw 11\\nSkipping line 688023: expected 10 fields, saw 11\\nSkipping line 688044: expected 10 fields, saw 15\\nSkipping line 688094: expected 10 fields, saw 17\\nSkipping line 688113: expected 10 fields, saw 16\\nSkipping line 688339: expected 10 fields, saw 11\\nSkipping line 688404: expected 10 fields, saw 11\\nSkipping line 688465: expected 10 fields, saw 14\\nSkipping line 688613: expected 10 fields, saw 17\\nSkipping line 688664: expected 10 fields, saw 13\\nSkipping line 688726: expected 10 fields, saw 16\\nSkipping line 688810: expected 10 fields, saw 11\\nSkipping line 688823: expected 10 fields, saw 11\\nSkipping line 689002: expected 10 fields, saw 12\\nSkipping line 689013: expected 10 fields, saw 12\\nSkipping line 689072: expected 10 fields, saw 13\\nSkipping line 689220: expected 10 fields, saw 11\\nSkipping line 689389: expected 10 fields, saw 12\\nSkipping line 689492: expected 10 fields, saw 13\\nSkipping line 689500: expected 10 fields, saw 11\\nSkipping line 689521: expected 10 fields, saw 16\\nSkipping line 689619: expected 10 fields, saw 12\\nSkipping line 689667: expected 10 fields, saw 11\\nSkipping line 689709: expected 10 fields, saw 14\\nSkipping line 689793: expected 10 fields, saw 19\\nSkipping line 689796: expected 10 fields, saw 20\\nSkipping line 690024: expected 10 fields, saw 13\\nSkipping line 690372: expected 10 fields, saw 11\\nSkipping line 690391: expected 10 fields, saw 12\\nSkipping line 690561: expected 10 fields, saw 11\\nSkipping line 690566: expected 10 fields, saw 13\\nSkipping line 690799: expected 10 fields, saw 21\\nSkipping line 690822: expected 10 fields, saw 17\\nSkipping line 691035: expected 10 fields, saw 19\\nSkipping line 691099: expected 10 fields, saw 11\\nSkipping line 691120: expected 10 fields, saw 12\\nSkipping line 691186: expected 10 fields, saw 11\\nSkipping line 691389: expected 10 fields, saw 25\\nSkipping line 691509: expected 10 fields, saw 15\\nSkipping line 691527: expected 10 fields, saw 11\\nSkipping line 691553: expected 10 fields, saw 13\\nSkipping line 691601: expected 10 fields, saw 22\\nSkipping line 691672: expected 10 fields, saw 11\\nSkipping line 692053: expected 10 fields, saw 11\\nSkipping line 692180: expected 10 fields, saw 11\\nSkipping line 692231: expected 10 fields, saw 14\\nSkipping line 692270: expected 10 fields, saw 16\\nSkipping line 692384: expected 10 fields, saw 11\\nSkipping line 692472: expected 10 fields, saw 27\\nSkipping line 692539: expected 10 fields, saw 11\\nSkipping line 692620: expected 10 fields, saw 12\\nSkipping line 692662: expected 10 fields, saw 15\\nSkipping line 692837: expected 10 fields, saw 12\\nSkipping line 692872: expected 10 fields, saw 12\\nSkipping line 692993: expected 10 fields, saw 17\\nSkipping line 693006: expected 10 fields, saw 11\\nSkipping line 693106: expected 10 fields, saw 13\\nSkipping line 693233: expected 10 fields, saw 11\\nSkipping line 693241: expected 10 fields, saw 11\\nSkipping line 693418: expected 10 fields, saw 11\\nSkipping line 693523: expected 10 fields, saw 13\\nSkipping line 693662: expected 10 fields, saw 11\\nSkipping line 693692: expected 10 fields, saw 19\\nSkipping line 693827: expected 10 fields, saw 12\\nSkipping line 694074: expected 10 fields, saw 11\\nSkipping line 694087: expected 10 fields, saw 14\\nSkipping line 694088: expected 10 fields, saw 12\\nSkipping line 694199: expected 10 fields, saw 28\\nSkipping line 694242: expected 10 fields, saw 11\\nSkipping line 694253: expected 10 fields, saw 12\\nSkipping line 694326: expected 10 fields, saw 12\\nSkipping line 694376: expected 10 fields, saw 11\\nSkipping line 694498: expected 10 fields, saw 11\\nSkipping line 694655: expected 10 fields, saw 11\\nSkipping line 694725: expected 10 fields, saw 11\\nSkipping line 694737: expected 10 fields, saw 13\\nSkipping line 694827: expected 10 fields, saw 11\\nSkipping line 694916: expected 10 fields, saw 13\\nSkipping line 694926: expected 10 fields, saw 16\\nSkipping line 695011: expected 10 fields, saw 11\\nSkipping line 695072: expected 10 fields, saw 12\\nSkipping line 695331: expected 10 fields, saw 11\\nSkipping line 695393: expected 10 fields, saw 12\\nSkipping line 695627: expected 10 fields, saw 11\\nSkipping line 695827: expected 10 fields, saw 11\\nSkipping line 695907: expected 10 fields, saw 12\\nSkipping line 696156: expected 10 fields, saw 11\\nSkipping line 696208: expected 10 fields, saw 15\\nSkipping line 696240: expected 10 fields, saw 11\\nSkipping line 696388: expected 10 fields, saw 12\\nSkipping line 696720: expected 10 fields, saw 11\\nSkipping line 697027: expected 10 fields, saw 12\\nSkipping line 697054: expected 10 fields, saw 11\\nSkipping line 697101: expected 10 fields, saw 16\\nSkipping line 697118: expected 10 fields, saw 11\\nSkipping line 697154: expected 10 fields, saw 11\\nSkipping line 697240: expected 10 fields, saw 11\\nSkipping line 697304: expected 10 fields, saw 11\\nSkipping line 697663: expected 10 fields, saw 22\\nSkipping line 697924: expected 10 fields, saw 11\\nSkipping line 697970: expected 10 fields, saw 11\\nSkipping line 698124: expected 10 fields, saw 12\\nSkipping line 698246: expected 10 fields, saw 11\\nSkipping line 698358: expected 10 fields, saw 14\\nSkipping line 698541: expected 10 fields, saw 12\\nSkipping line 698659: expected 10 fields, saw 12\\nSkipping line 698673: expected 10 fields, saw 18\\nSkipping line 698767: expected 10 fields, saw 11\\nSkipping line 698821: expected 10 fields, saw 13\\nSkipping line 698855: expected 10 fields, saw 11\\nSkipping line 698881: expected 10 fields, saw 11\\nSkipping line 698971: expected 10 fields, saw 13\\nSkipping line 699067: expected 10 fields, saw 11\\nSkipping line 699259: expected 10 fields, saw 11\\nSkipping line 699336: expected 10 fields, saw 14\\nSkipping line 699477: expected 10 fields, saw 12\\nSkipping line 699499: expected 10 fields, saw 25\\nSkipping line 699521: expected 10 fields, saw 12\\nSkipping line 699539: expected 10 fields, saw 14\\nSkipping line 699681: expected 10 fields, saw 11\\nSkipping line 699802: expected 10 fields, saw 11\\nSkipping line 699915: expected 10 fields, saw 11\\nSkipping line 700200: expected 10 fields, saw 16\\nSkipping line 700211: expected 10 fields, saw 20\\nSkipping line 700556: expected 10 fields, saw 12\\nSkipping line 700574: expected 10 fields, saw 12\\nSkipping line 700582: expected 10 fields, saw 13\\nSkipping line 700714: expected 10 fields, saw 11\\nSkipping line 701006: expected 10 fields, saw 12\\nSkipping line 702219: expected 10 fields, saw 11\\nSkipping line 702410: expected 10 fields, saw 12\\nSkipping line 702414: expected 10 fields, saw 12\\nSkipping line 702462: expected 10 fields, saw 26\\nSkipping line 703346: expected 10 fields, saw 11\\nSkipping line 704453: expected 10 fields, saw 11\\nSkipping line 705203: expected 10 fields, saw 22\\nSkipping line 705913: expected 10 fields, saw 26\\nSkipping line 705927: expected 10 fields, saw 11\\nSkipping line 705935: expected 10 fields, saw 11\\nSkipping line 706090: expected 10 fields, saw 11\\nSkipping line 707453: expected 10 fields, saw 11\\nSkipping line 708937: expected 10 fields, saw 12\\nSkipping line 709019: expected 10 fields, saw 18\\nSkipping line 710411: expected 10 fields, saw 12\\nSkipping line 710552: expected 10 fields, saw 32\\nSkipping line 711252: expected 10 fields, saw 17\\nSkipping line 711460: expected 10 fields, saw 11\\nSkipping line 711849: expected 10 fields, saw 11\\nSkipping line 713611: expected 10 fields, saw 11\\nSkipping line 713618: expected 10 fields, saw 12\\nSkipping line 714192: expected 10 fields, saw 12\\nSkipping line 714567: expected 10 fields, saw 11\\nSkipping line 714982: expected 10 fields, saw 12\\nSkipping line 715054: expected 10 fields, saw 11\\nSkipping line 715883: expected 10 fields, saw 12\\nSkipping line 716076: expected 10 fields, saw 12\\nSkipping line 716535: expected 10 fields, saw 11\\nSkipping line 716658: expected 10 fields, saw 11\\nSkipping line 716822: expected 10 fields, saw 25\\nSkipping line 717427: expected 10 fields, saw 13\\nSkipping line 717897: expected 10 fields, saw 12\\nSkipping line 718381: expected 10 fields, saw 11\\nSkipping line 718392: expected 10 fields, saw 11\\nSkipping line 719862: expected 10 fields, saw 11\\nSkipping line 720386: expected 10 fields, saw 12\\nSkipping line 720793: expected 10 fields, saw 11\\nSkipping line 720913: expected 10 fields, saw 13\\nSkipping line 721327: expected 10 fields, saw 11\\nSkipping line 721336: expected 10 fields, saw 17\\nSkipping line 721724: expected 10 fields, saw 11\\nSkipping line 721832: expected 10 fields, saw 25\\nSkipping line 722213: expected 10 fields, saw 11\\nSkipping line 723527: expected 10 fields, saw 14\\n'\n",
            "b'Skipping line 723893: expected 10 fields, saw 19\\nSkipping line 724371: expected 10 fields, saw 12\\nSkipping line 724522: expected 10 fields, saw 11\\nSkipping line 724764: expected 10 fields, saw 18\\nSkipping line 726098: expected 10 fields, saw 12\\nSkipping line 726419: expected 10 fields, saw 11\\nSkipping line 726534: expected 10 fields, saw 11\\nSkipping line 726906: expected 10 fields, saw 13\\nSkipping line 726970: expected 10 fields, saw 12\\nSkipping line 727372: expected 10 fields, saw 33\\nSkipping line 727729: expected 10 fields, saw 18\\nSkipping line 727797: expected 10 fields, saw 12\\nSkipping line 727867: expected 10 fields, saw 13\\nSkipping line 728409: expected 10 fields, saw 13\\nSkipping line 728570: expected 10 fields, saw 11\\nSkipping line 728618: expected 10 fields, saw 11\\nSkipping line 729003: expected 10 fields, saw 12\\nSkipping line 729061: expected 10 fields, saw 17\\nSkipping line 730047: expected 10 fields, saw 12\\nSkipping line 730308: expected 10 fields, saw 11\\nSkipping line 730358: expected 10 fields, saw 12\\nSkipping line 730618: expected 10 fields, saw 12\\nSkipping line 731010: expected 10 fields, saw 11\\nSkipping line 731527: expected 10 fields, saw 17\\nSkipping line 731681: expected 10 fields, saw 15\\nSkipping line 732624: expected 10 fields, saw 14\\nSkipping line 732918: expected 10 fields, saw 11\\nSkipping line 733011: expected 10 fields, saw 11\\nSkipping line 733774: expected 10 fields, saw 13\\nSkipping line 733980: expected 10 fields, saw 11\\nSkipping line 734408: expected 10 fields, saw 11\\nSkipping line 734952: expected 10 fields, saw 12\\nSkipping line 734974: expected 10 fields, saw 11\\nSkipping line 735176: expected 10 fields, saw 11\\nSkipping line 735204: expected 10 fields, saw 11\\nSkipping line 736042: expected 10 fields, saw 12\\nSkipping line 736091: expected 10 fields, saw 11\\nSkipping line 737220: expected 10 fields, saw 11\\nSkipping line 738856: expected 10 fields, saw 11\\nSkipping line 739116: expected 10 fields, saw 11\\nSkipping line 739831: expected 10 fields, saw 11\\nSkipping line 740654: expected 10 fields, saw 11\\nSkipping line 740779: expected 10 fields, saw 21\\nSkipping line 741367: expected 10 fields, saw 15\\nSkipping line 741446: expected 10 fields, saw 11\\nSkipping line 741480: expected 10 fields, saw 11\\nSkipping line 742382: expected 10 fields, saw 11\\nSkipping line 742863: expected 10 fields, saw 14\\nSkipping line 743780: expected 10 fields, saw 11\\nSkipping line 743823: expected 10 fields, saw 11\\nSkipping line 743860: expected 10 fields, saw 11\\nSkipping line 743976: expected 10 fields, saw 13\\nSkipping line 744367: expected 10 fields, saw 12\\nSkipping line 744809: expected 10 fields, saw 13\\nSkipping line 745184: expected 10 fields, saw 11\\nSkipping line 745316: expected 10 fields, saw 11\\nSkipping line 745459: expected 10 fields, saw 11\\nSkipping line 745916: expected 10 fields, saw 13\\nSkipping line 746789: expected 10 fields, saw 12\\nSkipping line 747034: expected 10 fields, saw 11\\nSkipping line 747175: expected 10 fields, saw 15\\nSkipping line 747498: expected 10 fields, saw 11\\nSkipping line 747520: expected 10 fields, saw 11\\nSkipping line 747827: expected 10 fields, saw 11\\nSkipping line 747873: expected 10 fields, saw 11\\nSkipping line 747879: expected 10 fields, saw 13\\nSkipping line 748070: expected 10 fields, saw 30\\nSkipping line 748900: expected 10 fields, saw 12\\nSkipping line 749113: expected 10 fields, saw 15\\nSkipping line 749176: expected 10 fields, saw 11\\nSkipping line 749188: expected 10 fields, saw 12\\nSkipping line 749324: expected 10 fields, saw 12\\nSkipping line 749585: expected 10 fields, saw 11\\nSkipping line 749711: expected 10 fields, saw 13\\nSkipping line 749982: expected 10 fields, saw 12\\nSkipping line 750014: expected 10 fields, saw 15\\nSkipping line 751712: expected 10 fields, saw 11\\nSkipping line 751936: expected 10 fields, saw 11\\nSkipping line 752038: expected 10 fields, saw 11\\nSkipping line 752726: expected 10 fields, saw 11\\nSkipping line 752727: expected 10 fields, saw 13\\nSkipping line 752915: expected 10 fields, saw 11\\nSkipping line 753176: expected 10 fields, saw 11\\nSkipping line 753372: expected 10 fields, saw 12\\nSkipping line 753450: expected 10 fields, saw 11\\nSkipping line 754270: expected 10 fields, saw 11\\nSkipping line 754688: expected 10 fields, saw 20\\nSkipping line 755433: expected 10 fields, saw 11\\nSkipping line 755721: expected 10 fields, saw 11\\nSkipping line 755784: expected 10 fields, saw 12\\nSkipping line 755891: expected 10 fields, saw 15\\nSkipping line 756116: expected 10 fields, saw 15\\nSkipping line 756383: expected 10 fields, saw 11\\nSkipping line 756511: expected 10 fields, saw 12\\nSkipping line 756666: expected 10 fields, saw 16\\nSkipping line 757186: expected 10 fields, saw 23\\nSkipping line 757281: expected 10 fields, saw 11\\nSkipping line 757376: expected 10 fields, saw 11\\nSkipping line 758079: expected 10 fields, saw 11\\nSkipping line 758408: expected 10 fields, saw 11\\nSkipping line 759322: expected 10 fields, saw 11\\nSkipping line 760094: expected 10 fields, saw 15\\nSkipping line 760435: expected 10 fields, saw 12\\nSkipping line 761604: expected 10 fields, saw 11\\nSkipping line 761925: expected 10 fields, saw 16\\nSkipping line 762964: expected 10 fields, saw 11\\nSkipping line 764286: expected 10 fields, saw 25\\nSkipping line 764470: expected 10 fields, saw 11\\nSkipping line 764837: expected 10 fields, saw 11\\nSkipping line 766087: expected 10 fields, saw 12\\nSkipping line 766403: expected 10 fields, saw 11\\nSkipping line 767491: expected 10 fields, saw 11\\nSkipping line 768257: expected 10 fields, saw 11\\nSkipping line 768944: expected 10 fields, saw 11\\nSkipping line 769614: expected 10 fields, saw 11\\nSkipping line 770709: expected 10 fields, saw 11\\nSkipping line 770825: expected 10 fields, saw 12\\nSkipping line 770826: expected 10 fields, saw 14\\nSkipping line 770856: expected 10 fields, saw 11\\nSkipping line 770972: expected 10 fields, saw 12\\nSkipping line 771443: expected 10 fields, saw 12\\nSkipping line 772563: expected 10 fields, saw 11\\nSkipping line 773692: expected 10 fields, saw 11\\nSkipping line 774093: expected 10 fields, saw 11\\nSkipping line 774286: expected 10 fields, saw 13\\nSkipping line 774342: expected 10 fields, saw 12\\nSkipping line 774695: expected 10 fields, saw 11\\nSkipping line 775512: expected 10 fields, saw 11\\nSkipping line 775661: expected 10 fields, saw 11\\nSkipping line 776233: expected 10 fields, saw 15\\nSkipping line 776293: expected 10 fields, saw 14\\nSkipping line 776305: expected 10 fields, saw 11\\nSkipping line 776336: expected 10 fields, saw 11\\nSkipping line 776881: expected 10 fields, saw 11\\nSkipping line 778462: expected 10 fields, saw 12\\nSkipping line 779982: expected 10 fields, saw 11\\nSkipping line 780265: expected 10 fields, saw 18\\nSkipping line 782643: expected 10 fields, saw 11\\nSkipping line 782725: expected 10 fields, saw 13\\nSkipping line 783568: expected 10 fields, saw 11\\nSkipping line 784061: expected 10 fields, saw 11\\nSkipping line 784420: expected 10 fields, saw 14\\nSkipping line 784670: expected 10 fields, saw 11\\nSkipping line 785389: expected 10 fields, saw 18\\nSkipping line 785792: expected 10 fields, saw 12\\nSkipping line 786918: expected 10 fields, saw 12\\nSkipping line 787439: expected 10 fields, saw 12\\nSkipping line 787650: expected 10 fields, saw 21\\nSkipping line 788811: expected 10 fields, saw 12\\n'\n",
            "b'Skipping line 789547: expected 10 fields, saw 29\\nSkipping line 789706: expected 10 fields, saw 12\\nSkipping line 790059: expected 10 fields, saw 11\\nSkipping line 790576: expected 10 fields, saw 11\\nSkipping line 792054: expected 10 fields, saw 12\\nSkipping line 792846: expected 10 fields, saw 11\\nSkipping line 793555: expected 10 fields, saw 16\\nSkipping line 793728: expected 10 fields, saw 13\\nSkipping line 793879: expected 10 fields, saw 11\\nSkipping line 794172: expected 10 fields, saw 14\\nSkipping line 795523: expected 10 fields, saw 13\\nSkipping line 796531: expected 10 fields, saw 11\\nSkipping line 796658: expected 10 fields, saw 13\\nSkipping line 797324: expected 10 fields, saw 16\\nSkipping line 797537: expected 10 fields, saw 12\\nSkipping line 800870: expected 10 fields, saw 12\\nSkipping line 801341: expected 10 fields, saw 11\\nSkipping line 801405: expected 10 fields, saw 11\\nSkipping line 802982: expected 10 fields, saw 12\\nSkipping line 803162: expected 10 fields, saw 13\\nSkipping line 804228: expected 10 fields, saw 11\\nSkipping line 804284: expected 10 fields, saw 11\\nSkipping line 804489: expected 10 fields, saw 63\\nSkipping line 804767: expected 10 fields, saw 11\\nSkipping line 805371: expected 10 fields, saw 12\\nSkipping line 806413: expected 10 fields, saw 12\\nSkipping line 806543: expected 10 fields, saw 13\\nSkipping line 806586: expected 10 fields, saw 11\\nSkipping line 806774: expected 10 fields, saw 11\\nSkipping line 807442: expected 10 fields, saw 11\\nSkipping line 808072: expected 10 fields, saw 11\\nSkipping line 808185: expected 10 fields, saw 13\\nSkipping line 808911: expected 10 fields, saw 18\\nSkipping line 809683: expected 10 fields, saw 12\\nSkipping line 809684: expected 10 fields, saw 11\\nSkipping line 809862: expected 10 fields, saw 11\\nSkipping line 810192: expected 10 fields, saw 12\\nSkipping line 811273: expected 10 fields, saw 16\\nSkipping line 813184: expected 10 fields, saw 11\\nSkipping line 813674: expected 10 fields, saw 11\\nSkipping line 814261: expected 10 fields, saw 11\\nSkipping line 814307: expected 10 fields, saw 12\\nSkipping line 814745: expected 10 fields, saw 12\\nSkipping line 815908: expected 10 fields, saw 12\\nSkipping line 816497: expected 10 fields, saw 17\\nSkipping line 817272: expected 10 fields, saw 11\\nSkipping line 819222: expected 10 fields, saw 14\\nSkipping line 821046: expected 10 fields, saw 13\\nSkipping line 821828: expected 10 fields, saw 11\\nSkipping line 821950: expected 10 fields, saw 11\\nSkipping line 822105: expected 10 fields, saw 18\\nSkipping line 822165: expected 10 fields, saw 11\\nSkipping line 824028: expected 10 fields, saw 14\\nSkipping line 824496: expected 10 fields, saw 11\\nSkipping line 824989: expected 10 fields, saw 13\\nSkipping line 826121: expected 10 fields, saw 17\\nSkipping line 828700: expected 10 fields, saw 12\\nSkipping line 830884: expected 10 fields, saw 11\\nSkipping line 832560: expected 10 fields, saw 11\\nSkipping line 834593: expected 10 fields, saw 12\\nSkipping line 835536: expected 10 fields, saw 11\\nSkipping line 835676: expected 10 fields, saw 12\\nSkipping line 836502: expected 10 fields, saw 11\\nSkipping line 837901: expected 10 fields, saw 13\\nSkipping line 837934: expected 10 fields, saw 12\\nSkipping line 838006: expected 10 fields, saw 13\\nSkipping line 838876: expected 10 fields, saw 13\\nSkipping line 839159: expected 10 fields, saw 17\\nSkipping line 841683: expected 10 fields, saw 12\\nSkipping line 841960: expected 10 fields, saw 12\\nSkipping line 842430: expected 10 fields, saw 13\\nSkipping line 842508: expected 10 fields, saw 11\\nSkipping line 842869: expected 10 fields, saw 11\\nSkipping line 843039: expected 10 fields, saw 11\\nSkipping line 843507: expected 10 fields, saw 11\\nSkipping line 844496: expected 10 fields, saw 11\\nSkipping line 846303: expected 10 fields, saw 11\\nSkipping line 846766: expected 10 fields, saw 11\\nSkipping line 848671: expected 10 fields, saw 12\\nSkipping line 848793: expected 10 fields, saw 11\\nSkipping line 849054: expected 10 fields, saw 11\\nSkipping line 850583: expected 10 fields, saw 11\\nSkipping line 851074: expected 10 fields, saw 12\\nSkipping line 851521: expected 10 fields, saw 12\\nSkipping line 851589: expected 10 fields, saw 14\\nSkipping line 852180: expected 10 fields, saw 11\\nSkipping line 852469: expected 10 fields, saw 11\\nSkipping line 853005: expected 10 fields, saw 12\\nSkipping line 853611: expected 10 fields, saw 11\\nSkipping line 853752: expected 10 fields, saw 19\\nSkipping line 854101: expected 10 fields, saw 11\\nSkipping line 854506: expected 10 fields, saw 11\\nSkipping line 854905: expected 10 fields, saw 11\\n'\n",
            "b'Skipping line 855258: expected 10 fields, saw 12\\nSkipping line 855283: expected 10 fields, saw 11\\nSkipping line 855517: expected 10 fields, saw 11\\nSkipping line 855700: expected 10 fields, saw 12\\nSkipping line 855726: expected 10 fields, saw 12\\nSkipping line 855750: expected 10 fields, saw 20\\nSkipping line 856117: expected 10 fields, saw 13\\nSkipping line 857476: expected 10 fields, saw 12\\nSkipping line 860064: expected 10 fields, saw 12\\nSkipping line 861695: expected 10 fields, saw 13\\nSkipping line 861760: expected 10 fields, saw 13\\nSkipping line 862782: expected 10 fields, saw 14\\nSkipping line 863862: expected 10 fields, saw 11\\nSkipping line 864797: expected 10 fields, saw 15\\nSkipping line 865655: expected 10 fields, saw 16\\nSkipping line 865697: expected 10 fields, saw 11\\nSkipping line 866374: expected 10 fields, saw 11\\nSkipping line 867900: expected 10 fields, saw 14\\nSkipping line 869017: expected 10 fields, saw 12\\nSkipping line 870607: expected 10 fields, saw 11\\nSkipping line 872024: expected 10 fields, saw 11\\nSkipping line 872593: expected 10 fields, saw 11\\nSkipping line 874283: expected 10 fields, saw 15\\nSkipping line 874795: expected 10 fields, saw 11\\nSkipping line 874834: expected 10 fields, saw 14\\nSkipping line 874931: expected 10 fields, saw 14\\nSkipping line 875310: expected 10 fields, saw 11\\nSkipping line 875729: expected 10 fields, saw 13\\nSkipping line 875749: expected 10 fields, saw 11\\nSkipping line 875993: expected 10 fields, saw 12\\nSkipping line 876105: expected 10 fields, saw 12\\nSkipping line 876399: expected 10 fields, saw 14\\nSkipping line 876433: expected 10 fields, saw 12\\nSkipping line 876801: expected 10 fields, saw 14\\nSkipping line 876837: expected 10 fields, saw 14\\nSkipping line 877037: expected 10 fields, saw 14\\nSkipping line 877149: expected 10 fields, saw 19\\nSkipping line 877236: expected 10 fields, saw 14\\nSkipping line 877368: expected 10 fields, saw 22\\nSkipping line 877749: expected 10 fields, saw 11\\nSkipping line 877780: expected 10 fields, saw 13\\nSkipping line 878178: expected 10 fields, saw 11\\nSkipping line 879557: expected 10 fields, saw 13\\nSkipping line 880432: expected 10 fields, saw 11\\nSkipping line 882421: expected 10 fields, saw 11\\nSkipping line 885077: expected 10 fields, saw 12\\nSkipping line 886186: expected 10 fields, saw 19\\nSkipping line 886656: expected 10 fields, saw 11\\nSkipping line 888542: expected 10 fields, saw 11\\nSkipping line 889105: expected 10 fields, saw 11\\nSkipping line 889479: expected 10 fields, saw 12\\nSkipping line 889501: expected 10 fields, saw 11\\nSkipping line 889881: expected 10 fields, saw 11\\nSkipping line 890768: expected 10 fields, saw 11\\nSkipping line 891354: expected 10 fields, saw 11\\nSkipping line 893805: expected 10 fields, saw 11\\nSkipping line 894541: expected 10 fields, saw 11\\nSkipping line 897197: expected 10 fields, saw 14\\nSkipping line 897540: expected 10 fields, saw 12\\nSkipping line 897740: expected 10 fields, saw 13\\nSkipping line 898218: expected 10 fields, saw 11\\nSkipping line 898220: expected 10 fields, saw 13\\nSkipping line 898342: expected 10 fields, saw 11\\nSkipping line 898359: expected 10 fields, saw 12\\nSkipping line 898885: expected 10 fields, saw 12\\nSkipping line 899512: expected 10 fields, saw 12\\nSkipping line 899803: expected 10 fields, saw 12\\nSkipping line 899954: expected 10 fields, saw 11\\nSkipping line 899970: expected 10 fields, saw 11\\nSkipping line 900240: expected 10 fields, saw 11\\nSkipping line 900552: expected 10 fields, saw 17\\nSkipping line 900583: expected 10 fields, saw 12\\nSkipping line 900739: expected 10 fields, saw 16\\nSkipping line 901107: expected 10 fields, saw 14\\nSkipping line 901240: expected 10 fields, saw 12\\nSkipping line 901312: expected 10 fields, saw 12\\nSkipping line 901333: expected 10 fields, saw 11\\nSkipping line 901679: expected 10 fields, saw 11\\nSkipping line 901854: expected 10 fields, saw 12\\nSkipping line 902680: expected 10 fields, saw 12\\nSkipping line 902744: expected 10 fields, saw 11\\nSkipping line 902786: expected 10 fields, saw 11\\nSkipping line 903143: expected 10 fields, saw 15\\nSkipping line 903435: expected 10 fields, saw 16\\nSkipping line 903471: expected 10 fields, saw 11\\nSkipping line 903775: expected 10 fields, saw 11\\nSkipping line 903918: expected 10 fields, saw 11\\nSkipping line 904420: expected 10 fields, saw 11\\nSkipping line 904966: expected 10 fields, saw 11\\nSkipping line 905310: expected 10 fields, saw 11\\nSkipping line 905388: expected 10 fields, saw 12\\nSkipping line 906169: expected 10 fields, saw 12\\nSkipping line 906553: expected 10 fields, saw 14\\nSkipping line 906744: expected 10 fields, saw 11\\nSkipping line 907114: expected 10 fields, saw 11\\nSkipping line 907393: expected 10 fields, saw 13\\nSkipping line 908422: expected 10 fields, saw 12\\nSkipping line 908436: expected 10 fields, saw 11\\nSkipping line 909737: expected 10 fields, saw 11\\nSkipping line 910061: expected 10 fields, saw 12\\nSkipping line 910724: expected 10 fields, saw 12\\nSkipping line 910927: expected 10 fields, saw 11\\nSkipping line 911040: expected 10 fields, saw 11\\nSkipping line 911061: expected 10 fields, saw 13\\nSkipping line 911094: expected 10 fields, saw 11\\nSkipping line 911610: expected 10 fields, saw 11\\nSkipping line 912422: expected 10 fields, saw 11\\nSkipping line 912703: expected 10 fields, saw 13\\nSkipping line 912753: expected 10 fields, saw 11\\nSkipping line 913291: expected 10 fields, saw 11\\nSkipping line 913398: expected 10 fields, saw 13\\nSkipping line 913436: expected 10 fields, saw 17\\nSkipping line 913469: expected 10 fields, saw 16\\nSkipping line 914279: expected 10 fields, saw 11\\nSkipping line 914369: expected 10 fields, saw 11\\nSkipping line 914920: expected 10 fields, saw 11\\nSkipping line 914929: expected 10 fields, saw 13\\nSkipping line 915025: expected 10 fields, saw 13\\nSkipping line 915118: expected 10 fields, saw 11\\nSkipping line 915273: expected 10 fields, saw 12\\nSkipping line 915392: expected 10 fields, saw 13\\nSkipping line 915755: expected 10 fields, saw 12\\nSkipping line 915880: expected 10 fields, saw 16\\nSkipping line 915918: expected 10 fields, saw 11\\nSkipping line 916178: expected 10 fields, saw 12\\nSkipping line 916630: expected 10 fields, saw 11\\nSkipping line 916634: expected 10 fields, saw 12\\nSkipping line 916982: expected 10 fields, saw 12\\nSkipping line 917075: expected 10 fields, saw 12\\nSkipping line 917409: expected 10 fields, saw 11\\nSkipping line 917660: expected 10 fields, saw 11\\nSkipping line 917829: expected 10 fields, saw 14\\nSkipping line 918474: expected 10 fields, saw 11\\nSkipping line 918566: expected 10 fields, saw 11\\nSkipping line 918694: expected 10 fields, saw 14\\nSkipping line 918887: expected 10 fields, saw 12\\nSkipping line 918961: expected 10 fields, saw 11\\nSkipping line 919180: expected 10 fields, saw 11\\nSkipping line 919814: expected 10 fields, saw 11\\nSkipping line 920656: expected 10 fields, saw 11\\n'\n",
            "b'Skipping line 920709: expected 10 fields, saw 11\\nSkipping line 920779: expected 10 fields, saw 13\\nSkipping line 921050: expected 10 fields, saw 13\\nSkipping line 921063: expected 10 fields, saw 13\\nSkipping line 921625: expected 10 fields, saw 11\\nSkipping line 921732: expected 10 fields, saw 11\\nSkipping line 922020: expected 10 fields, saw 12\\nSkipping line 922192: expected 10 fields, saw 11\\nSkipping line 922343: expected 10 fields, saw 11\\nSkipping line 922505: expected 10 fields, saw 28\\nSkipping line 922582: expected 10 fields, saw 11\\nSkipping line 923046: expected 10 fields, saw 11\\nSkipping line 923177: expected 10 fields, saw 11\\nSkipping line 923768: expected 10 fields, saw 11\\nSkipping line 923907: expected 10 fields, saw 11\\nSkipping line 924079: expected 10 fields, saw 11\\nSkipping line 924085: expected 10 fields, saw 12\\nSkipping line 924265: expected 10 fields, saw 11\\nSkipping line 924426: expected 10 fields, saw 11\\nSkipping line 925488: expected 10 fields, saw 11\\nSkipping line 925665: expected 10 fields, saw 11\\nSkipping line 926152: expected 10 fields, saw 37\\nSkipping line 926303: expected 10 fields, saw 28\\nSkipping line 926445: expected 10 fields, saw 11\\nSkipping line 926779: expected 10 fields, saw 12\\nSkipping line 927224: expected 10 fields, saw 11\\nSkipping line 927439: expected 10 fields, saw 11\\nSkipping line 927725: expected 10 fields, saw 15\\nSkipping line 927771: expected 10 fields, saw 11\\nSkipping line 928973: expected 10 fields, saw 11\\nSkipping line 929110: expected 10 fields, saw 12\\nSkipping line 929233: expected 10 fields, saw 11\\nSkipping line 929259: expected 10 fields, saw 12\\nSkipping line 929326: expected 10 fields, saw 12\\nSkipping line 929382: expected 10 fields, saw 11\\nSkipping line 929427: expected 10 fields, saw 11\\nSkipping line 929783: expected 10 fields, saw 11\\nSkipping line 930880: expected 10 fields, saw 15\\nSkipping line 931587: expected 10 fields, saw 11\\nSkipping line 933134: expected 10 fields, saw 18\\nSkipping line 935994: expected 10 fields, saw 12\\nSkipping line 936726: expected 10 fields, saw 11\\nSkipping line 936973: expected 10 fields, saw 12\\nSkipping line 937223: expected 10 fields, saw 11\\nSkipping line 937549: expected 10 fields, saw 12\\nSkipping line 937934: expected 10 fields, saw 13\\nSkipping line 938234: expected 10 fields, saw 12\\nSkipping line 938381: expected 10 fields, saw 11\\nSkipping line 938601: expected 10 fields, saw 11\\nSkipping line 938648: expected 10 fields, saw 12\\nSkipping line 940239: expected 10 fields, saw 11\\nSkipping line 940407: expected 10 fields, saw 11\\nSkipping line 940741: expected 10 fields, saw 11\\nSkipping line 940751: expected 10 fields, saw 20\\nSkipping line 940802: expected 10 fields, saw 17\\nSkipping line 941942: expected 10 fields, saw 11\\nSkipping line 942687: expected 10 fields, saw 11\\nSkipping line 942726: expected 10 fields, saw 15\\nSkipping line 943528: expected 10 fields, saw 12\\nSkipping line 944108: expected 10 fields, saw 11\\nSkipping line 944157: expected 10 fields, saw 16\\nSkipping line 944631: expected 10 fields, saw 11\\nSkipping line 945055: expected 10 fields, saw 22\\nSkipping line 945126: expected 10 fields, saw 12\\nSkipping line 947165: expected 10 fields, saw 11\\nSkipping line 947190: expected 10 fields, saw 13\\nSkipping line 947616: expected 10 fields, saw 12\\nSkipping line 948653: expected 10 fields, saw 11\\nSkipping line 949078: expected 10 fields, saw 11\\nSkipping line 949560: expected 10 fields, saw 13\\nSkipping line 949900: expected 10 fields, saw 11\\nSkipping line 950160: expected 10 fields, saw 11\\nSkipping line 951175: expected 10 fields, saw 11\\nSkipping line 951280: expected 10 fields, saw 12\\nSkipping line 951708: expected 10 fields, saw 12\\nSkipping line 952070: expected 10 fields, saw 11\\nSkipping line 953788: expected 10 fields, saw 11\\nSkipping line 953809: expected 10 fields, saw 13\\nSkipping line 954008: expected 10 fields, saw 13\\nSkipping line 954510: expected 10 fields, saw 11\\nSkipping line 954609: expected 10 fields, saw 11\\nSkipping line 958344: expected 10 fields, saw 12\\nSkipping line 958594: expected 10 fields, saw 11\\nSkipping line 960651: expected 10 fields, saw 12\\nSkipping line 960733: expected 10 fields, saw 15\\nSkipping line 960757: expected 10 fields, saw 11\\nSkipping line 960859: expected 10 fields, saw 12\\nSkipping line 961393: expected 10 fields, saw 19\\nSkipping line 961500: expected 10 fields, saw 12\\nSkipping line 961898: expected 10 fields, saw 12\\nSkipping line 962499: expected 10 fields, saw 13\\nSkipping line 962536: expected 10 fields, saw 13\\nSkipping line 962599: expected 10 fields, saw 11\\nSkipping line 963875: expected 10 fields, saw 12\\nSkipping line 964550: expected 10 fields, saw 12\\nSkipping line 966194: expected 10 fields, saw 17\\nSkipping line 966496: expected 10 fields, saw 19\\nSkipping line 967055: expected 10 fields, saw 11\\nSkipping line 968256: expected 10 fields, saw 11\\nSkipping line 969322: expected 10 fields, saw 14\\nSkipping line 969445: expected 10 fields, saw 11\\nSkipping line 970338: expected 10 fields, saw 11\\nSkipping line 970492: expected 10 fields, saw 11\\nSkipping line 970808: expected 10 fields, saw 11\\nSkipping line 971261: expected 10 fields, saw 11\\nSkipping line 971300: expected 10 fields, saw 13\\nSkipping line 971412: expected 10 fields, saw 13\\nSkipping line 971872: expected 10 fields, saw 13\\nSkipping line 972405: expected 10 fields, saw 11\\nSkipping line 972687: expected 10 fields, saw 11\\nSkipping line 974371: expected 10 fields, saw 11\\nSkipping line 975313: expected 10 fields, saw 16\\nSkipping line 977920: expected 10 fields, saw 11\\nSkipping line 979346: expected 10 fields, saw 12\\nSkipping line 979944: expected 10 fields, saw 11\\nSkipping line 980230: expected 10 fields, saw 11\\nSkipping line 980738: expected 10 fields, saw 12\\nSkipping line 982760: expected 10 fields, saw 11\\nSkipping line 982966: expected 10 fields, saw 11\\nSkipping line 984049: expected 10 fields, saw 11\\nSkipping line 984501: expected 10 fields, saw 11\\nSkipping line 985601: expected 10 fields, saw 14\\nSkipping line 985762: expected 10 fields, saw 11\\nSkipping line 985777: expected 10 fields, saw 18\\nSkipping line 985959: expected 10 fields, saw 11\\nSkipping line 985992: expected 10 fields, saw 14\\n'\n",
            "b'Skipping line 986415: expected 10 fields, saw 20\\nSkipping line 986679: expected 10 fields, saw 11\\nSkipping line 986781: expected 10 fields, saw 12\\nSkipping line 986916: expected 10 fields, saw 11\\nSkipping line 987263: expected 10 fields, saw 11\\nSkipping line 987756: expected 10 fields, saw 13\\nSkipping line 987778: expected 10 fields, saw 12\\nSkipping line 987862: expected 10 fields, saw 13\\nSkipping line 988446: expected 10 fields, saw 11\\nSkipping line 988558: expected 10 fields, saw 11\\nSkipping line 988698: expected 10 fields, saw 11\\nSkipping line 988740: expected 10 fields, saw 11\\nSkipping line 989453: expected 10 fields, saw 11\\nSkipping line 989544: expected 10 fields, saw 12\\nSkipping line 989784: expected 10 fields, saw 11\\nSkipping line 990349: expected 10 fields, saw 13\\nSkipping line 990444: expected 10 fields, saw 11\\nSkipping line 990653: expected 10 fields, saw 12\\nSkipping line 990718: expected 10 fields, saw 13\\nSkipping line 991012: expected 10 fields, saw 14\\nSkipping line 991072: expected 10 fields, saw 13\\nSkipping line 991289: expected 10 fields, saw 11\\nSkipping line 991635: expected 10 fields, saw 11\\nSkipping line 991649: expected 10 fields, saw 16\\nSkipping line 991943: expected 10 fields, saw 11\\nSkipping line 992072: expected 10 fields, saw 12\\nSkipping line 992687: expected 10 fields, saw 13\\nSkipping line 992813: expected 10 fields, saw 11\\nSkipping line 993172: expected 10 fields, saw 11\\nSkipping line 993446: expected 10 fields, saw 13\\nSkipping line 993547: expected 10 fields, saw 12\\nSkipping line 993675: expected 10 fields, saw 12\\nSkipping line 994157: expected 10 fields, saw 12\\nSkipping line 994188: expected 10 fields, saw 11\\nSkipping line 994386: expected 10 fields, saw 11\\nSkipping line 994591: expected 10 fields, saw 11\\nSkipping line 994640: expected 10 fields, saw 11\\nSkipping line 994778: expected 10 fields, saw 12\\nSkipping line 994809: expected 10 fields, saw 15\\nSkipping line 994984: expected 10 fields, saw 12\\nSkipping line 995884: expected 10 fields, saw 20\\nSkipping line 996159: expected 10 fields, saw 13\\nSkipping line 996194: expected 10 fields, saw 15\\nSkipping line 996363: expected 10 fields, saw 17\\nSkipping line 996531: expected 10 fields, saw 11\\nSkipping line 997092: expected 10 fields, saw 19\\nSkipping line 997378: expected 10 fields, saw 11\\nSkipping line 997507: expected 10 fields, saw 11\\nSkipping line 997764: expected 10 fields, saw 11\\nSkipping line 998232: expected 10 fields, saw 11\\nSkipping line 998689: expected 10 fields, saw 11\\nSkipping line 999138: expected 10 fields, saw 21\\nSkipping line 999590: expected 10 fields, saw 11\\nSkipping line 1000319: expected 10 fields, saw 11\\nSkipping line 1000485: expected 10 fields, saw 11\\nSkipping line 1001129: expected 10 fields, saw 12\\nSkipping line 1001633: expected 10 fields, saw 11\\nSkipping line 1004179: expected 10 fields, saw 11\\nSkipping line 1007335: expected 10 fields, saw 11\\nSkipping line 1007525: expected 10 fields, saw 14\\nSkipping line 1009465: expected 10 fields, saw 11\\nSkipping line 1011785: expected 10 fields, saw 11\\nSkipping line 1012015: expected 10 fields, saw 11\\nSkipping line 1013140: expected 10 fields, saw 11\\nSkipping line 1013241: expected 10 fields, saw 11\\nSkipping line 1013304: expected 10 fields, saw 20\\nSkipping line 1013525: expected 10 fields, saw 13\\nSkipping line 1013800: expected 10 fields, saw 13\\nSkipping line 1014430: expected 10 fields, saw 11\\nSkipping line 1015226: expected 10 fields, saw 11\\nSkipping line 1015294: expected 10 fields, saw 11\\nSkipping line 1015650: expected 10 fields, saw 11\\nSkipping line 1017577: expected 10 fields, saw 15\\nSkipping line 1017696: expected 10 fields, saw 11\\nSkipping line 1017893: expected 10 fields, saw 11\\nSkipping line 1018213: expected 10 fields, saw 13\\nSkipping line 1019162: expected 10 fields, saw 15\\nSkipping line 1019445: expected 10 fields, saw 11\\nSkipping line 1020715: expected 10 fields, saw 11\\nSkipping line 1021368: expected 10 fields, saw 11\\nSkipping line 1022402: expected 10 fields, saw 11\\nSkipping line 1022686: expected 10 fields, saw 11\\nSkipping line 1023162: expected 10 fields, saw 11\\nSkipping line 1023415: expected 10 fields, saw 12\\nSkipping line 1023885: expected 10 fields, saw 11\\nSkipping line 1025022: expected 10 fields, saw 21\\nSkipping line 1025433: expected 10 fields, saw 11\\nSkipping line 1025771: expected 10 fields, saw 11\\nSkipping line 1027604: expected 10 fields, saw 11\\nSkipping line 1028217: expected 10 fields, saw 15\\nSkipping line 1029644: expected 10 fields, saw 26\\nSkipping line 1029686: expected 10 fields, saw 11\\nSkipping line 1030201: expected 10 fields, saw 11\\nSkipping line 1031988: expected 10 fields, saw 11\\nSkipping line 1032745: expected 10 fields, saw 15\\nSkipping line 1033347: expected 10 fields, saw 11\\nSkipping line 1033865: expected 10 fields, saw 12\\nSkipping line 1034660: expected 10 fields, saw 12\\nSkipping line 1035438: expected 10 fields, saw 14\\nSkipping line 1036233: expected 10 fields, saw 14\\nSkipping line 1036538: expected 10 fields, saw 11\\nSkipping line 1037060: expected 10 fields, saw 15\\nSkipping line 1038083: expected 10 fields, saw 11\\nSkipping line 1038557: expected 10 fields, saw 11\\nSkipping line 1039750: expected 10 fields, saw 11\\nSkipping line 1041787: expected 10 fields, saw 11\\nSkipping line 1042041: expected 10 fields, saw 11\\nSkipping line 1042048: expected 10 fields, saw 12\\nSkipping line 1043223: expected 10 fields, saw 12\\nSkipping line 1044225: expected 10 fields, saw 11\\nSkipping line 1044889: expected 10 fields, saw 11\\nSkipping line 1045218: expected 10 fields, saw 16\\nSkipping line 1045355: expected 10 fields, saw 11\\nSkipping line 1045512: expected 10 fields, saw 14\\nSkipping line 1045867: expected 10 fields, saw 11\\nSkipping line 1047833: expected 10 fields, saw 11\\nSkipping line 1047884: expected 10 fields, saw 16\\nSkipping line 1047966: expected 10 fields, saw 13\\nSkipping line 1048172: expected 10 fields, saw 12\\nSkipping line 1048236: expected 10 fields, saw 11\\nSkipping line 1048312: expected 10 fields, saw 16\\nSkipping line 1048484: expected 10 fields, saw 13\\nSkipping line 1048825: expected 10 fields, saw 14\\nSkipping line 1048876: expected 10 fields, saw 11\\nSkipping line 1049060: expected 10 fields, saw 11\\nSkipping line 1049449: expected 10 fields, saw 11\\nSkipping line 1049896: expected 10 fields, saw 12\\nSkipping line 1050325: expected 10 fields, saw 11\\nSkipping line 1050833: expected 10 fields, saw 11\\nSkipping line 1050925: expected 10 fields, saw 11\\nSkipping line 1051245: expected 10 fields, saw 13\\n'\n",
            "b'Skipping line 1052190: expected 10 fields, saw 18\\nSkipping line 1052301: expected 10 fields, saw 13\\nSkipping line 1052686: expected 10 fields, saw 13\\nSkipping line 1053327: expected 10 fields, saw 11\\nSkipping line 1053612: expected 10 fields, saw 11\\nSkipping line 1053617: expected 10 fields, saw 11\\nSkipping line 1054497: expected 10 fields, saw 12\\nSkipping line 1054717: expected 10 fields, saw 11\\nSkipping line 1054785: expected 10 fields, saw 11\\nSkipping line 1055143: expected 10 fields, saw 11\\nSkipping line 1055239: expected 10 fields, saw 11\\nSkipping line 1055284: expected 10 fields, saw 13\\nSkipping line 1055398: expected 10 fields, saw 13\\nSkipping line 1056175: expected 10 fields, saw 36\\nSkipping line 1056763: expected 10 fields, saw 20\\nSkipping line 1056837: expected 10 fields, saw 13\\nSkipping line 1057209: expected 10 fields, saw 13\\nSkipping line 1057891: expected 10 fields, saw 11\\nSkipping line 1058302: expected 10 fields, saw 12\\nSkipping line 1058488: expected 10 fields, saw 13\\nSkipping line 1058541: expected 10 fields, saw 15\\nSkipping line 1058839: expected 10 fields, saw 11\\nSkipping line 1059535: expected 10 fields, saw 12\\nSkipping line 1059623: expected 10 fields, saw 13\\nSkipping line 1059815: expected 10 fields, saw 12\\nSkipping line 1059951: expected 10 fields, saw 17\\nSkipping line 1060014: expected 10 fields, saw 11\\nSkipping line 1060103: expected 10 fields, saw 11\\nSkipping line 1060112: expected 10 fields, saw 13\\nSkipping line 1060888: expected 10 fields, saw 16\\nSkipping line 1061655: expected 10 fields, saw 11\\nSkipping line 1062813: expected 10 fields, saw 11\\nSkipping line 1063439: expected 10 fields, saw 12\\nSkipping line 1064462: expected 10 fields, saw 11\\nSkipping line 1065013: expected 10 fields, saw 16\\nSkipping line 1066233: expected 10 fields, saw 11\\nSkipping line 1066264: expected 10 fields, saw 11\\nSkipping line 1066271: expected 10 fields, saw 11\\nSkipping line 1067103: expected 10 fields, saw 13\\nSkipping line 1067229: expected 10 fields, saw 12\\nSkipping line 1068690: expected 10 fields, saw 13\\nSkipping line 1070641: expected 10 fields, saw 12\\nSkipping line 1072053: expected 10 fields, saw 11\\nSkipping line 1072271: expected 10 fields, saw 11\\nSkipping line 1072449: expected 10 fields, saw 11\\nSkipping line 1073120: expected 10 fields, saw 11\\nSkipping line 1075110: expected 10 fields, saw 11\\nSkipping line 1075490: expected 10 fields, saw 16\\nSkipping line 1075894: expected 10 fields, saw 11\\nSkipping line 1076097: expected 10 fields, saw 11\\nSkipping line 1076756: expected 10 fields, saw 30\\nSkipping line 1077020: expected 10 fields, saw 11\\nSkipping line 1078613: expected 10 fields, saw 11\\nSkipping line 1079880: expected 10 fields, saw 13\\nSkipping line 1080183: expected 10 fields, saw 11\\nSkipping line 1080404: expected 10 fields, saw 11\\nSkipping line 1080484: expected 10 fields, saw 17\\nSkipping line 1080622: expected 10 fields, saw 12\\nSkipping line 1080680: expected 10 fields, saw 11\\nSkipping line 1080779: expected 10 fields, saw 11\\nSkipping line 1080873: expected 10 fields, saw 11\\nSkipping line 1081132: expected 10 fields, saw 23\\nSkipping line 1081891: expected 10 fields, saw 11\\nSkipping line 1083020: expected 10 fields, saw 14\\nSkipping line 1085122: expected 10 fields, saw 12\\nSkipping line 1085229: expected 10 fields, saw 11\\nSkipping line 1085569: expected 10 fields, saw 11\\nSkipping line 1085676: expected 10 fields, saw 13\\nSkipping line 1085904: expected 10 fields, saw 11\\nSkipping line 1086924: expected 10 fields, saw 13\\nSkipping line 1087039: expected 10 fields, saw 23\\nSkipping line 1087073: expected 10 fields, saw 14\\nSkipping line 1087403: expected 10 fields, saw 13\\nSkipping line 1087691: expected 10 fields, saw 11\\nSkipping line 1088348: expected 10 fields, saw 11\\nSkipping line 1088637: expected 10 fields, saw 14\\nSkipping line 1091693: expected 10 fields, saw 11\\nSkipping line 1093383: expected 10 fields, saw 11\\nSkipping line 1093555: expected 10 fields, saw 12\\nSkipping line 1094007: expected 10 fields, saw 11\\nSkipping line 1094654: expected 10 fields, saw 11\\nSkipping line 1095273: expected 10 fields, saw 11\\nSkipping line 1095482: expected 10 fields, saw 11\\nSkipping line 1095547: expected 10 fields, saw 13\\nSkipping line 1095717: expected 10 fields, saw 13\\nSkipping line 1095832: expected 10 fields, saw 11\\nSkipping line 1096334: expected 10 fields, saw 12\\nSkipping line 1096423: expected 10 fields, saw 11\\nSkipping line 1096441: expected 10 fields, saw 11\\nSkipping line 1096445: expected 10 fields, saw 11\\nSkipping line 1097350: expected 10 fields, saw 13\\nSkipping line 1098054: expected 10 fields, saw 14\\nSkipping line 1099253: expected 10 fields, saw 11\\nSkipping line 1099933: expected 10 fields, saw 13\\nSkipping line 1100141: expected 10 fields, saw 69\\nSkipping line 1100174: expected 10 fields, saw 13\\nSkipping line 1100431: expected 10 fields, saw 11\\nSkipping line 1100848: expected 10 fields, saw 11\\nSkipping line 1101003: expected 10 fields, saw 11\\nSkipping line 1102462: expected 10 fields, saw 11\\nSkipping line 1102524: expected 10 fields, saw 20\\nSkipping line 1102867: expected 10 fields, saw 11\\nSkipping line 1103224: expected 10 fields, saw 11\\nSkipping line 1103579: expected 10 fields, saw 11\\nSkipping line 1103769: expected 10 fields, saw 12\\nSkipping line 1104237: expected 10 fields, saw 14\\nSkipping line 1104308: expected 10 fields, saw 12\\nSkipping line 1104493: expected 10 fields, saw 11\\nSkipping line 1104764: expected 10 fields, saw 12\\nSkipping line 1105441: expected 10 fields, saw 12\\nSkipping line 1105588: expected 10 fields, saw 12\\nSkipping line 1105737: expected 10 fields, saw 11\\nSkipping line 1105849: expected 10 fields, saw 11\\nSkipping line 1106968: expected 10 fields, saw 11\\nSkipping line 1108359: expected 10 fields, saw 28\\nSkipping line 1108604: expected 10 fields, saw 19\\nSkipping line 1109338: expected 10 fields, saw 13\\nSkipping line 1109868: expected 10 fields, saw 11\\nSkipping line 1111313: expected 10 fields, saw 11\\nSkipping line 1111490: expected 10 fields, saw 12\\nSkipping line 1111623: expected 10 fields, saw 12\\nSkipping line 1114541: expected 10 fields, saw 11\\nSkipping line 1115287: expected 10 fields, saw 14\\nSkipping line 1115529: expected 10 fields, saw 12\\nSkipping line 1115770: expected 10 fields, saw 20\\nSkipping line 1116641: expected 10 fields, saw 12\\n'\n",
            "b'Skipping line 1118369: expected 10 fields, saw 11\\nSkipping line 1118992: expected 10 fields, saw 11\\nSkipping line 1119929: expected 10 fields, saw 11\\nSkipping line 1121491: expected 10 fields, saw 11\\nSkipping line 1122845: expected 10 fields, saw 11\\nSkipping line 1124005: expected 10 fields, saw 11\\nSkipping line 1124031: expected 10 fields, saw 12\\nSkipping line 1124292: expected 10 fields, saw 11\\nSkipping line 1125629: expected 10 fields, saw 12\\nSkipping line 1128287: expected 10 fields, saw 11\\nSkipping line 1128537: expected 10 fields, saw 11\\nSkipping line 1128979: expected 10 fields, saw 12\\nSkipping line 1130288: expected 10 fields, saw 11\\nSkipping line 1133601: expected 10 fields, saw 12\\nSkipping line 1133606: expected 10 fields, saw 11\\nSkipping line 1134300: expected 10 fields, saw 12\\nSkipping line 1135845: expected 10 fields, saw 29\\nSkipping line 1136216: expected 10 fields, saw 11\\nSkipping line 1136541: expected 10 fields, saw 11\\nSkipping line 1137125: expected 10 fields, saw 11\\nSkipping line 1137153: expected 10 fields, saw 13\\nSkipping line 1137481: expected 10 fields, saw 11\\nSkipping line 1137669: expected 10 fields, saw 15\\nSkipping line 1137693: expected 10 fields, saw 11\\nSkipping line 1138119: expected 10 fields, saw 14\\nSkipping line 1138185: expected 10 fields, saw 12\\nSkipping line 1138295: expected 10 fields, saw 14\\nSkipping line 1138343: expected 10 fields, saw 16\\nSkipping line 1138788: expected 10 fields, saw 11\\nSkipping line 1139903: expected 10 fields, saw 11\\nSkipping line 1139952: expected 10 fields, saw 13\\nSkipping line 1139968: expected 10 fields, saw 13\\nSkipping line 1139969: expected 10 fields, saw 11\\nSkipping line 1140002: expected 10 fields, saw 11\\nSkipping line 1140036: expected 10 fields, saw 11\\nSkipping line 1140075: expected 10 fields, saw 11\\nSkipping line 1140080: expected 10 fields, saw 11\\nSkipping line 1140241: expected 10 fields, saw 14\\nSkipping line 1140365: expected 10 fields, saw 11\\nSkipping line 1140425: expected 10 fields, saw 14\\nSkipping line 1141123: expected 10 fields, saw 11\\nSkipping line 1141247: expected 10 fields, saw 11\\nSkipping line 1141421: expected 10 fields, saw 30\\nSkipping line 1141594: expected 10 fields, saw 12\\nSkipping line 1141720: expected 10 fields, saw 19\\nSkipping line 1141938: expected 10 fields, saw 11\\nSkipping line 1142529: expected 10 fields, saw 12\\nSkipping line 1142587: expected 10 fields, saw 11\\nSkipping line 1142892: expected 10 fields, saw 11\\nSkipping line 1144465: expected 10 fields, saw 19\\nSkipping line 1144743: expected 10 fields, saw 11\\nSkipping line 1144973: expected 10 fields, saw 13\\nSkipping line 1145113: expected 10 fields, saw 13\\nSkipping line 1145235: expected 10 fields, saw 11\\nSkipping line 1145377: expected 10 fields, saw 12\\nSkipping line 1145538: expected 10 fields, saw 17\\nSkipping line 1145884: expected 10 fields, saw 11\\nSkipping line 1146011: expected 10 fields, saw 15\\nSkipping line 1146495: expected 10 fields, saw 13\\nSkipping line 1146573: expected 10 fields, saw 11\\nSkipping line 1146939: expected 10 fields, saw 16\\nSkipping line 1147288: expected 10 fields, saw 16\\nSkipping line 1147302: expected 10 fields, saw 13\\nSkipping line 1147427: expected 10 fields, saw 16\\nSkipping line 1147586: expected 10 fields, saw 16\\nSkipping line 1147739: expected 10 fields, saw 25\\nSkipping line 1147966: expected 10 fields, saw 11\\nSkipping line 1148003: expected 10 fields, saw 12\\nSkipping line 1148067: expected 10 fields, saw 13\\nSkipping line 1148095: expected 10 fields, saw 13\\nSkipping line 1149185: expected 10 fields, saw 15\\nSkipping line 1149256: expected 10 fields, saw 11\\nSkipping line 1149952: expected 10 fields, saw 11\\nSkipping line 1150000: expected 10 fields, saw 11\\nSkipping line 1150423: expected 10 fields, saw 11\\nSkipping line 1150425: expected 10 fields, saw 11\\nSkipping line 1150776: expected 10 fields, saw 12\\nSkipping line 1151007: expected 10 fields, saw 11\\nSkipping line 1151760: expected 10 fields, saw 13\\nSkipping line 1151864: expected 10 fields, saw 30\\nSkipping line 1152252: expected 10 fields, saw 11\\nSkipping line 1152390: expected 10 fields, saw 11\\nSkipping line 1152500: expected 10 fields, saw 12\\nSkipping line 1152613: expected 10 fields, saw 11\\nSkipping line 1153235: expected 10 fields, saw 11\\nSkipping line 1153469: expected 10 fields, saw 12\\nSkipping line 1153774: expected 10 fields, saw 11\\nSkipping line 1154546: expected 10 fields, saw 11\\nSkipping line 1154808: expected 10 fields, saw 14\\nSkipping line 1155656: expected 10 fields, saw 12\\nSkipping line 1156078: expected 10 fields, saw 11\\nSkipping line 1157476: expected 10 fields, saw 12\\nSkipping line 1158701: expected 10 fields, saw 12\\nSkipping line 1159034: expected 10 fields, saw 11\\nSkipping line 1160492: expected 10 fields, saw 11\\nSkipping line 1160663: expected 10 fields, saw 11\\nSkipping line 1160788: expected 10 fields, saw 11\\nSkipping line 1160973: expected 10 fields, saw 12\\nSkipping line 1161284: expected 10 fields, saw 11\\nSkipping line 1161373: expected 10 fields, saw 11\\nSkipping line 1164061: expected 10 fields, saw 11\\nSkipping line 1164358: expected 10 fields, saw 12\\nSkipping line 1164786: expected 10 fields, saw 14\\nSkipping line 1165944: expected 10 fields, saw 13\\nSkipping line 1167202: expected 10 fields, saw 11\\nSkipping line 1167327: expected 10 fields, saw 11\\nSkipping line 1167563: expected 10 fields, saw 12\\nSkipping line 1167608: expected 10 fields, saw 14\\nSkipping line 1168117: expected 10 fields, saw 11\\nSkipping line 1168136: expected 10 fields, saw 11\\nSkipping line 1168409: expected 10 fields, saw 11\\nSkipping line 1169022: expected 10 fields, saw 30\\nSkipping line 1169522: expected 10 fields, saw 12\\nSkipping line 1170392: expected 10 fields, saw 19\\nSkipping line 1170501: expected 10 fields, saw 15\\nSkipping line 1170521: expected 10 fields, saw 11\\nSkipping line 1170799: expected 10 fields, saw 11\\nSkipping line 1171181: expected 10 fields, saw 11\\nSkipping line 1172367: expected 10 fields, saw 11\\nSkipping line 1172561: expected 10 fields, saw 11\\nSkipping line 1173053: expected 10 fields, saw 11\\nSkipping line 1173255: expected 10 fields, saw 20\\nSkipping line 1173401: expected 10 fields, saw 11\\nSkipping line 1173458: expected 10 fields, saw 11\\nSkipping line 1173505: expected 10 fields, saw 11\\nSkipping line 1173960: expected 10 fields, saw 11\\nSkipping line 1174200: expected 10 fields, saw 12\\nSkipping line 1174334: expected 10 fields, saw 11\\nSkipping line 1174513: expected 10 fields, saw 11\\nSkipping line 1175291: expected 10 fields, saw 12\\nSkipping line 1175377: expected 10 fields, saw 13\\nSkipping line 1175383: expected 10 fields, saw 20\\nSkipping line 1175391: expected 10 fields, saw 11\\nSkipping line 1176165: expected 10 fields, saw 11\\nSkipping line 1176764: expected 10 fields, saw 15\\nSkipping line 1177122: expected 10 fields, saw 12\\nSkipping line 1177694: expected 10 fields, saw 13\\nSkipping line 1180703: expected 10 fields, saw 12\\n'\n",
            "b'Skipping line 1183558: expected 10 fields, saw 11\\nSkipping line 1185370: expected 10 fields, saw 13\\nSkipping line 1186120: expected 10 fields, saw 11\\nSkipping line 1187896: expected 10 fields, saw 11\\nSkipping line 1188291: expected 10 fields, saw 12\\nSkipping line 1189295: expected 10 fields, saw 11\\nSkipping line 1189999: expected 10 fields, saw 12\\nSkipping line 1190333: expected 10 fields, saw 18\\nSkipping line 1190629: expected 10 fields, saw 11\\nSkipping line 1192285: expected 10 fields, saw 11\\nSkipping line 1193328: expected 10 fields, saw 13\\nSkipping line 1193623: expected 10 fields, saw 14\\nSkipping line 1193723: expected 10 fields, saw 11\\nSkipping line 1193814: expected 10 fields, saw 11\\nSkipping line 1194661: expected 10 fields, saw 11\\nSkipping line 1196030: expected 10 fields, saw 12\\nSkipping line 1197845: expected 10 fields, saw 11\\nSkipping line 1199297: expected 10 fields, saw 12\\nSkipping line 1199303: expected 10 fields, saw 16\\nSkipping line 1199418: expected 10 fields, saw 13\\nSkipping line 1199666: expected 10 fields, saw 13\\nSkipping line 1199707: expected 10 fields, saw 12\\nSkipping line 1199775: expected 10 fields, saw 12\\nSkipping line 1200434: expected 10 fields, saw 23\\nSkipping line 1200913: expected 10 fields, saw 12\\nSkipping line 1201179: expected 10 fields, saw 11\\nSkipping line 1201527: expected 10 fields, saw 11\\nSkipping line 1201682: expected 10 fields, saw 11\\nSkipping line 1202244: expected 10 fields, saw 13\\nSkipping line 1202638: expected 10 fields, saw 11\\nSkipping line 1202755: expected 10 fields, saw 11\\nSkipping line 1202815: expected 10 fields, saw 11\\nSkipping line 1202852: expected 10 fields, saw 12\\nSkipping line 1203423: expected 10 fields, saw 11\\nSkipping line 1203757: expected 10 fields, saw 11\\nSkipping line 1203772: expected 10 fields, saw 13\\nSkipping line 1203912: expected 10 fields, saw 11\\nSkipping line 1204009: expected 10 fields, saw 11\\nSkipping line 1204085: expected 10 fields, saw 17\\nSkipping line 1204162: expected 10 fields, saw 11\\nSkipping line 1204434: expected 10 fields, saw 11\\nSkipping line 1204451: expected 10 fields, saw 17\\nSkipping line 1204809: expected 10 fields, saw 12\\nSkipping line 1205394: expected 10 fields, saw 12\\nSkipping line 1205608: expected 10 fields, saw 11\\nSkipping line 1205795: expected 10 fields, saw 11\\nSkipping line 1206129: expected 10 fields, saw 12\\nSkipping line 1207097: expected 10 fields, saw 11\\nSkipping line 1208365: expected 10 fields, saw 15\\nSkipping line 1209593: expected 10 fields, saw 12\\nSkipping line 1210059: expected 10 fields, saw 12\\nSkipping line 1210968: expected 10 fields, saw 11\\nSkipping line 1211519: expected 10 fields, saw 11\\nSkipping line 1211575: expected 10 fields, saw 11\\nSkipping line 1212620: expected 10 fields, saw 16\\nSkipping line 1213658: expected 10 fields, saw 74\\nSkipping line 1214232: expected 10 fields, saw 12\\nSkipping line 1214503: expected 10 fields, saw 12\\nSkipping line 1218815: expected 10 fields, saw 11\\nSkipping line 1219636: expected 10 fields, saw 13\\nSkipping line 1219902: expected 10 fields, saw 11\\nSkipping line 1223156: expected 10 fields, saw 11\\nSkipping line 1223191: expected 10 fields, saw 12\\nSkipping line 1225009: expected 10 fields, saw 12\\nSkipping line 1225316: expected 10 fields, saw 18\\nSkipping line 1225524: expected 10 fields, saw 12\\nSkipping line 1225729: expected 10 fields, saw 16\\nSkipping line 1226183: expected 10 fields, saw 12\\nSkipping line 1226214: expected 10 fields, saw 11\\nSkipping line 1226697: expected 10 fields, saw 11\\nSkipping line 1226963: expected 10 fields, saw 11\\nSkipping line 1227323: expected 10 fields, saw 11\\nSkipping line 1227594: expected 10 fields, saw 14\\nSkipping line 1227683: expected 10 fields, saw 13\\nSkipping line 1227743: expected 10 fields, saw 13\\nSkipping line 1228073: expected 10 fields, saw 12\\nSkipping line 1228106: expected 10 fields, saw 11\\nSkipping line 1228504: expected 10 fields, saw 11\\nSkipping line 1228617: expected 10 fields, saw 15\\nSkipping line 1228634: expected 10 fields, saw 11\\nSkipping line 1228691: expected 10 fields, saw 13\\nSkipping line 1229349: expected 10 fields, saw 13\\nSkipping line 1229478: expected 10 fields, saw 13\\nSkipping line 1229500: expected 10 fields, saw 11\\nSkipping line 1229657: expected 10 fields, saw 11\\nSkipping line 1229704: expected 10 fields, saw 12\\nSkipping line 1229969: expected 10 fields, saw 13\\nSkipping line 1229979: expected 10 fields, saw 12\\nSkipping line 1230516: expected 10 fields, saw 11\\nSkipping line 1230539: expected 10 fields, saw 17\\nSkipping line 1230546: expected 10 fields, saw 11\\nSkipping line 1230732: expected 10 fields, saw 11\\nSkipping line 1231124: expected 10 fields, saw 11\\nSkipping line 1231652: expected 10 fields, saw 11\\nSkipping line 1231830: expected 10 fields, saw 12\\nSkipping line 1232651: expected 10 fields, saw 11\\nSkipping line 1233363: expected 10 fields, saw 11\\nSkipping line 1234310: expected 10 fields, saw 12\\nSkipping line 1234610: expected 10 fields, saw 11\\nSkipping line 1235052: expected 10 fields, saw 14\\nSkipping line 1236122: expected 10 fields, saw 14\\nSkipping line 1236953: expected 10 fields, saw 12\\nSkipping line 1238421: expected 10 fields, saw 11\\nSkipping line 1242281: expected 10 fields, saw 15\\nSkipping line 1242452: expected 10 fields, saw 11\\nSkipping line 1242733: expected 10 fields, saw 13\\nSkipping line 1242802: expected 10 fields, saw 12\\nSkipping line 1244117: expected 10 fields, saw 25\\nSkipping line 1244377: expected 10 fields, saw 11\\nSkipping line 1244624: expected 10 fields, saw 11\\nSkipping line 1244679: expected 10 fields, saw 12\\nSkipping line 1246803: expected 10 fields, saw 11\\nSkipping line 1248353: expected 10 fields, saw 11\\nSkipping line 1248433: expected 10 fields, saw 11\\nSkipping line 1248792: expected 10 fields, saw 11\\nSkipping line 1248868: expected 10 fields, saw 11\\n'\n",
            "b'Skipping line 1249422: expected 10 fields, saw 18\\nSkipping line 1250377: expected 10 fields, saw 12\\nSkipping line 1251865: expected 10 fields, saw 21\\nSkipping line 1252324: expected 10 fields, saw 12\\nSkipping line 1252557: expected 10 fields, saw 11\\nSkipping line 1252560: expected 10 fields, saw 12\\nSkipping line 1253268: expected 10 fields, saw 25\\nSkipping line 1253561: expected 10 fields, saw 11\\nSkipping line 1253733: expected 10 fields, saw 11\\nSkipping line 1254479: expected 10 fields, saw 11\\nSkipping line 1255437: expected 10 fields, saw 11\\nSkipping line 1255904: expected 10 fields, saw 16\\nSkipping line 1256122: expected 10 fields, saw 14\\nSkipping line 1256410: expected 10 fields, saw 11\\nSkipping line 1256540: expected 10 fields, saw 14\\nSkipping line 1256780: expected 10 fields, saw 11\\nSkipping line 1257907: expected 10 fields, saw 11\\nSkipping line 1258377: expected 10 fields, saw 11\\nSkipping line 1259228: expected 10 fields, saw 11\\nSkipping line 1259666: expected 10 fields, saw 11\\nSkipping line 1260026: expected 10 fields, saw 11\\nSkipping line 1260958: expected 10 fields, saw 12\\nSkipping line 1261529: expected 10 fields, saw 12\\nSkipping line 1261826: expected 10 fields, saw 11\\nSkipping line 1263179: expected 10 fields, saw 11\\nSkipping line 1263322: expected 10 fields, saw 11\\nSkipping line 1263514: expected 10 fields, saw 11\\nSkipping line 1264267: expected 10 fields, saw 13\\nSkipping line 1264938: expected 10 fields, saw 12\\nSkipping line 1265194: expected 10 fields, saw 11\\nSkipping line 1265519: expected 10 fields, saw 14\\nSkipping line 1265653: expected 10 fields, saw 11\\nSkipping line 1268790: expected 10 fields, saw 12\\nSkipping line 1269059: expected 10 fields, saw 11\\nSkipping line 1269213: expected 10 fields, saw 11\\nSkipping line 1270638: expected 10 fields, saw 11\\nSkipping line 1270696: expected 10 fields, saw 20\\nSkipping line 1270756: expected 10 fields, saw 12\\nSkipping line 1271108: expected 10 fields, saw 16\\nSkipping line 1271520: expected 10 fields, saw 11\\nSkipping line 1272500: expected 10 fields, saw 12\\nSkipping line 1273119: expected 10 fields, saw 13\\nSkipping line 1273150: expected 10 fields, saw 11\\nSkipping line 1273289: expected 10 fields, saw 11\\nSkipping line 1273454: expected 10 fields, saw 11\\nSkipping line 1274226: expected 10 fields, saw 11\\nSkipping line 1274712: expected 10 fields, saw 11\\nSkipping line 1274813: expected 10 fields, saw 13\\nSkipping line 1274886: expected 10 fields, saw 11\\nSkipping line 1275277: expected 10 fields, saw 13\\nSkipping line 1275513: expected 10 fields, saw 11\\nSkipping line 1275648: expected 10 fields, saw 11\\nSkipping line 1278787: expected 10 fields, saw 13\\nSkipping line 1280020: expected 10 fields, saw 12\\nSkipping line 1280627: expected 10 fields, saw 12\\nSkipping line 1283592: expected 10 fields, saw 11\\nSkipping line 1284890: expected 10 fields, saw 11\\nSkipping line 1285246: expected 10 fields, saw 11\\nSkipping line 1285988: expected 10 fields, saw 11\\nSkipping line 1287384: expected 10 fields, saw 11\\nSkipping line 1288139: expected 10 fields, saw 11\\nSkipping line 1288989: expected 10 fields, saw 11\\nSkipping line 1289431: expected 10 fields, saw 12\\nSkipping line 1289671: expected 10 fields, saw 11\\nSkipping line 1289771: expected 10 fields, saw 11\\nSkipping line 1290295: expected 10 fields, saw 60\\nSkipping line 1290429: expected 10 fields, saw 11\\nSkipping line 1290887: expected 10 fields, saw 13\\nSkipping line 1291012: expected 10 fields, saw 11\\nSkipping line 1291306: expected 10 fields, saw 12\\nSkipping line 1292514: expected 10 fields, saw 12\\nSkipping line 1292592: expected 10 fields, saw 11\\nSkipping line 1292611: expected 10 fields, saw 11\\nSkipping line 1292635: expected 10 fields, saw 11\\nSkipping line 1293271: expected 10 fields, saw 14\\nSkipping line 1293386: expected 10 fields, saw 11\\nSkipping line 1295091: expected 10 fields, saw 11\\nSkipping line 1295488: expected 10 fields, saw 12\\nSkipping line 1296712: expected 10 fields, saw 13\\nSkipping line 1297489: expected 10 fields, saw 34\\nSkipping line 1298041: expected 10 fields, saw 12\\nSkipping line 1299905: expected 10 fields, saw 11\\nSkipping line 1300637: expected 10 fields, saw 15\\nSkipping line 1301219: expected 10 fields, saw 19\\nSkipping line 1301730: expected 10 fields, saw 11\\nSkipping line 1301809: expected 10 fields, saw 11\\nSkipping line 1302055: expected 10 fields, saw 11\\nSkipping line 1302215: expected 10 fields, saw 11\\nSkipping line 1302275: expected 10 fields, saw 16\\nSkipping line 1302291: expected 10 fields, saw 14\\nSkipping line 1302544: expected 10 fields, saw 11\\nSkipping line 1303236: expected 10 fields, saw 11\\nSkipping line 1303321: expected 10 fields, saw 12\\nSkipping line 1304196: expected 10 fields, saw 18\\nSkipping line 1306309: expected 10 fields, saw 11\\nSkipping line 1307145: expected 10 fields, saw 13\\nSkipping line 1308084: expected 10 fields, saw 12\\nSkipping line 1308722: expected 10 fields, saw 11\\nSkipping line 1309025: expected 10 fields, saw 13\\nSkipping line 1309155: expected 10 fields, saw 13\\nSkipping line 1309834: expected 10 fields, saw 13\\nSkipping line 1310053: expected 10 fields, saw 13\\nSkipping line 1310750: expected 10 fields, saw 18\\nSkipping line 1310858: expected 10 fields, saw 14\\nSkipping line 1310964: expected 10 fields, saw 12\\nSkipping line 1311041: expected 10 fields, saw 11\\nSkipping line 1311285: expected 10 fields, saw 14\\nSkipping line 1311331: expected 10 fields, saw 11\\nSkipping line 1311482: expected 10 fields, saw 14\\nSkipping line 1311649: expected 10 fields, saw 26\\nSkipping line 1311667: expected 10 fields, saw 15\\nSkipping line 1311950: expected 10 fields, saw 11\\nSkipping line 1312364: expected 10 fields, saw 17\\nSkipping line 1313446: expected 10 fields, saw 11\\nSkipping line 1314465: expected 10 fields, saw 11\\n'\n",
            "b'Skipping line 1315918: expected 10 fields, saw 11\\nSkipping line 1316301: expected 10 fields, saw 15\\nSkipping line 1317319: expected 10 fields, saw 15\\nSkipping line 1317845: expected 10 fields, saw 11\\nSkipping line 1317863: expected 10 fields, saw 11\\nSkipping line 1318817: expected 10 fields, saw 14\\nSkipping line 1321991: expected 10 fields, saw 11\\nSkipping line 1322130: expected 10 fields, saw 11\\nSkipping line 1322547: expected 10 fields, saw 11\\nSkipping line 1323138: expected 10 fields, saw 11\\nSkipping line 1323549: expected 10 fields, saw 13\\nSkipping line 1324444: expected 10 fields, saw 12\\nSkipping line 1324776: expected 10 fields, saw 12\\nSkipping line 1325161: expected 10 fields, saw 11\\nSkipping line 1325383: expected 10 fields, saw 11\\nSkipping line 1325423: expected 10 fields, saw 11\\nSkipping line 1325574: expected 10 fields, saw 11\\nSkipping line 1326209: expected 10 fields, saw 12\\nSkipping line 1326234: expected 10 fields, saw 15\\nSkipping line 1326646: expected 10 fields, saw 11\\nSkipping line 1326736: expected 10 fields, saw 12\\nSkipping line 1326980: expected 10 fields, saw 22\\nSkipping line 1327177: expected 10 fields, saw 20\\nSkipping line 1327264: expected 10 fields, saw 11\\nSkipping line 1327265: expected 10 fields, saw 22\\nSkipping line 1327301: expected 10 fields, saw 11\\nSkipping line 1327492: expected 10 fields, saw 15\\nSkipping line 1327970: expected 10 fields, saw 11\\nSkipping line 1329037: expected 10 fields, saw 19\\nSkipping line 1329273: expected 10 fields, saw 11\\nSkipping line 1330622: expected 10 fields, saw 15\\nSkipping line 1331059: expected 10 fields, saw 11\\nSkipping line 1331404: expected 10 fields, saw 11\\nSkipping line 1332135: expected 10 fields, saw 11\\nSkipping line 1332638: expected 10 fields, saw 11\\nSkipping line 1334327: expected 10 fields, saw 11\\nSkipping line 1334914: expected 10 fields, saw 11\\nSkipping line 1335598: expected 10 fields, saw 15\\nSkipping line 1336387: expected 10 fields, saw 14\\nSkipping line 1336889: expected 10 fields, saw 11\\nSkipping line 1337353: expected 10 fields, saw 19\\nSkipping line 1338202: expected 10 fields, saw 11\\nSkipping line 1338312: expected 10 fields, saw 11\\nSkipping line 1338693: expected 10 fields, saw 11\\nSkipping line 1339340: expected 10 fields, saw 11\\nSkipping line 1339419: expected 10 fields, saw 20\\nSkipping line 1339437: expected 10 fields, saw 11\\nSkipping line 1339490: expected 10 fields, saw 13\\nSkipping line 1339692: expected 10 fields, saw 11\\nSkipping line 1340018: expected 10 fields, saw 12\\nSkipping line 1340109: expected 10 fields, saw 17\\nSkipping line 1340160: expected 10 fields, saw 18\\nSkipping line 1340815: expected 10 fields, saw 11\\nSkipping line 1340937: expected 10 fields, saw 16\\nSkipping line 1341454: expected 10 fields, saw 14\\nSkipping line 1341568: expected 10 fields, saw 11\\nSkipping line 1341798: expected 10 fields, saw 13\\nSkipping line 1342526: expected 10 fields, saw 18\\nSkipping line 1342707: expected 10 fields, saw 11\\nSkipping line 1342742: expected 10 fields, saw 12\\nSkipping line 1342777: expected 10 fields, saw 15\\nSkipping line 1342818: expected 10 fields, saw 23\\nSkipping line 1342894: expected 10 fields, saw 17\\nSkipping line 1343043: expected 10 fields, saw 12\\nSkipping line 1343244: expected 10 fields, saw 12\\nSkipping line 1343299: expected 10 fields, saw 12\\nSkipping line 1343737: expected 10 fields, saw 11\\nSkipping line 1345207: expected 10 fields, saw 12\\nSkipping line 1345548: expected 10 fields, saw 14\\nSkipping line 1345918: expected 10 fields, saw 11\\nSkipping line 1347782: expected 10 fields, saw 66\\nSkipping line 1348494: expected 10 fields, saw 11\\nSkipping line 1349221: expected 10 fields, saw 12\\nSkipping line 1349372: expected 10 fields, saw 11\\nSkipping line 1349938: expected 10 fields, saw 11\\nSkipping line 1350086: expected 10 fields, saw 12\\nSkipping line 1350304: expected 10 fields, saw 21\\nSkipping line 1351155: expected 10 fields, saw 11\\nSkipping line 1353207: expected 10 fields, saw 13\\nSkipping line 1353673: expected 10 fields, saw 12\\nSkipping line 1353677: expected 10 fields, saw 13\\nSkipping line 1353829: expected 10 fields, saw 16\\nSkipping line 1354084: expected 10 fields, saw 12\\nSkipping line 1354122: expected 10 fields, saw 11\\nSkipping line 1354558: expected 10 fields, saw 11\\nSkipping line 1354777: expected 10 fields, saw 13\\nSkipping line 1354799: expected 10 fields, saw 14\\nSkipping line 1354910: expected 10 fields, saw 11\\nSkipping line 1354934: expected 10 fields, saw 11\\nSkipping line 1355035: expected 10 fields, saw 14\\nSkipping line 1355173: expected 10 fields, saw 13\\nSkipping line 1355316: expected 10 fields, saw 15\\nSkipping line 1355607: expected 10 fields, saw 13\\nSkipping line 1355720: expected 10 fields, saw 12\\nSkipping line 1355942: expected 10 fields, saw 11\\nSkipping line 1356208: expected 10 fields, saw 16\\nSkipping line 1356444: expected 10 fields, saw 14\\nSkipping line 1356598: expected 10 fields, saw 13\\nSkipping line 1356733: expected 10 fields, saw 11\\nSkipping line 1356789: expected 10 fields, saw 11\\nSkipping line 1356951: expected 10 fields, saw 20\\nSkipping line 1357112: expected 10 fields, saw 11\\nSkipping line 1357959: expected 10 fields, saw 11\\nSkipping line 1358039: expected 10 fields, saw 14\\nSkipping line 1359370: expected 10 fields, saw 11\\nSkipping line 1359826: expected 10 fields, saw 13\\nSkipping line 1359910: expected 10 fields, saw 11\\nSkipping line 1361656: expected 10 fields, saw 11\\nSkipping line 1361992: expected 10 fields, saw 13\\nSkipping line 1362278: expected 10 fields, saw 11\\nSkipping line 1362340: expected 10 fields, saw 29\\nSkipping line 1362346: expected 10 fields, saw 11\\nSkipping line 1362498: expected 10 fields, saw 12\\nSkipping line 1362698: expected 10 fields, saw 12\\nSkipping line 1362957: expected 10 fields, saw 11\\nSkipping line 1363122: expected 10 fields, saw 14\\nSkipping line 1363480: expected 10 fields, saw 18\\nSkipping line 1363559: expected 10 fields, saw 12\\nSkipping line 1363561: expected 10 fields, saw 23\\nSkipping line 1364877: expected 10 fields, saw 11\\nSkipping line 1366945: expected 10 fields, saw 15\\nSkipping line 1367102: expected 10 fields, saw 14\\nSkipping line 1367345: expected 10 fields, saw 11\\nSkipping line 1367988: expected 10 fields, saw 12\\nSkipping line 1368306: expected 10 fields, saw 13\\nSkipping line 1368460: expected 10 fields, saw 74\\nSkipping line 1368628: expected 10 fields, saw 11\\nSkipping line 1368827: expected 10 fields, saw 35\\nSkipping line 1368996: expected 10 fields, saw 12\\nSkipping line 1369021: expected 10 fields, saw 12\\nSkipping line 1369203: expected 10 fields, saw 19\\nSkipping line 1369365: expected 10 fields, saw 11\\nSkipping line 1369440: expected 10 fields, saw 11\\nSkipping line 1369449: expected 10 fields, saw 11\\nSkipping line 1369624: expected 10 fields, saw 11\\nSkipping line 1370128: expected 10 fields, saw 11\\nSkipping line 1371180: expected 10 fields, saw 12\\nSkipping line 1371207: expected 10 fields, saw 11\\nSkipping line 1371347: expected 10 fields, saw 11\\nSkipping line 1371364: expected 10 fields, saw 12\\nSkipping line 1371667: expected 10 fields, saw 12\\nSkipping line 1371702: expected 10 fields, saw 12\\nSkipping line 1371747: expected 10 fields, saw 16\\nSkipping line 1372378: expected 10 fields, saw 11\\nSkipping line 1374527: expected 10 fields, saw 11\\nSkipping line 1374599: expected 10 fields, saw 24\\nSkipping line 1374743: expected 10 fields, saw 11\\nSkipping line 1374759: expected 10 fields, saw 13\\nSkipping line 1376568: expected 10 fields, saw 12\\nSkipping line 1376724: expected 10 fields, saw 11\\nSkipping line 1377466: expected 10 fields, saw 13\\nSkipping line 1377881: expected 10 fields, saw 11\\nSkipping line 1379253: expected 10 fields, saw 11\\nSkipping line 1379339: expected 10 fields, saw 11\\nSkipping line 1379485: expected 10 fields, saw 12\\nSkipping line 1379526: expected 10 fields, saw 12\\nSkipping line 1379658: expected 10 fields, saw 21\\nSkipping line 1379932: expected 10 fields, saw 12\\n'\n",
            "b'Skipping line 1380796: expected 10 fields, saw 15\\nSkipping line 1381081: expected 10 fields, saw 11\\nSkipping line 1381570: expected 10 fields, saw 14\\nSkipping line 1382013: expected 10 fields, saw 12\\nSkipping line 1382107: expected 10 fields, saw 12\\nSkipping line 1382398: expected 10 fields, saw 12\\nSkipping line 1382777: expected 10 fields, saw 11\\nSkipping line 1382984: expected 10 fields, saw 13\\nSkipping line 1384610: expected 10 fields, saw 13\\nSkipping line 1385089: expected 10 fields, saw 11\\nSkipping line 1386422: expected 10 fields, saw 13\\nSkipping line 1386713: expected 10 fields, saw 11\\nSkipping line 1390290: expected 10 fields, saw 12\\nSkipping line 1390369: expected 10 fields, saw 11\\nSkipping line 1391125: expected 10 fields, saw 12\\nSkipping line 1391162: expected 10 fields, saw 13\\nSkipping line 1391763: expected 10 fields, saw 14\\nSkipping line 1392227: expected 10 fields, saw 11\\nSkipping line 1392730: expected 10 fields, saw 18\\nSkipping line 1393360: expected 10 fields, saw 12\\nSkipping line 1393594: expected 10 fields, saw 12\\nSkipping line 1393607: expected 10 fields, saw 11\\nSkipping line 1393748: expected 10 fields, saw 11\\nSkipping line 1394011: expected 10 fields, saw 11\\nSkipping line 1394069: expected 10 fields, saw 20\\nSkipping line 1394130: expected 10 fields, saw 11\\nSkipping line 1394379: expected 10 fields, saw 11\\nSkipping line 1395758: expected 10 fields, saw 11\\nSkipping line 1396994: expected 10 fields, saw 11\\nSkipping line 1397015: expected 10 fields, saw 16\\nSkipping line 1399168: expected 10 fields, saw 34\\nSkipping line 1399347: expected 10 fields, saw 11\\nSkipping line 1399401: expected 10 fields, saw 11\\nSkipping line 1399417: expected 10 fields, saw 17\\nSkipping line 1399553: expected 10 fields, saw 11\\nSkipping line 1399585: expected 10 fields, saw 11\\nSkipping line 1399654: expected 10 fields, saw 12\\nSkipping line 1400229: expected 10 fields, saw 12\\nSkipping line 1400638: expected 10 fields, saw 11\\nSkipping line 1402130: expected 10 fields, saw 11\\nSkipping line 1403517: expected 10 fields, saw 14\\nSkipping line 1403578: expected 10 fields, saw 11\\nSkipping line 1403697: expected 10 fields, saw 11\\nSkipping line 1403725: expected 10 fields, saw 18\\nSkipping line 1403872: expected 10 fields, saw 16\\nSkipping line 1404019: expected 10 fields, saw 11\\nSkipping line 1405385: expected 10 fields, saw 14\\nSkipping line 1405394: expected 10 fields, saw 13\\nSkipping line 1406203: expected 10 fields, saw 13\\nSkipping line 1406769: expected 10 fields, saw 11\\nSkipping line 1407356: expected 10 fields, saw 11\\nSkipping line 1408223: expected 10 fields, saw 12\\nSkipping line 1409724: expected 10 fields, saw 12\\nSkipping line 1410194: expected 10 fields, saw 18\\nSkipping line 1412541: expected 10 fields, saw 11\\nSkipping line 1413071: expected 10 fields, saw 11\\nSkipping line 1413410: expected 10 fields, saw 11\\nSkipping line 1413906: expected 10 fields, saw 11\\nSkipping line 1413930: expected 10 fields, saw 11\\nSkipping line 1414255: expected 10 fields, saw 14\\nSkipping line 1414424: expected 10 fields, saw 12\\nSkipping line 1414896: expected 10 fields, saw 14\\nSkipping line 1414924: expected 10 fields, saw 13\\nSkipping line 1414925: expected 10 fields, saw 12\\nSkipping line 1414942: expected 10 fields, saw 12\\nSkipping line 1415211: expected 10 fields, saw 35\\nSkipping line 1415972: expected 10 fields, saw 21\\nSkipping line 1416326: expected 10 fields, saw 12\\nSkipping line 1416328: expected 10 fields, saw 11\\nSkipping line 1417372: expected 10 fields, saw 11\\nSkipping line 1417846: expected 10 fields, saw 15\\nSkipping line 1418442: expected 10 fields, saw 13\\nSkipping line 1418674: expected 10 fields, saw 11\\nSkipping line 1418726: expected 10 fields, saw 11\\nSkipping line 1418989: expected 10 fields, saw 15\\nSkipping line 1419976: expected 10 fields, saw 11\\nSkipping line 1420398: expected 10 fields, saw 12\\nSkipping line 1420458: expected 10 fields, saw 11\\nSkipping line 1420536: expected 10 fields, saw 11\\nSkipping line 1420611: expected 10 fields, saw 11\\nSkipping line 1420680: expected 10 fields, saw 11\\nSkipping line 1422241: expected 10 fields, saw 11\\nSkipping line 1424271: expected 10 fields, saw 11\\nSkipping line 1424687: expected 10 fields, saw 13\\nSkipping line 1425162: expected 10 fields, saw 11\\nSkipping line 1425454: expected 10 fields, saw 11\\nSkipping line 1425735: expected 10 fields, saw 11\\nSkipping line 1427511: expected 10 fields, saw 11\\nSkipping line 1428335: expected 10 fields, saw 12\\nSkipping line 1428582: expected 10 fields, saw 11\\nSkipping line 1429402: expected 10 fields, saw 11\\nSkipping line 1429842: expected 10 fields, saw 11\\nSkipping line 1430229: expected 10 fields, saw 11\\nSkipping line 1431701: expected 10 fields, saw 12\\nSkipping line 1431768: expected 10 fields, saw 19\\nSkipping line 1431788: expected 10 fields, saw 12\\nSkipping line 1432037: expected 10 fields, saw 11\\nSkipping line 1432156: expected 10 fields, saw 11\\nSkipping line 1432220: expected 10 fields, saw 13\\nSkipping line 1433919: expected 10 fields, saw 12\\nSkipping line 1435142: expected 10 fields, saw 11\\nSkipping line 1435632: expected 10 fields, saw 11\\nSkipping line 1436042: expected 10 fields, saw 12\\nSkipping line 1436223: expected 10 fields, saw 13\\nSkipping line 1436232: expected 10 fields, saw 11\\nSkipping line 1436718: expected 10 fields, saw 13\\nSkipping line 1437110: expected 10 fields, saw 22\\nSkipping line 1437605: expected 10 fields, saw 21\\nSkipping line 1437974: expected 10 fields, saw 11\\nSkipping line 1438004: expected 10 fields, saw 12\\nSkipping line 1438609: expected 10 fields, saw 12\\nSkipping line 1439432: expected 10 fields, saw 11\\nSkipping line 1439749: expected 10 fields, saw 11\\nSkipping line 1439773: expected 10 fields, saw 11\\nSkipping line 1442731: expected 10 fields, saw 11\\nSkipping line 1443277: expected 10 fields, saw 11\\nSkipping line 1444363: expected 10 fields, saw 11\\nSkipping line 1445806: expected 10 fields, saw 13\\nSkipping line 1445840: expected 10 fields, saw 11\\n'\n",
            "b'Skipping line 1446096: expected 10 fields, saw 14\\nSkipping line 1446132: expected 10 fields, saw 13\\nSkipping line 1446231: expected 10 fields, saw 11\\nSkipping line 1447139: expected 10 fields, saw 11\\nSkipping line 1447336: expected 10 fields, saw 20\\nSkipping line 1447344: expected 10 fields, saw 11\\nSkipping line 1447797: expected 10 fields, saw 13\\nSkipping line 1448518: expected 10 fields, saw 12\\nSkipping line 1448612: expected 10 fields, saw 11\\nSkipping line 1449374: expected 10 fields, saw 11\\nSkipping line 1449702: expected 10 fields, saw 12\\nSkipping line 1450842: expected 10 fields, saw 11\\nSkipping line 1451493: expected 10 fields, saw 11\\nSkipping line 1452534: expected 10 fields, saw 11\\nSkipping line 1452605: expected 10 fields, saw 11\\nSkipping line 1454383: expected 10 fields, saw 11\\nSkipping line 1454501: expected 10 fields, saw 12\\nSkipping line 1454830: expected 10 fields, saw 13\\nSkipping line 1455605: expected 10 fields, saw 11\\nSkipping line 1455655: expected 10 fields, saw 13\\nSkipping line 1455983: expected 10 fields, saw 11\\nSkipping line 1456174: expected 10 fields, saw 13\\nSkipping line 1456234: expected 10 fields, saw 13\\nSkipping line 1456414: expected 10 fields, saw 11\\nSkipping line 1456485: expected 10 fields, saw 12\\nSkipping line 1456663: expected 10 fields, saw 12\\nSkipping line 1456875: expected 10 fields, saw 28\\nSkipping line 1458636: expected 10 fields, saw 11\\nSkipping line 1459095: expected 10 fields, saw 11\\nSkipping line 1459591: expected 10 fields, saw 11\\nSkipping line 1460108: expected 10 fields, saw 11\\nSkipping line 1460214: expected 10 fields, saw 11\\nSkipping line 1460520: expected 10 fields, saw 12\\nSkipping line 1460647: expected 10 fields, saw 16\\nSkipping line 1462033: expected 10 fields, saw 11\\nSkipping line 1462843: expected 10 fields, saw 11\\nSkipping line 1463035: expected 10 fields, saw 11\\nSkipping line 1463124: expected 10 fields, saw 13\\nSkipping line 1463425: expected 10 fields, saw 13\\nSkipping line 1463436: expected 10 fields, saw 11\\nSkipping line 1464079: expected 10 fields, saw 11\\nSkipping line 1464084: expected 10 fields, saw 11\\nSkipping line 1464282: expected 10 fields, saw 22\\nSkipping line 1464538: expected 10 fields, saw 11\\nSkipping line 1465296: expected 10 fields, saw 13\\nSkipping line 1465709: expected 10 fields, saw 11\\nSkipping line 1466331: expected 10 fields, saw 13\\nSkipping line 1466420: expected 10 fields, saw 12\\nSkipping line 1466713: expected 10 fields, saw 11\\nSkipping line 1468006: expected 10 fields, saw 11\\nSkipping line 1469170: expected 10 fields, saw 12\\nSkipping line 1469479: expected 10 fields, saw 12\\nSkipping line 1469844: expected 10 fields, saw 11\\nSkipping line 1470103: expected 10 fields, saw 11\\nSkipping line 1470217: expected 10 fields, saw 11\\nSkipping line 1470614: expected 10 fields, saw 15\\nSkipping line 1470769: expected 10 fields, saw 11\\nSkipping line 1471293: expected 10 fields, saw 11\\nSkipping line 1471814: expected 10 fields, saw 11\\nSkipping line 1472021: expected 10 fields, saw 11\\nSkipping line 1472355: expected 10 fields, saw 16\\nSkipping line 1473163: expected 10 fields, saw 11\\nSkipping line 1473411: expected 10 fields, saw 12\\nSkipping line 1473506: expected 10 fields, saw 11\\nSkipping line 1473773: expected 10 fields, saw 13\\nSkipping line 1473943: expected 10 fields, saw 12\\nSkipping line 1474481: expected 10 fields, saw 11\\nSkipping line 1474898: expected 10 fields, saw 11\\nSkipping line 1475624: expected 10 fields, saw 14\\nSkipping line 1476853: expected 10 fields, saw 11\\nSkipping line 1477654: expected 10 fields, saw 12\\nSkipping line 1477967: expected 10 fields, saw 14\\nSkipping line 1478502: expected 10 fields, saw 12\\nSkipping line 1478786: expected 10 fields, saw 14\\nSkipping line 1480954: expected 10 fields, saw 21\\nSkipping line 1481102: expected 10 fields, saw 15\\nSkipping line 1481423: expected 10 fields, saw 11\\nSkipping line 1481583: expected 10 fields, saw 11\\nSkipping line 1482776: expected 10 fields, saw 12\\nSkipping line 1483782: expected 10 fields, saw 11\\nSkipping line 1484428: expected 10 fields, saw 16\\nSkipping line 1485184: expected 10 fields, saw 11\\n'\n",
            "/usr/local/lib/python3.7/dist-packages/IPython/core/interactiveshell.py:2718: DtypeWarning: Columns (3,4,5,6,7,8) have mixed types.Specify dtype option on import or set low_memory=False.\n",
            "  interactivity=interactivity, compiler=compiler, result=result)\n"
          ]
        }
      ]
    },
    {
      "cell_type": "code",
      "metadata": {
        "id": "CdCh0fItFl9J",
        "colab": {
          "base_uri": "https://localhost:8080/",
          "height": 423
        },
        "outputId": "8b5084e9-aaf0-46c3-ac3d-d194e380ba5f"
      },
      "source": [
        "train=df3\n",
        "train"
      ],
      "execution_count": null,
      "outputs": [
        {
          "output_type": "execute_result",
          "data": {
            "text/html": [
              "<div>\n",
              "<style scoped>\n",
              "    .dataframe tbody tr th:only-of-type {\n",
              "        vertical-align: middle;\n",
              "    }\n",
              "\n",
              "    .dataframe tbody tr th {\n",
              "        vertical-align: top;\n",
              "    }\n",
              "\n",
              "    .dataframe thead th {\n",
              "        text-align: right;\n",
              "    }\n",
              "</style>\n",
              "<table border=\"1\" class=\"dataframe\">\n",
              "  <thead>\n",
              "    <tr style=\"text-align: right;\">\n",
              "      <th></th>\n",
              "      <th>CommentId</th>\n",
              "      <th>commentText</th>\n",
              "      <th>language</th>\n",
              "      <th>user_index</th>\n",
              "      <th>post_index</th>\n",
              "      <th>report_count_comment</th>\n",
              "      <th>report_count_post</th>\n",
              "      <th>like_count_comment</th>\n",
              "      <th>like_count_post</th>\n",
              "      <th>label</th>\n",
              "    </tr>\n",
              "  </thead>\n",
              "  <tbody>\n",
              "    <tr>\n",
              "      <th>0</th>\n",
              "      <td>0</td>\n",
              "      <td>randi ka deewana</td>\n",
              "      <td>Assamese</td>\n",
              "      <td>2869</td>\n",
              "      <td>175913</td>\n",
              "      <td>0</td>\n",
              "      <td>1</td>\n",
              "      <td>0</td>\n",
              "      <td>65</td>\n",
              "      <td>1.0</td>\n",
              "    </tr>\n",
              "    <tr>\n",
              "      <th>1</th>\n",
              "      <td>1</td>\n",
              "      <td>👌👌🙏🥰🥰🥰☝️☝️</td>\n",
              "      <td>Rajasthani</td>\n",
              "      <td>601</td>\n",
              "      <td>960582</td>\n",
              "      <td>0</td>\n",
              "      <td>0</td>\n",
              "      <td>1</td>\n",
              "      <td>94</td>\n",
              "      <td>0.0</td>\n",
              "    </tr>\n",
              "    <tr>\n",
              "      <th>2</th>\n",
              "      <td>2</td>\n",
              "      <td>apni pant utar kar apni chut bhi to bata do ma...</td>\n",
              "      <td>Urdu</td>\n",
              "      <td>1205</td>\n",
              "      <td>17327</td>\n",
              "      <td>0</td>\n",
              "      <td>1</td>\n",
              "      <td>0</td>\n",
              "      <td>731</td>\n",
              "      <td>1.0</td>\n",
              "    </tr>\n",
              "    <tr>\n",
              "      <th>3</th>\n",
              "      <td>3</td>\n",
              "      <td>krishnatripathi4578 jesi ghar ki sabhyata vais...</td>\n",
              "      <td>Rajasthani</td>\n",
              "      <td>889</td>\n",
              "      <td>352919</td>\n",
              "      <td>0</td>\n",
              "      <td>1</td>\n",
              "      <td>1</td>\n",
              "      <td>285</td>\n",
              "      <td>0.0</td>\n",
              "    </tr>\n",
              "    <tr>\n",
              "      <th>4</th>\n",
              "      <td>4</td>\n",
              "      <td>is randi ko dusra kaam nahi hai kuttiya kahin ki</td>\n",
              "      <td>Urdu</td>\n",
              "      <td>372</td>\n",
              "      <td>261223</td>\n",
              "      <td>0</td>\n",
              "      <td>0</td>\n",
              "      <td>0</td>\n",
              "      <td>453</td>\n",
              "      <td>1.0</td>\n",
              "    </tr>\n",
              "    <tr>\n",
              "      <th>...</th>\n",
              "      <td>...</td>\n",
              "      <td>...</td>\n",
              "      <td>...</td>\n",
              "      <td>...</td>\n",
              "      <td>...</td>\n",
              "      <td>...</td>\n",
              "      <td>...</td>\n",
              "      <td>...</td>\n",
              "      <td>...</td>\n",
              "      <td>...</td>\n",
              "    </tr>\n",
              "    <tr>\n",
              "      <th>1483501</th>\n",
              "      <td>1500893</td>\n",
              "      <td>pavam🤣 😁😻😻😻😻</td>\n",
              "      <td>Malayalam</td>\n",
              "      <td>7201</td>\n",
              "      <td>661099</td>\n",
              "      <td>0</td>\n",
              "      <td>0</td>\n",
              "      <td>1</td>\n",
              "      <td>28</td>\n",
              "      <td>0.0</td>\n",
              "    </tr>\n",
              "    <tr>\n",
              "      <th>1483502</th>\n",
              "      <td>1500894</td>\n",
              "      <td>enik ind post ittittila 😔</td>\n",
              "      <td>Malayalam</td>\n",
              "      <td>16000</td>\n",
              "      <td>905283</td>\n",
              "      <td>0</td>\n",
              "      <td>0</td>\n",
              "      <td>2</td>\n",
              "      <td>28</td>\n",
              "      <td>0.0</td>\n",
              "    </tr>\n",
              "    <tr>\n",
              "      <th>1483503</th>\n",
              "      <td>1500895</td>\n",
              "      <td>nirmelp34 parayilla</td>\n",
              "      <td>Malayalam</td>\n",
              "      <td>10028</td>\n",
              "      <td>339564</td>\n",
              "      <td>0</td>\n",
              "      <td>0</td>\n",
              "      <td>0</td>\n",
              "      <td>28</td>\n",
              "      <td>0.0</td>\n",
              "    </tr>\n",
              "    <tr>\n",
              "      <th>1483504</th>\n",
              "      <td>1500896</td>\n",
              "      <td>ettan🙈😘</td>\n",
              "      <td>Malayalam</td>\n",
              "      <td>5552</td>\n",
              "      <td>397363</td>\n",
              "      <td>0</td>\n",
              "      <td>0</td>\n",
              "      <td>2</td>\n",
              "      <td>28</td>\n",
              "      <td>0.0</td>\n",
              "    </tr>\n",
              "    <tr>\n",
              "      <th>1483505</th>\n",
              "      <td>1500897</td>\n",
              "      <td>👌👏😄😄😜</td>\n",
              "      <td>Malayalam</td>\n",
              "      <td>14854</td>\n",
              "      <td>603073</td>\n",
              "      <td>0</td>\n",
              "      <td>0</td>\n",
              "      <td>2</td>\n",
              "      <td>28</td>\n",
              "      <td>0.0</td>\n",
              "    </tr>\n",
              "  </tbody>\n",
              "</table>\n",
              "<p>1483506 rows × 10 columns</p>\n",
              "</div>"
            ],
            "text/plain": [
              "         CommentId  ... label\n",
              "0                0  ...   1.0\n",
              "1                1  ...   0.0\n",
              "2                2  ...   1.0\n",
              "3                3  ...   0.0\n",
              "4                4  ...   1.0\n",
              "...            ...  ...   ...\n",
              "1483501    1500893  ...   0.0\n",
              "1483502    1500894  ...   0.0\n",
              "1483503    1500895  ...   0.0\n",
              "1483504    1500896  ...   0.0\n",
              "1483505    1500897  ...   0.0\n",
              "\n",
              "[1483506 rows x 10 columns]"
            ]
          },
          "metadata": {},
          "execution_count": 9
        }
      ]
    },
    {
      "cell_type": "code",
      "metadata": {
        "id": "mFaESZKm83pO"
      },
      "source": [
        "df=train"
      ],
      "execution_count": null,
      "outputs": []
    },
    {
      "cell_type": "markdown",
      "metadata": {
        "id": "0bQwILTqaCo_"
      },
      "source": [
        "## **Create a Balanced Dataset**"
      ]
    },
    {
      "cell_type": "code",
      "metadata": {
        "colab": {
          "base_uri": "https://localhost:8080/",
          "height": 206
        },
        "id": "V6VXDskn85s0",
        "outputId": "67511f87-810b-473f-d615-74c02df09b24"
      },
      "source": [
        "# Remove the unnecessary columns\n",
        "df = df[['commentText','label']]\n",
        "df.head()"
      ],
      "execution_count": null,
      "outputs": [
        {
          "output_type": "execute_result",
          "data": {
            "text/html": [
              "<div>\n",
              "<style scoped>\n",
              "    .dataframe tbody tr th:only-of-type {\n",
              "        vertical-align: middle;\n",
              "    }\n",
              "\n",
              "    .dataframe tbody tr th {\n",
              "        vertical-align: top;\n",
              "    }\n",
              "\n",
              "    .dataframe thead th {\n",
              "        text-align: right;\n",
              "    }\n",
              "</style>\n",
              "<table border=\"1\" class=\"dataframe\">\n",
              "  <thead>\n",
              "    <tr style=\"text-align: right;\">\n",
              "      <th></th>\n",
              "      <th>commentText</th>\n",
              "      <th>label</th>\n",
              "    </tr>\n",
              "  </thead>\n",
              "  <tbody>\n",
              "    <tr>\n",
              "      <th>0</th>\n",
              "      <td>randi ka deewana</td>\n",
              "      <td>1.0</td>\n",
              "    </tr>\n",
              "    <tr>\n",
              "      <th>1</th>\n",
              "      <td>👌👌🙏🥰🥰🥰☝️☝️</td>\n",
              "      <td>0.0</td>\n",
              "    </tr>\n",
              "    <tr>\n",
              "      <th>2</th>\n",
              "      <td>apni pant utar kar apni chut bhi to bata do ma...</td>\n",
              "      <td>1.0</td>\n",
              "    </tr>\n",
              "    <tr>\n",
              "      <th>3</th>\n",
              "      <td>krishnatripathi4578 jesi ghar ki sabhyata vais...</td>\n",
              "      <td>0.0</td>\n",
              "    </tr>\n",
              "    <tr>\n",
              "      <th>4</th>\n",
              "      <td>is randi ko dusra kaam nahi hai kuttiya kahin ki</td>\n",
              "      <td>1.0</td>\n",
              "    </tr>\n",
              "  </tbody>\n",
              "</table>\n",
              "</div>"
            ],
            "text/plain": [
              "                                         commentText  label\n",
              "0                                   randi ka deewana    1.0\n",
              "1                                         👌👌🙏🥰🥰🥰☝️☝️    0.0\n",
              "2  apni pant utar kar apni chut bhi to bata do ma...    1.0\n",
              "3  krishnatripathi4578 jesi ghar ki sabhyata vais...    0.0\n",
              "4   is randi ko dusra kaam nahi hai kuttiya kahin ki    1.0"
            ]
          },
          "metadata": {},
          "execution_count": 11
        }
      ]
    },
    {
      "cell_type": "code",
      "metadata": {
        "colab": {
          "base_uri": "https://localhost:8080/"
        },
        "id": "mFptghy_86EB",
        "outputId": "08d3bb23-88ad-4601-9118-f26e9f78c477"
      },
      "source": [
        "df_pos = df.loc[df.label == 1]\n",
        "df_neg = df.loc[df.label == 0]\n",
        "print('Postive examples: {}  Negative examples: {}'.format(len(df_pos),len(df_neg)))"
      ],
      "execution_count": null,
      "outputs": [
        {
          "output_type": "stream",
          "name": "stdout",
          "text": [
            "Postive examples: 347390  Negative examples: 1135897\n"
          ]
        }
      ]
    },
    {
      "cell_type": "code",
      "metadata": {
        "id": "E6hPvlF2Cvg4"
      },
      "source": [
        "def create_small_dataset(df_pos, df_neg, n_samples):\n",
        "    \"\"\" Create a custom dataset of size `n_samples` from positive `df_pos` and negative `df-neg`\n",
        "        examples.\n",
        "    \"\"\"\n",
        "    duplicates = set()\n",
        "    counter = 0\n",
        "    data = {}\n",
        "    data['commentText'] = []\n",
        "    data['label'] = []\n",
        "    while counter < n_samples:\n",
        "        index = np.random.randint(0, len(df_pos))\n",
        "        if index in duplicates:\n",
        "            continue\n",
        "        row = df_pos.iloc[index]\n",
        "        comment = remove_emoji(row['commentText'])\n",
        "        label = row['label']\n",
        "        data['commentText'].append(comment)\n",
        "        data['label'].append(label)\n",
        "        duplicates.add(index)\n",
        "        counter += 1\n",
        "\n",
        "    duplicates.clear()\n",
        "    counter = 0\n",
        "    while counter < n_samples:\n",
        "        index = np.random.randint(0, len(df_neg))\n",
        "        if index in duplicates:\n",
        "            continue\n",
        "        row = df_neg.iloc[index]\n",
        "        comment = remove_emoji(row['commentText'])\n",
        "        label = row['label']\n",
        "        data['commentText'].append(comment)\n",
        "        data['label'].append(label)\n",
        "        duplicates.add(index)\n",
        "        counter += 1\n",
        "    return pd.DataFrame.from_dict(data)\n",
        "\n",
        "def remove_emoji(text):\n",
        "    \"\"\" Remove a number of emojis from text.\"\"\"\n",
        "    emoji_pattern = re.compile(\"[\"\n",
        "        u\"\\U0001F600-\\U0001F64F\"  # emoticons\n",
        "        u\"\\U0001F300-\\U0001F5FF\"  # symbols & pictographs\n",
        "        u\"\\U0001F680-\\U0001F6FF\"  # transport & map symbols\n",
        "        u\"\\U0001F1E0-\\U0001F1FF\"  # flags (iOS)\n",
        "                           \"]+\", flags=re.UNICODE)\n",
        "    text = re.sub(emoji_pattern, ' ', text).replace('.','')\n",
        "    return re.sub(r'[a-z]+[A-Z]+', '', text, re.I)\n",
        "\n"
      ],
      "execution_count": null,
      "outputs": []
    },
    {
      "cell_type": "code",
      "metadata": {
        "colab": {
          "base_uri": "https://localhost:8080/",
          "height": 423
        },
        "id": "IrodP9NT9WoN",
        "outputId": "2d982328-b55c-43c1-b351-fc321adea7df"
      },
      "source": [
        "dataset_size = 5000\n",
        "dataset = create_small_dataset(df_pos, df_neg, dataset_size)\n",
        "\n",
        "#shuffle the dataset\n",
        "dataset = dataset.sample(frac=1).reset_index(drop=True)\n",
        "dataset"
      ],
      "execution_count": null,
      "outputs": [
        {
          "output_type": "execute_result",
          "data": {
            "text/html": [
              "<div>\n",
              "<style scoped>\n",
              "    .dataframe tbody tr th:only-of-type {\n",
              "        vertical-align: middle;\n",
              "    }\n",
              "\n",
              "    .dataframe tbody tr th {\n",
              "        vertical-align: top;\n",
              "    }\n",
              "\n",
              "    .dataframe thead th {\n",
              "        text-align: right;\n",
              "    }\n",
              "</style>\n",
              "<table border=\"1\" class=\"dataframe\">\n",
              "  <thead>\n",
              "    <tr style=\"text-align: right;\">\n",
              "      <th></th>\n",
              "      <th>commentText</th>\n",
              "      <th>label</th>\n",
              "    </tr>\n",
              "  </thead>\n",
              "  <tbody>\n",
              "    <tr>\n",
              "      <th>0</th>\n",
              "      <td>nice pic</td>\n",
              "      <td>0.0</td>\n",
              "    </tr>\n",
              "    <tr>\n",
              "      <th>1</th>\n",
              "      <td>tere man baap dekhenge to kya samjhenge kutiya...</td>\n",
              "      <td>0.0</td>\n",
              "    </tr>\n",
              "    <tr>\n",
              "      <th>2</th>\n",
              "      <td>☺️☺️🤗🤗</td>\n",
              "      <td>0.0</td>\n",
              "    </tr>\n",
              "    <tr>\n",
              "      <th>3</th>\n",
              "      <td>मेरे पास फालतू logo से bakwas karne ke liye ti...</td>\n",
              "      <td>1.0</td>\n",
              "    </tr>\n",
              "    <tr>\n",
              "      <th>4</th>\n",
              "      <td>o my  gand</td>\n",
              "      <td>1.0</td>\n",
              "    </tr>\n",
              "    <tr>\n",
              "      <th>...</th>\n",
              "      <td>...</td>\n",
              "      <td>...</td>\n",
              "    </tr>\n",
              "    <tr>\n",
              "      <th>9995</th>\n",
              "      <td>hio jn</td>\n",
              "      <td>0.0</td>\n",
              "    </tr>\n",
              "    <tr>\n",
              "      <th>9996</th>\n",
              "      <td>sali to hogi uski bhi par dadi</td>\n",
              "      <td>1.0</td>\n",
              "    </tr>\n",
              "    <tr>\n",
              "      <th>9997</th>\n",
              "      <td>🤣🤣🤣🤣🤣അടിപൊളി</td>\n",
              "      <td>0.0</td>\n",
              "    </tr>\n",
              "    <tr>\n",
              "      <th>9998</th>\n",
              "      <td>ye ladki mujhe chutiya lagti h lo</td>\n",
              "      <td>1.0</td>\n",
              "    </tr>\n",
              "    <tr>\n",
              "      <th>9999</th>\n",
              "      <td>mannelaumadevi హాయ్ గుడ్ మార్నింగ్ మేడం</td>\n",
              "      <td>0.0</td>\n",
              "    </tr>\n",
              "  </tbody>\n",
              "</table>\n",
              "<p>10000 rows × 2 columns</p>\n",
              "</div>"
            ],
            "text/plain": [
              "                                            commentText  label\n",
              "0                                            nice pic      0.0\n",
              "1     tere man baap dekhenge to kya samjhenge kutiya...    0.0\n",
              "2                                                ☺️☺️🤗🤗    0.0\n",
              "3     मेरे पास फालतू logo से bakwas karne ke liye ti...    1.0\n",
              "4                                            o my  gand    1.0\n",
              "...                                                 ...    ...\n",
              "9995                                             hio jn    0.0\n",
              "9996                     sali to hogi uski bhi par dadi    1.0\n",
              "9997                                     🤣🤣🤣🤣🤣അടിപൊളി      0.0\n",
              "9998                  ye ladki mujhe chutiya lagti h lo    1.0\n",
              "9999            mannelaumadevi హాయ్ గుడ్ మార్నింగ్ మేడం    0.0\n",
              "\n",
              "[10000 rows x 2 columns]"
            ]
          },
          "metadata": {},
          "execution_count": 14
        }
      ]
    },
    {
      "cell_type": "code",
      "metadata": {
        "colab": {
          "base_uri": "https://localhost:8080/"
        },
        "id": "xcx4rQeRCl-6",
        "outputId": "89b4cc8c-743b-4379-916b-7f845a9925dc"
      },
      "source": [
        "train_data, test_data = train_test_split(dataset, test_size=0.2)\n",
        "print('train data size: {}    test data size: {}'.format(len(train_data), len(test_data)))"
      ],
      "execution_count": null,
      "outputs": [
        {
          "output_type": "stream",
          "name": "stdout",
          "text": [
            "train data size: 8000    test data size: 2000\n"
          ]
        }
      ]
    },
    {
      "cell_type": "markdown",
      "metadata": {
        "id": "p8ChfvLnbBS_"
      },
      "source": [
        "## **Convert the Data into Bert Specific Format**"
      ]
    },
    {
      "cell_type": "code",
      "metadata": {
        "id": "Mvy1qnvpDYDF"
      },
      "source": [
        "from transformers import glue_convert_examples_to_features, InputExample\n",
        "def convert_data_into_input_example(data):\n",
        "    \"\"\" Covert the list of examples into a list of `InputExample` objects that is suitable\n",
        "        for BERT model.\"\"\"\n",
        "    input_examples = []\n",
        "    for i in range(len(data)):\n",
        "        example = InputExample(\n",
        "            guid= None,\n",
        "            text_a= data.iloc[i]['commentText'],\n",
        "            text_b= None,\n",
        "            label= data.iloc[i]['label']\n",
        "        )\n",
        "        input_examples.append(example)\n",
        "    return input_examples"
      ],
      "execution_count": null,
      "outputs": []
    },
    {
      "cell_type": "code",
      "metadata": {
        "id": "o1Am828QDQL3"
      },
      "source": [
        "train_input_examples = convert_data_into_input_example(train_data)\n",
        "val_input_examples = convert_data_into_input_example(test_data)"
      ],
      "execution_count": null,
      "outputs": []
    },
    {
      "cell_type": "markdown",
      "metadata": {
        "id": "qwDamjXubIWi"
      },
      "source": [
        "# **Tokenization**"
      ]
    },
    {
      "cell_type": "code",
      "metadata": {
        "colab": {
          "base_uri": "https://localhost:8080/",
          "height": 203,
          "referenced_widgets": [
            "4989221729e14409b0defa3776543b4e",
            "4bb7a1975fc34bbe89f5260e34657225",
            "e54cfaac5a6947cea1593048a494aa9c",
            "5d880e740d7b438993ebc37e210a7b1c",
            "6149b7d80fa942dbba4cae4bcfabd1fd",
            "3bf916c6620f4df680adef9869065d51",
            "78eec7645af34e8d8e75f6432a7018fe",
            "8f8719eeabd641cf9ef50b0f1885b780",
            "c88eead01b94475ea689c2fa5e0da531",
            "7d8a22d786944069b8ade0d62ecdf205",
            "839b61cb356847a6a511f1bf3c28da44",
            "28af440f3c4647188d7b9a2b3c1cd15f",
            "a3da057712c9401fa159e3af59c3d14a",
            "8ddedaf996f540628fdc7fea82aa0303",
            "2a068bd0de894568b4dff935768d904f",
            "4c762c06044c4d1f95e7a8926250379b",
            "b9e4996a672e46ce84cb1cb6a281e7de",
            "7d5a3ca5e6174ffcbc4d2c06f0560c20",
            "6aa1d0a003b145878290e460e3bbe651",
            "f3e0380d57584d2fac71a8bacd21a821",
            "bdf6feb72c0f4d71b4054ef7a72ecfda",
            "131f6351e5b24a9e815620bbd8da6cb5",
            "39aa2fce33ec49dea5d66f27db5fa4be",
            "1b5ae135e07a48c3b3caafba54338be7",
            "88fa9e96e7e14467acf04ee55d9e5eeb",
            "0000bcf3bcef4bc890d521fb2ea73523",
            "06a45c79481749318306604ad7f085ab",
            "f5c36ade54b44573b4b9e2f44e710cef",
            "4383f4b9682a44b1978ee1ddf2804d6c",
            "6a12c722f670467f9f519070c5863ab5",
            "639497e357ba4aef8fbd82eb62253a0d",
            "4348967186224bbd874e7542aabd9782",
            "6d9c634e37614350a609221b2129564f",
            "eb7f6e227f824e0095db3739443372f6",
            "928679bdf3154680a2a083ad10cea919",
            "00d77cd848ce43918b278c8764b64d23",
            "c91c32e6922b4435b0c928b7aee04ef8",
            "849513d062294a11a1188bfac725df88",
            "9358bdeea03f4331a8dd2c1b945be383",
            "c89c8a88bb3e4710a45dbcd0c1e37796",
            "dc93277f16d74e85854a0d55c3293339",
            "2fc1d77854d246c0a2a892e3e5c0899a",
            "ef2131f143984ccd9d2fd088b78a1a76",
            "45fbeda429df4ba09e9daa89b7754b77"
          ]
        },
        "id": "ZS2E2G_bDT_t",
        "outputId": "9a5eb272-6395-4c36-a091-c0bd51abb59c"
      },
      "source": [
        "from transformers import BertTokenizer, TFBertModel\n",
        "tokenizer = BertTokenizer.from_pretrained('bert-base-multilingual-cased', do_lower_case=False)\n",
        "\n",
        "text = 'I liked that book very much!'\n",
        "tokenized_text = tokenizer.tokenize(text)\n",
        "print(tokenized_text)\n",
        "text_ids = tokenizer.convert_tokens_to_ids(tokenized_text)\n",
        "print('text ids:', text_ids)\n",
        "text_ids_with_special_tokens = tokenizer.build_inputs_with_special_tokens(text_ids)\n",
        "print('text ids with special tokens: ', text_ids_with_special_tokens)"
      ],
      "execution_count": null,
      "outputs": [
        {
          "output_type": "display_data",
          "data": {
            "application/vnd.jupyter.widget-view+json": {
              "model_id": "4989221729e14409b0defa3776543b4e",
              "version_minor": 0,
              "version_major": 2
            },
            "text/plain": [
              "Downloading:   0%|          | 0.00/972k [00:00<?, ?B/s]"
            ]
          },
          "metadata": {}
        },
        {
          "output_type": "display_data",
          "data": {
            "application/vnd.jupyter.widget-view+json": {
              "model_id": "28af440f3c4647188d7b9a2b3c1cd15f",
              "version_minor": 0,
              "version_major": 2
            },
            "text/plain": [
              "Downloading:   0%|          | 0.00/29.0 [00:00<?, ?B/s]"
            ]
          },
          "metadata": {}
        },
        {
          "output_type": "display_data",
          "data": {
            "application/vnd.jupyter.widget-view+json": {
              "model_id": "39aa2fce33ec49dea5d66f27db5fa4be",
              "version_minor": 0,
              "version_major": 2
            },
            "text/plain": [
              "Downloading:   0%|          | 0.00/1.87M [00:00<?, ?B/s]"
            ]
          },
          "metadata": {}
        },
        {
          "output_type": "display_data",
          "data": {
            "application/vnd.jupyter.widget-view+json": {
              "model_id": "eb7f6e227f824e0095db3739443372f6",
              "version_minor": 0,
              "version_major": 2
            },
            "text/plain": [
              "Downloading:   0%|          | 0.00/625 [00:00<?, ?B/s]"
            ]
          },
          "metadata": {}
        },
        {
          "output_type": "stream",
          "name": "stdout",
          "text": [
            "['I', 'like', '##d', 'that', 'book', 'very', 'much', '!']\n",
            "text ids: [146, 11850, 10162, 10189, 12748, 12558, 13172, 106]\n",
            "text ids with special tokens:  [101, 146, 11850, 10162, 10189, 12748, 12558, 13172, 106, 102]\n"
          ]
        }
      ]
    },
    {
      "cell_type": "code",
      "metadata": {
        "colab": {
          "base_uri": "https://localhost:8080/"
        },
        "id": "lOsgvIb2F3NT",
        "outputId": "2ed1f4d4-7701-41e9-c912-4f95f1233d2e"
      },
      "source": [
        "MAX_SEQ_LENGTH = 128\n",
        "encoded_bert_text = tokenizer.encode(text, add_special_tokens=True, max_length=MAX_SEQ_LENGTH)\n",
        "# encoded_bert_text = tokenizer.encode(text, add_special_tokens=True, max_length=MAX_SEQ_LENGTH, return_tensors='tf')\n",
        "\n",
        "print('encoded text: ', encoded_bert_text)\n",
        "decoded_text_with_special_token = tokenizer.decode(encoded_bert_text)\n",
        "decoded_text_without_special_token = tokenizer.decode(encoded_bert_text, skip_special_tokens=True)\n",
        "\n",
        "print('decoded text with special token: ', decoded_text_with_special_token)\n",
        "print('decoded text without special token: ', decoded_text_without_special_token)"
      ],
      "execution_count": null,
      "outputs": [
        {
          "output_type": "stream",
          "name": "stderr",
          "text": [
            "Truncation was not explicitly activated but `max_length` is provided a specific value, please use `truncation=True` to explicitly truncate examples to max length. Defaulting to 'longest_first' truncation strategy. If you encode pairs of sequences (GLUE-style) with the tokenizer you can select this strategy more precisely by providing a specific strategy to `truncation`.\n"
          ]
        },
        {
          "output_type": "stream",
          "name": "stdout",
          "text": [
            "encoded text:  [101, 146, 11850, 10162, 10189, 12748, 12558, 13172, 106, 102]\n",
            "decoded text with special token:  [CLS] I liked that book very much! [SEP]\n",
            "decoded text without special token:  I liked that book very much!\n"
          ]
        }
      ]
    },
    {
      "cell_type": "code",
      "metadata": {
        "colab": {
          "base_uri": "https://localhost:8080/"
        },
        "id": "C8yXp4PVH0FZ",
        "outputId": "97f5b8a5-06bb-4171-8bcb-92846b3de22e"
      },
      "source": [
        "label_list = [0,1]\n",
        "\n",
        "bert_train_dataset = glue_convert_examples_to_features(examples=train_input_examples, tokenizer=tokenizer, max_length=MAX_SEQ_LENGTH, task='mrpc', label_list=label_list)\n",
        "bert_val_dataset = glue_convert_examples_to_features(examples=val_input_examples, tokenizer=tokenizer, max_length=MAX_SEQ_LENGTH, task='mrpc', label_list=label_list)\n",
        "\n",
        "for i in range(3):\n",
        "#     print('Example: {}'.format(bert_train_dataset[i]))\n",
        "    print('Example: {')\n",
        "    print(' Input_ids: {}'.format(bert_train_dataset[i].input_ids))\n",
        "    print(' attention_mask: {}'.format(bert_train_dataset[i].attention_mask))\n",
        "    print(' token_type_ids: {}'.format(bert_train_dataset[i].token_type_ids))\n",
        "    print(' label: {}'.format(bert_train_dataset[i].label))\n",
        "    print('}')"
      ],
      "execution_count": null,
      "outputs": [
        {
          "output_type": "stream",
          "name": "stderr",
          "text": [
            "/usr/local/lib/python3.7/dist-packages/transformers/data/processors/glue.py:67: FutureWarning: This function will be removed from the library soon, preprocessing should be handled with the 🤗 Datasets library. You can have a look at this example script for pointers: https://github.com/huggingface/transformers/blob/master/examples/pytorch/text-classification/run_glue.py\n",
            "  warnings.warn(DEPRECATION_WARNING.format(\"function\"), FutureWarning)\n",
            "/usr/local/lib/python3.7/dist-packages/transformers/data/processors/glue.py:175: FutureWarning: This processor will be removed from the library soon, preprocessing should be handled with the 🤗 Datasets library. You can have a look at this example script for pointers: https://github.com/huggingface/transformers/blob/master/examples/pytorch/text-classification/run_glue.py\n",
            "  warnings.warn(DEPRECATION_WARNING.format(\"processor\"), FutureWarning)\n"
          ]
        },
        {
          "output_type": "stream",
          "name": "stdout",
          "text": [
            "Example: {\n",
            " Input_ids: [101, 100, 100, 100, 102, 0, 0, 0, 0, 0, 0, 0, 0, 0, 0, 0, 0, 0, 0, 0, 0, 0, 0, 0, 0, 0, 0, 0, 0, 0, 0, 0, 0, 0, 0, 0, 0, 0, 0, 0, 0, 0, 0, 0, 0, 0, 0, 0, 0, 0, 0, 0, 0, 0, 0, 0, 0, 0, 0, 0, 0, 0, 0, 0, 0, 0, 0, 0, 0, 0, 0, 0, 0, 0, 0, 0, 0, 0, 0, 0, 0, 0, 0, 0, 0, 0, 0, 0, 0, 0, 0, 0, 0, 0, 0, 0, 0, 0, 0, 0, 0, 0, 0, 0, 0, 0, 0, 0, 0, 0, 0, 0, 0, 0, 0, 0, 0, 0, 0, 0, 0, 0, 0, 0, 0, 0, 0, 0]\n",
            " attention_mask: [1, 1, 1, 1, 1, 0, 0, 0, 0, 0, 0, 0, 0, 0, 0, 0, 0, 0, 0, 0, 0, 0, 0, 0, 0, 0, 0, 0, 0, 0, 0, 0, 0, 0, 0, 0, 0, 0, 0, 0, 0, 0, 0, 0, 0, 0, 0, 0, 0, 0, 0, 0, 0, 0, 0, 0, 0, 0, 0, 0, 0, 0, 0, 0, 0, 0, 0, 0, 0, 0, 0, 0, 0, 0, 0, 0, 0, 0, 0, 0, 0, 0, 0, 0, 0, 0, 0, 0, 0, 0, 0, 0, 0, 0, 0, 0, 0, 0, 0, 0, 0, 0, 0, 0, 0, 0, 0, 0, 0, 0, 0, 0, 0, 0, 0, 0, 0, 0, 0, 0, 0, 0, 0, 0, 0, 0, 0, 0]\n",
            " token_type_ids: [0, 0, 0, 0, 0, 0, 0, 0, 0, 0, 0, 0, 0, 0, 0, 0, 0, 0, 0, 0, 0, 0, 0, 0, 0, 0, 0, 0, 0, 0, 0, 0, 0, 0, 0, 0, 0, 0, 0, 0, 0, 0, 0, 0, 0, 0, 0, 0, 0, 0, 0, 0, 0, 0, 0, 0, 0, 0, 0, 0, 0, 0, 0, 0, 0, 0, 0, 0, 0, 0, 0, 0, 0, 0, 0, 0, 0, 0, 0, 0, 0, 0, 0, 0, 0, 0, 0, 0, 0, 0, 0, 0, 0, 0, 0, 0, 0, 0, 0, 0, 0, 0, 0, 0, 0, 0, 0, 0, 0, 0, 0, 0, 0, 0, 0, 0, 0, 0, 0, 0, 0, 0, 0, 0, 0, 0, 0, 0]\n",
            " label: 0\n",
            "}\n",
            "Example: {\n",
            " Input_ids: [101, 10347, 13264, 13845, 15694, 10269, 10114, 10148, 13845, 25085, 102, 0, 0, 0, 0, 0, 0, 0, 0, 0, 0, 0, 0, 0, 0, 0, 0, 0, 0, 0, 0, 0, 0, 0, 0, 0, 0, 0, 0, 0, 0, 0, 0, 0, 0, 0, 0, 0, 0, 0, 0, 0, 0, 0, 0, 0, 0, 0, 0, 0, 0, 0, 0, 0, 0, 0, 0, 0, 0, 0, 0, 0, 0, 0, 0, 0, 0, 0, 0, 0, 0, 0, 0, 0, 0, 0, 0, 0, 0, 0, 0, 0, 0, 0, 0, 0, 0, 0, 0, 0, 0, 0, 0, 0, 0, 0, 0, 0, 0, 0, 0, 0, 0, 0, 0, 0, 0, 0, 0, 0, 0, 0, 0, 0, 0, 0, 0, 0]\n",
            " attention_mask: [1, 1, 1, 1, 1, 1, 1, 1, 1, 1, 1, 0, 0, 0, 0, 0, 0, 0, 0, 0, 0, 0, 0, 0, 0, 0, 0, 0, 0, 0, 0, 0, 0, 0, 0, 0, 0, 0, 0, 0, 0, 0, 0, 0, 0, 0, 0, 0, 0, 0, 0, 0, 0, 0, 0, 0, 0, 0, 0, 0, 0, 0, 0, 0, 0, 0, 0, 0, 0, 0, 0, 0, 0, 0, 0, 0, 0, 0, 0, 0, 0, 0, 0, 0, 0, 0, 0, 0, 0, 0, 0, 0, 0, 0, 0, 0, 0, 0, 0, 0, 0, 0, 0, 0, 0, 0, 0, 0, 0, 0, 0, 0, 0, 0, 0, 0, 0, 0, 0, 0, 0, 0, 0, 0, 0, 0, 0, 0]\n",
            " token_type_ids: [0, 0, 0, 0, 0, 0, 0, 0, 0, 0, 0, 0, 0, 0, 0, 0, 0, 0, 0, 0, 0, 0, 0, 0, 0, 0, 0, 0, 0, 0, 0, 0, 0, 0, 0, 0, 0, 0, 0, 0, 0, 0, 0, 0, 0, 0, 0, 0, 0, 0, 0, 0, 0, 0, 0, 0, 0, 0, 0, 0, 0, 0, 0, 0, 0, 0, 0, 0, 0, 0, 0, 0, 0, 0, 0, 0, 0, 0, 0, 0, 0, 0, 0, 0, 0, 0, 0, 0, 0, 0, 0, 0, 0, 0, 0, 0, 0, 0, 0, 0, 0, 0, 0, 0, 0, 0, 0, 0, 0, 0, 0, 0, 0, 0, 0, 0, 0, 0, 0, 0, 0, 0, 0, 0, 0, 0, 0, 0]\n",
            " label: 1\n",
            "}\n",
            "Example: {\n",
            " Input_ids: [101, 10109, 10162, 10506, 170, 11924, 10114, 25327, 10165, 11257, 10162, 10349, 10116, 13080, 102, 0, 0, 0, 0, 0, 0, 0, 0, 0, 0, 0, 0, 0, 0, 0, 0, 0, 0, 0, 0, 0, 0, 0, 0, 0, 0, 0, 0, 0, 0, 0, 0, 0, 0, 0, 0, 0, 0, 0, 0, 0, 0, 0, 0, 0, 0, 0, 0, 0, 0, 0, 0, 0, 0, 0, 0, 0, 0, 0, 0, 0, 0, 0, 0, 0, 0, 0, 0, 0, 0, 0, 0, 0, 0, 0, 0, 0, 0, 0, 0, 0, 0, 0, 0, 0, 0, 0, 0, 0, 0, 0, 0, 0, 0, 0, 0, 0, 0, 0, 0, 0, 0, 0, 0, 0, 0, 0, 0, 0, 0, 0, 0, 0]\n",
            " attention_mask: [1, 1, 1, 1, 1, 1, 1, 1, 1, 1, 1, 1, 1, 1, 1, 0, 0, 0, 0, 0, 0, 0, 0, 0, 0, 0, 0, 0, 0, 0, 0, 0, 0, 0, 0, 0, 0, 0, 0, 0, 0, 0, 0, 0, 0, 0, 0, 0, 0, 0, 0, 0, 0, 0, 0, 0, 0, 0, 0, 0, 0, 0, 0, 0, 0, 0, 0, 0, 0, 0, 0, 0, 0, 0, 0, 0, 0, 0, 0, 0, 0, 0, 0, 0, 0, 0, 0, 0, 0, 0, 0, 0, 0, 0, 0, 0, 0, 0, 0, 0, 0, 0, 0, 0, 0, 0, 0, 0, 0, 0, 0, 0, 0, 0, 0, 0, 0, 0, 0, 0, 0, 0, 0, 0, 0, 0, 0, 0]\n",
            " token_type_ids: [0, 0, 0, 0, 0, 0, 0, 0, 0, 0, 0, 0, 0, 0, 0, 0, 0, 0, 0, 0, 0, 0, 0, 0, 0, 0, 0, 0, 0, 0, 0, 0, 0, 0, 0, 0, 0, 0, 0, 0, 0, 0, 0, 0, 0, 0, 0, 0, 0, 0, 0, 0, 0, 0, 0, 0, 0, 0, 0, 0, 0, 0, 0, 0, 0, 0, 0, 0, 0, 0, 0, 0, 0, 0, 0, 0, 0, 0, 0, 0, 0, 0, 0, 0, 0, 0, 0, 0, 0, 0, 0, 0, 0, 0, 0, 0, 0, 0, 0, 0, 0, 0, 0, 0, 0, 0, 0, 0, 0, 0, 0, 0, 0, 0, 0, 0, 0, 0, 0, 0, 0, 0, 0, 0, 0, 0, 0, 0]\n",
            " label: 1\n",
            "}\n"
          ]
        }
      ]
    },
    {
      "cell_type": "code",
      "metadata": {
        "colab": {
          "base_uri": "https://localhost:8080/"
        },
        "id": "D-rRz_VKH2P7",
        "outputId": "d99ba327-b02b-4077-d455-8f0b15649ba0"
      },
      "source": [
        "ex = bert_train_dataset[0]\n",
        "in_ids = ex.input_ids\n",
        "decoded_sentence = tokenizer.decode(in_ids, skip_special_tokens=True)\n",
        "print(decoded_sentence)"
      ],
      "execution_count": null,
      "outputs": [
        {
          "output_type": "stream",
          "name": "stdout",
          "text": [
            "\n"
          ]
        }
      ]
    },
    {
      "cell_type": "markdown",
      "metadata": {
        "id": "nsbkLDyibPcN"
      },
      "source": [
        "# **Defining the Hyperparameters**"
      ]
    },
    {
      "cell_type": "code",
      "metadata": {
        "colab": {
          "base_uri": "https://localhost:8080/",
          "height": 125,
          "referenced_widgets": [
            "7678af1b115a4b84b5fd9720eac01c0d",
            "80bf5c82388f4413ba68e3dc8f5448bc",
            "2bc2c858e7314973ad2c567c2908081c",
            "4243fc4725a146b9bb092296349f8987",
            "6850df816618454a9a7b8e1f3003c616",
            "da31cafea94648d997e0af1ca2a359e0",
            "83c6c97e779f43d696e2d69dc2c96d98",
            "8ad7bf1840c148b0a4ff26d25f7078a0",
            "a07c2fe22bc348b2b103bec1a21488aa",
            "1ac726f7a98a4d24b23067ac92b76482",
            "a229ea575def41b781e35457a2c9ed6c"
          ]
        },
        "id": "LvQF_RjhITQ3",
        "outputId": "bf3d11da-acb5-4092-a0bf-45ed7a1c341b"
      },
      "source": [
        "import tensorflow as tf\n",
        "import tensorflow_datasets as tfds\n",
        "\n",
        "from sklearn.model_selection import train_test_split\n",
        "from transformers import BertTokenizer, BasicTokenizer\n",
        "from transformers import TFBertModel, TFBertPreTrainedModel, TFBertForSequenceClassification\n",
        "from transformers import glue_convert_examples_to_features, InputExample\n",
        "model = TFBertForSequenceClassification.from_pretrained('bert-base-multilingual-cased')\n",
        "\n",
        "optimizer = tf.keras.optimizers.Adam(learning_rate=2e-5, epsilon=1e-08, clipnorm=1.0)\n",
        "loss = tf.keras.losses.SparseCategoricalCrossentropy(from_logits=True)\n",
        "metric = tf.keras.metrics.SparseCategoricalAccuracy('accuracy')\n",
        "model.compile(optimizer=optimizer, loss=loss, metrics=[metric])"
      ],
      "execution_count": null,
      "outputs": [
        {
          "output_type": "display_data",
          "data": {
            "application/vnd.jupyter.widget-view+json": {
              "model_id": "7678af1b115a4b84b5fd9720eac01c0d",
              "version_minor": 0,
              "version_major": 2
            },
            "text/plain": [
              "Downloading:   0%|          | 0.00/1.01G [00:00<?, ?B/s]"
            ]
          },
          "metadata": {}
        },
        {
          "output_type": "stream",
          "name": "stderr",
          "text": [
            "All model checkpoint layers were used when initializing TFBertForSequenceClassification.\n",
            "\n",
            "Some layers of TFBertForSequenceClassification were not initialized from the model checkpoint at bert-base-multilingual-cased and are newly initialized: ['classifier']\n",
            "You should probably TRAIN this model on a down-stream task to be able to use it for predictions and inference.\n"
          ]
        }
      ]
    },
    {
      "cell_type": "code",
      "metadata": {
        "id": "Hg24BuADIXD2"
      },
      "source": [
        "def my_solution(bdset):\n",
        "    \"\"\" Create a list of input tensors required to be in the first argument of the\n",
        "        model call function for training. e.g. `model([input_ids, attention_mask, token_type_ids])`.\n",
        "    \"\"\"\n",
        "    input_ids, attention_mask, token_type_ids, label = [], [], [], []\n",
        "    for in_ex in bdset:\n",
        "        input_ids.append(in_ex.input_ids)\n",
        "        attention_mask.append(in_ex.attention_mask)\n",
        "        token_type_ids.append(in_ex.token_type_ids)\n",
        "        label.append(in_ex.label)\n",
        "\n",
        "    input_ids = np.vstack(input_ids)\n",
        "    attention_mask = np.vstack(attention_mask)\n",
        "    token_type_ids = np.vstack(token_type_ids)\n",
        "    label = np.vstack(label)\n",
        "    return ([input_ids, attention_mask, token_type_ids], label)\n",
        "\n",
        "def example_to_features(input_ids, attention_masks, token_type_ids, y):\n",
        "    \"\"\" Convert a training example into the Bert compatible format.\"\"\"\n",
        "    return {\"input_ids\": input_ids,\n",
        "            \"attention_mask\": attention_masks,\n",
        "            \"token_type_ids\": token_type_ids},y\n"
      ],
      "execution_count": null,
      "outputs": []
    },
    {
      "cell_type": "markdown",
      "metadata": {
        "id": "sjZw0ZoMbTsT"
      },
      "source": [
        "## **Training the Model**"
      ]
    },
    {
      "cell_type": "code",
      "metadata": {
        "id": "rpf1IVvXnq0g",
        "colab": {
          "base_uri": "https://localhost:8080/",
          "height": 447
        },
        "outputId": "9b5641da-373a-4b1e-da95-bbf5e1e7ff3c"
      },
      "source": [
        "x_train, y_train = my_solution(bert_train_dataset)\n",
        "x_val, y_val = my_solution(bert_val_dataset)\n",
        "\n",
        "print('x_train shape: {}'.format(x_train[0].shape))\n",
        "print('x_val shape: {}'.format(x_val[0].shape))\n",
        "\n",
        "train_ds = tf.data.Dataset.from_tensor_slices((x_train[0], x_train[1], x_train[2], y_train)).map(example_to_features).shuffle(100).batch(32)\n",
        "val_ds   = tf.data.Dataset.from_tensor_slices((x_val[0], x_val[1], x_val[2], y_val)).map(example_to_features).batch(64)\n",
        "\n",
        "print('Format of model input examples: {} '.format(train_ds.take(1)))\n",
        "\n",
        "EPOCHS = 3\n",
        "\n",
        "history = model.fit(train_ds, validation_data=val_ds, epochs=EPOCHS)"
      ],
      "execution_count": null,
      "outputs": [
        {
          "output_type": "stream",
          "name": "stdout",
          "text": [
            "x_train shape: (8000, 128)\n",
            "x_val shape: (2000, 128)\n",
            "Format of model input examples: <TakeDataset shapes: ({input_ids: (None, 128), attention_mask: (None, 128), token_type_ids: (None, 128)}, (None, 1)), types: ({input_ids: tf.int64, attention_mask: tf.int64, token_type_ids: tf.int64}, tf.int64)> \n",
            "Epoch 1/3\n",
            "250/250 [==============================] - 10882s 43s/step - loss: 0.4666 - accuracy: 0.7791 - val_loss: 0.3466 - val_accuracy: 0.8465\n",
            "Epoch 2/3\n",
            "250/250 [==============================] - 10869s 43s/step - loss: 0.3151 - accuracy: 0.8702 - val_loss: 0.3691 - val_accuracy: 0.8540\n",
            "Epoch 3/3\n",
            "250/250 [==============================] - 10804s 43s/step - loss: 0.2162 - accuracy: 0.9194 - val_loss: 0.3762 - val_accuracy: 0.8660\n"
          ]
        },
        {
          "output_type": "error",
          "ename": "NameError",
          "evalue": "ignored",
          "traceback": [
            "\u001b[0;31m---------------------------------------------------------------------------\u001b[0m",
            "\u001b[0;31mNameError\u001b[0m                                 Traceback (most recent call last)",
            "\u001b[0;32m<ipython-input-24-521c5993ec7f>\u001b[0m in \u001b[0;36m<module>\u001b[0;34m()\u001b[0m\n\u001b[1;32m     15\u001b[0m \u001b[0;34m\u001b[0m\u001b[0m\n\u001b[1;32m     16\u001b[0m \u001b[0;31m#NEWCELL\u001b[0m\u001b[0;34m\u001b[0m\u001b[0;34m\u001b[0m\u001b[0;34m\u001b[0m\u001b[0m\n\u001b[0;32m---> 17\u001b[0;31m \u001b[0mplot_history\u001b[0m\u001b[0;34m(\u001b[0m\u001b[0mhistory\u001b[0m\u001b[0;34m)\u001b[0m\u001b[0;34m\u001b[0m\u001b[0;34m\u001b[0m\u001b[0m\n\u001b[0m\u001b[1;32m     18\u001b[0m \u001b[0;34m\u001b[0m\u001b[0m\n\u001b[1;32m     19\u001b[0m \u001b[0;31m#NEWCELL\u001b[0m\u001b[0;34m\u001b[0m\u001b[0;34m\u001b[0m\u001b[0;34m\u001b[0m\u001b[0m\n",
            "\u001b[0;31mNameError\u001b[0m: name 'plot_history' is not defined"
          ]
        }
      ]
    },
    {
      "cell_type": "markdown",
      "metadata": {
        "id": "HKTWTRMybiyu"
      },
      "source": [
        "# **Plot the Loss and Accuracy**"
      ]
    },
    {
      "cell_type": "code",
      "metadata": {
        "id": "SaHGKIbG6jY-"
      },
      "source": [
        "def plot_history(history):\n",
        "    acc = history.history['accuracy']\n",
        "    val_acc = history.history['val_accuracy']\n",
        "    loss = history.history['loss']\n",
        "    val_loss = history.history['val_loss']\n",
        "    x = range(1, len(acc) + 1)\n",
        "\n",
        "    plt.figure(figsize=(12, 5))\n",
        "    plt.subplot(1, 2, 1)\n",
        "    plt.plot(x, acc, 'b', label='Training acc')\n",
        "    plt.plot(x, val_acc, 'r', label='Validation acc')\n",
        "    plt.title('Training and validation accuracy')\n",
        "    plt.legend()\n",
        "    plt.subplot(1, 2, 2)\n",
        "    plt.plot(x, loss, 'b', label='Training loss')\n",
        "    plt.plot(x, val_loss, 'r', label='Validation loss')\n",
        "    plt.title('Training and validation loss')\n",
        "    plt.legend()"
      ],
      "execution_count": null,
      "outputs": []
    },
    {
      "cell_type": "code",
      "metadata": {
        "colab": {
          "base_uri": "https://localhost:8080/",
          "height": 336
        },
        "id": "x25e3xgOkKdj",
        "outputId": "a91abf30-c50a-45de-fcb3-0355d7f6df3f"
      },
      "source": [
        "plot_history(history)"
      ],
      "execution_count": null,
      "outputs": [
        {
          "output_type": "display_data",
          "data": {
            "image/png": "[encoded data removed]",
            "text/plain": [
              "<Figure size 864x360 with 2 Axes>"
            ]
          },
          "metadata": {
            "needs_background": "light"
          }
        }
      ]
    },
    {
      "cell_type": "markdown",
      "metadata": {
        "id": "p6lDAWVMbggv"
      },
      "source": [
        "# **Prediction and Evaluation**"
      ]
    },
    {
      "cell_type": "code",
      "metadata": {
        "colab": {
          "base_uri": "https://localhost:8080/"
        },
        "id": "ewItuja_kKgo",
        "outputId": "8ea97849-b313-45e4-bda6-0be35156e141"
      },
      "source": [
        "predictions = model.predict(val_ds)\n",
        "print(predictions[0].shape)\n",
        "print()\n",
        "predictions_classes = np.argmax(predictions[0], axis = 1)\n"
      ],
      "execution_count": null,
      "outputs": [
        {
          "output_type": "stream",
          "name": "stdout",
          "text": [
            "(2000, 2)\n",
            "\n"
          ]
        }
      ]
    },
    {
      "cell_type": "code",
      "metadata": {
        "colab": {
          "base_uri": "https://localhost:8080/"
        },
        "id": "kvmgdAR9kKmZ",
        "outputId": "65cdb149-54eb-41fa-b23c-b630e6953060"
      },
      "source": [
        "for i in range(10):\n",
        "    print('comment: {}\\n, actual label: {}, predicted label: {}'.format(test_data.iloc[i]['commentText'], val_input_examples[i].label, predictions_classes[i]))"
      ],
      "execution_count": null,
      "outputs": [
        {
          "output_type": "stream",
          "name": "stdout",
          "text": [
            "comment: bp film hogi\n",
            ", actual label: 1.0, predicted label: 0\n",
            "comment: manojkumar33449992gmailcom\n",
            ", actual label: 0.0, predicted label: 0\n",
            "comment: eshanbhai855  sali randi\n",
            ", actual label: 1.0, predicted label: 1\n",
            "comment: हम सोच रहे हैं आपके बारे में\n",
            ", actual label: 1.0, predicted label: 0\n",
            "comment: good evening ji  \n",
            ", actual label: 0.0, predicted label: 0\n",
            "comment: বালের সিঙ্গেল লাইফ\n",
            ", actual label: 1.0, predicted label: 1\n",
            "comment: har har mahadev  \n",
            ", actual label: 0.0, predicted label: 0\n",
            "comment: एक बात बतादे तेरी गांड़  इट नी बड़ी कैसे हो जाती है हर वीडियो में\n",
            ", actual label: 1.0, predicted label: 1\n",
            "comment: ✬⁎⁑ vanshi bad innocent ⁎⁑✬ ना मैडम हम लोग तो आज भी पानी को मम और बाथरूम को सुसु कहते हैं हमें इतनी समझ कहां कि हम लोग लाइन हमारे\n",
            ", actual label: 1.0, predicted label: 1\n",
            "comment: chutiya bnata h sal66i there\n",
            ", actual label: 1.0, predicted label: 1\n"
          ]
        }
      ]
    },
    {
      "cell_type": "code",
      "metadata": {
        "id": "K3k5FdfRkKpg"
      },
      "source": [
        "def example_to_features_predict(input_ids, attention_masks, token_type_ids):\n",
        "    \"\"\"\n",
        "        Convert the test examples into Bert compatible format.\n",
        "    \"\"\"\n",
        "    return {\"input_ids\": input_ids,\n",
        "            \"attention_mask\": attention_masks,\n",
        "            \"token_type_ids\": token_type_ids}\n",
        "\n",
        "\n",
        "def get_prediction(in_sentences):\n",
        "    \"\"\"\n",
        "        Prepare the test comments and return the predictions.\n",
        "    \"\"\"\n",
        "    labels = [0,1]\n",
        "    input_examples = [InputExample(guid=\"\", text_a = x, text_b = None, label = 0) for x in in_sentences] # here, \"\" is just a dummy label\n",
        "    predict_input_fn = glue_convert_examples_to_features(examples=input_examples, tokenizer=tokenizer, max_length=MAX_SEQ_LENGTH, task='mrpc', label_list=label_list)\n",
        "    x_test_input, y_test_input = my_solution(predict_input_fn)\n",
        "    test_ds   = tf.data.Dataset.from_tensor_slices((x_test_input[0], x_test_input[1], x_test_input[2])).map(example_to_features_predict).batch(32)\n",
        "\n",
        "    predictions = model.predict(test_ds)\n",
        "    #   print('predictions:', predictions[0].shape)\n",
        "    predictions_classes = np.argmax(predictions[0], axis = 1)\n",
        "    return [(sentence, prediction) for sentence, prediction in zip(in_sentences, predictions_classes)]\n"
      ],
      "execution_count": null,
      "outputs": []
    },
    {
      "cell_type": "code",
      "metadata": {
        "colab": {
          "base_uri": "https://localhost:8080/"
        },
        "id": "8j1kEPEIkQ_k",
        "outputId": "518131a3-7bb9-4ff7-e7f5-da8f63a750ea"
      },
      "source": [
        "pred_sentences = [comment for comment,l in test_data.sample(20).values]\n",
        "predictions = get_prediction(pred_sentences)\n",
        "for p in predictions:\n",
        "    print(p)"
      ],
      "execution_count": null,
      "outputs": [
        {
          "output_type": "stream",
          "name": "stderr",
          "text": [
            "/usr/local/lib/python3.7/dist-packages/transformers/data/processors/glue.py:67: FutureWarning: This function will be removed from the library soon, preprocessing should be handled with the 🤗 Datasets library. You can have a look at this example script for pointers: https://github.com/huggingface/transformers/blob/master/examples/pytorch/text-classification/run_glue.py\n",
            "  warnings.warn(DEPRECATION_WARNING.format(\"function\"), FutureWarning)\n",
            "/usr/local/lib/python3.7/dist-packages/transformers/data/processors/glue.py:175: FutureWarning: This processor will be removed from the library soon, preprocessing should be handled with the 🤗 Datasets library. You can have a look at this example script for pointers: https://github.com/huggingface/transformers/blob/master/examples/pytorch/text-classification/run_glue.py\n",
            "  warnings.warn(DEPRECATION_WARNING.format(\"processor\"), FutureWarning)\n"
          ]
        },
        {
          "output_type": "stream",
          "name": "stdout",
          "text": [
            "('മനോഹരമായി   ', 0)\n",
            "('sher my new vi  deo didi please', 0)\n",
            "('kafi mil rahi ho behne lgti ho', 1)\n",
            "('bahoot khub bhosdi ke lageraho', 1)\n",
            "('tora bur bura land ka pani dega', 1)\n",
            "('mine duker girl  ', 0)\n",
            "('jannat or kutte को भी bhav na do न फिर भी मुह utha के chale आते h', 1)\n",
            "('myvoice enne follow cheythal thirichum cheyyam', 0)\n",
            "('ek ladki ke chalte bahan chod tum apne ghar wale ko barbad kar rahi ho', 1)\n",
            "('🤝 ', 0)\n",
            "('thevidia than antha ponnu ivan pavam', 1)\n",
            "('madarchod meri bahan hai vah  ', 1)\n",
            "('randi sali kutiya tamij name ke koi bat nahi hai', 1)\n",
            "('alagar', 0)\n",
            "('hogo pura', 0)\n",
            "('randi kitiya sali', 1)\n",
            "('ਭੈਣ ਚੋਦਾ ਹੋਰ ਕੰਮ ਨੀ ਕੋੲੀ ਤੈਨੂ', 1)\n",
            "('radi', 0)\n",
            "('iska matlab ye 16 bar chud chuki he', 1)\n",
            "('rajesh rao  in bhai bhn ko koi kaam to h nhi desh k bhole jntana ko bevkuf bnane k alawa🤷🤷 or inki mata ji inki master mind h iss kaam m 🤦🤦🤦', 1)\n"
          ]
        }
      ]
    },
    {
      "cell_type": "code",
      "metadata": {
        "colab": {
          "base_uri": "https://localhost:8080/"
        },
        "id": "NP77nMRAkRCx",
        "outputId": "1cbb17a7-24a6-4b86-f20d-043ac3cca905"
      },
      "source": [
        "print(\"Evaluating the BERT model\")\n",
        "model.evaluate(val_ds)"
      ],
      "execution_count": null,
      "outputs": [
        {
          "output_type": "stream",
          "name": "stdout",
          "text": [
            "Evaluating the BERT model\n",
            "32/32 [==============================] - 746s 23s/step - loss: 0.3762 - accuracy: 0.8660\n"
          ]
        },
        {
          "output_type": "execute_result",
          "data": {
            "text/plain": [
              "[0.37623628973960876, 0.8659999966621399]"
            ]
          },
          "metadata": {},
          "execution_count": 31
        }
      ]
    },
    {
      "cell_type": "code",
      "metadata": {
        "id": "hZxwFCuDkRIc"
      },
      "source": [
        ""
      ],
      "execution_count": null,
      "outputs": []
    }
  ]
}
